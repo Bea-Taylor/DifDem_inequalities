{
 "cells": [
  {
   "cell_type": "code",
   "execution_count": 1,
   "metadata": {},
   "outputs": [],
   "source": [
    "from dementia_inequalities import const, log, utils, tools\n",
    "import matplotlib.pyplot as plt\n",
    "import matplotlib.font_manager as fm\n",
    "import numpy as np\n",
    "from scipy.stats import norm, lognorm\n",
    "import scipy.stats"
   ]
  },
  {
   "cell_type": "code",
   "execution_count": 2,
   "metadata": {},
   "outputs": [
    {
     "name": "stdout",
     "output_type": "stream",
     "text": [
      "Josefin Sans font set for Matplotlib.\n",
      "mplstyle activated.\n"
     ]
    }
   ],
   "source": [
    "# Define the font path and style path\n",
    "FONT_PATH = const.raw_data_path + '/JosefinSans-Regular.ttf'\n",
    "STYLEPATH = const.raw_data_path + '/autonomy_white.mplstyle'\n",
    "\n",
    "# Add the font to the font manager\n",
    "fm.fontManager.addfont(FONT_PATH)\n",
    "\n",
    "# Set the font family for matplotlib to use\n",
    "plt.rcParams['font.family'] = 'Josefin Sans'\n",
    "plt.style.use(STYLEPATH)\n",
    "\n",
    "# Inform the user that the font was set\n",
    "print(\"Josefin Sans font set for Matplotlib.\")\n",
    "print(\"mplstyle activated.\")"
   ]
  },
  {
   "cell_type": "code",
   "execution_count": 1,
   "metadata": {},
   "outputs": [
    {
     "ename": "NameError",
     "evalue": "name 'np' is not defined",
     "output_type": "error",
     "traceback": [
      "\u001b[0;31m---------------------------------------------------------------------------\u001b[0m",
      "\u001b[0;31mNameError\u001b[0m                                 Traceback (most recent call last)",
      "Cell \u001b[0;32mIn[1], line 15\u001b[0m\n\u001b[1;32m     12\u001b[0m mu \u001b[38;5;241m=\u001b[39m \u001b[38;5;241m-\u001b[39m\u001b[38;5;241m1\u001b[39m  \u001b[38;5;66;03m# mean of the log of the distribution, exp(mu) is the scale parameter\u001b[39;00m\n\u001b[1;32m     14\u001b[0m \u001b[38;5;66;03m# Generating random data\u001b[39;00m\n\u001b[0;32m---> 15\u001b[0m \u001b[43mnp\u001b[49m\u001b[38;5;241m.\u001b[39mrandom\u001b[38;5;241m.\u001b[39mseed(\u001b[38;5;241m0\u001b[39m)\n\u001b[1;32m     16\u001b[0m N \u001b[38;5;241m=\u001b[39m \u001b[38;5;241m100\u001b[39m\n\u001b[1;32m     17\u001b[0m x \u001b[38;5;241m=\u001b[39m np\u001b[38;5;241m.\u001b[39mrandom\u001b[38;5;241m.\u001b[39mrand(N)\n",
      "\u001b[0;31mNameError\u001b[0m: name 'np' is not defined"
     ]
    }
   ],
   "source": [
    "#|code-fold:true\n",
    "\n",
    "def f(x, k, m):\n",
    "    return k*x + m\n",
    "\n",
    "# Parameters for the log-normal distribution\n",
    "# For a log-normal distribution, the parameters s, scale, and loc are used where:\n",
    "# s is the sigma (standard deviation) of the log of the distribution,\n",
    "# scale is exp(mu) where mu is the mean of the log of the distribution,\n",
    "# loc is usually set to 0 for a standard log-normal distribution.\n",
    "s = 0.3  # standard deviation of the log of the distribution\n",
    "mu = -1  # mean of the log of the distribution, exp(mu) is the scale parameter\n",
    "\n",
    "# Generating random data\n",
    "np.random.seed(0)\n",
    "N = 100\n",
    "x = np.random.rand(N)\n",
    "# Generating log-normally distributed errors, scale=exp(mu) is used for the mean of the underlying normal distribution\n",
    "e = np.random.lognormal(mu, s, N)\n",
    "y_true = f(x, 1, 1)\n",
    "y = f(x, 1, 1) - e\n",
    "\n",
    "# Plotting the scatter data and regression line\n",
    "plt.figure(figsize=(8,6), dpi=200)\n",
    "plt.scatter(x, y, label='Measured points', color='xkcd:boring green', alpha=0.75)\n",
    "plt.plot(x, y_true, color='xkcd:windows blue', label='\"True\" values')\n",
    "\n",
    "#x1 = np.arange(0,1.1, 0.1)\n",
    "#y1 = f(x1, 1, 1) - 0.42\n",
    "#plt.plot(x1, y1, ':', color='hotpink', label='\"Observed\" values')\n",
    "\n",
    "# X positions for the PDFs\n",
    "x_positions = [0.2, 0.4, 0.6, 0.8]\n",
    "\n",
    "# Generating PDFs for the specified x positions\n",
    "for xpos in x_positions:\n",
    "    # Create a range of y values for plotting the PDF, focusing on the positive range relevant for log-normal\n",
    "    y_range = np.linspace(0, np.max(e) * 1.2, 100)\n",
    "    pdf = lognorm.pdf(y_range, s=s, scale=np.exp(mu))\n",
    "    \n",
    "    # Scaling the PDF to make it visible on the plot, adjust scale factor as needed\n",
    "    scale_factor = 0.02\n",
    "    pdf_scaled = pdf * scale_factor + xpos\n",
    "    \n",
    "    # Plotting the PDF\n",
    "    plt.plot(pdf_scaled, -y_range + f(xpos, 1, 1), ':', color='xkcd:deep lilac', label=\"Error term\", linewidth=2)  # Adjusted plotting for half-normal\n",
    "\n",
    "plt.xlabel('X', fontsize=12)\n",
    "plt.ylabel('Y', fontsize=12)\n",
    "plt.xticks(fontsize=8)\n",
    "plt.yticks(fontsize=8)\n",
    "plt.title('Data with log-normal distributed errors', fontsize=14)\n",
    "# To avoid duplicate labels in the legend\n",
    "handles, labels = plt.gca().get_legend_handles_labels()\n",
    "by_label = dict(zip(labels, handles))\n",
    "plt.legend(by_label.values(), by_label.keys(), fontsize=12)\n",
    "\n",
    "plt.savefig(const.figs_path+'/sketch_log_normal_errors.png')\n",
    "plt.show()\n"
   ]
  },
  {
   "cell_type": "code",
   "execution_count": null,
   "metadata": {},
   "outputs": [],
   "source": []
  }
 ],
 "metadata": {
  "kernelspec": {
   "display_name": "adu_env_dementia_ineq",
   "language": "python",
   "name": "python3"
  },
  "language_info": {
   "codemirror_mode": {
    "name": "ipython",
    "version": 3
   },
   "file_extension": ".py",
   "mimetype": "text/x-python",
   "name": "python",
   "nbconvert_exporter": "python",
   "pygments_lexer": "ipython3",
   "version": "3.10.13"
  }
 },
 "nbformat": 4,
 "nbformat_minor": 2
}
