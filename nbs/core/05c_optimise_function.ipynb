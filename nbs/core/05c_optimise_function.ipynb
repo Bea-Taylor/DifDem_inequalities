{
 "cells": [
  {
   "cell_type": "markdown",
   "metadata": {},
   "source": [
    "# 05c parameter optimisation "
   ]
  },
  {
   "cell_type": "code",
   "execution_count": 1,
   "metadata": {},
   "outputs": [],
   "source": [
    "#|default_exp core.05c_parameter_optimisation"
   ]
  },
  {
   "cell_type": "code",
   "execution_count": 29,
   "metadata": {},
   "outputs": [],
   "source": [
    "#|export\n",
    "import autograd.numpy as np\n",
    "from autograd import grad, jacobian, hessian\n",
    "from scipy.optimize import minimize\n",
    "from scipy.stats import norm \n",
    "import pandas as pd\n",
    "from matplotlib import pyplot as plt\n",
    "\n",
    "from dementia_inequalities import const, log, utils, tools "
   ]
  },
  {
   "cell_type": "markdown",
   "metadata": {},
   "source": [
    "---"
   ]
  },
  {
   "cell_type": "code",
   "execution_count": 3,
   "metadata": {},
   "outputs": [],
   "source": [
    "#|export \n",
    "df_dem_plus = pd.read_csv(const.output_path+'/df_dem_plus.csv')"
   ]
  },
  {
   "cell_type": "code",
   "execution_count": 4,
   "metadata": {},
   "outputs": [
    {
     "data": {
      "text/html": [
       "<div>\n",
       "<style scoped>\n",
       "    .dataframe tbody tr th:only-of-type {\n",
       "        vertical-align: middle;\n",
       "    }\n",
       "\n",
       "    .dataframe tbody tr th {\n",
       "        vertical-align: top;\n",
       "    }\n",
       "\n",
       "    .dataframe thead th {\n",
       "        text-align: right;\n",
       "    }\n",
       "</style>\n",
       "<table border=\"1\" class=\"dataframe\">\n",
       "  <thead>\n",
       "    <tr style=\"text-align: right;\">\n",
       "      <th></th>\n",
       "      <th>area_code</th>\n",
       "      <th>area_name</th>\n",
       "      <th>pop</th>\n",
       "      <th>DEM_afflicted</th>\n",
       "      <th>HYP_afflicted</th>\n",
       "      <th>DM_afflicted</th>\n",
       "      <th>STIA_afflicted</th>\n",
       "      <th>ALevel_plus</th>\n",
       "      <th>Female_all</th>\n",
       "      <th>Male_all</th>\n",
       "      <th>...</th>\n",
       "      <th>white_pc</th>\n",
       "      <th>DEM_afflicted_pc</th>\n",
       "      <th>ALevel_plus_pc</th>\n",
       "      <th>over_65_pc</th>\n",
       "      <th>female_pc</th>\n",
       "      <th>HYP_afflicted_pc</th>\n",
       "      <th>DM_afflicted_pc</th>\n",
       "      <th>STIA_afflicted_pc</th>\n",
       "      <th>GP_contribution_to_LAD</th>\n",
       "      <th>GP_LAD_pc</th>\n",
       "    </tr>\n",
       "  </thead>\n",
       "  <tbody>\n",
       "    <tr>\n",
       "      <th>0</th>\n",
       "      <td>E07000091</td>\n",
       "      <td>New Forest</td>\n",
       "      <td>151481</td>\n",
       "      <td>1858.546949</td>\n",
       "      <td>28892.139020</td>\n",
       "      <td>9338.695410</td>\n",
       "      <td>4466.648271</td>\n",
       "      <td>72749.0</td>\n",
       "      <td>91513.3596</td>\n",
       "      <td>84729.6073</td>\n",
       "      <td>...</td>\n",
       "      <td>93.2</td>\n",
       "      <td>1.226918</td>\n",
       "      <td>48.025165</td>\n",
       "      <td>34.275376</td>\n",
       "      <td>60.412434</td>\n",
       "      <td>19.073111</td>\n",
       "      <td>6.164929</td>\n",
       "      <td>2.948652</td>\n",
       "      <td>215.158147</td>\n",
       "      <td>0.142036</td>\n",
       "    </tr>\n",
       "    <tr>\n",
       "      <th>1</th>\n",
       "      <td>E09000027</td>\n",
       "      <td>Richmond upon Thames</td>\n",
       "      <td>156795</td>\n",
       "      <td>1016.262785</td>\n",
       "      <td>16263.714161</td>\n",
       "      <td>5723.913130</td>\n",
       "      <td>2019.443594</td>\n",
       "      <td>112919.0</td>\n",
       "      <td>101226.6730</td>\n",
       "      <td>93918.3682</td>\n",
       "      <td>...</td>\n",
       "      <td>63.0</td>\n",
       "      <td>0.648147</td>\n",
       "      <td>72.016965</td>\n",
       "      <td>20.177787</td>\n",
       "      <td>64.559886</td>\n",
       "      <td>10.372597</td>\n",
       "      <td>3.650571</td>\n",
       "      <td>1.287952</td>\n",
       "      <td>437.450820</td>\n",
       "      <td>0.278995</td>\n",
       "    </tr>\n",
       "    <tr>\n",
       "      <th>2</th>\n",
       "      <td>E07000116</td>\n",
       "      <td>Tunbridge Wells</td>\n",
       "      <td>95022</td>\n",
       "      <td>876.255260</td>\n",
       "      <td>12908.434533</td>\n",
       "      <td>4606.674451</td>\n",
       "      <td>1889.024705</td>\n",
       "      <td>52395.0</td>\n",
       "      <td>59540.1412</td>\n",
       "      <td>56126.1458</td>\n",
       "      <td>...</td>\n",
       "      <td>84.2</td>\n",
       "      <td>0.922160</td>\n",
       "      <td>55.139862</td>\n",
       "      <td>23.752404</td>\n",
       "      <td>62.659322</td>\n",
       "      <td>13.584680</td>\n",
       "      <td>4.848008</td>\n",
       "      <td>1.987987</td>\n",
       "      <td>123.466346</td>\n",
       "      <td>0.129934</td>\n",
       "    </tr>\n",
       "    <tr>\n",
       "      <th>3</th>\n",
       "      <td>E07000121</td>\n",
       "      <td>Lancaster</td>\n",
       "      <td>123214</td>\n",
       "      <td>1228.376774</td>\n",
       "      <td>16806.421220</td>\n",
       "      <td>6784.714317</td>\n",
       "      <td>2647.583108</td>\n",
       "      <td>65724.0</td>\n",
       "      <td>72615.6480</td>\n",
       "      <td>69496.5141</td>\n",
       "      <td>...</td>\n",
       "      <td>87.8</td>\n",
       "      <td>0.996946</td>\n",
       "      <td>53.341341</td>\n",
       "      <td>23.914299</td>\n",
       "      <td>58.934576</td>\n",
       "      <td>13.640026</td>\n",
       "      <td>5.506448</td>\n",
       "      <td>2.148768</td>\n",
       "      <td>612.399689</td>\n",
       "      <td>0.497021</td>\n",
       "    </tr>\n",
       "    <tr>\n",
       "      <th>4</th>\n",
       "      <td>E07000042</td>\n",
       "      <td>Mid Devon</td>\n",
       "      <td>67987</td>\n",
       "      <td>547.793487</td>\n",
       "      <td>10854.465333</td>\n",
       "      <td>4281.878984</td>\n",
       "      <td>1530.207441</td>\n",
       "      <td>33190.0</td>\n",
       "      <td>42541.3752</td>\n",
       "      <td>40639.6312</td>\n",
       "      <td>...</td>\n",
       "      <td>93.8</td>\n",
       "      <td>0.805733</td>\n",
       "      <td>48.818156</td>\n",
       "      <td>29.486050</td>\n",
       "      <td>62.572808</td>\n",
       "      <td>15.965501</td>\n",
       "      <td>6.298085</td>\n",
       "      <td>2.250735</td>\n",
       "      <td>77.360723</td>\n",
       "      <td>0.113788</td>\n",
       "    </tr>\n",
       "  </tbody>\n",
       "</table>\n",
       "<p>5 rows × 24 columns</p>\n",
       "</div>"
      ],
      "text/plain": [
       "   area_code             area_name     pop  DEM_afflicted  HYP_afflicted  \\\n",
       "0  E07000091            New Forest  151481    1858.546949   28892.139020   \n",
       "1  E09000027  Richmond upon Thames  156795    1016.262785   16263.714161   \n",
       "2  E07000116       Tunbridge Wells   95022     876.255260   12908.434533   \n",
       "3  E07000121             Lancaster  123214    1228.376774   16806.421220   \n",
       "4  E07000042             Mid Devon   67987     547.793487   10854.465333   \n",
       "\n",
       "   DM_afflicted  STIA_afflicted  ALevel_plus   Female_all    Male_all  ...  \\\n",
       "0   9338.695410     4466.648271      72749.0   91513.3596  84729.6073  ...   \n",
       "1   5723.913130     2019.443594     112919.0  101226.6730  93918.3682  ...   \n",
       "2   4606.674451     1889.024705      52395.0   59540.1412  56126.1458  ...   \n",
       "3   6784.714317     2647.583108      65724.0   72615.6480  69496.5141  ...   \n",
       "4   4281.878984     1530.207441      33190.0   42541.3752  40639.6312  ...   \n",
       "\n",
       "   white_pc  DEM_afflicted_pc  ALevel_plus_pc  over_65_pc  female_pc  \\\n",
       "0      93.2          1.226918       48.025165   34.275376  60.412434   \n",
       "1      63.0          0.648147       72.016965   20.177787  64.559886   \n",
       "2      84.2          0.922160       55.139862   23.752404  62.659322   \n",
       "3      87.8          0.996946       53.341341   23.914299  58.934576   \n",
       "4      93.8          0.805733       48.818156   29.486050  62.572808   \n",
       "\n",
       "   HYP_afflicted_pc  DM_afflicted_pc  STIA_afflicted_pc  \\\n",
       "0         19.073111         6.164929           2.948652   \n",
       "1         10.372597         3.650571           1.287952   \n",
       "2         13.584680         4.848008           1.987987   \n",
       "3         13.640026         5.506448           2.148768   \n",
       "4         15.965501         6.298085           2.250735   \n",
       "\n",
       "   GP_contribution_to_LAD  GP_LAD_pc  \n",
       "0              215.158147   0.142036  \n",
       "1              437.450820   0.278995  \n",
       "2              123.466346   0.129934  \n",
       "3              612.399689   0.497021  \n",
       "4               77.360723   0.113788  \n",
       "\n",
       "[5 rows x 24 columns]"
      ]
     },
     "execution_count": 4,
     "metadata": {},
     "output_type": "execute_result"
    }
   ],
   "source": [
    "df_dem_plus.head()"
   ]
  },
  {
   "cell_type": "code",
   "execution_count": 5,
   "metadata": {},
   "outputs": [],
   "source": [
    "# The real dementia x and y data \n",
    "\n",
    "# covariates \n",
    "covar = ['over_65_pc', 'female_pc', 'ALevel_plus_pc', 'white_pc', 'HYP_afflicted_pc', 'DM_afflicted_pc', 'STIA_afflicted_pc']\n",
    "\n",
    "# Input data \n",
    "x = np.array(df_dem_plus[covar].values.reshape(-1,7))\n",
    "\n",
    "# Outcome data \n",
    "y = np.array(df_dem_plus['DEM_afflicted_pc'].values.reshape(-1,1))"
   ]
  },
  {
   "cell_type": "markdown",
   "metadata": {},
   "source": [
    "### Optimise the negative log likelihood \n",
    "\n",
    "We evaluate the log-likelihood using the maximise function from scikit-learn. This code is written with a little help from my firend ChatGPT - actually it generated the intial code - then I re-wrote 70% of it... \n",
    "\n",
    "*Note*: we need the likelihood to be the reflected & shifted log normal - which has an extra parameter (delta) compared to the log normal [see here](https://stats.stackexchange.com/questions/379980/understanding-the-shifted-log-normal-distribution). \n",
    "\n",
    "The shifted log-normal PDF at $x$ is: \n",
    "\n",
    "$$\n",
    "p(x|x>\\delta, \\delta, \\mu, \\sigma) = \n",
    "\\frac{1}{(x-\\delta)\\sigma \\sqrt{2 \\pi}} e^{-\\frac{1}{2 \\sigma^2}(ln(x- \\delta)-\\mu)^2}\n",
    "$$\n",
    "\n",
    "The reflected & shifted log-normal PDF at $x$ is: \n",
    "\n",
    "$$\n",
    "p(x|x<\\delta, \\delta, \\mu, \\sigma) = \n",
    "\\frac{1}{(\\delta - x)\\sigma \\sqrt{2 \\pi}} e^{-\\frac{1}{2 \\sigma^2}(ln(\\delta - x)-\\mu)^2}\n",
    "$$\n",
    "\n",
    "In the log-normal distribution, \n",
    "- $\\mu$ is the scale parameter - it stretches and compresses\n",
    "- $\\sigma$ is a shape parameter - it controls how skewed/heavy tailed the distribution is. \n",
    "- $\\delta$ is the shift parameter - here the shift is the linear equation: $\\delta = \\beta X$.\n",
    "\n",
    "Since, we are taking $y_i$ to represent the observed diagnoses, and $\\beta X$ to represent the expected a lower bound on the true prevalence rate we have:  \n",
    "\n",
    "$$\n",
    "y_i=\\beta X_i - \\epsilon \n",
    "$$ \n",
    "\n",
    "Where $\\epsilon > 0$. \n",
    "\n",
    "We can visualise what the reflected & shifted log normal looks like:\n",
    "\n",
    "\n"
   ]
  },
  {
   "cell_type": "code",
   "execution_count": 6,
   "metadata": {},
   "outputs": [],
   "source": [
    "# This is the function to use for plotting \n",
    "def reverse_shift_log_normal_pdf(x, delta, mu, sigma):\n",
    "    pdf = []\n",
    "    for i, x_i in enumerate(x):\n",
    "        if delta[i] < x_i: \n",
    "            pdf.append(0)\n",
    "        else: \n",
    "            x_shift = delta[i] - x_i\n",
    "            norm_const = 1 / ((x_shift) * sigma * np.sqrt(2 * np.pi))\n",
    "            exp_part = np.exp(-1 * (1 / (2 * sigma ** 2)) * (np.log(np.subtract(x_shift, mu)) ** 2))\n",
    "            pdf.append(norm_const.squeeze() * exp_part.squeeze())\n",
    "            \n",
    "    return np.array(pdf)\n",
    "\n",
    "def log_norm_mode(mu:int, # mean of the variables log\n",
    "                  sigma:int): # standard deviation of the variables log\n",
    "    return np.exp(mu - sigma**2)"
   ]
  },
  {
   "cell_type": "code",
   "execution_count": 7,
   "metadata": {},
   "outputs": [
    {
     "name": "stderr",
     "output_type": "stream",
     "text": [
      "/var/folders/4n/x6w1yfcx01qbymrsfpz4ybq00000gn/T/ipykernel_84501/489481298.py:9: RuntimeWarning: divide by zero encountered in scalar divide\n",
      "  norm_const = 1 / ((x_shift) * sigma * np.sqrt(2 * np.pi))\n",
      "/Users/bea/miniconda3/envs/adu_env_dementia_ineq/lib/python3.10/site-packages/autograd/tracer.py:48: RuntimeWarning: divide by zero encountered in log\n",
      "  return f_raw(*args, **kwargs)\n",
      "/var/folders/4n/x6w1yfcx01qbymrsfpz4ybq00000gn/T/ipykernel_84501/489481298.py:11: RuntimeWarning: invalid value encountered in scalar multiply\n",
      "  pdf.append(norm_const.squeeze() * exp_part.squeeze())\n"
     ]
    },
    {
     "data": {
      "image/png": "[encoded data removed]",
      "text/plain": [
       "<Figure size 640x480 with 1 Axes>"
      ]
     },
     "metadata": {},
     "output_type": "display_data"
    }
   ],
   "source": [
    "# Parameters for log-normal distribution\n",
    "mu_0 = 0  # Mean\n",
    "sigma_0 = 1\n",
    "shift = 5 # Shift \n",
    "\n",
    "x_axis = np.arange(0, 10, 0.01)\n",
    "shift = shift * np.ones(len(x_axis))\n",
    "\n",
    "pdf_x_mu0 = reverse_shift_log_normal_pdf(x_axis, shift, mu_0, sigma_0)\n",
    "\n",
    "# Plot the log-normal probability density function (PDF)\n",
    "xmin, xmax = plt.xlim()\n",
    "plt.plot(x_axis, pdf_x_mu0, '-', linewidth=2, color='mediumseagreen', label='$\\sigma=1$')\n",
    "#plt.text(6, 0.42, '$\\sigma=1$', color='mediumseagreen')\n",
    "#plt.plot(x, pdf_x_mu1, '-', linewidth=2, color='slateblue', label='$\\sigma=0.25$')\n",
    "#plt.text(7, 0.15, '$\\sigma=0.25$', color='slateblue')\n",
    "\n",
    "plt.title('(Shifted) Log-Normal Distribution ')\n",
    "plt.legend(loc='upper right')\n",
    "plt.xlabel('X')\n",
    "plt.ylabel('Probability Density')\n",
    "plt.grid(True)\n",
    "plt.show()"
   ]
  },
  {
   "cell_type": "markdown",
   "metadata": {},
   "source": [
    "Now, accordingly the probability of a datapoint being distributed according to this log-normal error is: \n",
    "\n",
    "$$\n",
    "p(y_i|y_i < \\beta X_i, \\beta, \\mu, \\sigma) = \n",
    "\\frac{1}{(\\beta X_i - y_i)\\sigma \\sqrt{2 \\pi}} e^{-\\frac{1}{2 \\sigma^2}(ln(\\beta X_i - y_i)-\\mu)^2}\n",
    "$$\n",
    "\n",
    "And hence, the likelihood is: \n",
    "\n",
    "$$\n",
    "L(\\delta, \\mu, \\sigma) = \\prod_{i=1}^n s(y_i | y_i < \\beta X, \\beta X, \\mu, \\sigma) \\\\\n",
    "\n",
    "= \\prod_{i=1}^n \\frac{1}{(\\beta X_i - y_i)\\sigma \\sqrt{2 \\pi}} e^{-\\frac{1}{2 \\sigma^2}(ln(\\beta X_i - y_i)-\\mu)^2}\n",
    "$$\n",
    "\n",
    "Let $ z_i = \\beta X_i -y_i $. Then we have a log likelihood of:\n",
    "\n",
    "$$\n",
    "= \\sum_{i=1}^n ln(\\frac{1}{z_i \\sigma \\sqrt{2 \\pi}} exp(- \\frac{(ln z_i - \\mu)^2}{2 \\sigma^2})) \\\\ \n",
    "= \\sum_{i=1}^n ln(\\frac{1}{z_i \\sigma \\sqrt{2 \\pi}} ) - \\frac{ln^2z_i -2\\mu ln z_i + \\mu^2}{2 \\sigma^2} \\\\\n",
    "= \\sum_{i=1}^n - ln(z_i \\sigma \\sqrt{2 \\pi}) - \\frac{1}{2 \\sigma^2}(ln^2z_i -2\\mu ln z_i + \\mu^2) \\\\\n",
    "= \\sum_{i=1}^n \\frac{1}{2 \\sigma^2}(2\\mu ln z_i - ln^2 z_i - \\mu^2) - ln(z_i \\sigma \\sqrt{2 \\pi}) \\\\\n",
    "\n",
    "$$"
   ]
  },
  {
   "cell_type": "code",
   "execution_count": 8,
   "metadata": {},
   "outputs": [],
   "source": [
    "# Define functions to minimize\n",
    "\n",
    "def log_rvs_shift_log_normal(z, delta, mu, sigma):\n",
    "    pdf = []\n",
    "    z_shift = np.array(delta - z)\n",
    "    for i in range(len(z_shift)):\n",
    "        if z_shift[i]>0: \n",
    "            part1 = (1/(2 * sigma ** 2)) * (2 * mu * np.log(z_shift[i]) - (np.log(z_shift[i])) ** 2 - mu ** 2) \n",
    "            part2 = np.log(z_shift[i] * sigma * np.sqrt(2 *np.pi))\n",
    "            pdf.append(part1 - part2)\n",
    "        else:\n",
    "            pdf.append(-np.inf) # returns -inf at the points where the log normal is undefined \n",
    "    return np.array(pdf)\n",
    "\n",
    "def neg_loglike(params, x, y):\n",
    "    beta_0 = params[0]\n",
    "    beta = np.array(params[1:-2])\n",
    "    mu = params[-2]\n",
    "    sigma = params[-1]\n",
    "\n",
    "    y_pred = (np.dot(x, beta)).squeeze() + beta_0\n",
    "    log_likely = log_rvs_shift_log_normal(y.squeeze(), delta=y_pred.squeeze(), mu=mu, sigma=sigma)\n",
    "    \n",
    "    return (-1 * np.sum(log_likely)).squeeze()"
   ]
  },
  {
   "cell_type": "code",
   "execution_count": 9,
   "metadata": {},
   "outputs": [
    {
     "name": "stdout",
     "output_type": "stream",
     "text": [
      "1456.266249108371\n",
      "[  1768.67745796  44618.02814593 111641.54133364  88739.19989015\n",
      " 143478.93221752  26369.373887    10600.19537135   3514.11767471\n",
      "  -3498.67903534  -9820.0940818 ]\n"
     ]
    }
   ],
   "source": [
    "trial_params = np.array([0.25, 0.1, 0.004, -0.004, -0.003, 0.0157, -0.0138, 0.108, 0.0, 0.25])\n",
    "print(neg_loglike(trial_params, x, y))\n",
    "\n",
    "jacobian_ = jacobian(neg_loglike)\n",
    "\n",
    "print(jacobian_(trial_params, x, y))"
   ]
  },
  {
   "cell_type": "markdown",
   "metadata": {},
   "source": [
    "## Some slightly unexpected behaviour here \n",
    "\n",
    "So, something odd happens here, for certain parameter values the negative log likelihood is positive. This is because the log-normal-pdf can be greater than 1, since it's a continous probability distribution it's only bound in that it's integral =1. As a result, for sharply peaked log normals (when both $\\mu$ and $\\sigma$ are small) we have $x$ values for which $p(x|\\mu, \\sigma)$ >1, and hence we end up with $- \\sum log(p(x|\\mu, \\sigma))<0$. \n",
    "\n",
    "See this example:"
   ]
  },
  {
   "cell_type": "code",
   "execution_count": 10,
   "metadata": {},
   "outputs": [
    {
     "name": "stdout",
     "output_type": "stream",
     "text": [
      "negative log likelihood: -286.8638405049893\n",
      "8.836027987223677e+149\n"
     ]
    }
   ],
   "source": [
    "params_practise = [8.755e-01,  1.605e-02, -1.870e-03,  5.155e-04, -3.925e-04, 2.349e-02, -2.511e-02,  1.159e-01, -2.423e-01,  1.215e-01]\n",
    "print(f'negative log likelihood: {neg_loglike(params_practise, x, y)}')\n",
    "\n",
    "delta_shift = np.dot(x, params_practise[1:-2]) + 8.755e-01\n",
    "print(np.prod(reverse_shift_log_normal_pdf(y, delta_shift, -2.423e-01,  1.215e-01)))"
   ]
  },
  {
   "cell_type": "markdown",
   "metadata": {},
   "source": [
    "A few checks with simpler examples that the function returns the values we expect"
   ]
  },
  {
   "cell_type": "code",
   "execution_count": 11,
   "metadata": {},
   "outputs": [
    {
     "name": "stdout",
     "output_type": "stream",
     "text": [
      "28.351402187638193\n"
     ]
    }
   ],
   "source": [
    "x_practise1 = np.array([[1, 1.5], [2, 3.5]])\n",
    "y_practise1 = np.array([0, 0])\n",
    "\n",
    "params_practise1 = np.array([1, 2, 3, 0, 0.5])\n",
    "# expect neg_loglike = 28.351402187638193\n",
    "print(neg_loglike(params_practise1, x_practise1, y_practise1))"
   ]
  },
  {
   "cell_type": "code",
   "execution_count": 12,
   "metadata": {},
   "outputs": [
    {
     "name": "stdout",
     "output_type": "stream",
     "text": [
      "neg loglikelihood: 11.843664589238777\n",
      "[  1.24206807   8.69447652   6.83137441 -10.42068074 -23.14764679]\n"
     ]
    }
   ],
   "source": [
    "x_practise2 = np.array([[7, 5], [7, 6]])\n",
    "y_practise2 = np.array([0, 2])\n",
    "\n",
    "params_practise2 = np.array([0, 0, 2, 1, 0.5])\n",
    "# expect neg_loglike = 11.84366\n",
    "print(f'neg loglikelihood: {neg_loglike(params_practise2, x_practise2, y_practise2)}')\n",
    "\n",
    "jacobian_ = jacobian(neg_loglike)\n",
    "\n",
    "print(jacobian_(params_practise2, x_practise2, y_practise2))"
   ]
  },
  {
   "cell_type": "markdown",
   "metadata": {},
   "source": [
    "## Using scipy minimize \n",
    "\n",
    "Now we use `scipy.minimize` in order to optimise the function. We are using minimize with the negative of the likelihood which should always be positive.\n",
    "\n",
    "We can initialise from a random point:"
   ]
  },
  {
   "cell_type": "code",
   "execution_count": 13,
   "metadata": {},
   "outputs": [],
   "source": [
    "# n_features = 7\n",
    "# np.random.seed(27)\n",
    "# params_0 = np.concatenate([np.random.normal(size=n_features+1), [0, 0.25]]) "
   ]
  },
  {
   "cell_type": "markdown",
   "metadata": {},
   "source": [
    "Or, we initialise from a point near to where we expect the minimum to be (based on the multiple linear regression coefficients):"
   ]
  },
  {
   "cell_type": "code",
   "execution_count": 14,
   "metadata": {},
   "outputs": [],
   "source": [
    "params_0 = np.array([0.25, 0.1, 0.004, -0.004, -0.003, 0.0157, -0.0138, 0.108, 0.1, 0.25])"
   ]
  },
  {
   "cell_type": "markdown",
   "metadata": {},
   "source": [
    "There are different methods to optimise, such as Nelder-Mead - which doesn't use the functions derivative."
   ]
  },
  {
   "cell_type": "code",
   "execution_count": 15,
   "metadata": {},
   "outputs": [
    {
     "data": {
      "text/plain": [
       "       message: Maximum number of function evaluations has been exceeded.\n",
       "       success: False\n",
       "        status: 1\n",
       "           fun: -286.86251489336746\n",
       "             x: [ 8.755e-01  1.605e-02 -1.870e-03  5.155e-04 -3.925e-04\n",
       "                  2.349e-02 -2.511e-02  1.159e-01 -2.423e-01  1.215e-01]\n",
       "           nit: 1420\n",
       "          nfev: 2000\n",
       " final_simplex: (array([[ 8.755e-01,  1.605e-02, ..., -2.423e-01,\n",
       "                         1.215e-01],\n",
       "                       [ 8.755e-01,  1.605e-02, ..., -2.422e-01,\n",
       "                         1.214e-01],\n",
       "                       ...,\n",
       "                       [ 8.760e-01,  1.605e-02, ..., -2.422e-01,\n",
       "                         1.214e-01],\n",
       "                       [ 8.753e-01,  1.605e-02, ..., -2.422e-01,\n",
       "                         1.215e-01]]), array([-2.869e+02, -2.869e+02, -2.869e+02, -2.869e+02,\n",
       "                       -2.869e+02, -2.869e+02, -2.869e+02, -2.869e+02,\n",
       "                       -2.869e+02, -2.869e+02, -2.869e+02]))"
      ]
     },
     "execution_count": 15,
     "metadata": {},
     "output_type": "execute_result"
    }
   ],
   "source": [
    "# Use scipy's minimize function with the Nelder-Mead algorithm\n",
    "result = minimize(neg_loglike, x0=params_0, args=(x,y), method = 'Nelder-Mead')\n",
    "\n",
    "result"
   ]
  },
  {
   "cell_type": "markdown",
   "metadata": {},
   "source": [
    "Or a method like BFGS which does use the firts derivative:"
   ]
  },
  {
   "cell_type": "code",
   "execution_count": 16,
   "metadata": {},
   "outputs": [],
   "source": [
    "# derivates of neg_loglike\n",
    "# jacobian_  = jacobian(neg_loglike)\n",
    "\n",
    "# result = minimize(neg_loglike, x0=params_0, args=(x,y), method='BFGS', jac = jacobian_, options={'gtol': 1e-6, 'disp':True})\n",
    "# result"
   ]
  },
  {
   "cell_type": "code",
   "execution_count": 17,
   "metadata": {},
   "outputs": [
    {
     "name": "stdout",
     "output_type": "stream",
     "text": [
      "MLE estimates \n",
      "--------------\n",
      "--------------\n",
      "Intercept:0.8754936960815751\n",
      "--------------\n",
      "Regression coefficients\n",
      "--------------\n",
      "over_65_pc:0.016051377777602238\n",
      "female_pc:-0.0018703213573232971\n",
      "ALevel_plus_pc:0.0005155078576544667\n",
      "white_pc:-0.0003924632591874981\n",
      "HYP_afflicted_pc:0.023487066466692907\n",
      "DM_afflicted_pc:-0.0251073943370103\n",
      "STIA_afflicted_pc:0.11587826127816331\n",
      "--------------\n",
      "Log normal coefficients\n",
      "--------------\n",
      "Mu: -0.24229431336762364\n",
      "Sigma: 0.12145593662139037\n"
     ]
    }
   ],
   "source": [
    "# Extract the MLE from the parameter samples\n",
    "MLE_params = result.x\n",
    "\n",
    "MLE_intercept = MLE_params[0]\n",
    "MLE_beta = MLE_params[1:-2]\n",
    "MLE_mu = MLE_params[-2]\n",
    "MLE_sigma = MLE_params[-1]\n",
    "\n",
    "print(\"MLE estimates \\n--------------\\n--------------\")\n",
    "print(f'Intercept:{MLE_intercept}')\n",
    "print(\"--------------\\nRegression coefficients\\n--------------\")\n",
    "for i, var in enumerate(covar):\n",
    "    print(f'{var}:{MLE_beta[i]}')\n",
    "print(\"--------------\\nLog normal coefficients\\n--------------\")\n",
    "print(\"Mu:\", MLE_mu)\n",
    "print(\"Sigma:\", MLE_sigma)"
   ]
  },
  {
   "cell_type": "code",
   "execution_count": 18,
   "metadata": {},
   "outputs": [
    {
     "data": {
      "text/plain": [
       "-286.86251489336746"
      ]
     },
     "execution_count": 18,
     "metadata": {},
     "output_type": "execute_result"
    }
   ],
   "source": [
    "np.array(MLE_params)\n",
    "neg_loglike(MLE_params, x, y)"
   ]
  },
  {
   "cell_type": "code",
   "execution_count": 19,
   "metadata": {},
   "outputs": [
    {
     "name": "stdout",
     "output_type": "stream",
     "text": [
      "At the MLE, the negative loglikelihood is: -286.86251489336746\n"
     ]
    }
   ],
   "source": [
    "print(f'At the MLE, the negative loglikelihood is: {neg_loglike(MLE_params, x, y)}')"
   ]
  },
  {
   "cell_type": "markdown",
   "metadata": {},
   "source": [
    "And we can plot the shape of the log normal"
   ]
  },
  {
   "cell_type": "code",
   "execution_count": 20,
   "metadata": {},
   "outputs": [
    {
     "data": {
      "image/png": "[encoded data removed]",
      "text/plain": [
       "<Figure size 640x480 with 1 Axes>"
      ]
     },
     "metadata": {},
     "output_type": "display_data"
    }
   ],
   "source": [
    "# mode of the log normal \n",
    "mode = log_norm_mode(MLE_mu, MLE_sigma)\n",
    "\n",
    "# plot log normal of MLE parameters \n",
    "x_axis = np.arange(-10, 5, 0.01)\n",
    "pdf_x_mu0 = reverse_shift_log_normal_pdf(x_axis, np.zeros(len(x_axis)), MLE_mu, MLE_sigma)\n",
    "\n",
    "# Plot the log-normal probability density function (PDF)\n",
    "xmin, xmax = plt.xlim()\n",
    "plt.plot(x_axis, pdf_x_mu0, '-', linewidth=2, color='mediumseagreen')\n",
    "plt.text(2.1, 0.32, f'$\\sigma=${MLE_sigma}', color='mediumseagreen')\n",
    "plt.text(2.1, 0.42, f'$\\mu=${MLE_mu}', color='mediumseagreen')\n",
    "#plt.text(7, 0.15, '$\\sigma=0.25$', color='slateblue')\n",
    "\n",
    "ymin, ymax = plt.ylim()\n",
    "plt.vlines(-mode, ymin, ymax, color='slateblue', label='Log normal mode', linestyles='dotted')\n",
    "plt.text(mode+0.5, 3*ymax/4, f'Mode={np.round(-mode,2)}', color='slateblue')\n",
    "\n",
    "plt.title('(Shifted) Log-Normal Distribution ')\n",
    "plt.xlabel('X')\n",
    "plt.ylabel('Probability Density')\n",
    "plt.grid(True)\n",
    "plt.show()"
   ]
  },
  {
   "cell_type": "code",
   "execution_count": 21,
   "metadata": {},
   "outputs": [],
   "source": [
    "# The values predicted by the linear regression - conceptually this should be the \"true\" dementia prevalence rates \n",
    "y_pred = np.dot(x, MLE_beta.T) + MLE_intercept\n",
    "diagnosis_gap = y_pred.squeeze() - y.squeeze()\n",
    "\n",
    "# update the dataframe \n",
    "df_dem_plus['diagnosis_gap']=diagnosis_gap"
   ]
  },
  {
   "cell_type": "code",
   "execution_count": 22,
   "metadata": {},
   "outputs": [
    {
     "name": "stdout",
     "output_type": "stream",
     "text": [
      "[1.93572067 1.3922385  1.56264692 1.57327131 1.69777283]\n"
     ]
    }
   ],
   "source": [
    "print(y_pred[:5])"
   ]
  },
  {
   "cell_type": "markdown",
   "metadata": {},
   "source": [
    "And subsquently look at those regions with the largest gap from the regression line - conceptually those with the worst diagnosis rates"
   ]
  },
  {
   "cell_type": "code",
   "execution_count": 23,
   "metadata": {},
   "outputs": [
    {
     "data": {
      "text/html": [
       "<div>\n",
       "<style scoped>\n",
       "    .dataframe tbody tr th:only-of-type {\n",
       "        vertical-align: middle;\n",
       "    }\n",
       "\n",
       "    .dataframe tbody tr th {\n",
       "        vertical-align: top;\n",
       "    }\n",
       "\n",
       "    .dataframe thead th {\n",
       "        text-align: right;\n",
       "    }\n",
       "</style>\n",
       "<table border=\"1\" class=\"dataframe\">\n",
       "  <thead>\n",
       "    <tr style=\"text-align: right;\">\n",
       "      <th></th>\n",
       "      <th>area_name</th>\n",
       "      <th>diagnosis_gap</th>\n",
       "    </tr>\n",
       "  </thead>\n",
       "  <tbody>\n",
       "    <tr>\n",
       "      <th>107</th>\n",
       "      <td>Cornwall</td>\n",
       "      <td>0.957613</td>\n",
       "    </tr>\n",
       "    <tr>\n",
       "      <th>60</th>\n",
       "      <td>Worcester</td>\n",
       "      <td>0.957710</td>\n",
       "    </tr>\n",
       "    <tr>\n",
       "      <th>286</th>\n",
       "      <td>Torridge</td>\n",
       "      <td>0.962688</td>\n",
       "    </tr>\n",
       "    <tr>\n",
       "      <th>294</th>\n",
       "      <td>Nuneaton and Bedworth</td>\n",
       "      <td>0.963476</td>\n",
       "    </tr>\n",
       "    <tr>\n",
       "      <th>75</th>\n",
       "      <td>Redditch</td>\n",
       "      <td>0.968367</td>\n",
       "    </tr>\n",
       "    <tr>\n",
       "      <th>134</th>\n",
       "      <td>Scarborough</td>\n",
       "      <td>0.971210</td>\n",
       "    </tr>\n",
       "    <tr>\n",
       "      <th>79</th>\n",
       "      <td>Wychavon</td>\n",
       "      <td>0.972815</td>\n",
       "    </tr>\n",
       "    <tr>\n",
       "      <th>283</th>\n",
       "      <td>City of London</td>\n",
       "      <td>1.017861</td>\n",
       "    </tr>\n",
       "    <tr>\n",
       "      <th>40</th>\n",
       "      <td>South Hams</td>\n",
       "      <td>1.043275</td>\n",
       "    </tr>\n",
       "    <tr>\n",
       "      <th>271</th>\n",
       "      <td>Eden</td>\n",
       "      <td>1.045234</td>\n",
       "    </tr>\n",
       "  </tbody>\n",
       "</table>\n",
       "</div>"
      ],
      "text/plain": [
       "                 area_name  diagnosis_gap\n",
       "107               Cornwall       0.957613\n",
       "60               Worcester       0.957710\n",
       "286               Torridge       0.962688\n",
       "294  Nuneaton and Bedworth       0.963476\n",
       "75                Redditch       0.968367\n",
       "134            Scarborough       0.971210\n",
       "79                Wychavon       0.972815\n",
       "283         City of London       1.017861\n",
       "40              South Hams       1.043275\n",
       "271                   Eden       1.045234"
      ]
     },
     "execution_count": 23,
     "metadata": {},
     "output_type": "execute_result"
    }
   ],
   "source": [
    "most_bad_lads = np.argsort(diagnosis_gap)[-10:]\n",
    "df_dem_plus.iloc[most_bad_lads, :][['area_name', 'diagnosis_gap']]"
   ]
  },
  {
   "cell_type": "markdown",
   "metadata": {},
   "source": [
    "And those regions with the smallest gap - conceptually those with the best diagnosis rates"
   ]
  },
  {
   "cell_type": "code",
   "execution_count": 24,
   "metadata": {},
   "outputs": [
    {
     "data": {
      "text/html": [
       "<div>\n",
       "<style scoped>\n",
       "    .dataframe tbody tr th:only-of-type {\n",
       "        vertical-align: middle;\n",
       "    }\n",
       "\n",
       "    .dataframe tbody tr th {\n",
       "        vertical-align: top;\n",
       "    }\n",
       "\n",
       "    .dataframe thead th {\n",
       "        text-align: right;\n",
       "    }\n",
       "</style>\n",
       "<table border=\"1\" class=\"dataframe\">\n",
       "  <thead>\n",
       "    <tr style=\"text-align: right;\">\n",
       "      <th></th>\n",
       "      <th>area_name</th>\n",
       "      <th>diagnosis_gap</th>\n",
       "    </tr>\n",
       "  </thead>\n",
       "  <tbody>\n",
       "    <tr>\n",
       "      <th>77</th>\n",
       "      <td>Rochford</td>\n",
       "      <td>0.449314</td>\n",
       "    </tr>\n",
       "    <tr>\n",
       "      <th>225</th>\n",
       "      <td>Southampton</td>\n",
       "      <td>0.542680</td>\n",
       "    </tr>\n",
       "    <tr>\n",
       "      <th>123</th>\n",
       "      <td>Surrey Heath</td>\n",
       "      <td>0.544964</td>\n",
       "    </tr>\n",
       "    <tr>\n",
       "      <th>29</th>\n",
       "      <td>East Devon</td>\n",
       "      <td>0.547082</td>\n",
       "    </tr>\n",
       "    <tr>\n",
       "      <th>196</th>\n",
       "      <td>East Hampshire</td>\n",
       "      <td>0.553213</td>\n",
       "    </tr>\n",
       "    <tr>\n",
       "      <th>63</th>\n",
       "      <td>Eastbourne</td>\n",
       "      <td>0.554127</td>\n",
       "    </tr>\n",
       "    <tr>\n",
       "      <th>10</th>\n",
       "      <td>Southend-on-Sea</td>\n",
       "      <td>0.565579</td>\n",
       "    </tr>\n",
       "    <tr>\n",
       "      <th>3</th>\n",
       "      <td>Lancaster</td>\n",
       "      <td>0.576326</td>\n",
       "    </tr>\n",
       "    <tr>\n",
       "      <th>138</th>\n",
       "      <td>Ashfield</td>\n",
       "      <td>0.579683</td>\n",
       "    </tr>\n",
       "    <tr>\n",
       "      <th>272</th>\n",
       "      <td>Gosport</td>\n",
       "      <td>0.593679</td>\n",
       "    </tr>\n",
       "  </tbody>\n",
       "</table>\n",
       "</div>"
      ],
      "text/plain": [
       "           area_name  diagnosis_gap\n",
       "77          Rochford       0.449314\n",
       "225      Southampton       0.542680\n",
       "123     Surrey Heath       0.544964\n",
       "29        East Devon       0.547082\n",
       "196   East Hampshire       0.553213\n",
       "63        Eastbourne       0.554127\n",
       "10   Southend-on-Sea       0.565579\n",
       "3          Lancaster       0.576326\n",
       "138         Ashfield       0.579683\n",
       "272          Gosport       0.593679"
      ]
     },
     "execution_count": 24,
     "metadata": {},
     "output_type": "execute_result"
    }
   ],
   "source": [
    "least_bad_lads = np.argsort(diagnosis_gap)[:10]\n",
    "df_dem_plus.iloc[least_bad_lads, :][['area_name', 'diagnosis_gap']]"
   ]
  },
  {
   "cell_type": "markdown",
   "metadata": {},
   "source": [
    "## Evaluate the hessian at the MLE \n",
    "\n",
    "We can look at the Hessian evaluated at the MLE."
   ]
  },
  {
   "cell_type": "code",
   "execution_count": 25,
   "metadata": {},
   "outputs": [
    {
     "name": "stdout",
     "output_type": "stream",
     "text": [
      "[[ 3.57219540e+04  8.70029651e+05  2.24893226e+06  1.81088517e+06\n",
      "   2.80586847e+06  5.20097021e+05  2.11822376e+05  6.87547205e+04\n",
      "  -2.68885837e+04  6.79800828e+03]\n",
      " [ 8.70029651e+05  2.23158274e+07  5.46830316e+07  4.35465824e+07\n",
      "   7.13226865e+07  1.30956472e+07  5.22179751e+06  1.76045452e+06\n",
      "  -6.54351877e+05  1.59384262e+05]\n",
      " [ 2.24893226e+06  5.46830316e+07  1.41929459e+08  1.14085126e+08\n",
      "   1.76077849e+08  3.27093951e+07  1.33502503e+07  4.31364996e+06\n",
      "  -1.69314303e+06  4.28848630e+05]\n",
      " [ 1.81088517e+06  4.35465824e+07  1.14085126e+08  9.38760050e+07\n",
      "   1.40173668e+08  2.59557848e+07  1.05484575e+07  3.42168161e+06\n",
      "  -1.36557855e+06  3.31882368e+05]\n",
      " [ 2.80586847e+06  7.13226865e+07  1.76077849e+08  1.40173668e+08\n",
      "   2.32372465e+08  4.20456103e+07  1.67318915e+07  5.65541897e+06\n",
      "  -2.10901084e+06  5.25317243e+05]\n",
      " [ 5.20097021e+05  1.30956472e+07  3.27093951e+07  2.59557848e+07\n",
      "   4.20456103e+07  7.78287090e+06  3.13451513e+06  1.03800358e+06\n",
      "  -3.91252147e+05  9.69501873e+04]\n",
      " [ 2.11822376e+05  5.22179751e+06  1.33502503e+07  1.05484575e+07\n",
      "   1.67318915e+07  3.13451513e+06  1.28737782e+06  4.14851055e+05\n",
      "  -1.59418297e+05  4.04886405e+04]\n",
      " [ 6.87547205e+04  1.76045452e+06  4.31364996e+06  3.42168161e+06\n",
      "   5.65541897e+06  1.03800358e+06  4.14851055e+05  1.40432313e+05\n",
      "  -5.16826027e+04  1.28469372e+04]\n",
      " [-2.68885837e+04 -6.54351877e+05 -1.69314303e+06 -1.36557855e+06\n",
      "  -2.10901084e+06 -3.91252147e+05 -1.59418297e+05 -5.16826027e+04\n",
      "   2.09469591e+04  8.87562860e+01]\n",
      " [ 6.79800828e+03  1.59384262e+05  4.28848630e+05  3.31882368e+05\n",
      "   5.25317243e+05  9.69501873e+04  4.04886405e+04  1.28469372e+04\n",
      "   8.87562860e+01  4.22639949e+04]]\n"
     ]
    }
   ],
   "source": [
    "hessian_ = hessian(neg_loglike)\n",
    "\n",
    "print(hessian_(MLE_params, x, y))"
   ]
  },
  {
   "cell_type": "code",
   "execution_count": 26,
   "metadata": {},
   "outputs": [],
   "source": [
    "def is_def(x):\n",
    "    return np.all(np.linalg.eigvals(x) > 0)"
   ]
  },
  {
   "cell_type": "code",
   "execution_count": 27,
   "metadata": {},
   "outputs": [
    {
     "data": {
      "text/plain": [
       "array([4.89370200e+08, 8.88172829e+06, 1.09008049e+06, 3.77676207e+05,\n",
       "       4.16249448e+04, 3.52120371e+04, 5.91835503e+03, 2.10459534e+01,\n",
       "       7.78215987e+01, 8.30632875e+02])"
      ]
     },
     "execution_count": 27,
     "metadata": {},
     "output_type": "execute_result"
    }
   ],
   "source": [
    "np.linalg.eigvals(hessian_(MLE_params, x, y))"
   ]
  },
  {
   "cell_type": "code",
   "execution_count": 28,
   "metadata": {},
   "outputs": [
    {
     "data": {
      "text/plain": [
       "True"
      ]
     },
     "execution_count": 28,
     "metadata": {},
     "output_type": "execute_result"
    }
   ],
   "source": [
    "is_def(hessian_(MLE_params, x, y))"
   ]
  },
  {
   "cell_type": "markdown",
   "metadata": {},
   "source": [
    "## Check the model by just looking at the linear regression with a gaussian error term "
   ]
  },
  {
   "cell_type": "code",
   "execution_count": 46,
   "metadata": {},
   "outputs": [],
   "source": [
    "# Define functions to minimize\n",
    "\n",
    "def linear_neg_loglike(params, x, y):\n",
    "    beta_0 = params[0]\n",
    "    beta = np.array(params[1:-1])\n",
    "    sigma = params[-1]\n",
    "\n",
    "    y_pred = (np.dot(x, beta)).squeeze() + beta_0\n",
    "    likely = norm.pdf(y, loc=y_pred, scale=sigma)\n",
    "    log_likely = np.log(likely)\n",
    "    #log_likely = log_rvs_shift_log_normal(y.squeeze(), delta=y_pred.squeeze(), mu=mu, sigma=sigma)\n",
    "    \n",
    "    return (-1 * np.sum(log_likely)).squeeze()"
   ]
  },
  {
   "cell_type": "code",
   "execution_count": 71,
   "metadata": {},
   "outputs": [],
   "source": [
    "# Define functions to minimize\n",
    "\n",
    "def linear_log_ols(params, x, y):\n",
    "    beta_0 = params[0]\n",
    "    beta = np.array(params[1:])\n",
    "\n",
    "    y_pred = (np.dot(x, beta)).squeeze() + beta_0\n",
    "\n",
    "    squares = (y_pred-y)**2\n",
    "    \n",
    "    return (np.sum(squares)).squeeze()"
   ]
  },
  {
   "cell_type": "code",
   "execution_count": 72,
   "metadata": {},
   "outputs": [
    {
     "data": {
      "text/plain": [
       "       message: Optimization terminated successfully.\n",
       "       success: True\n",
       "        status: 0\n",
       "           fun: 3891.3000680477276\n",
       "             x: [ 2.730e-01  1.908e-03  9.658e-03 -1.089e-03 -1.719e-03\n",
       "                  9.424e-04 -1.214e-02  4.694e-02]\n",
       "           nit: 938\n",
       "          nfev: 1385\n",
       " final_simplex: (array([[ 2.730e-01,  1.908e-03, ..., -1.214e-02,\n",
       "                         4.694e-02],\n",
       "                       [ 2.730e-01,  1.907e-03, ..., -1.214e-02,\n",
       "                         4.692e-02],\n",
       "                       ...,\n",
       "                       [ 2.731e-01,  1.908e-03, ..., -1.214e-02,\n",
       "                         4.692e-02],\n",
       "                       [ 2.730e-01,  1.907e-03, ..., -1.214e-02,\n",
       "                         4.693e-02]]), array([ 3.891e+03,  3.891e+03,  3.891e+03,  3.891e+03,\n",
       "                        3.891e+03,  3.891e+03,  3.891e+03,  3.891e+03,\n",
       "                        3.891e+03]))"
      ]
     },
     "execution_count": 72,
     "metadata": {},
     "output_type": "execute_result"
    }
   ],
   "source": [
    "# initial values \n",
    "params_0 = np.array([0.25, 0.1, 0.004, -0.004, -0.003, 0.0157, -0.0138, 0.108])\n",
    "\n",
    "# Use scipy's minimize function with the Nelder-Mead algorithm\n",
    "result = minimize(linear_log_ols, x0=params_0, args=(x,y), method = 'Nelder-Mead')\n",
    "\n",
    "result"
   ]
  },
  {
   "cell_type": "code",
   "execution_count": 73,
   "metadata": {},
   "outputs": [
    {
     "name": "stdout",
     "output_type": "stream",
     "text": [
      "MLE estimates \n",
      "--------------\n",
      "--------------\n",
      "Intercept:0.27301426690385544\n",
      "--------------\n",
      "Regression coefficients\n",
      "--------------\n",
      "over_65_pc:0.0019075626721195226\n",
      "female_pc:0.009658495462896887\n",
      "ALevel_plus_pc:-0.00108882425238399\n",
      "white_pc:-0.0017193052095990575\n",
      "HYP_afflicted_pc:0.0009423790372619506\n",
      "DM_afflicted_pc:-0.012140858915620684\n",
      "STIA_afflicted_pc:0.046937148357669156\n"
     ]
    }
   ],
   "source": [
    "# Extract the MLE from the parameter samples\n",
    "MLE_params = result.x\n",
    "\n",
    "MLE_intercept = MLE_params[0]\n",
    "MLE_beta = MLE_params[1:]\n",
    "MLE_sigma = MLE_params[-1]\n",
    "\n",
    "print(\"MLE estimates \\n--------------\\n--------------\")\n",
    "print(f'Intercept:{MLE_intercept}')\n",
    "print(\"--------------\\nRegression coefficients\\n--------------\")\n",
    "for i, var in enumerate(covar):\n",
    "    print(f'{var}:{MLE_beta[i]}')"
   ]
  },
  {
   "cell_type": "code",
   "execution_count": 74,
   "metadata": {},
   "outputs": [
    {
     "data": {
      "text/plain": [
       "205377.60791360313"
      ]
     },
     "execution_count": 74,
     "metadata": {},
     "output_type": "execute_result"
    }
   ],
   "source": [
    "try_these_params = [0.11672, 1.67110984e-02, -1.77265952e-03,  1.65726780e-04,  8.33134840e-05,\n",
    "        1.80178425e-02, -1.36733891e-02,  9.05360780e-02, 0.1]\n",
    "\n",
    "linear_neg_loglike(try_these_params, x, y)"
   ]
  },
  {
   "cell_type": "code",
   "execution_count": 75,
   "metadata": {},
   "outputs": [
    {
     "name": "stdout",
     "output_type": "stream",
     "text": [
      "MLE estimates \n",
      "--------------\n",
      "--------------\n",
      "Intercept:0.27301426690385544\n",
      "--------------\n",
      "Regression coefficients\n",
      "--------------\n",
      "over_65_pc:0.0019075626721195226\n",
      "female_pc:0.009658495462896887\n",
      "ALevel_plus_pc:-0.00108882425238399\n",
      "white_pc:-0.0017193052095990575\n",
      "HYP_afflicted_pc:0.0009423790372619506\n",
      "DM_afflicted_pc:-0.012140858915620684\n"
     ]
    },
    {
     "ename": "IndexError",
     "evalue": "index 6 is out of bounds for axis 0 with size 6",
     "output_type": "error",
     "traceback": [
      "\u001b[0;31m---------------------------------------------------------------------------\u001b[0m",
      "\u001b[0;31mIndexError\u001b[0m                                Traceback (most recent call last)",
      "Cell \u001b[0;32mIn[75], line 12\u001b[0m\n\u001b[1;32m     10\u001b[0m \u001b[38;5;28mprint\u001b[39m(\u001b[38;5;124m\"\u001b[39m\u001b[38;5;124m--------------\u001b[39m\u001b[38;5;130;01m\\n\u001b[39;00m\u001b[38;5;124mRegression coefficients\u001b[39m\u001b[38;5;130;01m\\n\u001b[39;00m\u001b[38;5;124m--------------\u001b[39m\u001b[38;5;124m\"\u001b[39m)\n\u001b[1;32m     11\u001b[0m \u001b[38;5;28;01mfor\u001b[39;00m i, var \u001b[38;5;129;01min\u001b[39;00m \u001b[38;5;28menumerate\u001b[39m(covar):\n\u001b[0;32m---> 12\u001b[0m     \u001b[38;5;28mprint\u001b[39m(\u001b[38;5;124mf\u001b[39m\u001b[38;5;124m'\u001b[39m\u001b[38;5;132;01m{\u001b[39;00mvar\u001b[38;5;132;01m}\u001b[39;00m\u001b[38;5;124m:\u001b[39m\u001b[38;5;132;01m{\u001b[39;00m\u001b[43mMLE_beta\u001b[49m\u001b[43m[\u001b[49m\u001b[43mi\u001b[49m\u001b[43m]\u001b[49m\u001b[38;5;132;01m}\u001b[39;00m\u001b[38;5;124m'\u001b[39m)\n\u001b[1;32m     13\u001b[0m \u001b[38;5;28mprint\u001b[39m(\u001b[38;5;124m\"\u001b[39m\u001b[38;5;124m--------------\u001b[39m\u001b[38;5;130;01m\\n\u001b[39;00m\u001b[38;5;124mLog normal coefficients\u001b[39m\u001b[38;5;130;01m\\n\u001b[39;00m\u001b[38;5;124m--------------\u001b[39m\u001b[38;5;124m\"\u001b[39m)\n\u001b[1;32m     14\u001b[0m \u001b[38;5;28mprint\u001b[39m(\u001b[38;5;124m\"\u001b[39m\u001b[38;5;124mSigma:\u001b[39m\u001b[38;5;124m\"\u001b[39m, MLE_sigma)\n",
      "\u001b[0;31mIndexError\u001b[0m: index 6 is out of bounds for axis 0 with size 6"
     ]
    }
   ],
   "source": [
    "# Extract the MLE from the parameter samples\n",
    "MLE_params = result.x\n",
    "\n",
    "MLE_intercept = MLE_params[0]\n",
    "MLE_beta = MLE_params[1:-1]\n",
    "MLE_sigma = MLE_params[-1]\n",
    "\n",
    "print(\"MLE estimates \\n--------------\\n--------------\")\n",
    "print(f'Intercept:{MLE_intercept}')\n",
    "print(\"--------------\\nRegression coefficients\\n--------------\")\n",
    "for i, var in enumerate(covar):\n",
    "    print(f'{var}:{MLE_beta[i]}')\n",
    "print(\"--------------\\nLog normal coefficients\\n--------------\")\n",
    "print(\"Sigma:\", MLE_sigma)"
   ]
  }
 ],
 "metadata": {
  "kernelspec": {
   "display_name": "adu_env_dementia_ineq",
   "language": "python",
   "name": "python3"
  },
  "language_info": {
   "codemirror_mode": {
    "name": "ipython",
    "version": 3
   },
   "file_extension": ".py",
   "mimetype": "text/x-python",
   "name": "python",
   "nbconvert_exporter": "python",
   "pygments_lexer": "ipython3",
   "version": "3.10.13"
  }
 },
 "nbformat": 4,
 "nbformat_minor": 2
}
