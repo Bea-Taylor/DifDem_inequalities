{
 "cells": [
  {
   "cell_type": "markdown",
   "metadata": {},
   "source": [
    "# 05c parameter optimisation "
   ]
  },
  {
   "cell_type": "code",
   "execution_count": 30,
   "metadata": {},
   "outputs": [],
   "source": [
    "#|default_exp core.05c_parameter_optimisation"
   ]
  },
  {
   "cell_type": "code",
   "execution_count": 31,
   "metadata": {},
   "outputs": [],
   "source": [
    "#|export\n",
    "import autograd.numpy as np\n",
    "from autograd import grad, jacobian, hessian\n",
    "#from scipy.special import logsumexp\n",
    "from scipy.optimize import minimize\n",
    "import pandas as pd\n",
    "from matplotlib import pyplot as plt\n",
    "\n",
    "from dementia_inequalities import const, log, utils, tools "
   ]
  },
  {
   "cell_type": "markdown",
   "metadata": {},
   "source": [
    "---"
   ]
  },
  {
   "cell_type": "code",
   "execution_count": 32,
   "metadata": {},
   "outputs": [],
   "source": [
    "#|export \n",
    "df_dem_plus = pd.read_csv(const.output_path+'/df_dem_plus.csv')"
   ]
  },
  {
   "cell_type": "code",
   "execution_count": 33,
   "metadata": {},
   "outputs": [
    {
     "data": {
      "text/html": [
       "<div>\n",
       "<style scoped>\n",
       "    .dataframe tbody tr th:only-of-type {\n",
       "        vertical-align: middle;\n",
       "    }\n",
       "\n",
       "    .dataframe tbody tr th {\n",
       "        vertical-align: top;\n",
       "    }\n",
       "\n",
       "    .dataframe thead th {\n",
       "        text-align: right;\n",
       "    }\n",
       "</style>\n",
       "<table border=\"1\" class=\"dataframe\">\n",
       "  <thead>\n",
       "    <tr style=\"text-align: right;\">\n",
       "      <th></th>\n",
       "      <th>area_code</th>\n",
       "      <th>area_name</th>\n",
       "      <th>pop</th>\n",
       "      <th>DEM_afflicted</th>\n",
       "      <th>HYP_afflicted</th>\n",
       "      <th>DM_afflicted</th>\n",
       "      <th>STIA_afflicted</th>\n",
       "      <th>ALevel_plus</th>\n",
       "      <th>Female_all</th>\n",
       "      <th>Male_all</th>\n",
       "      <th>...</th>\n",
       "      <th>white_pc</th>\n",
       "      <th>DEM_afflicted_pc</th>\n",
       "      <th>ALevel_plus_pc</th>\n",
       "      <th>over_65_pc</th>\n",
       "      <th>female_pc</th>\n",
       "      <th>HYP_afflicted_pc</th>\n",
       "      <th>DM_afflicted_pc</th>\n",
       "      <th>STIA_afflicted_pc</th>\n",
       "      <th>GP_contribution_to_LAD</th>\n",
       "      <th>GP_LAD_pc</th>\n",
       "    </tr>\n",
       "  </thead>\n",
       "  <tbody>\n",
       "    <tr>\n",
       "      <th>0</th>\n",
       "      <td>E07000091</td>\n",
       "      <td>New Forest</td>\n",
       "      <td>151481</td>\n",
       "      <td>1858.546949</td>\n",
       "      <td>28892.139020</td>\n",
       "      <td>9338.695410</td>\n",
       "      <td>4466.648271</td>\n",
       "      <td>72749.0</td>\n",
       "      <td>91513.3596</td>\n",
       "      <td>84729.6073</td>\n",
       "      <td>...</td>\n",
       "      <td>93.2</td>\n",
       "      <td>1.226918</td>\n",
       "      <td>48.025165</td>\n",
       "      <td>34.275376</td>\n",
       "      <td>60.412434</td>\n",
       "      <td>19.073111</td>\n",
       "      <td>6.164929</td>\n",
       "      <td>2.948652</td>\n",
       "      <td>215.158147</td>\n",
       "      <td>0.001420</td>\n",
       "    </tr>\n",
       "    <tr>\n",
       "      <th>1</th>\n",
       "      <td>E09000027</td>\n",
       "      <td>Richmond upon Thames</td>\n",
       "      <td>156795</td>\n",
       "      <td>1016.262785</td>\n",
       "      <td>16263.714161</td>\n",
       "      <td>5723.913130</td>\n",
       "      <td>2019.443594</td>\n",
       "      <td>112919.0</td>\n",
       "      <td>101226.6730</td>\n",
       "      <td>93918.3682</td>\n",
       "      <td>...</td>\n",
       "      <td>63.0</td>\n",
       "      <td>0.648147</td>\n",
       "      <td>72.016965</td>\n",
       "      <td>20.177787</td>\n",
       "      <td>64.559886</td>\n",
       "      <td>10.372597</td>\n",
       "      <td>3.650571</td>\n",
       "      <td>1.287952</td>\n",
       "      <td>437.450820</td>\n",
       "      <td>0.002790</td>\n",
       "    </tr>\n",
       "    <tr>\n",
       "      <th>2</th>\n",
       "      <td>E07000116</td>\n",
       "      <td>Tunbridge Wells</td>\n",
       "      <td>95022</td>\n",
       "      <td>876.255260</td>\n",
       "      <td>12908.434533</td>\n",
       "      <td>4606.674451</td>\n",
       "      <td>1889.024705</td>\n",
       "      <td>52395.0</td>\n",
       "      <td>59540.1412</td>\n",
       "      <td>56126.1458</td>\n",
       "      <td>...</td>\n",
       "      <td>84.2</td>\n",
       "      <td>0.922160</td>\n",
       "      <td>55.139862</td>\n",
       "      <td>23.752404</td>\n",
       "      <td>62.659322</td>\n",
       "      <td>13.584680</td>\n",
       "      <td>4.848008</td>\n",
       "      <td>1.987987</td>\n",
       "      <td>123.466346</td>\n",
       "      <td>0.001299</td>\n",
       "    </tr>\n",
       "    <tr>\n",
       "      <th>3</th>\n",
       "      <td>E07000121</td>\n",
       "      <td>Lancaster</td>\n",
       "      <td>123214</td>\n",
       "      <td>1228.376774</td>\n",
       "      <td>16806.421220</td>\n",
       "      <td>6784.714317</td>\n",
       "      <td>2647.583108</td>\n",
       "      <td>65724.0</td>\n",
       "      <td>72615.6480</td>\n",
       "      <td>69496.5141</td>\n",
       "      <td>...</td>\n",
       "      <td>87.8</td>\n",
       "      <td>0.996946</td>\n",
       "      <td>53.341341</td>\n",
       "      <td>23.914299</td>\n",
       "      <td>58.934576</td>\n",
       "      <td>13.640026</td>\n",
       "      <td>5.506448</td>\n",
       "      <td>2.148768</td>\n",
       "      <td>612.399689</td>\n",
       "      <td>0.004970</td>\n",
       "    </tr>\n",
       "    <tr>\n",
       "      <th>4</th>\n",
       "      <td>E07000042</td>\n",
       "      <td>Mid Devon</td>\n",
       "      <td>67987</td>\n",
       "      <td>547.793487</td>\n",
       "      <td>10854.465333</td>\n",
       "      <td>4281.878984</td>\n",
       "      <td>1530.207441</td>\n",
       "      <td>33190.0</td>\n",
       "      <td>42541.3752</td>\n",
       "      <td>40639.6312</td>\n",
       "      <td>...</td>\n",
       "      <td>93.8</td>\n",
       "      <td>0.805733</td>\n",
       "      <td>48.818156</td>\n",
       "      <td>29.486050</td>\n",
       "      <td>62.572808</td>\n",
       "      <td>15.965501</td>\n",
       "      <td>6.298085</td>\n",
       "      <td>2.250735</td>\n",
       "      <td>77.360723</td>\n",
       "      <td>0.001138</td>\n",
       "    </tr>\n",
       "  </tbody>\n",
       "</table>\n",
       "<p>5 rows × 24 columns</p>\n",
       "</div>"
      ],
      "text/plain": [
       "   area_code             area_name     pop  DEM_afflicted  HYP_afflicted  \\\n",
       "0  E07000091            New Forest  151481    1858.546949   28892.139020   \n",
       "1  E09000027  Richmond upon Thames  156795    1016.262785   16263.714161   \n",
       "2  E07000116       Tunbridge Wells   95022     876.255260   12908.434533   \n",
       "3  E07000121             Lancaster  123214    1228.376774   16806.421220   \n",
       "4  E07000042             Mid Devon   67987     547.793487   10854.465333   \n",
       "\n",
       "   DM_afflicted  STIA_afflicted  ALevel_plus   Female_all    Male_all  ...  \\\n",
       "0   9338.695410     4466.648271      72749.0   91513.3596  84729.6073  ...   \n",
       "1   5723.913130     2019.443594     112919.0  101226.6730  93918.3682  ...   \n",
       "2   4606.674451     1889.024705      52395.0   59540.1412  56126.1458  ...   \n",
       "3   6784.714317     2647.583108      65724.0   72615.6480  69496.5141  ...   \n",
       "4   4281.878984     1530.207441      33190.0   42541.3752  40639.6312  ...   \n",
       "\n",
       "   white_pc  DEM_afflicted_pc  ALevel_plus_pc  over_65_pc  female_pc  \\\n",
       "0      93.2          1.226918       48.025165   34.275376  60.412434   \n",
       "1      63.0          0.648147       72.016965   20.177787  64.559886   \n",
       "2      84.2          0.922160       55.139862   23.752404  62.659322   \n",
       "3      87.8          0.996946       53.341341   23.914299  58.934576   \n",
       "4      93.8          0.805733       48.818156   29.486050  62.572808   \n",
       "\n",
       "   HYP_afflicted_pc  DM_afflicted_pc  STIA_afflicted_pc  \\\n",
       "0         19.073111         6.164929           2.948652   \n",
       "1         10.372597         3.650571           1.287952   \n",
       "2         13.584680         4.848008           1.987987   \n",
       "3         13.640026         5.506448           2.148768   \n",
       "4         15.965501         6.298085           2.250735   \n",
       "\n",
       "   GP_contribution_to_LAD  GP_LAD_pc  \n",
       "0              215.158147   0.001420  \n",
       "1              437.450820   0.002790  \n",
       "2              123.466346   0.001299  \n",
       "3              612.399689   0.004970  \n",
       "4               77.360723   0.001138  \n",
       "\n",
       "[5 rows x 24 columns]"
      ]
     },
     "execution_count": 33,
     "metadata": {},
     "output_type": "execute_result"
    }
   ],
   "source": [
    "df_dem_plus.head()"
   ]
  },
  {
   "cell_type": "code",
   "execution_count": 34,
   "metadata": {},
   "outputs": [],
   "source": [
    "# The real dementia x and y data \n",
    "\n",
    "# covariates \n",
    "covar = ['over_65_pc', 'female_pc', 'ALevel_plus_pc', 'white_pc', 'HYP_afflicted_pc', 'DM_afflicted_pc', 'STIA_afflicted_pc']\n",
    "\n",
    "# Input data \n",
    "x = np.array(df_dem_plus[covar].values.reshape(-1,7))\n",
    "\n",
    "# Outcome data \n",
    "y = np.array(df_dem_plus['DEM_afflicted_pc'].values.reshape(-1,1))"
   ]
  },
  {
   "cell_type": "code",
   "execution_count": 35,
   "metadata": {},
   "outputs": [],
   "source": [
    "def reverse_shift_log_normal_pdf(x, delta, mu, sigma):\n",
    "    pdf = []\n",
    "    #x_shift = delta - x\n",
    "    for i, x_i in enumerate(x):\n",
    "        #if isinstance(delta, int) or isinstance(delta, float):\n",
    "        #    delta = delta * np.ones(len(x)).T  \n",
    "\n",
    "        #if x_shift[i] < 0: \n",
    "        if delta[i] < x_i: \n",
    "            pdf.append(0)\n",
    "        else: \n",
    "            x_shift = delta[i] - x_i\n",
    "            norm_const = 1 / ((x_shift) * sigma * np.sqrt(2 * np.pi))\n",
    "            exp_part = np.exp(-1 * (1 / (2 * sigma ** 2)) * (np.log(np.subtract(x_shift, mu)) ** 2))\n",
    "            #exp_part = np.exp(-(np.log(np.subtract(x_shift, mu)) ** 2))\n",
    "            pdf.append(norm_const.squeeze() * exp_part.squeeze())\n",
    "            \n",
    "    return np.array(pdf)"
   ]
  },
  {
   "cell_type": "code",
   "execution_count": 36,
   "metadata": {},
   "outputs": [],
   "source": [
    "def log_rvs_shift_log_normal(z, delta, mu, sigma):\n",
    "    pdf = []\n",
    "    z_shift = np.array(delta - z)\n",
    "    for i in range(len(z_shift)):\n",
    "        if z_shift[i]>0: \n",
    "            part1 = (1/(2 * sigma ** 2)) * (2 * mu * np.log(z_shift[i]) - (np.log(z_shift[i])) ** 2 - mu ** 2) \n",
    "            part2 = np.log(z_shift[i] * sigma * np.sqrt(2 *np.pi))\n",
    "            pdf.append(part1 - part2)\n",
    "        else:\n",
    "            pdf.append(np.log(0))\n",
    "    return np.array(pdf)\n",
    "\n",
    "def neg_loglike(params):\n",
    "    beta_0 = params[0]\n",
    "    beta = np.array(params[1:-2])\n",
    "    mu = params[-2]\n",
    "    sigma = params[-1]\n",
    "\n",
    "    y_pred = (np.dot(x, beta)).squeeze() + beta_0\n",
    "    log_likely = log_rvs_shift_log_normal(y.squeeze(), delta=y_pred.squeeze(), mu=mu, sigma=sigma)\n",
    "    \n",
    "    return (-1 * np.sum(log_likely)).squeeze()"
   ]
  },
  {
   "cell_type": "code",
   "execution_count": 37,
   "metadata": {},
   "outputs": [],
   "source": [
    "def log_norm_mode(mu:int, # mean of the variables log\n",
    "                  sigma:int): # standard deviation of the variables log\n",
    "    return np.exp(mu - sigma**2)"
   ]
  },
  {
   "cell_type": "code",
   "execution_count": 54,
   "metadata": {},
   "outputs": [
    {
     "name": "stdout",
     "output_type": "stream",
     "text": [
      "1456.266249108371\n"
     ]
    }
   ],
   "source": [
    "trial_params = np.array([0.25, 0.1, 0.004, -0.004, -0.003, 0.0157, -0.0138, 0.108, 0.0, 0.25])\n",
    "print(neg_loglike(trial_params))"
   ]
  },
  {
   "cell_type": "code",
   "execution_count": 58,
   "metadata": {},
   "outputs": [
    {
     "name": "stdout",
     "output_type": "stream",
     "text": [
      "[  1768.67745796  44618.02814593 111641.54133364  88739.19989015\n",
      " 143478.93221752  26369.373887    10600.19537135   3514.11767471\n",
      "  -3498.67903534  -9820.0940818 ]\n"
     ]
    }
   ],
   "source": [
    "jacobian_ = jacobian(neg_loglike)\n",
    "\n",
    "print(jacobian_(trial_params))"
   ]
  },
  {
   "cell_type": "markdown",
   "metadata": {},
   "source": [
    "### Optimise the negative log likelihood \n",
    "\n",
    "We evaluate the log-likelihood using the maximise function from scikit-learn. This code is written with a little help from my firend ChatGPT - actually it generated the intial code - then I re-wrote 70% of it... \n",
    "\n",
    "*Note*: we need the likelihood to be the shifted log normal - which has an extra parameter (delta) compared to the log normal [see here](https://stats.stackexchange.com/questions/379980/understanding-the-shifted-log-normal-distribution). \n",
    "\n",
    "The shifted log-normal PDF at $x$ is: \n",
    "\n",
    "$$\n",
    "p(x|x>\\delta, \\delta, \\mu, \\sigma) = \n",
    "\\frac{1}{(x-\\delta)\\sigma \\sqrt{2 \\pi}} e^{-\\frac{1}{2 \\sigma^2}(ln(x- \\delta)-\\mu)^2}\n",
    "$$\n",
    "\n",
    "In the log-normal distribution, \n",
    "- $\\mu$ is the scale parameter - it stretches and compresses\n",
    "- $\\sigma$ is a shape parameter - it controls how skewed/heavy tailed the distribution is. \n",
    "- $\\delta$ is the shift parameter - here the shift is the linear equation: $\\delta = \\beta X$.\n",
    "\n",
    "Since, we are taking $y_i$ to represent the observed diagnoses, and $\\beta X$ to represent the expected a lower bound on the true prevalence rate the equation is: \n",
    "\n",
    "$$\n",
    "y_i=\\beta X_i - \\epsilon \n",
    "$$ \n",
    "\n",
    "Where $\\epsilon > 0$. Now, accordingly the probability is: \n",
    "\n",
    "$$\n",
    "p(y_i|y_i < \\beta X_i, \\beta, \\mu, \\sigma) = \n",
    "\\frac{1}{(\\beta X_i - y_i)\\sigma \\sqrt{2 \\pi}} e^{-\\frac{1}{2 \\sigma^2}(ln(\\beta X_i - y_i)-\\mu)^2}\n",
    "$$\n",
    "\n",
    "And hence, the likelihood is: \n",
    "\n",
    "$$\n",
    "L(\\delta, \\mu, \\sigma) = \\prod_{i=1}^n s(y_i | y_i < \\beta X, \\beta X, \\mu, \\sigma) \\\\\n",
    "\n",
    "= \\prod_{i=1}^n \\frac{1}{(\\beta X_i - y_i)\\sigma \\sqrt{2 \\pi}} e^{-\\frac{1}{2 \\sigma^2}(ln(\\beta X_i - y_i)-\\mu)^2}\n",
    "$$\n",
    "\n",
    "Let $ z_i = \\beta X_i -y_i $. Then we have a log likelihood of:\n",
    "\n",
    "$$\n",
    "= \\sum_{i=1}^n ln(\\frac{1}{z_i \\sigma \\sqrt{2 \\pi}} exp(- \\frac{(ln z_i - \\mu)^2}{2 \\sigma^2})) \\\\ \n",
    "= \\sum_{i=1}^n ln(\\frac{1}{z_i \\sigma \\sqrt{2 \\pi}} ) - \\frac{ln^2z_i -2\\mu ln z_i + \\mu^2}{2 \\sigma^2} \\\\\n",
    "= \\sum_{i=1}^n - ln(z_i \\sigma \\sqrt{2 \\pi}) - \\frac{1}{2 \\sigma^2}(ln^2z_i -2\\mu ln z_i + \\mu^2) \\\\\n",
    "= \\sum_{i=1}^n \\frac{1}{2 \\sigma^2}(2\\mu ln z_i - ln^2 z_i - \\mu^2) - ln(z_i \\sigma \\sqrt{2 \\pi})\n",
    "$$\n"
   ]
  },
  {
   "cell_type": "code",
   "execution_count": 40,
   "metadata": {},
   "outputs": [
    {
     "name": "stderr",
     "output_type": "stream",
     "text": [
      "/var/folders/4n/x6w1yfcx01qbymrsfpz4ybq00000gn/T/ipykernel_65731/1017857730.py:13: RuntimeWarning: divide by zero encountered in scalar divide\n",
      "  norm_const = 1 / ((x_shift) * sigma * np.sqrt(2 * np.pi))\n",
      "/Users/bea/miniconda3/envs/adu_env_dementia_ineq/lib/python3.10/site-packages/autograd/tracer.py:48: RuntimeWarning: divide by zero encountered in log\n",
      "  return f_raw(*args, **kwargs)\n",
      "/var/folders/4n/x6w1yfcx01qbymrsfpz4ybq00000gn/T/ipykernel_65731/1017857730.py:16: RuntimeWarning: invalid value encountered in scalar multiply\n",
      "  pdf.append(norm_const.squeeze() * exp_part.squeeze())\n"
     ]
    },
    {
     "data": {
      "image/png": "[encoded data removed]",
      "text/plain": [
       "<Figure size 640x480 with 1 Axes>"
      ]
     },
     "metadata": {},
     "output_type": "display_data"
    }
   ],
   "source": [
    "# Parameters for log-normal distribution\n",
    "mu_0 = 0  # Mean\n",
    "sigma_0 = 1\n",
    "shift = 5 # Shift \n",
    "\n",
    "x_axis = np.arange(0, 10, 0.01)\n",
    "shift = shift * np.ones(len(x_axis))\n",
    "\n",
    "pdf_x_mu0 = reverse_shift_log_normal_pdf(x_axis, shift, mu_0, sigma_0)\n",
    "\n",
    "# Plot the log-normal probability density function (PDF)\n",
    "xmin, xmax = plt.xlim()\n",
    "plt.plot(x_axis, pdf_x_mu0, '-', linewidth=2, color='mediumseagreen', label='$\\sigma=1$')\n",
    "#plt.text(6, 0.42, '$\\sigma=1$', color='mediumseagreen')\n",
    "#plt.plot(x, pdf_x_mu1, '-', linewidth=2, color='slateblue', label='$\\sigma=0.25$')\n",
    "#plt.text(7, 0.15, '$\\sigma=0.25$', color='slateblue')\n",
    "\n",
    "plt.title('(Shifted) Log-Normal Distribution ')\n",
    "plt.legend(loc='upper right')\n",
    "plt.xlabel('X')\n",
    "plt.ylabel('Probability Density')\n",
    "plt.grid(True)\n",
    "plt.show()"
   ]
  },
  {
   "cell_type": "code",
   "execution_count": 41,
   "metadata": {},
   "outputs": [],
   "source": [
    "# n_features = 7\n",
    "\n",
    "# np.random.seed(27)\n",
    "# x0 = np.concatenate([np.random.normal(size=n_features+1), [0, 0.25]]) \n",
    "\n",
    "params_0 = np.array([0.25, 0.1, 0.004, -0.004, -0.003, 0.0157, -0.0138, 0.108, 0.1, 0.25])"
   ]
  },
  {
   "cell_type": "code",
   "execution_count": 42,
   "metadata": {},
   "outputs": [
    {
     "name": "stderr",
     "output_type": "stream",
     "text": [
      "/Users/bea/miniconda3/envs/adu_env_dementia_ineq/lib/python3.10/site-packages/scipy/optimize/_numdiff.py:590: RuntimeWarning: invalid value encountered in subtract\n",
      "  df = fun(x) - f0\n",
      "/Users/bea/miniconda3/envs/adu_env_dementia_ineq/lib/python3.10/site-packages/autograd/tracer.py:48: RuntimeWarning: divide by zero encountered in log\n",
      "  return f_raw(*args, **kwargs)\n",
      "/Users/bea/miniconda3/envs/adu_env_dementia_ineq/lib/python3.10/site-packages/autograd/tracer.py:48: RuntimeWarning: divide by zero encountered in log\n",
      "  return f_raw(*args, **kwargs)\n",
      "/Users/bea/miniconda3/envs/adu_env_dementia_ineq/lib/python3.10/site-packages/scipy/optimize/_numdiff.py:590: RuntimeWarning: invalid value encountered in subtract\n",
      "  df = fun(x) - f0\n",
      "/Users/bea/miniconda3/envs/adu_env_dementia_ineq/lib/python3.10/site-packages/autograd/tracer.py:48: RuntimeWarning: divide by zero encountered in log\n",
      "  return f_raw(*args, **kwargs)\n",
      "/Users/bea/miniconda3/envs/adu_env_dementia_ineq/lib/python3.10/site-packages/scipy/optimize/_numdiff.py:590: RuntimeWarning: invalid value encountered in subtract\n",
      "  df = fun(x) - f0\n",
      "/Users/bea/miniconda3/envs/adu_env_dementia_ineq/lib/python3.10/site-packages/autograd/tracer.py:48: RuntimeWarning: divide by zero encountered in log\n",
      "  return f_raw(*args, **kwargs)\n",
      "/Users/bea/miniconda3/envs/adu_env_dementia_ineq/lib/python3.10/site-packages/scipy/optimize/_numdiff.py:590: RuntimeWarning: invalid value encountered in subtract\n",
      "  df = fun(x) - f0\n"
     ]
    },
    {
     "name": "stderr",
     "output_type": "stream",
     "text": [
      "/Users/bea/miniconda3/envs/adu_env_dementia_ineq/lib/python3.10/site-packages/autograd/tracer.py:48: RuntimeWarning: divide by zero encountered in log\n",
      "  return f_raw(*args, **kwargs)\n",
      "/Users/bea/miniconda3/envs/adu_env_dementia_ineq/lib/python3.10/site-packages/scipy/optimize/_numdiff.py:590: RuntimeWarning: invalid value encountered in subtract\n",
      "  df = fun(x) - f0\n"
     ]
    },
    {
     "data": {
      "text/plain": [
       "  message: Desired error not necessarily achieved due to precision loss.\n",
       "  success: False\n",
       "   status: 2\n",
       "      fun: -298.2355404837039\n",
       "        x: [ 1.273e+01  1.479e-02 -7.729e-04 -3.468e-04 -4.286e-04\n",
       "             2.006e-02 -2.567e-02  1.304e-01  2.534e+00  7.310e-03]\n",
       "      nit: 401\n",
       "      jac: [ 6.130e-03  6.122e-01  1.620e+00  1.279e+00  2.077e+00\n",
       "             3.240e-01  1.404e-01  4.014e-02 -3.960e-01 -5.729e-02]\n",
       " hess_inv: [[ 2.352e-04  1.614e-05 ... -1.183e-05  1.122e-06]\n",
       "            [ 1.614e-05  3.208e-06 ... -6.845e-07  8.137e-08]\n",
       "            ...\n",
       "            [-1.183e-05 -6.845e-07 ...  7.983e-07 -5.889e-08]\n",
       "            [ 1.122e-06  8.137e-08 ... -5.889e-08  6.379e-08]]\n",
       "     nfev: 6577\n",
       "     njev: 596"
      ]
     },
     "execution_count": 42,
     "metadata": {},
     "output_type": "execute_result"
    }
   ],
   "source": [
    "# Gradient of the function\n",
    "#grad_loglike = grad(neg_loglike)\n",
    "\n",
    "# Initial guess\n",
    "\n",
    "# Use scipy's minimize function with the BFGS algorithm\n",
    "result = minimize(neg_loglike, params_0, method = 'BFGS')\n",
    "\n",
    "result"
   ]
  },
  {
   "cell_type": "code",
   "execution_count": 43,
   "metadata": {},
   "outputs": [
    {
     "name": "stderr",
     "output_type": "stream",
     "text": [
      "/Users/bea/miniconda3/envs/adu_env_dementia_ineq/lib/python3.10/site-packages/autograd/tracer.py:48: RuntimeWarning: divide by zero encountered in log\n",
      "  return f_raw(*args, **kwargs)\n",
      "/Users/bea/miniconda3/envs/adu_env_dementia_ineq/lib/python3.10/site-packages/autograd/tracer.py:14: UserWarning: Output seems independent of input.\n",
      "  warnings.warn(\"Output seems independent of input.\")\n",
      "/Users/bea/miniconda3/envs/adu_env_dementia_ineq/lib/python3.10/site-packages/autograd/tracer.py:48: RuntimeWarning: divide by zero encountered in log\n",
      "  return f_raw(*args, **kwargs)\n",
      "/Users/bea/miniconda3/envs/adu_env_dementia_ineq/lib/python3.10/site-packages/autograd/tracer.py:48: RuntimeWarning: divide by zero encountered in log\n",
      "  return f_raw(*args, **kwargs)\n",
      "/Users/bea/miniconda3/envs/adu_env_dementia_ineq/lib/python3.10/site-packages/autograd/tracer.py:48: RuntimeWarning: divide by zero encountered in log\n",
      "  return f_raw(*args, **kwargs)\n",
      "/Users/bea/miniconda3/envs/adu_env_dementia_ineq/lib/python3.10/site-packages/autograd/tracer.py:48: RuntimeWarning: divide by zero encountered in log\n",
      "  return f_raw(*args, **kwargs)\n",
      "/Users/bea/miniconda3/envs/adu_env_dementia_ineq/lib/python3.10/site-packages/autograd/tracer.py:48: RuntimeWarning: divide by zero encountered in log\n",
      "  return f_raw(*args, **kwargs)\n"
     ]
    },
    {
     "name": "stdout",
     "output_type": "stream",
     "text": [
      "         Current function value: -298.611695\n",
      "         Iterations: 2000\n",
      "         Function evaluations: 2556\n",
      "         Gradient evaluations: 2547\n"
     ]
    },
    {
     "name": "stderr",
     "output_type": "stream",
     "text": [
      "/Users/bea/miniconda3/envs/adu_env_dementia_ineq/lib/python3.10/site-packages/scipy/optimize/_minimize.py:708: OptimizeWarning: Maximum number of iterations has been exceeded.\n",
      "  res = _minimize_bfgs(fun, x0, args, jac, callback, **options)\n"
     ]
    },
    {
     "data": {
      "text/plain": [
       "  message: Maximum number of iterations has been exceeded.\n",
       "  success: False\n",
       "   status: 1\n",
       "      fun: -298.61169456193755\n",
       "        x: [ 7.331e+01  1.474e-02 -7.515e-04 -3.408e-04 -4.242e-04\n",
       "             2.005e-02 -2.552e-02  1.303e-01  4.293e+00  1.258e-03]\n",
       "      nit: 2000\n",
       "      jac: [-5.467e-01 -1.332e+01 -3.442e+01 -2.778e+01 -4.291e+01\n",
       "            -7.960e+00 -3.241e+00 -1.052e+00  3.994e+01 -8.257e-02]\n",
       " hess_inv: [[ 1.213e+02  1.222e-04 ...  1.658e+00 -2.087e-03]\n",
       "            [ 1.222e-04  8.435e-06 ... -2.012e-07  1.315e-10]\n",
       "            ...\n",
       "            [ 1.658e+00 -2.012e-07 ...  2.266e-02 -2.852e-05]\n",
       "            [-2.087e-03  1.315e-10 ... -2.852e-05  3.837e-08]]\n",
       "     nfev: 2556\n",
       "     njev: 2547"
      ]
     },
     "execution_count": 43,
     "metadata": {},
     "output_type": "execute_result"
    }
   ],
   "source": [
    "# derivates of neg_loglike\n",
    "jacobian_  = jacobian(neg_loglike)\n",
    "\n",
    "#result = minimize(neg_loglike, params_0, method = 'BFGS', \\\n",
    "#               options={'disp': False}, jac = jacobian_)\n",
    "\n",
    "\n",
    "result = minimize(neg_loglike, params_0, method='BFGS', jac = jacobian_, options={'gtol': 1e-6, 'disp':True})\n",
    "result"
   ]
  },
  {
   "cell_type": "code",
   "execution_count": 44,
   "metadata": {},
   "outputs": [
    {
     "name": "stdout",
     "output_type": "stream",
     "text": [
      "MLE estimates \n",
      "--------------\n",
      "--------------\n",
      "Intercept:73.31040660047536\n",
      "--------------\n",
      "Regression coefficients\n",
      "--------------\n",
      "over_65_pc:0.014741074756822369\n",
      "female_pc:-0.0007514953561307034\n",
      "ALevel_plus_pc:-0.00034080692297835995\n",
      "white_pc:-0.00042424406201616927\n",
      "HYP_afflicted_pc:0.020052723797070165\n",
      "DM_afflicted_pc:-0.025519650423937536\n",
      "STIA_afflicted_pc:0.13025776353682317\n",
      "--------------\n",
      "Log normal coefficients\n",
      "--------------\n",
      "Mu: 4.293103835601994\n",
      "Sigma: 0.0012577596188672224\n"
     ]
    }
   ],
   "source": [
    "# Extract the MLE from the parameter samples\n",
    "MLE_params = result.x\n",
    "\n",
    "MLE_intercept = MLE_params[0]\n",
    "MLE_beta = MLE_params[1:-2]\n",
    "MLE_mu = MLE_params[-2]\n",
    "MLE_sigma = MLE_params[-1]\n",
    "\n",
    "print(\"MLE estimates \\n--------------\\n--------------\")\n",
    "print(f'Intercept:{MLE_intercept}')\n",
    "print(\"--------------\\nRegression coefficients\\n--------------\")\n",
    "for i, var in enumerate(covar):\n",
    "    print(f'{var}:{MLE_beta[i]}')\n",
    "print(\"--------------\\nLog normal coefficients\\n--------------\")\n",
    "print(\"Mu:\", MLE_mu)\n",
    "print(\"Sigma:\", MLE_sigma)"
   ]
  },
  {
   "cell_type": "code",
   "execution_count": 45,
   "metadata": {},
   "outputs": [
    {
     "name": "stderr",
     "output_type": "stream",
     "text": [
      "/Users/bea/miniconda3/envs/adu_env_dementia_ineq/lib/python3.10/site-packages/autograd/tracer.py:48: RuntimeWarning: invalid value encountered in log\n",
      "  return f_raw(*args, **kwargs)\n"
     ]
    },
    {
     "data": {
      "image/png": "[encoded data removed]",
      "text/plain": [
       "<Figure size 640x480 with 1 Axes>"
      ]
     },
     "metadata": {},
     "output_type": "display_data"
    }
   ],
   "source": [
    "# mode of the log normal \n",
    "mode = log_norm_mode(MLE_mu, MLE_sigma)\n",
    "\n",
    "# plot log normal of MLE parameters \n",
    "x_axis = np.arange(-10, 5, 0.01)\n",
    "pdf_x_mu0 = reverse_shift_log_normal_pdf(x_axis, np.zeros(len(x_axis)), MLE_mu, MLE_sigma)\n",
    "\n",
    "# Plot the log-normal probability density function (PDF)\n",
    "xmin, xmax = plt.xlim()\n",
    "plt.plot(x_axis, pdf_x_mu0, '-', linewidth=2, color='mediumseagreen')\n",
    "plt.text(2.1, 0.32, f'$\\sigma=${MLE_sigma}', color='mediumseagreen')\n",
    "plt.text(2.1, 0.42, f'$\\mu=${MLE_mu}', color='mediumseagreen')\n",
    "#plt.text(7, 0.15, '$\\sigma=0.25$', color='slateblue')\n",
    "\n",
    "ymin, ymax = plt.ylim()\n",
    "plt.vlines(-mode, ymin, ymax, color='slateblue', label='Log normal mode', linestyles='dotted')\n",
    "plt.text(mode+0.5, 3*ymax/4, f'Mode={np.round(-mode,2)}', color='slateblue')\n",
    "\n",
    "plt.title('(Shifted) Log-Normal Distribution ')\n",
    "plt.xlabel('X')\n",
    "plt.ylabel('Probability Density')\n",
    "plt.grid(True)\n",
    "plt.show()"
   ]
  },
  {
   "cell_type": "code",
   "execution_count": 46,
   "metadata": {},
   "outputs": [],
   "source": [
    "y_pred = np.dot(x, MLE_beta.T) + MLE_intercept\n",
    "diagnosis_gap = y_pred.squeeze() - y.squeeze()\n",
    "\n",
    "# update the dataframe \n",
    "df_dem_plus['diagnosis_gap']=diagnosis_gap"
   ]
  },
  {
   "cell_type": "code",
   "execution_count": 47,
   "metadata": {},
   "outputs": [
    {
     "data": {
      "text/plain": [
       "array([74.32358184, 73.79066437, 73.96658203, 73.97610306, 74.09421044,\n",
       "       73.76938532, 73.92768   , 74.02315298, 74.10860519, 73.87413086,\n",
       "       73.96688012, 73.96733664, 73.93194774, 74.25246756, 73.97284082,\n",
       "       74.05695247, 74.15395642, 73.92571045, 73.93771248, 74.04953883,\n",
       "       73.67653803, 73.5808658 , 73.96318886, 74.05091628, 74.18373137,\n",
       "       74.07729638, 73.87075193, 74.174217  , 74.12916697, 74.31477114,\n",
       "       73.97023628, 74.22451184, 73.62140518, 74.14625458, 73.77848139,\n",
       "       74.28221852, 74.03002237, 73.83221275, 74.23114245, 73.84427792,\n",
       "       74.23660025, 73.5682898 , 73.69847718, 73.83704703, 73.96913866,\n",
       "       73.94030403, 73.8380402 , 74.08395722, 73.62012456, 74.05995838,\n",
       "       74.0773741 , 73.6704677 , 73.82742523, 73.8476527 , 73.94549257,\n",
       "       74.05784778, 74.29594088, 73.86536071, 73.67337201, 74.16659402,\n",
       "       73.89203139, 74.11048783, 73.42025623, 74.16286799, 73.90052853,\n",
       "       73.81796271, 74.0706312 , 73.86436061, 73.92708357, 73.8288353 ,\n",
       "       73.84218774, 74.18893762, 74.04572994, 73.64314999, 74.27491512,\n",
       "       73.94480498, 73.85073054, 74.06934646, 73.85041228, 74.13969365,\n",
       "       73.89159137, 73.97081582, 73.71707407, 74.02789741, 73.63019443,\n",
       "       73.92231221, 74.02396626, 73.98999157, 74.19437311, 74.01119711,\n",
       "       73.72034725, 73.94374832, 73.84937975, 73.98293028, 74.10485955,\n",
       "       73.90082892, 74.05765253, 74.04362927, 73.89809297, 74.27273484,\n",
       "       73.95911507, 73.64596787, 73.88748768, 73.92720211, 74.00953168,\n",
       "       74.26239515, 73.77092647, 74.2053428 , 73.88960929, 73.8472179 ,\n",
       "       74.03109068, 74.1905049 , 73.88747532, 73.5343748 , 73.75035799,\n",
       "       74.10257955, 73.99572556, 73.92210976, 73.83763719, 74.10805048,\n",
       "       73.98599747, 73.75229026, 74.19147327, 73.94854995, 74.0601094 ,\n",
       "       74.07367379, 73.76137981, 73.94639532, 74.0439761 , 73.92393648,\n",
       "       74.0784259 , 74.126413  , 73.66294859, 73.74512774, 74.24050063,\n",
       "       74.10109176, 74.0372336 , 73.84851625, 73.963096  , 73.86136684,\n",
       "       74.09484567, 73.85171502, 74.00984648, 74.13553119, 74.12352227,\n",
       "       73.9665388 , 74.08639652, 73.80424459, 74.22980222, 74.19151405,\n",
       "       74.10416485, 74.07127878, 73.96334957, 74.3730995 , 73.96989843,\n",
       "       74.00629083, 74.06895442, 73.87575764, 73.87786438, 73.98848066,\n",
       "       73.61587386, 74.01874512, 74.19131186, 73.70956266, 74.12522925,\n",
       "       73.92460034, 73.7133739 , 73.60354113, 73.8781979 , 73.77302303,\n",
       "       74.16133472, 74.16031055, 73.90408787, 74.12575425, 73.96731443,\n",
       "       74.15930725, 73.98601408, 74.07157549, 73.76043766, 74.07995448,\n",
       "       74.08191632, 73.94045062, 74.12272253, 74.01251886, 73.99637537,\n",
       "       74.09315384, 73.92266957, 73.99906546, 73.83897189, 74.04182542,\n",
       "       73.98421444, 73.83879598, 74.16608083, 74.06112813, 73.83408415,\n",
       "       73.83536836, 74.07924156, 73.80742501, 73.95987198, 73.70336082,\n",
       "       74.10661535, 73.67838472, 73.77376482, 73.67637524, 73.94919118,\n",
       "       73.77532681, 73.86756559, 73.63207007, 73.78306251, 74.00712735,\n",
       "       74.11541909, 73.87676913, 73.88406858, 74.19059197, 73.66307507,\n",
       "       74.34707746, 73.94541816, 73.96716949, 73.87191178, 74.23028675,\n",
       "       73.57398875, 74.18582067, 73.95282702, 73.56642268, 73.91485987,\n",
       "       73.76793462, 74.03423877, 74.1378078 , 74.27313246, 74.06804668,\n",
       "       74.00743546, 74.17771483, 74.08929038, 74.19068814, 73.81659645,\n",
       "       73.89028055, 74.26681853, 73.94321494, 73.99884066, 74.13163644,\n",
       "       74.00952847, 74.20572124, 74.04782003, 74.0583363 , 74.02628761,\n",
       "       73.65706778, 73.71269175, 73.967287  , 73.81198082, 73.89220187,\n",
       "       73.93785612, 74.40446977, 73.87363888, 73.91304277, 74.0799818 ,\n",
       "       74.12633208, 73.92764561, 73.89065944, 74.13798093, 74.07577229,\n",
       "       74.12664331, 74.0302636 , 74.03189932, 73.9529843 , 74.02867078,\n",
       "       74.04661274, 73.97632464, 73.96876121, 73.91208332, 73.81487178,\n",
       "       73.78471196, 74.20350088, 74.02627363, 73.86035585, 74.08624949,\n",
       "       74.03382276, 74.04652156, 73.96396226, 74.10269615, 73.96522013,\n",
       "       74.10196826, 73.92647556, 73.8211712 , 73.61873555, 73.49023019,\n",
       "       73.92742042, 74.2846152 , 73.60823332, 73.90227749, 73.78726256,\n",
       "       73.65105099, 73.62818774, 73.99162943, 73.87985235, 73.98479079,\n",
       "       73.89352   , 74.00978525, 74.26513101, 73.98408258, 73.80827521,\n",
       "       74.01813669, 73.96186657, 73.56958804, 73.91016046, 73.88736001,\n",
       "       74.05728249, 74.02745063, 74.07929735, 73.91546067])"
      ]
     },
     "execution_count": 47,
     "metadata": {},
     "output_type": "execute_result"
    }
   ],
   "source": [
    "y_pred"
   ]
  },
  {
   "cell_type": "code",
   "execution_count": 48,
   "metadata": {},
   "outputs": [
    {
     "data": {
      "text/html": [
       "<div>\n",
       "<style scoped>\n",
       "    .dataframe tbody tr th:only-of-type {\n",
       "        vertical-align: middle;\n",
       "    }\n",
       "\n",
       "    .dataframe tbody tr th {\n",
       "        vertical-align: top;\n",
       "    }\n",
       "\n",
       "    .dataframe thead th {\n",
       "        text-align: right;\n",
       "    }\n",
       "</style>\n",
       "<table border=\"1\" class=\"dataframe\">\n",
       "  <thead>\n",
       "    <tr style=\"text-align: right;\">\n",
       "      <th></th>\n",
       "      <th>area_name</th>\n",
       "      <th>diagnosis_gap</th>\n",
       "    </tr>\n",
       "  </thead>\n",
       "  <tbody>\n",
       "    <tr>\n",
       "      <th>107</th>\n",
       "      <td>Cornwall</td>\n",
       "      <td>73.360257</td>\n",
       "    </tr>\n",
       "    <tr>\n",
       "      <th>60</th>\n",
       "      <td>Worcester</td>\n",
       "      <td>73.362231</td>\n",
       "    </tr>\n",
       "    <tr>\n",
       "      <th>79</th>\n",
       "      <td>Wychavon</td>\n",
       "      <td>73.363167</td>\n",
       "    </tr>\n",
       "    <tr>\n",
       "      <th>286</th>\n",
       "      <td>Torridge</td>\n",
       "      <td>73.363814</td>\n",
       "    </tr>\n",
       "    <tr>\n",
       "      <th>134</th>\n",
       "      <td>Scarborough</td>\n",
       "      <td>73.364718</td>\n",
       "    </tr>\n",
       "    <tr>\n",
       "      <th>294</th>\n",
       "      <td>Nuneaton and Bedworth</td>\n",
       "      <td>73.367733</td>\n",
       "    </tr>\n",
       "    <tr>\n",
       "      <th>75</th>\n",
       "      <td>Redditch</td>\n",
       "      <td>73.379476</td>\n",
       "    </tr>\n",
       "    <tr>\n",
       "      <th>283</th>\n",
       "      <td>City of London</td>\n",
       "      <td>73.403249</td>\n",
       "    </tr>\n",
       "    <tr>\n",
       "      <th>40</th>\n",
       "      <td>South Hams</td>\n",
       "      <td>73.429785</td>\n",
       "    </tr>\n",
       "    <tr>\n",
       "      <th>271</th>\n",
       "      <td>Eden</td>\n",
       "      <td>73.435635</td>\n",
       "    </tr>\n",
       "  </tbody>\n",
       "</table>\n",
       "</div>"
      ],
      "text/plain": [
       "                 area_name  diagnosis_gap\n",
       "107               Cornwall      73.360257\n",
       "60               Worcester      73.362231\n",
       "79                Wychavon      73.363167\n",
       "286               Torridge      73.363814\n",
       "134            Scarborough      73.364718\n",
       "294  Nuneaton and Bedworth      73.367733\n",
       "75                Redditch      73.379476\n",
       "283         City of London      73.403249\n",
       "40              South Hams      73.429785\n",
       "271                   Eden      73.435635"
      ]
     },
     "execution_count": 48,
     "metadata": {},
     "output_type": "execute_result"
    }
   ],
   "source": [
    "most_bad_lads = np.argsort(diagnosis_gap)[-10:]\n",
    "df_dem_plus.iloc[most_bad_lads, :][['area_name', 'diagnosis_gap']]"
   ]
  },
  {
   "cell_type": "code",
   "execution_count": 49,
   "metadata": {},
   "outputs": [
    {
     "data": {
      "text/html": [
       "<div>\n",
       "<style scoped>\n",
       "    .dataframe tbody tr th:only-of-type {\n",
       "        vertical-align: middle;\n",
       "    }\n",
       "\n",
       "    .dataframe tbody tr th {\n",
       "        vertical-align: top;\n",
       "    }\n",
       "\n",
       "    .dataframe thead th {\n",
       "        text-align: right;\n",
       "    }\n",
       "</style>\n",
       "<table border=\"1\" class=\"dataframe\">\n",
       "  <thead>\n",
       "    <tr style=\"text-align: right;\">\n",
       "      <th></th>\n",
       "      <th>area_name</th>\n",
       "      <th>diagnosis_gap</th>\n",
       "    </tr>\n",
       "  </thead>\n",
       "  <tbody>\n",
       "    <tr>\n",
       "      <th>77</th>\n",
       "      <td>Rochford</td>\n",
       "      <td>72.849432</td>\n",
       "    </tr>\n",
       "    <tr>\n",
       "      <th>29</th>\n",
       "      <td>East Devon</td>\n",
       "      <td>72.932403</td>\n",
       "    </tr>\n",
       "    <tr>\n",
       "      <th>123</th>\n",
       "      <td>Surrey Heath</td>\n",
       "      <td>72.940172</td>\n",
       "    </tr>\n",
       "    <tr>\n",
       "      <th>196</th>\n",
       "      <td>East Hampshire</td>\n",
       "      <td>72.944682</td>\n",
       "    </tr>\n",
       "    <tr>\n",
       "      <th>63</th>\n",
       "      <td>Eastbourne</td>\n",
       "      <td>72.953862</td>\n",
       "    </tr>\n",
       "    <tr>\n",
       "      <th>225</th>\n",
       "      <td>Southampton</td>\n",
       "      <td>72.959516</td>\n",
       "    </tr>\n",
       "    <tr>\n",
       "      <th>10</th>\n",
       "      <td>Southend-on-Sea</td>\n",
       "      <td>72.973014</td>\n",
       "    </tr>\n",
       "    <tr>\n",
       "      <th>3</th>\n",
       "      <td>Lancaster</td>\n",
       "      <td>72.979157</td>\n",
       "    </tr>\n",
       "    <tr>\n",
       "      <th>99</th>\n",
       "      <td>Tendring</td>\n",
       "      <td>72.989706</td>\n",
       "    </tr>\n",
       "    <tr>\n",
       "      <th>138</th>\n",
       "      <td>Ashfield</td>\n",
       "      <td>72.991756</td>\n",
       "    </tr>\n",
       "  </tbody>\n",
       "</table>\n",
       "</div>"
      ],
      "text/plain": [
       "           area_name  diagnosis_gap\n",
       "77          Rochford      72.849432\n",
       "29        East Devon      72.932403\n",
       "123     Surrey Heath      72.940172\n",
       "196   East Hampshire      72.944682\n",
       "63        Eastbourne      72.953862\n",
       "225      Southampton      72.959516\n",
       "10   Southend-on-Sea      72.973014\n",
       "3          Lancaster      72.979157\n",
       "99          Tendring      72.989706\n",
       "138         Ashfield      72.991756"
      ]
     },
     "execution_count": 49,
     "metadata": {},
     "output_type": "execute_result"
    }
   ],
   "source": [
    "least_bad_lads = np.argsort(diagnosis_gap)[:10]\n",
    "df_dem_plus.iloc[least_bad_lads, :][['area_name', 'diagnosis_gap']]"
   ]
  },
  {
   "cell_type": "markdown",
   "metadata": {},
   "source": [
    "## Evaluating the Fisher information at the MLE "
   ]
  },
  {
   "cell_type": "code",
   "execution_count": 50,
   "metadata": {},
   "outputs": [
    {
     "name": "stdout",
     "output_type": "stream",
     "text": [
      "[[ 3.64605236e+04  8.88299806e+05  2.29563680e+06  1.85252930e+06\n",
      "   2.86199798e+06  5.30875360e+05  2.16152187e+05  7.01386037e+04\n",
      "  -2.66865425e+06  7.58232669e+03]\n",
      " [ 8.88299806e+05  2.28414583e+07  5.58195067e+07  4.45040926e+07\n",
      "   7.29836466e+07  1.33896164e+07  5.33193734e+06  1.80212995e+06\n",
      "  -6.50172964e+07  1.84730541e+05]\n",
      " [ 2.29563680e+06  5.58195067e+07  1.44922191e+08  1.16677226e+08\n",
      "   1.79628312e+08  3.33890996e+07  1.36274007e+07  4.40017189e+06\n",
      "  -1.68024494e+08  4.77400378e+05]\n",
      " [ 1.85252930e+06  4.45040926e+07  1.16677226e+08  9.63427059e+07\n",
      "   1.43155159e+08  2.65251831e+07  1.07765777e+07  3.49326928e+06\n",
      "  -1.35592137e+08  3.85251899e+05]\n",
      " [ 2.86199798e+06  7.29836466e+07  1.79628312e+08  1.43155159e+08\n",
      "   2.37536507e+08  4.29741318e+07  1.70755836e+07  5.78476143e+06\n",
      "  -2.09478122e+08  5.95180673e+05]\n",
      " [ 5.30875360e+05  1.33896164e+07  3.33890996e+07  2.65251831e+07\n",
      "   4.29741318e+07  7.95469644e+06  3.20121864e+06  1.06127031e+06\n",
      "  -3.88563444e+07  1.10400619e+05]\n",
      " [ 2.16152187e+05  5.33193734e+06  1.36274007e+07  1.07765777e+07\n",
      "   1.70755836e+07  3.20121864e+06  1.31436204e+06  4.23501833e+05\n",
      "  -1.58208221e+07  4.49509254e+04]\n",
      " [ 7.01386037e+04  1.80212995e+06  4.40017189e+06  3.49326928e+06\n",
      "   5.78476143e+06  1.06127031e+06  4.23501833e+05  1.43811450e+05\n",
      "  -5.13365237e+06  1.45859880e+04]\n",
      " [-2.66865425e+06 -6.50172964e+07 -1.68024494e+08 -1.35592137e+08\n",
      "  -2.09478122e+08 -3.88563444e+07 -1.58208221e+07 -5.13365237e+06\n",
      "   1.95327407e+08 -6.35036092e+04]\n",
      " [ 7.58232669e+03  1.84730541e+05  4.77400377e+05  3.85251899e+05\n",
      "   5.95180673e+05  1.10400619e+05  4.49509254e+04  1.45859880e+04\n",
      "  -6.35036139e+04  3.90655011e+08]]\n"
     ]
    }
   ],
   "source": [
    "hessian_ = hessian(neg_loglike)\n",
    "\n",
    "print(hessian_(MLE_params))"
   ]
  },
  {
   "cell_type": "code",
   "execution_count": 51,
   "metadata": {},
   "outputs": [],
   "source": [
    "def is_neg_def(x):\n",
    "    return np.all(np.linalg.eigvals(x) <= 0)"
   ]
  },
  {
   "cell_type": "code",
   "execution_count": 52,
   "metadata": {},
   "outputs": [
    {
     "data": {
      "text/plain": [
       "array([6.93606993e+08, 3.90653428e+08, 1.08325879e+07, 1.38332959e+06,\n",
       "       3.81744020e+05, 1.82230053e+05, 2.81496316e+04, 5.24547973e+03,\n",
       "       7.48059162e-03, 9.03385549e+02])"
      ]
     },
     "execution_count": 52,
     "metadata": {},
     "output_type": "execute_result"
    }
   ],
   "source": [
    "np.linalg.eigvals(hessian_(MLE_params))"
   ]
  },
  {
   "cell_type": "code",
   "execution_count": 53,
   "metadata": {},
   "outputs": [
    {
     "data": {
      "text/plain": [
       "False"
      ]
     },
     "execution_count": 53,
     "metadata": {},
     "output_type": "execute_result"
    }
   ],
   "source": [
    "is_neg_def(hessian_(MLE_params))"
   ]
  }
 ],
 "metadata": {
  "kernelspec": {
   "display_name": "adu_env_dementia_ineq",
   "language": "python",
   "name": "python3"
  },
  "language_info": {
   "codemirror_mode": {
    "name": "ipython",
    "version": 3
   },
   "file_extension": ".py",
   "mimetype": "text/x-python",
   "name": "python",
   "nbconvert_exporter": "python",
   "pygments_lexer": "ipython3",
   "version": "3.10.13"
  }
 },
 "nbformat": 4,
 "nbformat_minor": 2
}
