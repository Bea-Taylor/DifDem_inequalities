{
 "cells": [
  {
   "cell_type": "markdown",
   "metadata": {},
   "source": [
    "# Regional dementia inequalities and underdiagnosis \n",
    "\n",
    "> This project investigates Dementia diagnosis and prevalence in relation to deprivation."
   ]
  },
  {
   "cell_type": "code",
   "execution_count": 4,
   "metadata": {},
   "outputs": [
    {
     "name": "stderr",
     "output_type": "stream",
     "text": [
      "/Users/bea/miniconda3/envs/adu_env_dementia_ineq/lib/python3.10/site-packages/nbdev/export.py:73: UserWarning: Notebook '/Users/bea/adu_dev/dementia_inequalities/nbs/core/03a_explore_datasets.ipynb' uses `#|export` without `#|default_exp` cell.\n",
      "Note nbdev2 no longer supports nbdev1 syntax. Run `nbdev_migrate` to upgrade.\n",
      "See https://nbdev.fast.ai/getting_started.html for more information.\n",
      "  warn(f\"Notebook '{nbname}' uses `#|export` without `#|default_exp` cell.\\n\"\n"
     ]
    }
   ],
   "source": [
    "#|hide\n",
    "import nbdev; nbdev.nbdev_export()"
   ]
  },
  {
   "cell_type": "code",
   "execution_count": 5,
   "metadata": {},
   "outputs": [],
   "source": [
    "#|hide\n",
    "from nbdev.showdoc import show_doc"
   ]
  },
  {
   "cell_type": "code",
   "execution_count": 6,
   "metadata": {},
   "outputs": [],
   "source": [
    "#|hide\n",
    "import dementia_inequalities as proj\n",
    "from dementia_inequalities import const, log, utils, tools\n",
    "import adu_proj.utils as adutils"
   ]
  },
  {
   "cell_type": "markdown",
   "metadata": {},
   "source": [
    "This project explored whether we could use publicly available datasets, and some statistical models to investigate how the rate of dementia diagnosis varies across different local authority districts (LADs) in England, specifically in relation to deprivation. "
   ]
  },
  {
   "cell_type": "markdown",
   "metadata": {},
   "source": [
    "## Context\n",
    "\n",
    "It has been reported that deprivation levels affect\n",
    "diagnosis, with [different rates of dementia diagnosis in different\n",
    "areas of the UK](https://dementiastatistics.org/about-dementia/maps/).\n",
    "Discussions about inequality in Dementia diagnosis and treatment are a\n",
    "current priority for both the Alzheimer’s Society and the [All-Party\n",
    "Parliamentary\n",
    "Groups](https://www.alzheimers.org.uk/about-us/policy-and-influencing/all-party-parliamentary-group-dementia).\n",
    "This work is inspired by the 2021 Alzheimer’s society report into\n",
    "[Regional variation: increasing access to a dementia\n",
    "diagnosis](https://www.alzheimers.org.uk/sites/default/files/2021-09/regional_variations_increasing_access_to_diagnosis.pdf)."
   ]
  },
  {
   "cell_type": "markdown",
   "metadata": {},
   "source": [
    "## Notebooks\n",
    "\n",
    "The notebooks in this project developed organically as datasets were explored and a variety of modelling approaches were developed. As a result some of the notebooks include content that wasn't eventually used. \n",
    "\n",
    "The most relevant notebooks, particularly in reference to the [blog]() are: \n",
    "\n",
    "* `02b_LAD_and_GP_intersections.ipynb` which calculates how the catchment areas for all the GP practices in the QOF overlap with local auhtority districts. \n",
    "* `02c_GP_doctors_per_LAD.ipynb` which imputes the missing data on number of GPs per practice, and calculates the GP contribution per LAD.\n",
    "* `02d_merge_LAD_QOF.ipynb` which merges and cleans the relevant datasets into one dataframe.\n",
    "* `03a_explore_datasets.ipynb` which does some initial analysis of the relationship between dependent and independent variables. \n",
    "* `04_regression_model.ipynb` which performs the standard multiple linear regression model. \n",
    "* `04b_regression_model_trained_IMD.ipynb` which performs the standard multiple linear regression model, using various subsets of the data for training. \n",
    "* `05c_optimise_function.ipynb` which defines the log normal (and half normal) error models, and uses scipy.minimize to find the maximum likelihood estimates of the parameters. \n",
    "* `06_comparison_across_measures.ipynb` which conducts analysis of the models, and generates lots of geoplots. "
   ]
  },
  {
   "cell_type": "markdown",
   "metadata": {},
   "source": [
    "## LAD data sources\n",
    "\n",
    "<table width=100%>\n",
    "    <thead>\n",
    "        <tr>\n",
    "            <th>Name</th> <th>Path</th> <th>Source</th>\n",
    "        </tr>\n",
    "    </thead>\n",
    "    <tbody>\n",
    "        <tr>\n",
    "            <td>Annual deprivation index</td>\n",
    "            <td>dementia_inequalities/store/data/ADI_data/ADI_health_2021.csv </td>\n",
    "            <td><a href=\"https://www.annualdeprivationindex.co.uk/\" target=\"_blank\">ADI</a></td>\n",
    "        </tr>\n",
    "        <tr>\n",
    "            <td>LAD mid-year population</td>\n",
    "            <td>dementia_inequalities/store/data/LAD_data/mid_21_age_pop.xlsx </td>\n",
    "            <td><a href=\"https://opendata.nhsbsa.net/dataset/english-prescribing-data-epd\" target=\"_blank\">ONS</a></td>\n",
    "        </tr>\n",
    "        <tr>\n",
    "            <td>LAD census education</td>\n",
    "            <td>dementia_inequalities/store/data/LAD_data/education_2021_census.xlsx</td>\n",
    "            <td><a href=\"https://opendata.nhsbsa.net/dataset/english-prescribing-data-epd\" target=\"_blank\">ONS</a></td>\n",
    "        </tr>\n",
    "        <tr>\n",
    "            <td>LAD census ethnicity</td>\n",
    "            <td>dementia_inequalities/store/data/LAD_data/ethnicity_2021_census.xlsx</td>\n",
    "            <td><a href=\"https://opendata.nhsbsa.net/dataset/english-prescribing-data-epd\" target=\"_blank\">ONS</a></td>\n",
    "        </tr>\n",
    "        <tr>\n",
    "            <td>LAD boundaries</td>\n",
    "            <td>dementia_inequalities/store/data/LAD_area/LAD_Dec_2021_GB_BFC_2022_-8975151699474964544.geojson</td>\n",
    "            <td><a href=\"https://opendata.nhsbsa.net/dataset/english-prescribing-data-epd\" target=\"_blank\">ONS</a></td>\n",
    "        </tr>\n",
    "        <tr>\n",
    "            <td>GP catchment boundaries</td>\n",
    "            <td>dementia_inequalities/store/data/Catchment Area></td>\n",
    "            <td><a href=\"https://opendata.nhsbsa.net/dataset/english-prescribing-data-epd\" target=\"_blank\">NHS BSA</a></td>\n",
    "        </tr>\n",
    "        <tr>\n",
    "            <td>GPs per practice</td>\n",
    "            <td>dementia_inequalities/store/data/GP_practices_dec_23/gp_Count.csv</td>\n",
    "            <td><a href=\"https://www.nhsbsa.nhs.uk/prescription-data/organisation-data/practice-list-size-and-gp-count-each-practice\" target=\"_blank\">NHS BSA</a></td>\n",
    "        </tr>\n",
    "    </tbody>\n",
    "</table>"
   ]
  },
  {
   "cell_type": "markdown",
   "metadata": {},
   "source": [
    "## How to use"
   ]
  },
  {
   "cell_type": "markdown",
   "metadata": {},
   "source": [
    "#### Execute core scripts\n",
    "\n",
    "```python\n",
    "dementia_inequalities.core.run_all()\n",
    "```"
   ]
  },
  {
   "cell_type": "markdown",
   "metadata": {},
   "source": [
    "#### Command-line interface\n",
    "\n",
    "*Note: You need to activate the conda environment first.*\n",
    "\n",
    "List of commands\n",
    "\n",
    "```bash\n",
    "python -m dementia_inequalities.cli\n",
    "```\n",
    "\n",
    "Execute commands\n",
    "\n",
    "```bash\n",
    "python -m dementia_inequalities.cli.core\n",
    "```\n",
    "\n",
    "```bash\n",
    "python -m dementia_inequalities.cli.foo 1 3\n",
    "```\n",
    "\n",
    "You can find the manual for each command using `-h`\n",
    "\n",
    "```bash\n",
    "python -m dementia_inequalities.cli.core -h\n",
    "```"
   ]
  }
 ],
 "metadata": {
  "kernelspec": {
   "display_name": "python3",
   "language": "python",
   "name": "python3"
  },
  "language_info": {
   "codemirror_mode": {
    "name": "ipython",
    "version": 3
   },
   "file_extension": ".py",
   "mimetype": "text/x-python",
   "name": "python",
   "nbconvert_exporter": "python",
   "pygments_lexer": "ipython3",
   "version": "3.10.13"
  }
 },
 "nbformat": 4,
 "nbformat_minor": 4
}
