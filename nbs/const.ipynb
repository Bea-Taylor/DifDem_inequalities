{
 "cells": [
  {
   "cell_type": "markdown",
   "metadata": {},
   "source": [
    "# const\n",
    "\n",
    "> Global constants and parameters"
   ]
  },
  {
   "cell_type": "code",
   "execution_count": 1,
   "metadata": {},
   "outputs": [],
   "source": [
    "#|default_exp const"
   ]
  },
  {
   "cell_type": "code",
   "execution_count": 2,
   "metadata": {},
   "outputs": [
    {
     "name": "stderr",
     "output_type": "stream",
     "text": [
      "/Users/bea/miniconda3/envs/adu_env_dementia_ineq/lib/python3.10/site-packages/nbdev/export.py:73: UserWarning: Notebook '/Users/bea/adu_dev/dementia_inequalities/nbs/core/03a_explore_datasets.ipynb' uses `#|export` without `#|default_exp` cell.\n",
      "Note nbdev2 no longer supports nbdev1 syntax. Run `nbdev_migrate` to upgrade.\n",
      "See https://nbdev.fast.ai/getting_started.html for more information.\n",
      "  warn(f\"Notebook '{nbname}' uses `#|export` without `#|default_exp` cell.\\n\"\n"
     ]
    }
   ],
   "source": [
    "#|hide\n",
    "import nbdev; nbdev.nbdev_export()"
   ]
  },
  {
   "cell_type": "code",
   "execution_count": 3,
   "metadata": {},
   "outputs": [],
   "source": [
    "#|hide\n",
    "from nbdev.showdoc import show_doc"
   ]
  },
  {
   "cell_type": "code",
   "execution_count": 4,
   "metadata": {},
   "outputs": [],
   "source": [
    "#|export\n",
    "from pathlib import Path\n",
    "import dementia_inequalities as proj"
   ]
  },
  {
   "cell_type": "markdown",
   "metadata": {},
   "source": [
    "Define paths"
   ]
  },
  {
   "cell_type": "code",
   "execution_count": 5,
   "metadata": {},
   "outputs": [],
   "source": [
    "#|exports\n",
    "root_path = Path(proj.__file__).parent.resolve().as_posix()\n",
    "store_path = Path(root_path, 'store').as_posix()\n",
    "logs_path = Path(store_path, 'logs').as_posix()\n",
    "data_path = Path(store_path, 'data').as_posix()\n",
    "pre_output_path = Path(store_path, 'pre_output').as_posix()\n",
    "output_path = Path(store_path, 'output').as_posix()\n",
    "figs_path = Path(store_path, 'output/figs').as_posix()\n",
    "raw_data_path = Path(store_path, 'raw_data').as_posix()"
   ]
  },
  {
   "cell_type": "code",
   "execution_count": 6,
   "metadata": {},
   "outputs": [],
   "source": [
    "#|export\n",
    "# Create the directories, if they don't exist already\n",
    "Path(store_path).mkdir(exist_ok=True)\n",
    "Path(logs_path).mkdir(exist_ok=True)\n",
    "Path(logs_path, 'csv').mkdir(exist_ok=True)\n",
    "Path(data_path).mkdir(exist_ok=True)\n",
    "Path(pre_output_path).mkdir(exist_ok=True)\n",
    "Path(output_path).mkdir(exist_ok=True)\n",
    "Path(figs_path).mkdir(exist_ok=True)\n",
    "Path(raw_data_path).mkdir(exist_ok=True)"
   ]
  }
 ],
 "metadata": {
  "kernelspec": {
   "display_name": "python3",
   "language": "python",
   "name": "python3"
  },
  "language_info": {
   "codemirror_mode": {
    "name": "ipython",
    "version": 3
   },
   "file_extension": ".py",
   "mimetype": "text/x-python",
   "name": "python",
   "nbconvert_exporter": "python",
   "pygments_lexer": "ipython3",
   "version": "3.10.13"
  }
 },
 "nbformat": 4,
 "nbformat_minor": 4
}
