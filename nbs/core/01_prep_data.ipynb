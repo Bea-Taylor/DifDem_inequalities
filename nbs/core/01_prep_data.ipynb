{
 "cells": [
  {
   "cell_type": "markdown",
   "metadata": {},
   "source": [
    "# 01 Prep QOF data \n",
    "\n",
    "> A first look at the QOF data, prepping the data and associating GP practices to geographic identifiers.  "
   ]
  },
  {
   "cell_type": "markdown",
   "metadata": {},
   "source": [
    "---"
   ]
  },
  {
   "cell_type": "code",
   "execution_count": 1,
   "metadata": {},
   "outputs": [],
   "source": [
    "#|default_exp core.01_prep_data"
   ]
  },
  {
   "cell_type": "code",
   "execution_count": 2,
   "metadata": {},
   "outputs": [],
   "source": [
    "#|hide\n",
    "import nbdev; nbdev.nbdev_export()"
   ]
  },
  {
   "cell_type": "code",
   "execution_count": 3,
   "metadata": {},
   "outputs": [],
   "source": [
    "#|hide\n",
    "from nbdev.showdoc import show_doc"
   ]
  },
  {
   "cell_type": "code",
   "execution_count": 4,
   "metadata": {},
   "outputs": [],
   "source": [
    "#|export\n",
    "import dementia_inequalities as proj\n",
    "from dementia_inequalities import const, log, utils, tools\n",
    "import adu_proj.utils as adutils"
   ]
  },
  {
   "cell_type": "code",
   "execution_count": 5,
   "metadata": {},
   "outputs": [
    {
     "name": "stderr",
     "output_type": "stream",
     "text": [
      "/var/folders/4n/x6w1yfcx01qbymrsfpz4ybq00000gn/T/ipykernel_4544/3424933337.py:3: DeprecationWarning: \n",
      "Pyarrow will become a required dependency of pandas in the next major release of pandas (pandas 3.0),\n",
      "(to allow more performant data types, such as the Arrow string type, and better interoperability with other libraries)\n",
      "but was not found to be installed on your system.\n",
      "If this would cause problems for you,\n",
      "please provide us feedback at https://github.com/pandas-dev/pandas/issues/54466\n",
      "        \n",
      "  import pandas as pd\n"
     ]
    }
   ],
   "source": [
    "#|export\n",
    "import numpy as np \n",
    "import pandas as pd "
   ]
  },
  {
   "cell_type": "markdown",
   "metadata": {},
   "source": [
    "## Quality Outcomes Framework (QOF) \n",
    "\n",
    "Going to start by exploring the QOF dataset.  "
   ]
  },
  {
   "cell_type": "code",
   "execution_count": 6,
   "metadata": {},
   "outputs": [],
   "source": [
    "#| export \n",
    "\n",
    "# Useful to use this: const.data_path\n",
    "df_QOF_prev = pd.read_csv(const.data_path+'/QOF_2022-23/PREVALENCE_2223.csv')"
   ]
  },
  {
   "cell_type": "code",
   "execution_count": 7,
   "metadata": {},
   "outputs": [
    {
     "data": {
      "text/html": [
       "<div>\n",
       "<style scoped>\n",
       "    .dataframe tbody tr th:only-of-type {\n",
       "        vertical-align: middle;\n",
       "    }\n",
       "\n",
       "    .dataframe tbody tr th {\n",
       "        vertical-align: top;\n",
       "    }\n",
       "\n",
       "    .dataframe thead th {\n",
       "        text-align: right;\n",
       "    }\n",
       "</style>\n",
       "<table border=\"1\" class=\"dataframe\">\n",
       "  <thead>\n",
       "    <tr style=\"text-align: right;\">\n",
       "      <th></th>\n",
       "      <th>PRACTICE_CODE</th>\n",
       "      <th>GROUP_CODE</th>\n",
       "      <th>REGISTER</th>\n",
       "      <th>PATIENT_LIST_TYPE</th>\n",
       "      <th>PRACTICE_LIST_SIZE</th>\n",
       "    </tr>\n",
       "  </thead>\n",
       "  <tbody>\n",
       "    <tr>\n",
       "      <th>0</th>\n",
       "      <td>A81001</td>\n",
       "      <td>AF</td>\n",
       "      <td>112.0</td>\n",
       "      <td>TOTAL</td>\n",
       "      <td>3996</td>\n",
       "    </tr>\n",
       "    <tr>\n",
       "      <th>1</th>\n",
       "      <td>A81001</td>\n",
       "      <td>AST</td>\n",
       "      <td>317.0</td>\n",
       "      <td>06OV</td>\n",
       "      <td>3766</td>\n",
       "    </tr>\n",
       "    <tr>\n",
       "      <th>2</th>\n",
       "      <td>A81001</td>\n",
       "      <td>CAN</td>\n",
       "      <td>131.0</td>\n",
       "      <td>TOTAL</td>\n",
       "      <td>3996</td>\n",
       "    </tr>\n",
       "    <tr>\n",
       "      <th>3</th>\n",
       "      <td>A81001</td>\n",
       "      <td>CHD</td>\n",
       "      <td>150.0</td>\n",
       "      <td>TOTAL</td>\n",
       "      <td>3996</td>\n",
       "    </tr>\n",
       "    <tr>\n",
       "      <th>4</th>\n",
       "      <td>A81001</td>\n",
       "      <td>CKD</td>\n",
       "      <td>93.0</td>\n",
       "      <td>18OV</td>\n",
       "      <td>3179</td>\n",
       "    </tr>\n",
       "  </tbody>\n",
       "</table>\n",
       "</div>"
      ],
      "text/plain": [
       "  PRACTICE_CODE GROUP_CODE  REGISTER PATIENT_LIST_TYPE  PRACTICE_LIST_SIZE\n",
       "0        A81001         AF     112.0             TOTAL                3996\n",
       "1        A81001        AST     317.0              06OV                3766\n",
       "2        A81001        CAN     131.0             TOTAL                3996\n",
       "3        A81001        CHD     150.0             TOTAL                3996\n",
       "4        A81001        CKD      93.0              18OV                3179"
      ]
     },
     "execution_count": 7,
     "metadata": {},
     "output_type": "execute_result"
    }
   ],
   "source": [
    "df_QOF_prev.head()"
   ]
  },
  {
   "cell_type": "code",
   "execution_count": 8,
   "metadata": {},
   "outputs": [
    {
     "data": {
      "text/html": [
       "<div>\n",
       "<style scoped>\n",
       "    .dataframe tbody tr th:only-of-type {\n",
       "        vertical-align: middle;\n",
       "    }\n",
       "\n",
       "    .dataframe tbody tr th {\n",
       "        vertical-align: top;\n",
       "    }\n",
       "\n",
       "    .dataframe thead th {\n",
       "        text-align: right;\n",
       "    }\n",
       "</style>\n",
       "<table border=\"1\" class=\"dataframe\">\n",
       "  <thead>\n",
       "    <tr style=\"text-align: right;\">\n",
       "      <th></th>\n",
       "      <th>PRACTICE_CODE</th>\n",
       "      <th>GROUP_CODE</th>\n",
       "      <th>REGISTER</th>\n",
       "      <th>PATIENT_LIST_TYPE</th>\n",
       "      <th>PRACTICE_LIST_SIZE</th>\n",
       "    </tr>\n",
       "  </thead>\n",
       "  <tbody>\n",
       "    <tr>\n",
       "      <th>6</th>\n",
       "      <td>A81001</td>\n",
       "      <td>DEM</td>\n",
       "      <td>22.0</td>\n",
       "      <td>TOTAL</td>\n",
       "      <td>3996</td>\n",
       "    </tr>\n",
       "    <tr>\n",
       "      <th>27</th>\n",
       "      <td>A81002</td>\n",
       "      <td>DEM</td>\n",
       "      <td>203.0</td>\n",
       "      <td>TOTAL</td>\n",
       "      <td>18315</td>\n",
       "    </tr>\n",
       "    <tr>\n",
       "      <th>48</th>\n",
       "      <td>A81004</td>\n",
       "      <td>DEM</td>\n",
       "      <td>100.0</td>\n",
       "      <td>TOTAL</td>\n",
       "      <td>11276</td>\n",
       "    </tr>\n",
       "    <tr>\n",
       "      <th>69</th>\n",
       "      <td>A81005</td>\n",
       "      <td>DEM</td>\n",
       "      <td>100.0</td>\n",
       "      <td>TOTAL</td>\n",
       "      <td>8005</td>\n",
       "    </tr>\n",
       "    <tr>\n",
       "      <th>90</th>\n",
       "      <td>A81006</td>\n",
       "      <td>DEM</td>\n",
       "      <td>156.0</td>\n",
       "      <td>TOTAL</td>\n",
       "      <td>14383</td>\n",
       "    </tr>\n",
       "    <tr>\n",
       "      <th>...</th>\n",
       "      <td>...</td>\n",
       "      <td>...</td>\n",
       "      <td>...</td>\n",
       "      <td>...</td>\n",
       "      <td>...</td>\n",
       "    </tr>\n",
       "    <tr>\n",
       "      <th>133839</th>\n",
       "      <td>Y07057</td>\n",
       "      <td>DEM</td>\n",
       "      <td>60.0</td>\n",
       "      <td>TOTAL</td>\n",
       "      <td>12005</td>\n",
       "    </tr>\n",
       "    <tr>\n",
       "      <th>133860</th>\n",
       "      <td>Y07059</td>\n",
       "      <td>DEM</td>\n",
       "      <td>110.0</td>\n",
       "      <td>TOTAL</td>\n",
       "      <td>19271</td>\n",
       "    </tr>\n",
       "    <tr>\n",
       "      <th>133881</th>\n",
       "      <td>Y07060</td>\n",
       "      <td>DEM</td>\n",
       "      <td>133.0</td>\n",
       "      <td>TOTAL</td>\n",
       "      <td>25901</td>\n",
       "    </tr>\n",
       "    <tr>\n",
       "      <th>133902</th>\n",
       "      <td>Y07274</td>\n",
       "      <td>DEM</td>\n",
       "      <td>2.0</td>\n",
       "      <td>TOTAL</td>\n",
       "      <td>1229</td>\n",
       "    </tr>\n",
       "    <tr>\n",
       "      <th>133923</th>\n",
       "      <td>Y07275</td>\n",
       "      <td>DEM</td>\n",
       "      <td>8.0</td>\n",
       "      <td>TOTAL</td>\n",
       "      <td>3021</td>\n",
       "    </tr>\n",
       "  </tbody>\n",
       "</table>\n",
       "<p>6378 rows × 5 columns</p>\n",
       "</div>"
      ],
      "text/plain": [
       "       PRACTICE_CODE GROUP_CODE  REGISTER PATIENT_LIST_TYPE  \\\n",
       "6             A81001        DEM      22.0             TOTAL   \n",
       "27            A81002        DEM     203.0             TOTAL   \n",
       "48            A81004        DEM     100.0             TOTAL   \n",
       "69            A81005        DEM     100.0             TOTAL   \n",
       "90            A81006        DEM     156.0             TOTAL   \n",
       "...              ...        ...       ...               ...   \n",
       "133839        Y07057        DEM      60.0             TOTAL   \n",
       "133860        Y07059        DEM     110.0             TOTAL   \n",
       "133881        Y07060        DEM     133.0             TOTAL   \n",
       "133902        Y07274        DEM       2.0             TOTAL   \n",
       "133923        Y07275        DEM       8.0             TOTAL   \n",
       "\n",
       "        PRACTICE_LIST_SIZE  \n",
       "6                     3996  \n",
       "27                   18315  \n",
       "48                   11276  \n",
       "69                    8005  \n",
       "90                   14383  \n",
       "...                    ...  \n",
       "133839               12005  \n",
       "133860               19271  \n",
       "133881               25901  \n",
       "133902                1229  \n",
       "133923                3021  \n",
       "\n",
       "[6378 rows x 5 columns]"
      ]
     },
     "execution_count": 8,
     "metadata": {},
     "output_type": "execute_result"
    }
   ],
   "source": [
    "df_QOF_prev[df_QOF_prev['GROUP_CODE']=='DEM']"
   ]
  },
  {
   "cell_type": "markdown",
   "metadata": {},
   "source": [
    "Let us look at how many people are recorded as having dementia "
   ]
  },
  {
   "cell_type": "code",
   "execution_count": 9,
   "metadata": {},
   "outputs": [
    {
     "name": "stdout",
     "output_type": "stream",
     "text": [
      "The total number of people with dementia, across all practises in England, is 460330.\n"
     ]
    }
   ],
   "source": [
    "total_dem = df_QOF_prev[df_QOF_prev['GROUP_CODE']=='DEM']['REGISTER'].sum()\n",
    "print(f'The total number of people with dementia, across all practises in England, is {int(total_dem)}.')"
   ]
  },
  {
   "cell_type": "markdown",
   "metadata": {},
   "source": [
    "Let's look at practice information to try and understand these statistics a bit better "
   ]
  },
  {
   "cell_type": "code",
   "execution_count": 10,
   "metadata": {},
   "outputs": [],
   "source": [
    "df_practice_fem_age = pd.read_csv(const.data_path+'/GP_practices_dec_23/gp-reg-pat-prac-sing-age-female.csv')\n",
    "df_practice_men_age = pd.read_csv(const.data_path+'/GP_practices_dec_23/gp-reg-pat-prac-sing-age-male.csv')\n",
    "df_practice_map = pd.read_csv(const.data_path+'/GP_practices_dec_23/gp-reg-pat-prac-map.csv')"
   ]
  },
  {
   "cell_type": "markdown",
   "metadata": {},
   "source": [
    "Right, I think what would be good to have in a dataframe: \n",
    "* ORG_CODE - check this lines up with the PRACTICE_CODE \n",
    "* POSTCODE (in df_practice_map)\n",
    "* PRACTICE_NAME (in df_practice_map)\n",
    "* PCN_NAME (in df_practice_map)\n",
    "* PRACTICE_LIST_SIZE (in df_QOF_prev)\n",
    "* num women >65 (any diag) (in df_practice_fem_age)\n",
    "* num men >65 (any diag) (in df_practice_men_age)\n",
    "* num dementia (in df_QOF_prev)\n",
    "* num dementia >65 (not sure this info is available)"
   ]
  },
  {
   "cell_type": "code",
   "execution_count": 11,
   "metadata": {},
   "outputs": [
    {
     "data": {
      "text/html": [
       "<div>\n",
       "<style scoped>\n",
       "    .dataframe tbody tr th:only-of-type {\n",
       "        vertical-align: middle;\n",
       "    }\n",
       "\n",
       "    .dataframe tbody tr th {\n",
       "        vertical-align: top;\n",
       "    }\n",
       "\n",
       "    .dataframe thead th {\n",
       "        text-align: right;\n",
       "    }\n",
       "</style>\n",
       "<table border=\"1\" class=\"dataframe\">\n",
       "  <thead>\n",
       "    <tr style=\"text-align: right;\">\n",
       "      <th></th>\n",
       "      <th>PRACTICE_CODE</th>\n",
       "      <th>PRACTICE_NAME</th>\n",
       "      <th>PRACTICE_POSTCODE</th>\n",
       "      <th>PCN_NAME</th>\n",
       "    </tr>\n",
       "  </thead>\n",
       "  <tbody>\n",
       "    <tr>\n",
       "      <th>0</th>\n",
       "      <td>A81001</td>\n",
       "      <td>THE DENSHAM SURGERY</td>\n",
       "      <td>TS18 1HU</td>\n",
       "      <td>STOCKTON PCN</td>\n",
       "    </tr>\n",
       "    <tr>\n",
       "      <th>1</th>\n",
       "      <td>A81002</td>\n",
       "      <td>QUEENS PARK MEDICAL CENTRE</td>\n",
       "      <td>TS18 2AW</td>\n",
       "      <td>NORTH STOCKTON PCN</td>\n",
       "    </tr>\n",
       "    <tr>\n",
       "      <th>2</th>\n",
       "      <td>A81004</td>\n",
       "      <td>ACKLAM MEDICAL CENTRE</td>\n",
       "      <td>TS5 8SB</td>\n",
       "      <td>GREATER MIDDLESBROUGH PCN</td>\n",
       "    </tr>\n",
       "    <tr>\n",
       "      <th>3</th>\n",
       "      <td>A81005</td>\n",
       "      <td>SPRINGWOOD SURGERY</td>\n",
       "      <td>TS14 7DJ</td>\n",
       "      <td>EAST CLEVELAND PCN</td>\n",
       "    </tr>\n",
       "    <tr>\n",
       "      <th>4</th>\n",
       "      <td>A81006</td>\n",
       "      <td>TENNANT STREET MEDICAL PRACTICE</td>\n",
       "      <td>TS18 2AT</td>\n",
       "      <td>NORTH STOCKTON PCN</td>\n",
       "    </tr>\n",
       "  </tbody>\n",
       "</table>\n",
       "</div>"
      ],
      "text/plain": [
       "  PRACTICE_CODE                    PRACTICE_NAME PRACTICE_POSTCODE  \\\n",
       "0        A81001              THE DENSHAM SURGERY          TS18 1HU   \n",
       "1        A81002       QUEENS PARK MEDICAL CENTRE          TS18 2AW   \n",
       "2        A81004            ACKLAM MEDICAL CENTRE           TS5 8SB   \n",
       "3        A81005               SPRINGWOOD SURGERY          TS14 7DJ   \n",
       "4        A81006  TENNANT STREET MEDICAL PRACTICE          TS18 2AT   \n",
       "\n",
       "                    PCN_NAME  \n",
       "0               STOCKTON PCN  \n",
       "1         NORTH STOCKTON PCN  \n",
       "2  GREATER MIDDLESBROUGH PCN  \n",
       "3         EAST CLEVELAND PCN  \n",
       "4         NORTH STOCKTON PCN  "
      ]
     },
     "execution_count": 11,
     "metadata": {},
     "output_type": "execute_result"
    }
   ],
   "source": [
    "df_practice_map_geo = df_practice_map[['PRACTICE_CODE', 'PRACTICE_NAME', 'PRACTICE_POSTCODE', 'PCN_NAME']].copy()\n",
    "df_practice_map_geo.head()"
   ]
  },
  {
   "cell_type": "code",
   "execution_count": 12,
   "metadata": {},
   "outputs": [
    {
     "data": {
      "text/html": [
       "<div>\n",
       "<style scoped>\n",
       "    .dataframe tbody tr th:only-of-type {\n",
       "        vertical-align: middle;\n",
       "    }\n",
       "\n",
       "    .dataframe tbody tr th {\n",
       "        vertical-align: top;\n",
       "    }\n",
       "\n",
       "    .dataframe thead th {\n",
       "        text-align: right;\n",
       "    }\n",
       "</style>\n",
       "<table border=\"1\" class=\"dataframe\">\n",
       "  <thead>\n",
       "    <tr style=\"text-align: right;\">\n",
       "      <th></th>\n",
       "      <th>PRACTICE_CODE</th>\n",
       "      <th>DEM_REGISTER</th>\n",
       "      <th>PRACTICE_LIST_SIZE</th>\n",
       "    </tr>\n",
       "  </thead>\n",
       "  <tbody>\n",
       "    <tr>\n",
       "      <th>6</th>\n",
       "      <td>A81001</td>\n",
       "      <td>22.0</td>\n",
       "      <td>3996</td>\n",
       "    </tr>\n",
       "    <tr>\n",
       "      <th>27</th>\n",
       "      <td>A81002</td>\n",
       "      <td>203.0</td>\n",
       "      <td>18315</td>\n",
       "    </tr>\n",
       "    <tr>\n",
       "      <th>48</th>\n",
       "      <td>A81004</td>\n",
       "      <td>100.0</td>\n",
       "      <td>11276</td>\n",
       "    </tr>\n",
       "    <tr>\n",
       "      <th>69</th>\n",
       "      <td>A81005</td>\n",
       "      <td>100.0</td>\n",
       "      <td>8005</td>\n",
       "    </tr>\n",
       "    <tr>\n",
       "      <th>90</th>\n",
       "      <td>A81006</td>\n",
       "      <td>156.0</td>\n",
       "      <td>14383</td>\n",
       "    </tr>\n",
       "  </tbody>\n",
       "</table>\n",
       "</div>"
      ],
      "text/plain": [
       "   PRACTICE_CODE  DEM_REGISTER  PRACTICE_LIST_SIZE\n",
       "6         A81001          22.0                3996\n",
       "27        A81002         203.0               18315\n",
       "48        A81004         100.0               11276\n",
       "69        A81005         100.0                8005\n",
       "90        A81006         156.0               14383"
      ]
     },
     "execution_count": 12,
     "metadata": {},
     "output_type": "execute_result"
    }
   ],
   "source": [
    "# Only interested in Dementia diagnosis \n",
    "df_QOF_dem = df_QOF_prev[df_QOF_prev['GROUP_CODE']=='DEM'].copy()\n",
    "# Drop columns which are not useful \n",
    "df_QOF_dem.drop(labels=['GROUP_CODE', 'PATIENT_LIST_TYPE'], axis=1, inplace=True)\n",
    "df_QOF_dem.rename(columns={'REGISTER':'DEM_REGISTER'}, inplace=True)\n",
    "df_QOF_dem.head()"
   ]
  },
  {
   "cell_type": "markdown",
   "metadata": {},
   "source": [
    "Check the practices are unique"
   ]
  },
  {
   "cell_type": "code",
   "execution_count": 13,
   "metadata": {},
   "outputs": [
    {
     "data": {
      "text/plain": [
       "True"
      ]
     },
     "execution_count": 13,
     "metadata": {},
     "output_type": "execute_result"
    }
   ],
   "source": [
    "df_QOF_dem['PRACTICE_CODE'].is_unique"
   ]
  },
  {
   "cell_type": "code",
   "execution_count": 14,
   "metadata": {},
   "outputs": [
    {
     "name": "stdout",
     "output_type": "stream",
     "text": [
      "Number of practices in QOF dataset: 6378. Number of practices in geographies dataset: 6328. Difference: 50.\n"
     ]
    }
   ],
   "source": [
    "print(f'Number of practices in QOF dataset: {len(df_QOF_dem)}. Number of practices in geographies dataset: {len(df_practice_map_geo)}. Difference: {len(df_QOF_dem)-len(df_practice_map_geo)}.')"
   ]
  },
  {
   "cell_type": "markdown",
   "metadata": {},
   "source": [
    "I wonder where this difference of 50 GP practices comes from. I think this might be because the geography data comes from a December snapshot. Whereas the QOF dataset spans the year. So maybe these 50 practises closed over the course of the year? "
   ]
  },
  {
   "cell_type": "code",
   "execution_count": 15,
   "metadata": {},
   "outputs": [],
   "source": [
    "df_QOF_dem_geo = pd.merge(df_QOF_dem, df_practice_map_geo, on=\"PRACTICE_CODE\", how='left')"
   ]
  },
  {
   "cell_type": "code",
   "execution_count": 16,
   "metadata": {},
   "outputs": [
    {
     "data": {
      "text/html": [
       "<div>\n",
       "<style scoped>\n",
       "    .dataframe tbody tr th:only-of-type {\n",
       "        vertical-align: middle;\n",
       "    }\n",
       "\n",
       "    .dataframe tbody tr th {\n",
       "        vertical-align: top;\n",
       "    }\n",
       "\n",
       "    .dataframe thead th {\n",
       "        text-align: right;\n",
       "    }\n",
       "</style>\n",
       "<table border=\"1\" class=\"dataframe\">\n",
       "  <thead>\n",
       "    <tr style=\"text-align: right;\">\n",
       "      <th></th>\n",
       "      <th>PRACTICE_CODE</th>\n",
       "      <th>DEM_REGISTER</th>\n",
       "      <th>PRACTICE_LIST_SIZE</th>\n",
       "      <th>PRACTICE_NAME</th>\n",
       "      <th>PRACTICE_POSTCODE</th>\n",
       "      <th>PCN_NAME</th>\n",
       "    </tr>\n",
       "  </thead>\n",
       "  <tbody>\n",
       "    <tr>\n",
       "      <th>0</th>\n",
       "      <td>A81001</td>\n",
       "      <td>22.0</td>\n",
       "      <td>3996</td>\n",
       "      <td>THE DENSHAM SURGERY</td>\n",
       "      <td>TS18 1HU</td>\n",
       "      <td>STOCKTON PCN</td>\n",
       "    </tr>\n",
       "    <tr>\n",
       "      <th>1</th>\n",
       "      <td>A81002</td>\n",
       "      <td>203.0</td>\n",
       "      <td>18315</td>\n",
       "      <td>QUEENS PARK MEDICAL CENTRE</td>\n",
       "      <td>TS18 2AW</td>\n",
       "      <td>NORTH STOCKTON PCN</td>\n",
       "    </tr>\n",
       "    <tr>\n",
       "      <th>2</th>\n",
       "      <td>A81004</td>\n",
       "      <td>100.0</td>\n",
       "      <td>11276</td>\n",
       "      <td>ACKLAM MEDICAL CENTRE</td>\n",
       "      <td>TS5 8SB</td>\n",
       "      <td>GREATER MIDDLESBROUGH PCN</td>\n",
       "    </tr>\n",
       "    <tr>\n",
       "      <th>3</th>\n",
       "      <td>A81005</td>\n",
       "      <td>100.0</td>\n",
       "      <td>8005</td>\n",
       "      <td>SPRINGWOOD SURGERY</td>\n",
       "      <td>TS14 7DJ</td>\n",
       "      <td>EAST CLEVELAND PCN</td>\n",
       "    </tr>\n",
       "    <tr>\n",
       "      <th>4</th>\n",
       "      <td>A81006</td>\n",
       "      <td>156.0</td>\n",
       "      <td>14383</td>\n",
       "      <td>TENNANT STREET MEDICAL PRACTICE</td>\n",
       "      <td>TS18 2AT</td>\n",
       "      <td>NORTH STOCKTON PCN</td>\n",
       "    </tr>\n",
       "  </tbody>\n",
       "</table>\n",
       "</div>"
      ],
      "text/plain": [
       "  PRACTICE_CODE  DEM_REGISTER  PRACTICE_LIST_SIZE  \\\n",
       "0        A81001          22.0                3996   \n",
       "1        A81002         203.0               18315   \n",
       "2        A81004         100.0               11276   \n",
       "3        A81005         100.0                8005   \n",
       "4        A81006         156.0               14383   \n",
       "\n",
       "                     PRACTICE_NAME PRACTICE_POSTCODE  \\\n",
       "0              THE DENSHAM SURGERY          TS18 1HU   \n",
       "1       QUEENS PARK MEDICAL CENTRE          TS18 2AW   \n",
       "2            ACKLAM MEDICAL CENTRE           TS5 8SB   \n",
       "3               SPRINGWOOD SURGERY          TS14 7DJ   \n",
       "4  TENNANT STREET MEDICAL PRACTICE          TS18 2AT   \n",
       "\n",
       "                    PCN_NAME  \n",
       "0               STOCKTON PCN  \n",
       "1         NORTH STOCKTON PCN  \n",
       "2  GREATER MIDDLESBROUGH PCN  \n",
       "3         EAST CLEVELAND PCN  \n",
       "4         NORTH STOCKTON PCN  "
      ]
     },
     "execution_count": 16,
     "metadata": {},
     "output_type": "execute_result"
    }
   ],
   "source": [
    "df_QOF_dem_geo.head()"
   ]
  },
  {
   "cell_type": "markdown",
   "metadata": {},
   "source": [
    "Need to tidy up the age values in the practice by age datasets"
   ]
  },
  {
   "cell_type": "code",
   "execution_count": 17,
   "metadata": {},
   "outputs": [],
   "source": [
    "# Women by age dataset\n",
    "df_practice_fem_age.loc[df_practice_fem_age['AGE'] == '95+', 'AGE'] = 95\n",
    "df_practice_fem_age['AGE'] = pd.to_numeric(df_practice_fem_age['AGE'], errors='coerce') # The coerce parameter replaces any remaining strings with 'Nan'\n",
    "\n",
    "# Men by age dataset\n",
    "df_practice_men_age.loc[df_practice_men_age['AGE'] == '95+', 'AGE'] = 95\n",
    "df_practice_men_age['AGE'] = pd.to_numeric(df_practice_men_age['AGE'], errors='coerce') # The coerce parameter replaces any remaining strings with 'Nan'"
   ]
  },
  {
   "cell_type": "code",
   "execution_count": 18,
   "metadata": {},
   "outputs": [],
   "source": [
    "def over_65_gender(df, # dataframe\n",
    "                   col_name): # column name to be assigned \n",
    "    org_code = list(df['ORG_CODE'].unique())\n",
    "    over_65_by_code = []\n",
    "    for i in org_code:\n",
    "        num_over_65 = df[(df['ORG_CODE'] == str(i))&(df['AGE'] >= 65)]['NUMBER_OF_PATIENTS'].sum()\n",
    "        over_65_by_code.append(num_over_65)\n",
    "    dict = {'ORG_CODE': org_code, col_name: over_65_by_code} \n",
    "    return pd.DataFrame(dict)"
   ]
  },
  {
   "cell_type": "code",
   "execution_count": 19,
   "metadata": {},
   "outputs": [],
   "source": [
    "df_women_over_65 = over_65_gender(df_practice_fem_age, 'WOMEN_OVER_65')\n",
    "df_men_over_65 = over_65_gender(df_practice_men_age, 'MEN_OVER_65')"
   ]
  },
  {
   "cell_type": "code",
   "execution_count": 20,
   "metadata": {},
   "outputs": [
    {
     "name": "stdout",
     "output_type": "stream",
     "text": [
      "Number of practices with women: 6328. Number of practices with men: 6328.\n"
     ]
    }
   ],
   "source": [
    "print(f'Number of practices with women: {len(df_women_over_65)}. Number of practices with men: {len(df_men_over_65)}.')"
   ]
  },
  {
   "cell_type": "markdown",
   "metadata": {},
   "source": [
    "Merge the men and womens data for those aged over 65"
   ]
  },
  {
   "cell_type": "code",
   "execution_count": 21,
   "metadata": {},
   "outputs": [
    {
     "data": {
      "text/html": [
       "<div>\n",
       "<style scoped>\n",
       "    .dataframe tbody tr th:only-of-type {\n",
       "        vertical-align: middle;\n",
       "    }\n",
       "\n",
       "    .dataframe tbody tr th {\n",
       "        vertical-align: top;\n",
       "    }\n",
       "\n",
       "    .dataframe thead th {\n",
       "        text-align: right;\n",
       "    }\n",
       "</style>\n",
       "<table border=\"1\" class=\"dataframe\">\n",
       "  <thead>\n",
       "    <tr style=\"text-align: right;\">\n",
       "      <th></th>\n",
       "      <th>ORG_CODE</th>\n",
       "      <th>WOMEN_OVER_65</th>\n",
       "      <th>MEN_OVER_65</th>\n",
       "    </tr>\n",
       "  </thead>\n",
       "  <tbody>\n",
       "    <tr>\n",
       "      <th>0</th>\n",
       "      <td>A84002</td>\n",
       "      <td>1182</td>\n",
       "      <td>1060</td>\n",
       "    </tr>\n",
       "    <tr>\n",
       "      <th>1</th>\n",
       "      <td>A84005</td>\n",
       "      <td>1476</td>\n",
       "      <td>1271</td>\n",
       "    </tr>\n",
       "    <tr>\n",
       "      <th>2</th>\n",
       "      <td>A84006</td>\n",
       "      <td>3085</td>\n",
       "      <td>2729</td>\n",
       "    </tr>\n",
       "    <tr>\n",
       "      <th>3</th>\n",
       "      <td>A84007</td>\n",
       "      <td>1644</td>\n",
       "      <td>1423</td>\n",
       "    </tr>\n",
       "    <tr>\n",
       "      <th>4</th>\n",
       "      <td>A84008</td>\n",
       "      <td>838</td>\n",
       "      <td>751</td>\n",
       "    </tr>\n",
       "  </tbody>\n",
       "</table>\n",
       "</div>"
      ],
      "text/plain": [
       "  ORG_CODE  WOMEN_OVER_65  MEN_OVER_65\n",
       "0   A84002           1182         1060\n",
       "1   A84005           1476         1271\n",
       "2   A84006           3085         2729\n",
       "3   A84007           1644         1423\n",
       "4   A84008            838          751"
      ]
     },
     "execution_count": 21,
     "metadata": {},
     "output_type": "execute_result"
    }
   ],
   "source": [
    "df_over_65_merge = pd.merge(df_women_over_65, df_men_over_65, on=\"ORG_CODE\", how='left')\n",
    "df_over_65_merge.head()"
   ]
  },
  {
   "cell_type": "markdown",
   "metadata": {},
   "source": [
    "Now merge the over 65 data with the dementia data and geographic info"
   ]
  },
  {
   "cell_type": "code",
   "execution_count": 22,
   "metadata": {},
   "outputs": [],
   "source": [
    "df = pd.merge(df_QOF_dem_geo, df_over_65_merge, left_on=\"PRACTICE_CODE\", right_on='ORG_CODE', how='left')"
   ]
  },
  {
   "cell_type": "markdown",
   "metadata": {},
   "source": [
    "Check that the practice codes are recorded as expected "
   ]
  },
  {
   "cell_type": "code",
   "execution_count": 23,
   "metadata": {},
   "outputs": [
    {
     "data": {
      "text/html": [
       "<div>\n",
       "<style scoped>\n",
       "    .dataframe tbody tr th:only-of-type {\n",
       "        vertical-align: middle;\n",
       "    }\n",
       "\n",
       "    .dataframe tbody tr th {\n",
       "        vertical-align: top;\n",
       "    }\n",
       "\n",
       "    .dataframe thead th {\n",
       "        text-align: right;\n",
       "    }\n",
       "</style>\n",
       "<table border=\"1\" class=\"dataframe\">\n",
       "  <thead>\n",
       "    <tr style=\"text-align: right;\">\n",
       "      <th></th>\n",
       "      <th>PRACTICE_CODE</th>\n",
       "      <th>DEM_REGISTER</th>\n",
       "      <th>PRACTICE_LIST_SIZE</th>\n",
       "      <th>PRACTICE_NAME</th>\n",
       "      <th>PRACTICE_POSTCODE</th>\n",
       "      <th>PCN_NAME</th>\n",
       "      <th>ORG_CODE</th>\n",
       "      <th>WOMEN_OVER_65</th>\n",
       "      <th>MEN_OVER_65</th>\n",
       "    </tr>\n",
       "  </thead>\n",
       "  <tbody>\n",
       "  </tbody>\n",
       "</table>\n",
       "</div>"
      ],
      "text/plain": [
       "Empty DataFrame\n",
       "Columns: [PRACTICE_CODE, DEM_REGISTER, PRACTICE_LIST_SIZE, PRACTICE_NAME, PRACTICE_POSTCODE, PCN_NAME, ORG_CODE, WOMEN_OVER_65, MEN_OVER_65]\n",
       "Index: []"
      ]
     },
     "execution_count": 23,
     "metadata": {},
     "output_type": "execute_result"
    }
   ],
   "source": [
    "df[pd.isna(df['PRACTICE_CODE'])]"
   ]
  },
  {
   "cell_type": "code",
   "execution_count": 24,
   "metadata": {},
   "outputs": [
    {
     "data": {
      "text/plain": [
       "Index([], dtype='int64')"
      ]
     },
     "execution_count": 24,
     "metadata": {},
     "output_type": "execute_result"
    }
   ],
   "source": [
    "df[df['PRACTICE_CODE'] == ''].index"
   ]
  },
  {
   "cell_type": "markdown",
   "metadata": {},
   "source": [
    "Drop the duplicated column (since PRACTICE_CODE and ORG_CODE are the same)."
   ]
  },
  {
   "cell_type": "code",
   "execution_count": 25,
   "metadata": {},
   "outputs": [],
   "source": [
    "df.drop(labels=['ORG_CODE'], axis=1, inplace=True)"
   ]
  },
  {
   "cell_type": "code",
   "execution_count": 26,
   "metadata": {},
   "outputs": [
    {
     "data": {
      "text/html": [
       "<div>\n",
       "<style scoped>\n",
       "    .dataframe tbody tr th:only-of-type {\n",
       "        vertical-align: middle;\n",
       "    }\n",
       "\n",
       "    .dataframe tbody tr th {\n",
       "        vertical-align: top;\n",
       "    }\n",
       "\n",
       "    .dataframe thead th {\n",
       "        text-align: right;\n",
       "    }\n",
       "</style>\n",
       "<table border=\"1\" class=\"dataframe\">\n",
       "  <thead>\n",
       "    <tr style=\"text-align: right;\">\n",
       "      <th></th>\n",
       "      <th>PRACTICE_CODE</th>\n",
       "      <th>DEM_REGISTER</th>\n",
       "      <th>PRACTICE_LIST_SIZE</th>\n",
       "      <th>PRACTICE_NAME</th>\n",
       "      <th>PRACTICE_POSTCODE</th>\n",
       "      <th>PCN_NAME</th>\n",
       "      <th>WOMEN_OVER_65</th>\n",
       "      <th>MEN_OVER_65</th>\n",
       "    </tr>\n",
       "  </thead>\n",
       "  <tbody>\n",
       "    <tr>\n",
       "      <th>0</th>\n",
       "      <td>A81001</td>\n",
       "      <td>22.0</td>\n",
       "      <td>3996</td>\n",
       "      <td>THE DENSHAM SURGERY</td>\n",
       "      <td>TS18 1HU</td>\n",
       "      <td>STOCKTON PCN</td>\n",
       "      <td>456.0</td>\n",
       "      <td>433.0</td>\n",
       "    </tr>\n",
       "    <tr>\n",
       "      <th>1</th>\n",
       "      <td>A81002</td>\n",
       "      <td>203.0</td>\n",
       "      <td>18315</td>\n",
       "      <td>QUEENS PARK MEDICAL CENTRE</td>\n",
       "      <td>TS18 2AW</td>\n",
       "      <td>NORTH STOCKTON PCN</td>\n",
       "      <td>2278.0</td>\n",
       "      <td>1918.0</td>\n",
       "    </tr>\n",
       "    <tr>\n",
       "      <th>2</th>\n",
       "      <td>A81004</td>\n",
       "      <td>100.0</td>\n",
       "      <td>11276</td>\n",
       "      <td>ACKLAM MEDICAL CENTRE</td>\n",
       "      <td>TS5 8SB</td>\n",
       "      <td>GREATER MIDDLESBROUGH PCN</td>\n",
       "      <td>1194.0</td>\n",
       "      <td>1044.0</td>\n",
       "    </tr>\n",
       "    <tr>\n",
       "      <th>3</th>\n",
       "      <td>A81005</td>\n",
       "      <td>100.0</td>\n",
       "      <td>8005</td>\n",
       "      <td>SPRINGWOOD SURGERY</td>\n",
       "      <td>TS14 7DJ</td>\n",
       "      <td>EAST CLEVELAND PCN</td>\n",
       "      <td>1309.0</td>\n",
       "      <td>1119.0</td>\n",
       "    </tr>\n",
       "    <tr>\n",
       "      <th>4</th>\n",
       "      <td>A81006</td>\n",
       "      <td>156.0</td>\n",
       "      <td>14383</td>\n",
       "      <td>TENNANT STREET MEDICAL PRACTICE</td>\n",
       "      <td>TS18 2AT</td>\n",
       "      <td>NORTH STOCKTON PCN</td>\n",
       "      <td>1540.0</td>\n",
       "      <td>1319.0</td>\n",
       "    </tr>\n",
       "  </tbody>\n",
       "</table>\n",
       "</div>"
      ],
      "text/plain": [
       "  PRACTICE_CODE  DEM_REGISTER  PRACTICE_LIST_SIZE  \\\n",
       "0        A81001          22.0                3996   \n",
       "1        A81002         203.0               18315   \n",
       "2        A81004         100.0               11276   \n",
       "3        A81005         100.0                8005   \n",
       "4        A81006         156.0               14383   \n",
       "\n",
       "                     PRACTICE_NAME PRACTICE_POSTCODE  \\\n",
       "0              THE DENSHAM SURGERY          TS18 1HU   \n",
       "1       QUEENS PARK MEDICAL CENTRE          TS18 2AW   \n",
       "2            ACKLAM MEDICAL CENTRE           TS5 8SB   \n",
       "3               SPRINGWOOD SURGERY          TS14 7DJ   \n",
       "4  TENNANT STREET MEDICAL PRACTICE          TS18 2AT   \n",
       "\n",
       "                    PCN_NAME  WOMEN_OVER_65  MEN_OVER_65  \n",
       "0               STOCKTON PCN          456.0        433.0  \n",
       "1         NORTH STOCKTON PCN         2278.0       1918.0  \n",
       "2  GREATER MIDDLESBROUGH PCN         1194.0       1044.0  \n",
       "3         EAST CLEVELAND PCN         1309.0       1119.0  \n",
       "4         NORTH STOCKTON PCN         1540.0       1319.0  "
      ]
     },
     "execution_count": 26,
     "metadata": {},
     "output_type": "execute_result"
    }
   ],
   "source": [
    "df.head()"
   ]
  },
  {
   "cell_type": "code",
   "execution_count": 30,
   "metadata": {},
   "outputs": [],
   "source": [
    "df.to_csv(const.output_path+'/QOF_GP_dem.csv', index=False)"
   ]
  },
  {
   "cell_type": "markdown",
   "metadata": {},
   "source": [
    "## Prescribing data \n",
    "\n",
    "This is the data on all the drugs which were prescribed in November(?) 2023 across all GP gractices in England. "
   ]
  },
  {
   "cell_type": "code",
   "execution_count": 31,
   "metadata": {},
   "outputs": [],
   "source": [
    "df_prescribe = pd.read_csv(const.data_path+'/EPD_202311.csv')"
   ]
  },
  {
   "cell_type": "code",
   "execution_count": 33,
   "metadata": {},
   "outputs": [
    {
     "data": {
      "text/plain": [
       "17918320"
      ]
     },
     "execution_count": 33,
     "metadata": {},
     "output_type": "execute_result"
    }
   ],
   "source": [
    "len(df_prescribe)"
   ]
  },
  {
   "cell_type": "code",
   "execution_count": 32,
   "metadata": {},
   "outputs": [
    {
     "data": {
      "text/html": [
       "<div>\n",
       "<style scoped>\n",
       "    .dataframe tbody tr th:only-of-type {\n",
       "        vertical-align: middle;\n",
       "    }\n",
       "\n",
       "    .dataframe tbody tr th {\n",
       "        vertical-align: top;\n",
       "    }\n",
       "\n",
       "    .dataframe thead th {\n",
       "        text-align: right;\n",
       "    }\n",
       "</style>\n",
       "<table border=\"1\" class=\"dataframe\">\n",
       "  <thead>\n",
       "    <tr style=\"text-align: right;\">\n",
       "      <th></th>\n",
       "      <th>YEAR_MONTH</th>\n",
       "      <th>REGIONAL_OFFICE_NAME</th>\n",
       "      <th>REGIONAL_OFFICE_CODE</th>\n",
       "      <th>ICB_NAME</th>\n",
       "      <th>ICB_CODE</th>\n",
       "      <th>PCO_NAME</th>\n",
       "      <th>PCO_CODE</th>\n",
       "      <th>PRACTICE_NAME</th>\n",
       "      <th>PRACTICE_CODE</th>\n",
       "      <th>ADDRESS_1</th>\n",
       "      <th>...</th>\n",
       "      <th>BNF_CODE</th>\n",
       "      <th>BNF_DESCRIPTION</th>\n",
       "      <th>BNF_CHAPTER_PLUS_CODE</th>\n",
       "      <th>QUANTITY</th>\n",
       "      <th>ITEMS</th>\n",
       "      <th>TOTAL_QUANTITY</th>\n",
       "      <th>ADQUSAGE</th>\n",
       "      <th>NIC</th>\n",
       "      <th>ACTUAL_COST</th>\n",
       "      <th>UNIDENTIFIED</th>\n",
       "    </tr>\n",
       "  </thead>\n",
       "  <tbody>\n",
       "    <tr>\n",
       "      <th>0</th>\n",
       "      <td>202311</td>\n",
       "      <td>EAST OF ENGLAND</td>\n",
       "      <td>Y61</td>\n",
       "      <td>NHS HERTFORDSHIRE AND WEST ESSEX INTEGRA</td>\n",
       "      <td>QM7</td>\n",
       "      <td>NHS HERTFORDSHIRE AND WEST ESSEX ICB - 0</td>\n",
       "      <td>07H00</td>\n",
       "      <td>THE RIVER SURGERY</td>\n",
       "      <td>F81216</td>\n",
       "      <td>THE RIVER SURGERY</td>\n",
       "      <td>...</td>\n",
       "      <td>20020200822</td>\n",
       "      <td>K-Lite bandage 10cm x 4.5m</td>\n",
       "      <td>20: Dressings</td>\n",
       "      <td>20.0</td>\n",
       "      <td>2</td>\n",
       "      <td>40.0</td>\n",
       "      <td>0.0</td>\n",
       "      <td>43.2</td>\n",
       "      <td>40.61396</td>\n",
       "      <td>N</td>\n",
       "    </tr>\n",
       "    <tr>\n",
       "      <th>1</th>\n",
       "      <td>202311</td>\n",
       "      <td>EAST OF ENGLAND</td>\n",
       "      <td>Y61</td>\n",
       "      <td>NHS HERTFORDSHIRE AND WEST ESSEX INTEGRA</td>\n",
       "      <td>QM7</td>\n",
       "      <td>NHS HERTFORDSHIRE AND WEST ESSEX ICB - 0</td>\n",
       "      <td>07H00</td>\n",
       "      <td>THE RIVER SURGERY</td>\n",
       "      <td>F81216</td>\n",
       "      <td>THE RIVER SURGERY</td>\n",
       "      <td>...</td>\n",
       "      <td>20020200824</td>\n",
       "      <td>K-Lite Long bandage 10cm x 5.25m</td>\n",
       "      <td>20: Dressings</td>\n",
       "      <td>60.0</td>\n",
       "      <td>1</td>\n",
       "      <td>60.0</td>\n",
       "      <td>0.0</td>\n",
       "      <td>74.4</td>\n",
       "      <td>69.91596</td>\n",
       "      <td>N</td>\n",
       "    </tr>\n",
       "    <tr>\n",
       "      <th>2</th>\n",
       "      <td>202311</td>\n",
       "      <td>EAST OF ENGLAND</td>\n",
       "      <td>Y61</td>\n",
       "      <td>NHS HERTFORDSHIRE AND WEST ESSEX INTEGRA</td>\n",
       "      <td>QM7</td>\n",
       "      <td>NHS HERTFORDSHIRE AND WEST ESSEX ICB - 0</td>\n",
       "      <td>07H00</td>\n",
       "      <td>THE RIVER SURGERY</td>\n",
       "      <td>F81216</td>\n",
       "      <td>THE RIVER SURGERY</td>\n",
       "      <td>...</td>\n",
       "      <td>20020200824</td>\n",
       "      <td>K-Lite Long bandage 10cm x 5.25m</td>\n",
       "      <td>20: Dressings</td>\n",
       "      <td>30.0</td>\n",
       "      <td>1</td>\n",
       "      <td>30.0</td>\n",
       "      <td>0.0</td>\n",
       "      <td>37.2</td>\n",
       "      <td>34.96418</td>\n",
       "      <td>N</td>\n",
       "    </tr>\n",
       "    <tr>\n",
       "      <th>3</th>\n",
       "      <td>202311</td>\n",
       "      <td>EAST OF ENGLAND</td>\n",
       "      <td>Y61</td>\n",
       "      <td>NHS HERTFORDSHIRE AND WEST ESSEX INTEGRA</td>\n",
       "      <td>QM7</td>\n",
       "      <td>NHS HERTFORDSHIRE AND WEST ESSEX ICB - 0</td>\n",
       "      <td>07H00</td>\n",
       "      <td>THE RIVER SURGERY</td>\n",
       "      <td>F81216</td>\n",
       "      <td>THE RIVER SURGERY</td>\n",
       "      <td>...</td>\n",
       "      <td>20020200824</td>\n",
       "      <td>K-Lite Long bandage 10cm x 5.25m</td>\n",
       "      <td>20: Dressings</td>\n",
       "      <td>10.0</td>\n",
       "      <td>1</td>\n",
       "      <td>10.0</td>\n",
       "      <td>0.0</td>\n",
       "      <td>12.4</td>\n",
       "      <td>11.66299</td>\n",
       "      <td>N</td>\n",
       "    </tr>\n",
       "    <tr>\n",
       "      <th>4</th>\n",
       "      <td>202311</td>\n",
       "      <td>EAST OF ENGLAND</td>\n",
       "      <td>Y61</td>\n",
       "      <td>NHS HERTFORDSHIRE AND WEST ESSEX INTEGRA</td>\n",
       "      <td>QM7</td>\n",
       "      <td>NHS HERTFORDSHIRE AND WEST ESSEX ICB - 0</td>\n",
       "      <td>07H00</td>\n",
       "      <td>THE RIVER SURGERY</td>\n",
       "      <td>F81216</td>\n",
       "      <td>THE RIVER SURGERY</td>\n",
       "      <td>...</td>\n",
       "      <td>20020200914</td>\n",
       "      <td>K-Soft Long bandage 10cm x 4.5m</td>\n",
       "      <td>20: Dressings</td>\n",
       "      <td>10.0</td>\n",
       "      <td>1</td>\n",
       "      <td>10.0</td>\n",
       "      <td>0.0</td>\n",
       "      <td>6.1</td>\n",
       "      <td>5.74374</td>\n",
       "      <td>N</td>\n",
       "    </tr>\n",
       "  </tbody>\n",
       "</table>\n",
       "<p>5 rows × 26 columns</p>\n",
       "</div>"
      ],
      "text/plain": [
       "   YEAR_MONTH REGIONAL_OFFICE_NAME REGIONAL_OFFICE_CODE  \\\n",
       "0      202311      EAST OF ENGLAND                  Y61   \n",
       "1      202311      EAST OF ENGLAND                  Y61   \n",
       "2      202311      EAST OF ENGLAND                  Y61   \n",
       "3      202311      EAST OF ENGLAND                  Y61   \n",
       "4      202311      EAST OF ENGLAND                  Y61   \n",
       "\n",
       "                                   ICB_NAME ICB_CODE  \\\n",
       "0  NHS HERTFORDSHIRE AND WEST ESSEX INTEGRA      QM7   \n",
       "1  NHS HERTFORDSHIRE AND WEST ESSEX INTEGRA      QM7   \n",
       "2  NHS HERTFORDSHIRE AND WEST ESSEX INTEGRA      QM7   \n",
       "3  NHS HERTFORDSHIRE AND WEST ESSEX INTEGRA      QM7   \n",
       "4  NHS HERTFORDSHIRE AND WEST ESSEX INTEGRA      QM7   \n",
       "\n",
       "                                   PCO_NAME PCO_CODE      PRACTICE_NAME  \\\n",
       "0  NHS HERTFORDSHIRE AND WEST ESSEX ICB - 0    07H00  THE RIVER SURGERY   \n",
       "1  NHS HERTFORDSHIRE AND WEST ESSEX ICB - 0    07H00  THE RIVER SURGERY   \n",
       "2  NHS HERTFORDSHIRE AND WEST ESSEX ICB - 0    07H00  THE RIVER SURGERY   \n",
       "3  NHS HERTFORDSHIRE AND WEST ESSEX ICB - 0    07H00  THE RIVER SURGERY   \n",
       "4  NHS HERTFORDSHIRE AND WEST ESSEX ICB - 0    07H00  THE RIVER SURGERY   \n",
       "\n",
       "  PRACTICE_CODE          ADDRESS_1  ...     BNF_CODE  \\\n",
       "0        F81216  THE RIVER SURGERY  ...  20020200822   \n",
       "1        F81216  THE RIVER SURGERY  ...  20020200824   \n",
       "2        F81216  THE RIVER SURGERY  ...  20020200824   \n",
       "3        F81216  THE RIVER SURGERY  ...  20020200824   \n",
       "4        F81216  THE RIVER SURGERY  ...  20020200914   \n",
       "\n",
       "                    BNF_DESCRIPTION BNF_CHAPTER_PLUS_CODE QUANTITY ITEMS  \\\n",
       "0        K-Lite bandage 10cm x 4.5m         20: Dressings     20.0     2   \n",
       "1  K-Lite Long bandage 10cm x 5.25m         20: Dressings     60.0     1   \n",
       "2  K-Lite Long bandage 10cm x 5.25m         20: Dressings     30.0     1   \n",
       "3  K-Lite Long bandage 10cm x 5.25m         20: Dressings     10.0     1   \n",
       "4   K-Soft Long bandage 10cm x 4.5m         20: Dressings     10.0     1   \n",
       "\n",
       "  TOTAL_QUANTITY ADQUSAGE   NIC ACTUAL_COST  UNIDENTIFIED  \n",
       "0           40.0      0.0  43.2    40.61396             N  \n",
       "1           60.0      0.0  74.4    69.91596             N  \n",
       "2           30.0      0.0  37.2    34.96418             N  \n",
       "3           10.0      0.0  12.4    11.66299             N  \n",
       "4           10.0      0.0   6.1     5.74374             N  \n",
       "\n",
       "[5 rows x 26 columns]"
      ]
     },
     "execution_count": 32,
     "metadata": {},
     "output_type": "execute_result"
    }
   ],
   "source": [
    "df_prescribe.head()"
   ]
  },
  {
   "cell_type": "markdown",
   "metadata": {},
   "source": [
    "Interested in prescription of an of the four anti-dementia drugs: \n",
    "\n",
    "* Donepezil AKA Aricept\n",
    "* Rivastigmine AKA Exelon\n",
    "* Galantamine AKA Reminyl\n",
    "* Memantine AKA Ebixa or Marixino or Valios"
   ]
  },
  {
   "cell_type": "code",
   "execution_count": 36,
   "metadata": {},
   "outputs": [
    {
     "data": {
      "text/html": [
       "<div>\n",
       "<style scoped>\n",
       "    .dataframe tbody tr th:only-of-type {\n",
       "        vertical-align: middle;\n",
       "    }\n",
       "\n",
       "    .dataframe tbody tr th {\n",
       "        vertical-align: top;\n",
       "    }\n",
       "\n",
       "    .dataframe thead th {\n",
       "        text-align: right;\n",
       "    }\n",
       "</style>\n",
       "<table border=\"1\" class=\"dataframe\">\n",
       "  <thead>\n",
       "    <tr style=\"text-align: right;\">\n",
       "      <th></th>\n",
       "      <th>BNF_CHEMICAL_SUBSTANCE</th>\n",
       "      <th>CHEMICAL_SUBSTANCE_BNF_DESCR</th>\n",
       "      <th>BNF_CODE</th>\n",
       "      <th>BNF_DESCRIPTION</th>\n",
       "      <th>BNF_CHAPTER_PLUS_CODE</th>\n",
       "    </tr>\n",
       "  </thead>\n",
       "  <tbody>\n",
       "    <tr>\n",
       "      <th>0</th>\n",
       "      <td>2002</td>\n",
       "      <td>Arm Sling/Bandages</td>\n",
       "      <td>20020200822</td>\n",
       "      <td>K-Lite bandage 10cm x 4.5m</td>\n",
       "      <td>20: Dressings</td>\n",
       "    </tr>\n",
       "    <tr>\n",
       "      <th>1</th>\n",
       "      <td>2002</td>\n",
       "      <td>Arm Sling/Bandages</td>\n",
       "      <td>20020200824</td>\n",
       "      <td>K-Lite Long bandage 10cm x 5.25m</td>\n",
       "      <td>20: Dressings</td>\n",
       "    </tr>\n",
       "    <tr>\n",
       "      <th>2</th>\n",
       "      <td>2002</td>\n",
       "      <td>Arm Sling/Bandages</td>\n",
       "      <td>20020200824</td>\n",
       "      <td>K-Lite Long bandage 10cm x 5.25m</td>\n",
       "      <td>20: Dressings</td>\n",
       "    </tr>\n",
       "    <tr>\n",
       "      <th>3</th>\n",
       "      <td>2002</td>\n",
       "      <td>Arm Sling/Bandages</td>\n",
       "      <td>20020200824</td>\n",
       "      <td>K-Lite Long bandage 10cm x 5.25m</td>\n",
       "      <td>20: Dressings</td>\n",
       "    </tr>\n",
       "    <tr>\n",
       "      <th>4</th>\n",
       "      <td>2002</td>\n",
       "      <td>Arm Sling/Bandages</td>\n",
       "      <td>20020200914</td>\n",
       "      <td>K-Soft Long bandage 10cm x 4.5m</td>\n",
       "      <td>20: Dressings</td>\n",
       "    </tr>\n",
       "  </tbody>\n",
       "</table>\n",
       "</div>"
      ],
      "text/plain": [
       "  BNF_CHEMICAL_SUBSTANCE CHEMICAL_SUBSTANCE_BNF_DESCR     BNF_CODE  \\\n",
       "0                   2002           Arm Sling/Bandages  20020200822   \n",
       "1                   2002           Arm Sling/Bandages  20020200824   \n",
       "2                   2002           Arm Sling/Bandages  20020200824   \n",
       "3                   2002           Arm Sling/Bandages  20020200824   \n",
       "4                   2002           Arm Sling/Bandages  20020200914   \n",
       "\n",
       "                    BNF_DESCRIPTION BNF_CHAPTER_PLUS_CODE  \n",
       "0        K-Lite bandage 10cm x 4.5m         20: Dressings  \n",
       "1  K-Lite Long bandage 10cm x 5.25m         20: Dressings  \n",
       "2  K-Lite Long bandage 10cm x 5.25m         20: Dressings  \n",
       "3  K-Lite Long bandage 10cm x 5.25m         20: Dressings  \n",
       "4   K-Soft Long bandage 10cm x 4.5m         20: Dressings  "
      ]
     },
     "execution_count": 36,
     "metadata": {},
     "output_type": "execute_result"
    }
   ],
   "source": [
    "df_prescribe[['BNF_CHEMICAL_SUBSTANCE', 'CHEMICAL_SUBSTANCE_BNF_DESCR', 'BNF_CODE', 'BNF_DESCRIPTION', 'BNF_CHAPTER_PLUS_CODE']].head()"
   ]
  },
  {
   "cell_type": "code",
   "execution_count": 39,
   "metadata": {},
   "outputs": [
    {
     "data": {
      "text/html": [
       "<div>\n",
       "<style scoped>\n",
       "    .dataframe tbody tr th:only-of-type {\n",
       "        vertical-align: middle;\n",
       "    }\n",
       "\n",
       "    .dataframe tbody tr th {\n",
       "        vertical-align: top;\n",
       "    }\n",
       "\n",
       "    .dataframe thead th {\n",
       "        text-align: right;\n",
       "    }\n",
       "</style>\n",
       "<table border=\"1\" class=\"dataframe\">\n",
       "  <thead>\n",
       "    <tr style=\"text-align: right;\">\n",
       "      <th></th>\n",
       "      <th>YEAR_MONTH</th>\n",
       "      <th>REGIONAL_OFFICE_NAME</th>\n",
       "      <th>REGIONAL_OFFICE_CODE</th>\n",
       "      <th>ICB_NAME</th>\n",
       "      <th>ICB_CODE</th>\n",
       "      <th>PCO_NAME</th>\n",
       "      <th>PCO_CODE</th>\n",
       "      <th>PRACTICE_NAME</th>\n",
       "      <th>PRACTICE_CODE</th>\n",
       "      <th>ADDRESS_1</th>\n",
       "      <th>...</th>\n",
       "      <th>BNF_CODE</th>\n",
       "      <th>BNF_DESCRIPTION</th>\n",
       "      <th>BNF_CHAPTER_PLUS_CODE</th>\n",
       "      <th>QUANTITY</th>\n",
       "      <th>ITEMS</th>\n",
       "      <th>TOTAL_QUANTITY</th>\n",
       "      <th>ADQUSAGE</th>\n",
       "      <th>NIC</th>\n",
       "      <th>ACTUAL_COST</th>\n",
       "      <th>UNIDENTIFIED</th>\n",
       "    </tr>\n",
       "  </thead>\n",
       "  <tbody>\n",
       "  </tbody>\n",
       "</table>\n",
       "<p>0 rows × 26 columns</p>\n",
       "</div>"
      ],
      "text/plain": [
       "Empty DataFrame\n",
       "Columns: [YEAR_MONTH, REGIONAL_OFFICE_NAME, REGIONAL_OFFICE_CODE, ICB_NAME, ICB_CODE, PCO_NAME, PCO_CODE, PRACTICE_NAME, PRACTICE_CODE, ADDRESS_1, ADDRESS_2, ADDRESS_3, ADDRESS_4, POSTCODE, BNF_CHEMICAL_SUBSTANCE, CHEMICAL_SUBSTANCE_BNF_DESCR, BNF_CODE, BNF_DESCRIPTION, BNF_CHAPTER_PLUS_CODE, QUANTITY, ITEMS, TOTAL_QUANTITY, ADQUSAGE, NIC, ACTUAL_COST, UNIDENTIFIED]\n",
       "Index: []\n",
       "\n",
       "[0 rows x 26 columns]"
      ]
     },
     "execution_count": 39,
     "metadata": {},
     "output_type": "execute_result"
    }
   ],
   "source": [
    "df_prescribe[df_prescribe['BNF_CODE']=='0411000D0']"
   ]
  },
  {
   "cell_type": "code",
   "execution_count": 40,
   "metadata": {},
   "outputs": [
    {
     "ename": "KeyboardInterrupt",
     "evalue": "",
     "output_type": "error",
     "traceback": [
      "\u001b[0;31m---------------------------------------------------------------------------\u001b[0m",
      "\u001b[0;31mKeyboardInterrupt\u001b[0m                         Traceback (most recent call last)",
      "Cell \u001b[0;32mIn[40], line 1\u001b[0m\n\u001b[0;32m----> 1\u001b[0m \u001b[43mdf_prescribe\u001b[49m\u001b[38;5;241;43m.\u001b[39;49m\u001b[43mapply\u001b[49m\u001b[43m(\u001b[49m\u001b[38;5;28;43;01mlambda\u001b[39;49;00m\u001b[43m \u001b[49m\u001b[43mrow\u001b[49m\u001b[43m:\u001b[49m\u001b[43m \u001b[49m\u001b[43mrow\u001b[49m\u001b[38;5;241;43m.\u001b[39;49m\u001b[43mastype\u001b[49m\u001b[43m(\u001b[49m\u001b[38;5;28;43mstr\u001b[39;49m\u001b[43m)\u001b[49m\u001b[38;5;241;43m.\u001b[39;49m\u001b[43mstr\u001b[49m\u001b[38;5;241;43m.\u001b[39;49m\u001b[43mcontains\u001b[49m\u001b[43m(\u001b[49m\u001b[38;5;124;43m'\u001b[39;49m\u001b[38;5;124;43mdonepezil\u001b[39;49m\u001b[38;5;124;43m'\u001b[39;49m\u001b[43m)\u001b[49m\u001b[38;5;241;43m.\u001b[39;49m\u001b[43many\u001b[49m\u001b[43m(\u001b[49m\u001b[43m)\u001b[49m\u001b[43m,\u001b[49m\u001b[43m \u001b[49m\u001b[43maxis\u001b[49m\u001b[38;5;241;43m=\u001b[39;49m\u001b[38;5;241;43m1\u001b[39;49m\u001b[43m)\u001b[49m\n",
      "File \u001b[0;32m~/miniconda3/envs/adu_env_dementia_ineq/lib/python3.10/site-packages/pandas/core/frame.py:10347\u001b[0m, in \u001b[0;36mDataFrame.apply\u001b[0;34m(self, func, axis, raw, result_type, args, by_row, engine, engine_kwargs, **kwargs)\u001b[0m\n\u001b[1;32m  10333\u001b[0m \u001b[38;5;28;01mfrom\u001b[39;00m \u001b[38;5;21;01mpandas\u001b[39;00m\u001b[38;5;21;01m.\u001b[39;00m\u001b[38;5;21;01mcore\u001b[39;00m\u001b[38;5;21;01m.\u001b[39;00m\u001b[38;5;21;01mapply\u001b[39;00m \u001b[38;5;28;01mimport\u001b[39;00m frame_apply\n\u001b[1;32m  10335\u001b[0m op \u001b[38;5;241m=\u001b[39m frame_apply(\n\u001b[1;32m  10336\u001b[0m     \u001b[38;5;28mself\u001b[39m,\n\u001b[1;32m  10337\u001b[0m     func\u001b[38;5;241m=\u001b[39mfunc,\n\u001b[0;32m   (...)\u001b[0m\n\u001b[1;32m  10345\u001b[0m     kwargs\u001b[38;5;241m=\u001b[39mkwargs,\n\u001b[1;32m  10346\u001b[0m )\n\u001b[0;32m> 10347\u001b[0m \u001b[38;5;28;01mreturn\u001b[39;00m \u001b[43mop\u001b[49m\u001b[38;5;241;43m.\u001b[39;49m\u001b[43mapply\u001b[49m\u001b[43m(\u001b[49m\u001b[43m)\u001b[49m\u001b[38;5;241m.\u001b[39m__finalize__(\u001b[38;5;28mself\u001b[39m, method\u001b[38;5;241m=\u001b[39m\u001b[38;5;124m\"\u001b[39m\u001b[38;5;124mapply\u001b[39m\u001b[38;5;124m\"\u001b[39m)\n",
      "File \u001b[0;32m~/miniconda3/envs/adu_env_dementia_ineq/lib/python3.10/site-packages/pandas/core/apply.py:916\u001b[0m, in \u001b[0;36mFrameApply.apply\u001b[0;34m(self)\u001b[0m\n\u001b[1;32m    913\u001b[0m \u001b[38;5;28;01melif\u001b[39;00m \u001b[38;5;28mself\u001b[39m\u001b[38;5;241m.\u001b[39mraw:\n\u001b[1;32m    914\u001b[0m     \u001b[38;5;28;01mreturn\u001b[39;00m \u001b[38;5;28mself\u001b[39m\u001b[38;5;241m.\u001b[39mapply_raw(engine\u001b[38;5;241m=\u001b[39m\u001b[38;5;28mself\u001b[39m\u001b[38;5;241m.\u001b[39mengine, engine_kwargs\u001b[38;5;241m=\u001b[39m\u001b[38;5;28mself\u001b[39m\u001b[38;5;241m.\u001b[39mengine_kwargs)\n\u001b[0;32m--> 916\u001b[0m \u001b[38;5;28;01mreturn\u001b[39;00m \u001b[38;5;28;43mself\u001b[39;49m\u001b[38;5;241;43m.\u001b[39;49m\u001b[43mapply_standard\u001b[49m\u001b[43m(\u001b[49m\u001b[43m)\u001b[49m\n",
      "File \u001b[0;32m~/miniconda3/envs/adu_env_dementia_ineq/lib/python3.10/site-packages/pandas/core/apply.py:1063\u001b[0m, in \u001b[0;36mFrameApply.apply_standard\u001b[0;34m(self)\u001b[0m\n\u001b[1;32m   1061\u001b[0m \u001b[38;5;28;01mdef\u001b[39;00m \u001b[38;5;21mapply_standard\u001b[39m(\u001b[38;5;28mself\u001b[39m):\n\u001b[1;32m   1062\u001b[0m     \u001b[38;5;28;01mif\u001b[39;00m \u001b[38;5;28mself\u001b[39m\u001b[38;5;241m.\u001b[39mengine \u001b[38;5;241m==\u001b[39m \u001b[38;5;124m\"\u001b[39m\u001b[38;5;124mpython\u001b[39m\u001b[38;5;124m\"\u001b[39m:\n\u001b[0;32m-> 1063\u001b[0m         results, res_index \u001b[38;5;241m=\u001b[39m \u001b[38;5;28;43mself\u001b[39;49m\u001b[38;5;241;43m.\u001b[39;49m\u001b[43mapply_series_generator\u001b[49m\u001b[43m(\u001b[49m\u001b[43m)\u001b[49m\n\u001b[1;32m   1064\u001b[0m     \u001b[38;5;28;01melse\u001b[39;00m:\n\u001b[1;32m   1065\u001b[0m         results, res_index \u001b[38;5;241m=\u001b[39m \u001b[38;5;28mself\u001b[39m\u001b[38;5;241m.\u001b[39mapply_series_numba()\n",
      "File \u001b[0;32m~/miniconda3/envs/adu_env_dementia_ineq/lib/python3.10/site-packages/pandas/core/apply.py:1081\u001b[0m, in \u001b[0;36mFrameApply.apply_series_generator\u001b[0;34m(self)\u001b[0m\n\u001b[1;32m   1078\u001b[0m \u001b[38;5;28;01mwith\u001b[39;00m option_context(\u001b[38;5;124m\"\u001b[39m\u001b[38;5;124mmode.chained_assignment\u001b[39m\u001b[38;5;124m\"\u001b[39m, \u001b[38;5;28;01mNone\u001b[39;00m):\n\u001b[1;32m   1079\u001b[0m     \u001b[38;5;28;01mfor\u001b[39;00m i, v \u001b[38;5;129;01min\u001b[39;00m \u001b[38;5;28menumerate\u001b[39m(series_gen):\n\u001b[1;32m   1080\u001b[0m         \u001b[38;5;66;03m# ignore SettingWithCopy here in case the user mutates\u001b[39;00m\n\u001b[0;32m-> 1081\u001b[0m         results[i] \u001b[38;5;241m=\u001b[39m \u001b[38;5;28;43mself\u001b[39;49m\u001b[38;5;241;43m.\u001b[39;49m\u001b[43mfunc\u001b[49m\u001b[43m(\u001b[49m\u001b[43mv\u001b[49m\u001b[43m,\u001b[49m\u001b[43m \u001b[49m\u001b[38;5;241;43m*\u001b[39;49m\u001b[38;5;28;43mself\u001b[39;49m\u001b[38;5;241;43m.\u001b[39;49m\u001b[43margs\u001b[49m\u001b[43m,\u001b[49m\u001b[43m \u001b[49m\u001b[38;5;241;43m*\u001b[39;49m\u001b[38;5;241;43m*\u001b[39;49m\u001b[38;5;28;43mself\u001b[39;49m\u001b[38;5;241;43m.\u001b[39;49m\u001b[43mkwargs\u001b[49m\u001b[43m)\u001b[49m\n\u001b[1;32m   1082\u001b[0m         \u001b[38;5;28;01mif\u001b[39;00m \u001b[38;5;28misinstance\u001b[39m(results[i], ABCSeries):\n\u001b[1;32m   1083\u001b[0m             \u001b[38;5;66;03m# If we have a view on v, we need to make a copy because\u001b[39;00m\n\u001b[1;32m   1084\u001b[0m             \u001b[38;5;66;03m#  series_generator will swap out the underlying data\u001b[39;00m\n\u001b[1;32m   1085\u001b[0m             results[i] \u001b[38;5;241m=\u001b[39m results[i]\u001b[38;5;241m.\u001b[39mcopy(deep\u001b[38;5;241m=\u001b[39m\u001b[38;5;28;01mFalse\u001b[39;00m)\n",
      "Cell \u001b[0;32mIn[40], line 1\u001b[0m, in \u001b[0;36m<lambda>\u001b[0;34m(row)\u001b[0m\n\u001b[0;32m----> 1\u001b[0m df_prescribe\u001b[38;5;241m.\u001b[39mapply(\u001b[38;5;28;01mlambda\u001b[39;00m row: \u001b[43mrow\u001b[49m\u001b[38;5;241;43m.\u001b[39;49m\u001b[43mastype\u001b[49m\u001b[43m(\u001b[49m\u001b[38;5;28;43mstr\u001b[39;49m\u001b[43m)\u001b[49m\u001b[38;5;241m.\u001b[39mstr\u001b[38;5;241m.\u001b[39mcontains(\u001b[38;5;124m'\u001b[39m\u001b[38;5;124mdonepezil\u001b[39m\u001b[38;5;124m'\u001b[39m)\u001b[38;5;241m.\u001b[39many(), axis\u001b[38;5;241m=\u001b[39m\u001b[38;5;241m1\u001b[39m)\n",
      "File \u001b[0;32m~/miniconda3/envs/adu_env_dementia_ineq/lib/python3.10/site-packages/pandas/core/generic.py:6637\u001b[0m, in \u001b[0;36mNDFrame.astype\u001b[0;34m(self, dtype, copy, errors)\u001b[0m\n\u001b[1;32m   6631\u001b[0m     results \u001b[38;5;241m=\u001b[39m [\n\u001b[1;32m   6632\u001b[0m         ser\u001b[38;5;241m.\u001b[39mastype(dtype, copy\u001b[38;5;241m=\u001b[39mcopy, errors\u001b[38;5;241m=\u001b[39merrors) \u001b[38;5;28;01mfor\u001b[39;00m _, ser \u001b[38;5;129;01min\u001b[39;00m \u001b[38;5;28mself\u001b[39m\u001b[38;5;241m.\u001b[39mitems()\n\u001b[1;32m   6633\u001b[0m     ]\n\u001b[1;32m   6635\u001b[0m \u001b[38;5;28;01melse\u001b[39;00m:\n\u001b[1;32m   6636\u001b[0m     \u001b[38;5;66;03m# else, only a single dtype is given\u001b[39;00m\n\u001b[0;32m-> 6637\u001b[0m     new_data \u001b[38;5;241m=\u001b[39m \u001b[38;5;28;43mself\u001b[39;49m\u001b[38;5;241;43m.\u001b[39;49m\u001b[43m_mgr\u001b[49m\u001b[38;5;241;43m.\u001b[39;49m\u001b[43mastype\u001b[49m\u001b[43m(\u001b[49m\u001b[43mdtype\u001b[49m\u001b[38;5;241;43m=\u001b[39;49m\u001b[43mdtype\u001b[49m\u001b[43m,\u001b[49m\u001b[43m \u001b[49m\u001b[43mcopy\u001b[49m\u001b[38;5;241;43m=\u001b[39;49m\u001b[43mcopy\u001b[49m\u001b[43m,\u001b[49m\u001b[43m \u001b[49m\u001b[43merrors\u001b[49m\u001b[38;5;241;43m=\u001b[39;49m\u001b[43merrors\u001b[49m\u001b[43m)\u001b[49m\n\u001b[1;32m   6638\u001b[0m     res \u001b[38;5;241m=\u001b[39m \u001b[38;5;28mself\u001b[39m\u001b[38;5;241m.\u001b[39m_constructor_from_mgr(new_data, axes\u001b[38;5;241m=\u001b[39mnew_data\u001b[38;5;241m.\u001b[39maxes)\n\u001b[1;32m   6639\u001b[0m     \u001b[38;5;28;01mreturn\u001b[39;00m res\u001b[38;5;241m.\u001b[39m__finalize__(\u001b[38;5;28mself\u001b[39m, method\u001b[38;5;241m=\u001b[39m\u001b[38;5;124m\"\u001b[39m\u001b[38;5;124mastype\u001b[39m\u001b[38;5;124m\"\u001b[39m)\n",
      "File \u001b[0;32m~/miniconda3/envs/adu_env_dementia_ineq/lib/python3.10/site-packages/pandas/core/internals/managers.py:431\u001b[0m, in \u001b[0;36mBaseBlockManager.astype\u001b[0;34m(self, dtype, copy, errors)\u001b[0m\n\u001b[1;32m    428\u001b[0m \u001b[38;5;28;01melif\u001b[39;00m using_copy_on_write():\n\u001b[1;32m    429\u001b[0m     copy \u001b[38;5;241m=\u001b[39m \u001b[38;5;28;01mFalse\u001b[39;00m\n\u001b[0;32m--> 431\u001b[0m \u001b[38;5;28;01mreturn\u001b[39;00m \u001b[38;5;28;43mself\u001b[39;49m\u001b[38;5;241;43m.\u001b[39;49m\u001b[43mapply\u001b[49m\u001b[43m(\u001b[49m\n\u001b[1;32m    432\u001b[0m \u001b[43m    \u001b[49m\u001b[38;5;124;43m\"\u001b[39;49m\u001b[38;5;124;43mastype\u001b[39;49m\u001b[38;5;124;43m\"\u001b[39;49m\u001b[43m,\u001b[49m\n\u001b[1;32m    433\u001b[0m \u001b[43m    \u001b[49m\u001b[43mdtype\u001b[49m\u001b[38;5;241;43m=\u001b[39;49m\u001b[43mdtype\u001b[49m\u001b[43m,\u001b[49m\n\u001b[1;32m    434\u001b[0m \u001b[43m    \u001b[49m\u001b[43mcopy\u001b[49m\u001b[38;5;241;43m=\u001b[39;49m\u001b[43mcopy\u001b[49m\u001b[43m,\u001b[49m\n\u001b[1;32m    435\u001b[0m \u001b[43m    \u001b[49m\u001b[43merrors\u001b[49m\u001b[38;5;241;43m=\u001b[39;49m\u001b[43merrors\u001b[49m\u001b[43m,\u001b[49m\n\u001b[1;32m    436\u001b[0m \u001b[43m    \u001b[49m\u001b[43musing_cow\u001b[49m\u001b[38;5;241;43m=\u001b[39;49m\u001b[43musing_copy_on_write\u001b[49m\u001b[43m(\u001b[49m\u001b[43m)\u001b[49m\u001b[43m,\u001b[49m\n\u001b[1;32m    437\u001b[0m \u001b[43m\u001b[49m\u001b[43m)\u001b[49m\n",
      "File \u001b[0;32m~/miniconda3/envs/adu_env_dementia_ineq/lib/python3.10/site-packages/pandas/core/internals/managers.py:364\u001b[0m, in \u001b[0;36mBaseBlockManager.apply\u001b[0;34m(self, f, align_keys, **kwargs)\u001b[0m\n\u001b[1;32m    362\u001b[0m         applied \u001b[38;5;241m=\u001b[39m b\u001b[38;5;241m.\u001b[39mapply(f, \u001b[38;5;241m*\u001b[39m\u001b[38;5;241m*\u001b[39mkwargs)\n\u001b[1;32m    363\u001b[0m     \u001b[38;5;28;01melse\u001b[39;00m:\n\u001b[0;32m--> 364\u001b[0m         applied \u001b[38;5;241m=\u001b[39m \u001b[38;5;28;43mgetattr\u001b[39;49m\u001b[43m(\u001b[49m\u001b[43mb\u001b[49m\u001b[43m,\u001b[49m\u001b[43m \u001b[49m\u001b[43mf\u001b[49m\u001b[43m)\u001b[49m\u001b[43m(\u001b[49m\u001b[38;5;241;43m*\u001b[39;49m\u001b[38;5;241;43m*\u001b[39;49m\u001b[43mkwargs\u001b[49m\u001b[43m)\u001b[49m\n\u001b[1;32m    365\u001b[0m     result_blocks \u001b[38;5;241m=\u001b[39m extend_blocks(applied, result_blocks)\n\u001b[1;32m    367\u001b[0m out \u001b[38;5;241m=\u001b[39m \u001b[38;5;28mtype\u001b[39m(\u001b[38;5;28mself\u001b[39m)\u001b[38;5;241m.\u001b[39mfrom_blocks(result_blocks, \u001b[38;5;28mself\u001b[39m\u001b[38;5;241m.\u001b[39maxes)\n",
      "File \u001b[0;32m~/miniconda3/envs/adu_env_dementia_ineq/lib/python3.10/site-packages/pandas/core/internals/blocks.py:758\u001b[0m, in \u001b[0;36mBlock.astype\u001b[0;34m(self, dtype, copy, errors, using_cow, squeeze)\u001b[0m\n\u001b[1;32m    755\u001b[0m         \u001b[38;5;28;01mraise\u001b[39;00m \u001b[38;5;167;01mValueError\u001b[39;00m(\u001b[38;5;124m\"\u001b[39m\u001b[38;5;124mCan not squeeze with more than one column.\u001b[39m\u001b[38;5;124m\"\u001b[39m)\n\u001b[1;32m    756\u001b[0m     values \u001b[38;5;241m=\u001b[39m values[\u001b[38;5;241m0\u001b[39m, :]  \u001b[38;5;66;03m# type: ignore[call-overload]\u001b[39;00m\n\u001b[0;32m--> 758\u001b[0m new_values \u001b[38;5;241m=\u001b[39m \u001b[43mastype_array_safe\u001b[49m\u001b[43m(\u001b[49m\u001b[43mvalues\u001b[49m\u001b[43m,\u001b[49m\u001b[43m \u001b[49m\u001b[43mdtype\u001b[49m\u001b[43m,\u001b[49m\u001b[43m \u001b[49m\u001b[43mcopy\u001b[49m\u001b[38;5;241;43m=\u001b[39;49m\u001b[43mcopy\u001b[49m\u001b[43m,\u001b[49m\u001b[43m \u001b[49m\u001b[43merrors\u001b[49m\u001b[38;5;241;43m=\u001b[39;49m\u001b[43merrors\u001b[49m\u001b[43m)\u001b[49m\n\u001b[1;32m    760\u001b[0m new_values \u001b[38;5;241m=\u001b[39m maybe_coerce_values(new_values)\n\u001b[1;32m    762\u001b[0m refs \u001b[38;5;241m=\u001b[39m \u001b[38;5;28;01mNone\u001b[39;00m\n",
      "File \u001b[0;32m~/miniconda3/envs/adu_env_dementia_ineq/lib/python3.10/site-packages/pandas/core/dtypes/astype.py:231\u001b[0m, in \u001b[0;36mastype_array_safe\u001b[0;34m(values, dtype, copy, errors)\u001b[0m\n\u001b[1;32m    225\u001b[0m     msg \u001b[38;5;241m=\u001b[39m (\n\u001b[1;32m    226\u001b[0m         \u001b[38;5;124mf\u001b[39m\u001b[38;5;124m\"\u001b[39m\u001b[38;5;124mExpected an instance of \u001b[39m\u001b[38;5;132;01m{\u001b[39;00mdtype\u001b[38;5;241m.\u001b[39m\u001b[38;5;18m__name__\u001b[39m\u001b[38;5;132;01m}\u001b[39;00m\u001b[38;5;124m, \u001b[39m\u001b[38;5;124m\"\u001b[39m\n\u001b[1;32m    227\u001b[0m         \u001b[38;5;124m\"\u001b[39m\u001b[38;5;124mbut got the class instead. Try instantiating \u001b[39m\u001b[38;5;124m'\u001b[39m\u001b[38;5;124mdtype\u001b[39m\u001b[38;5;124m'\u001b[39m\u001b[38;5;124m.\u001b[39m\u001b[38;5;124m\"\u001b[39m\n\u001b[1;32m    228\u001b[0m     )\n\u001b[1;32m    229\u001b[0m     \u001b[38;5;28;01mraise\u001b[39;00m \u001b[38;5;167;01mTypeError\u001b[39;00m(msg)\n\u001b[0;32m--> 231\u001b[0m dtype \u001b[38;5;241m=\u001b[39m \u001b[43mpandas_dtype\u001b[49m\u001b[43m(\u001b[49m\u001b[43mdtype\u001b[49m\u001b[43m)\u001b[49m\n\u001b[1;32m    232\u001b[0m \u001b[38;5;28;01mif\u001b[39;00m \u001b[38;5;28misinstance\u001b[39m(dtype, NumpyEADtype):\n\u001b[1;32m    233\u001b[0m     \u001b[38;5;66;03m# Ensure we don't end up with a NumpyExtensionArray\u001b[39;00m\n\u001b[1;32m    234\u001b[0m     dtype \u001b[38;5;241m=\u001b[39m dtype\u001b[38;5;241m.\u001b[39mnumpy_dtype\n",
      "File \u001b[0;32m~/miniconda3/envs/adu_env_dementia_ineq/lib/python3.10/site-packages/pandas/core/dtypes/common.py:1625\u001b[0m, in \u001b[0;36mpandas_dtype\u001b[0;34m(dtype)\u001b[0m\n\u001b[1;32m   1622\u001b[0m \u001b[38;5;66;03m# try a numpy dtype\u001b[39;00m\n\u001b[1;32m   1623\u001b[0m \u001b[38;5;66;03m# raise a consistent TypeError if failed\u001b[39;00m\n\u001b[1;32m   1624\u001b[0m \u001b[38;5;28;01mtry\u001b[39;00m:\n\u001b[0;32m-> 1625\u001b[0m     \u001b[38;5;28;01mwith\u001b[39;00m \u001b[43mwarnings\u001b[49m\u001b[38;5;241;43m.\u001b[39;49m\u001b[43mcatch_warnings\u001b[49m\u001b[43m(\u001b[49m\u001b[43m)\u001b[49m:\n\u001b[1;32m   1626\u001b[0m         \u001b[38;5;66;03m# GH#51523 - Series.astype(np.integer) doesn't show\u001b[39;00m\n\u001b[1;32m   1627\u001b[0m         \u001b[38;5;66;03m# numpy deprecation warning of np.integer\u001b[39;00m\n\u001b[1;32m   1628\u001b[0m         \u001b[38;5;66;03m# Hence enabling DeprecationWarning\u001b[39;00m\n\u001b[1;32m   1629\u001b[0m         warnings\u001b[38;5;241m.\u001b[39msimplefilter(\u001b[38;5;124m\"\u001b[39m\u001b[38;5;124malways\u001b[39m\u001b[38;5;124m\"\u001b[39m, \u001b[38;5;167;01mDeprecationWarning\u001b[39;00m)\n\u001b[1;32m   1630\u001b[0m         npdtype \u001b[38;5;241m=\u001b[39m np\u001b[38;5;241m.\u001b[39mdtype(dtype)\n",
      "File \u001b[0;32m~/miniconda3/envs/adu_env_dementia_ineq/lib/python3.10/warnings.py:437\u001b[0m, in \u001b[0;36mcatch_warnings.__init__\u001b[0;34m(self, record, module)\u001b[0m\n\u001b[1;32m    420\u001b[0m \u001b[38;5;28;01mclass\u001b[39;00m \u001b[38;5;21;01mcatch_warnings\u001b[39;00m(\u001b[38;5;28mobject\u001b[39m):\n\u001b[1;32m    422\u001b[0m \u001b[38;5;250m    \u001b[39m\u001b[38;5;124;03m\"\"\"A context manager that copies and restores the warnings filter upon\u001b[39;00m\n\u001b[1;32m    423\u001b[0m \u001b[38;5;124;03m    exiting the context.\u001b[39;00m\n\u001b[1;32m    424\u001b[0m \n\u001b[0;32m   (...)\u001b[0m\n\u001b[1;32m    434\u001b[0m \n\u001b[1;32m    435\u001b[0m \u001b[38;5;124;03m    \"\"\"\u001b[39;00m\n\u001b[0;32m--> 437\u001b[0m     \u001b[38;5;28;01mdef\u001b[39;00m \u001b[38;5;21m__init__\u001b[39m(\u001b[38;5;28mself\u001b[39m, \u001b[38;5;241m*\u001b[39m, record\u001b[38;5;241m=\u001b[39m\u001b[38;5;28;01mFalse\u001b[39;00m, module\u001b[38;5;241m=\u001b[39m\u001b[38;5;28;01mNone\u001b[39;00m):\n\u001b[1;32m    438\u001b[0m \u001b[38;5;250m        \u001b[39m\u001b[38;5;124;03m\"\"\"Specify whether to record warnings and if an alternative module\u001b[39;00m\n\u001b[1;32m    439\u001b[0m \u001b[38;5;124;03m        should be used other than sys.modules['warnings'].\u001b[39;00m\n\u001b[1;32m    440\u001b[0m \n\u001b[0;32m   (...)\u001b[0m\n\u001b[1;32m    443\u001b[0m \n\u001b[1;32m    444\u001b[0m \u001b[38;5;124;03m        \"\"\"\u001b[39;00m\n\u001b[1;32m    445\u001b[0m         \u001b[38;5;28mself\u001b[39m\u001b[38;5;241m.\u001b[39m_record \u001b[38;5;241m=\u001b[39m record\n",
      "\u001b[0;31mKeyboardInterrupt\u001b[0m: "
     ]
    }
   ],
   "source": [
    "df_prescribe.apply(lambda row: row.astype(str).str.contains('donepezil').any(), axis=1)"
   ]
  },
  {
   "cell_type": "code",
   "execution_count": null,
   "metadata": {},
   "outputs": [],
   "source": [
    "# Want to reduce the dataframe down as much as possible \n",
    "df_prescribe[['PRACTICE_CODE', 'BNF_CODE', 'BNF_DESCRIPTION', 'ITEMS']]"
   ]
  }
 ],
 "metadata": {
  "kernelspec": {
   "display_name": "python3",
   "language": "python",
   "name": "python3"
  },
  "language_info": {
   "codemirror_mode": {
    "name": "ipython",
    "version": 3
   },
   "file_extension": ".py",
   "mimetype": "text/x-python",
   "name": "python",
   "nbconvert_exporter": "python",
   "pygments_lexer": "ipython3",
   "version": "3.10.13"
  }
 },
 "nbformat": 4,
 "nbformat_minor": 4
}
