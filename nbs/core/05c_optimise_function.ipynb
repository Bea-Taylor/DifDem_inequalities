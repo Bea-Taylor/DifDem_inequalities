{
 "cells": [
  {
   "cell_type": "markdown",
   "metadata": {},
   "source": [
    "# 05c parameter optimisation "
   ]
  },
  {
   "cell_type": "code",
   "execution_count": 1,
   "metadata": {},
   "outputs": [],
   "source": [
    "#|default_exp core.05c_parameter_optimisation"
   ]
  },
  {
   "cell_type": "code",
   "execution_count": 2,
   "metadata": {},
   "outputs": [],
   "source": [
    "#|export\n",
    "import autograd.numpy as np\n",
    "from autograd import grad, jacobian, hessian\n",
    "from scipy.optimize import minimize\n",
    "import scipy.stats as stat\n",
    "import pandas as pd\n",
    "from matplotlib import pyplot as plt\n",
    "\n",
    "from dementia_inequalities import const, log, utils, tools "
   ]
  },
  {
   "cell_type": "markdown",
   "metadata": {},
   "source": [
    "---"
   ]
  },
  {
   "cell_type": "code",
   "execution_count": 3,
   "metadata": {},
   "outputs": [],
   "source": [
    "#|export \n",
    "df_dem_plus = pd.read_csv(const.output_path+'/df_dem_plus.csv')"
   ]
  },
  {
   "cell_type": "code",
   "execution_count": 4,
   "metadata": {},
   "outputs": [
    {
     "data": {
      "text/html": [
       "<div>\n",
       "<style scoped>\n",
       "    .dataframe tbody tr th:only-of-type {\n",
       "        vertical-align: middle;\n",
       "    }\n",
       "\n",
       "    .dataframe tbody tr th {\n",
       "        vertical-align: top;\n",
       "    }\n",
       "\n",
       "    .dataframe thead th {\n",
       "        text-align: right;\n",
       "    }\n",
       "</style>\n",
       "<table border=\"1\" class=\"dataframe\">\n",
       "  <thead>\n",
       "    <tr style=\"text-align: right;\">\n",
       "      <th></th>\n",
       "      <th>area_code</th>\n",
       "      <th>area_name</th>\n",
       "      <th>pop</th>\n",
       "      <th>DEM_afflicted</th>\n",
       "      <th>HYP_afflicted</th>\n",
       "      <th>DM_afflicted</th>\n",
       "      <th>STIA_afflicted</th>\n",
       "      <th>ALevel_plus</th>\n",
       "      <th>Female_all</th>\n",
       "      <th>Male_all</th>\n",
       "      <th>...</th>\n",
       "      <th>white_pc</th>\n",
       "      <th>DEM_afflicted_pc</th>\n",
       "      <th>ALevel_plus_pc</th>\n",
       "      <th>over_65_pc</th>\n",
       "      <th>female_pc</th>\n",
       "      <th>HYP_afflicted_pc</th>\n",
       "      <th>DM_afflicted_pc</th>\n",
       "      <th>STIA_afflicted_pc</th>\n",
       "      <th>GP_contribution_to_LAD</th>\n",
       "      <th>GP_LAD_pc</th>\n",
       "    </tr>\n",
       "  </thead>\n",
       "  <tbody>\n",
       "    <tr>\n",
       "      <th>0</th>\n",
       "      <td>E07000091</td>\n",
       "      <td>New Forest</td>\n",
       "      <td>151481</td>\n",
       "      <td>1858.546949</td>\n",
       "      <td>28892.139020</td>\n",
       "      <td>9338.695410</td>\n",
       "      <td>4466.648271</td>\n",
       "      <td>72749.0</td>\n",
       "      <td>91513.3596</td>\n",
       "      <td>84729.6073</td>\n",
       "      <td>...</td>\n",
       "      <td>93.2</td>\n",
       "      <td>1.226918</td>\n",
       "      <td>48.025165</td>\n",
       "      <td>34.275376</td>\n",
       "      <td>60.412434</td>\n",
       "      <td>19.073111</td>\n",
       "      <td>6.164929</td>\n",
       "      <td>2.948652</td>\n",
       "      <td>215.158147</td>\n",
       "      <td>0.142036</td>\n",
       "    </tr>\n",
       "    <tr>\n",
       "      <th>1</th>\n",
       "      <td>E09000027</td>\n",
       "      <td>Richmond upon Thames</td>\n",
       "      <td>156795</td>\n",
       "      <td>1016.262785</td>\n",
       "      <td>16263.714161</td>\n",
       "      <td>5723.913130</td>\n",
       "      <td>2019.443594</td>\n",
       "      <td>112919.0</td>\n",
       "      <td>101226.6730</td>\n",
       "      <td>93918.3682</td>\n",
       "      <td>...</td>\n",
       "      <td>63.0</td>\n",
       "      <td>0.648147</td>\n",
       "      <td>72.016965</td>\n",
       "      <td>20.177787</td>\n",
       "      <td>64.559886</td>\n",
       "      <td>10.372597</td>\n",
       "      <td>3.650571</td>\n",
       "      <td>1.287952</td>\n",
       "      <td>437.450820</td>\n",
       "      <td>0.278995</td>\n",
       "    </tr>\n",
       "    <tr>\n",
       "      <th>2</th>\n",
       "      <td>E07000116</td>\n",
       "      <td>Tunbridge Wells</td>\n",
       "      <td>95022</td>\n",
       "      <td>876.255260</td>\n",
       "      <td>12908.434533</td>\n",
       "      <td>4606.674451</td>\n",
       "      <td>1889.024705</td>\n",
       "      <td>52395.0</td>\n",
       "      <td>59540.1412</td>\n",
       "      <td>56126.1458</td>\n",
       "      <td>...</td>\n",
       "      <td>84.2</td>\n",
       "      <td>0.922160</td>\n",
       "      <td>55.139862</td>\n",
       "      <td>23.752404</td>\n",
       "      <td>62.659322</td>\n",
       "      <td>13.584680</td>\n",
       "      <td>4.848008</td>\n",
       "      <td>1.987987</td>\n",
       "      <td>123.466346</td>\n",
       "      <td>0.129934</td>\n",
       "    </tr>\n",
       "    <tr>\n",
       "      <th>3</th>\n",
       "      <td>E07000121</td>\n",
       "      <td>Lancaster</td>\n",
       "      <td>123214</td>\n",
       "      <td>1228.376774</td>\n",
       "      <td>16806.421220</td>\n",
       "      <td>6784.714317</td>\n",
       "      <td>2647.583108</td>\n",
       "      <td>65724.0</td>\n",
       "      <td>72615.6480</td>\n",
       "      <td>69496.5141</td>\n",
       "      <td>...</td>\n",
       "      <td>87.8</td>\n",
       "      <td>0.996946</td>\n",
       "      <td>53.341341</td>\n",
       "      <td>23.914299</td>\n",
       "      <td>58.934576</td>\n",
       "      <td>13.640026</td>\n",
       "      <td>5.506448</td>\n",
       "      <td>2.148768</td>\n",
       "      <td>612.399689</td>\n",
       "      <td>0.497021</td>\n",
       "    </tr>\n",
       "    <tr>\n",
       "      <th>4</th>\n",
       "      <td>E07000042</td>\n",
       "      <td>Mid Devon</td>\n",
       "      <td>67987</td>\n",
       "      <td>547.793487</td>\n",
       "      <td>10854.465333</td>\n",
       "      <td>4281.878984</td>\n",
       "      <td>1530.207441</td>\n",
       "      <td>33190.0</td>\n",
       "      <td>42541.3752</td>\n",
       "      <td>40639.6312</td>\n",
       "      <td>...</td>\n",
       "      <td>93.8</td>\n",
       "      <td>0.805733</td>\n",
       "      <td>48.818156</td>\n",
       "      <td>29.486050</td>\n",
       "      <td>62.572808</td>\n",
       "      <td>15.965501</td>\n",
       "      <td>6.298085</td>\n",
       "      <td>2.250735</td>\n",
       "      <td>77.360723</td>\n",
       "      <td>0.113788</td>\n",
       "    </tr>\n",
       "  </tbody>\n",
       "</table>\n",
       "<p>5 rows × 24 columns</p>\n",
       "</div>"
      ],
      "text/plain": [
       "   area_code             area_name     pop  DEM_afflicted  HYP_afflicted  \\\n",
       "0  E07000091            New Forest  151481    1858.546949   28892.139020   \n",
       "1  E09000027  Richmond upon Thames  156795    1016.262785   16263.714161   \n",
       "2  E07000116       Tunbridge Wells   95022     876.255260   12908.434533   \n",
       "3  E07000121             Lancaster  123214    1228.376774   16806.421220   \n",
       "4  E07000042             Mid Devon   67987     547.793487   10854.465333   \n",
       "\n",
       "   DM_afflicted  STIA_afflicted  ALevel_plus   Female_all    Male_all  ...  \\\n",
       "0   9338.695410     4466.648271      72749.0   91513.3596  84729.6073  ...   \n",
       "1   5723.913130     2019.443594     112919.0  101226.6730  93918.3682  ...   \n",
       "2   4606.674451     1889.024705      52395.0   59540.1412  56126.1458  ...   \n",
       "3   6784.714317     2647.583108      65724.0   72615.6480  69496.5141  ...   \n",
       "4   4281.878984     1530.207441      33190.0   42541.3752  40639.6312  ...   \n",
       "\n",
       "   white_pc  DEM_afflicted_pc  ALevel_plus_pc  over_65_pc  female_pc  \\\n",
       "0      93.2          1.226918       48.025165   34.275376  60.412434   \n",
       "1      63.0          0.648147       72.016965   20.177787  64.559886   \n",
       "2      84.2          0.922160       55.139862   23.752404  62.659322   \n",
       "3      87.8          0.996946       53.341341   23.914299  58.934576   \n",
       "4      93.8          0.805733       48.818156   29.486050  62.572808   \n",
       "\n",
       "   HYP_afflicted_pc  DM_afflicted_pc  STIA_afflicted_pc  \\\n",
       "0         19.073111         6.164929           2.948652   \n",
       "1         10.372597         3.650571           1.287952   \n",
       "2         13.584680         4.848008           1.987987   \n",
       "3         13.640026         5.506448           2.148768   \n",
       "4         15.965501         6.298085           2.250735   \n",
       "\n",
       "   GP_contribution_to_LAD  GP_LAD_pc  \n",
       "0              215.158147   0.142036  \n",
       "1              437.450820   0.278995  \n",
       "2              123.466346   0.129934  \n",
       "3              612.399689   0.497021  \n",
       "4               77.360723   0.113788  \n",
       "\n",
       "[5 rows x 24 columns]"
      ]
     },
     "execution_count": 4,
     "metadata": {},
     "output_type": "execute_result"
    }
   ],
   "source": [
    "df_dem_plus.head()"
   ]
  },
  {
   "cell_type": "code",
   "execution_count": 5,
   "metadata": {},
   "outputs": [],
   "source": [
    "# The real dementia x and y data \n",
    "\n",
    "# covariates \n",
    "covar = ['over_65_pc', 'female_pc', 'ALevel_plus_pc', 'white_pc', 'HYP_afflicted_pc', 'DM_afflicted_pc', 'STIA_afflicted_pc', 'GP_LAD_pc']\n",
    "\n",
    "# Input data \n",
    "x = np.array(df_dem_plus[covar].values.reshape(-1,len(covar)))\n",
    "\n",
    "# Outcome data \n",
    "y = np.array(df_dem_plus['DEM_afflicted_pc'].values.reshape(-1,1))"
   ]
  },
  {
   "cell_type": "markdown",
   "metadata": {},
   "source": [
    "### Optimise the negative log likelihood \n",
    "\n",
    "We evaluate the log-likelihood using the maximise function from scikit-learn. This code is written with a little help from my firend ChatGPT - actually it generated the intial code - then I re-wrote 70% of it... \n",
    "\n",
    "*Note*: we need the likelihood to be the reflected & shifted log normal - which has an extra parameter (delta) compared to the log normal [see here](https://stats.stackexchange.com/questions/379980/understanding-the-shifted-log-normal-distribution). \n",
    "\n",
    "The shifted log-normal PDF at $x$ is: \n",
    "\n",
    "$$\n",
    "p(x|x>\\delta, \\delta, \\mu, \\sigma) = \n",
    "\\frac{1}{(x-\\delta)\\sigma \\sqrt{2 \\pi}} e^{-\\frac{1}{2 \\sigma^2}(ln(x- \\delta)-\\mu)^2}\n",
    "$$\n",
    "\n",
    "The reflected & shifted log-normal PDF at $x$ is: \n",
    "\n",
    "$$\n",
    "p(x|x<\\delta, \\delta, \\mu, \\sigma) = \n",
    "\\frac{1}{(\\delta - x)\\sigma \\sqrt{2 \\pi}} e^{-\\frac{1}{2 \\sigma^2}(ln(\\delta - x)-\\mu)^2}\n",
    "$$\n",
    "\n",
    "In the log-normal distribution, \n",
    "- $\\mu$ is the scale parameter - it stretches and compresses\n",
    "- $\\sigma$ is a shape parameter - it controls how skewed/heavy tailed the distribution is. \n",
    "- $\\delta$ is the shift parameter - here the shift is the linear equation: $\\delta = \\beta X$.\n",
    "\n",
    "Since, we are taking $y_i$ to represent the observed diagnoses, and $\\beta X$ to represent the expected a lower bound on the true prevalence rate we have:  \n",
    "\n",
    "$$\n",
    "y_i=\\beta X_i - \\epsilon \n",
    "$$ \n",
    "\n",
    "Where $\\epsilon > 0$. \n",
    "\n",
    "We can visualise what the reflected & shifted log normal looks like:\n",
    "\n",
    "\n"
   ]
  },
  {
   "cell_type": "code",
   "execution_count": 6,
   "metadata": {},
   "outputs": [],
   "source": [
    "# This is the function to use for plotting \n",
    "def reverse_shift_log_normal_pdf(x, delta, mu, sigma):\n",
    "    pdf = []\n",
    "    for i, x_i in enumerate(x):\n",
    "        if delta[i] < x_i: \n",
    "            pdf.append(0)\n",
    "        else: \n",
    "            x_shift = delta[i] - x_i\n",
    "            norm_const = 1 / ((x_shift) * sigma * np.sqrt(2 * np.pi))\n",
    "            exp_part = np.exp(-1 * (1 / (2 * sigma ** 2)) * (np.log(np.subtract(x_shift, mu)) ** 2))\n",
    "            pdf.append(norm_const.squeeze() * exp_part.squeeze())\n",
    "            \n",
    "    return np.array(pdf)\n",
    "\n",
    "def log_norm_mode(mu:int, # mean of the variables log\n",
    "                  sigma:int): # standard deviation of the variables log\n",
    "    return np.exp(mu - sigma**2)"
   ]
  },
  {
   "cell_type": "code",
   "execution_count": 7,
   "metadata": {},
   "outputs": [
    {
     "name": "stderr",
     "output_type": "stream",
     "text": [
      "/var/folders/4n/x6w1yfcx01qbymrsfpz4ybq00000gn/T/ipykernel_11183/489481298.py:9: RuntimeWarning: divide by zero encountered in scalar divide\n",
      "  norm_const = 1 / ((x_shift) * sigma * np.sqrt(2 * np.pi))\n",
      "/Users/bea/miniconda3/envs/adu_env_dementia_ineq/lib/python3.10/site-packages/autograd/tracer.py:48: RuntimeWarning: divide by zero encountered in log\n",
      "  return f_raw(*args, **kwargs)\n",
      "/var/folders/4n/x6w1yfcx01qbymrsfpz4ybq00000gn/T/ipykernel_11183/489481298.py:11: RuntimeWarning: invalid value encountered in scalar multiply\n",
      "  pdf.append(norm_const.squeeze() * exp_part.squeeze())\n"
     ]
    },
    {
     "data": {
      "image/png": "[encoded data removed]",
      "text/plain": [
       "<Figure size 640x480 with 1 Axes>"
      ]
     },
     "metadata": {},
     "output_type": "display_data"
    }
   ],
   "source": [
    "# Parameters for log-normal distribution\n",
    "mu_0 = 0  # Mean\n",
    "sigma_0 = 1\n",
    "shift = 5 # Shift \n",
    "\n",
    "x_axis = np.arange(0, 10, 0.01)\n",
    "shift = shift * np.ones(len(x_axis))\n",
    "\n",
    "pdf_x_mu0 = reverse_shift_log_normal_pdf(x_axis, shift, mu_0, sigma_0)\n",
    "\n",
    "# Plot the log-normal probability density function (PDF)\n",
    "xmin, xmax = plt.xlim()\n",
    "plt.plot(x_axis, pdf_x_mu0, '-', linewidth=2, color='mediumseagreen', label='$\\sigma=1$')\n",
    "#plt.text(6, 0.42, '$\\sigma=1$', color='mediumseagreen')\n",
    "#plt.plot(x, pdf_x_mu1, '-', linewidth=2, color='slateblue', label='$\\sigma=0.25$')\n",
    "#plt.text(7, 0.15, '$\\sigma=0.25$', color='slateblue')\n",
    "\n",
    "plt.title('(Shifted) Log-Normal Distribution ')\n",
    "plt.legend(loc='upper right')\n",
    "plt.xlabel('X')\n",
    "plt.ylabel('Probability Density')\n",
    "plt.grid(True)\n",
    "plt.show()"
   ]
  },
  {
   "cell_type": "markdown",
   "metadata": {},
   "source": [
    "Now, accordingly the probability of a datapoint being distributed according to this log-normal error is: \n",
    "\n",
    "$$\n",
    "p(y_i|y_i < \\beta X_i, \\beta, \\mu, \\sigma) = \n",
    "\\frac{1}{(\\beta X_i - y_i)\\sigma \\sqrt{2 \\pi}} e^{-\\frac{1}{2 \\sigma^2}(ln(\\beta X_i - y_i)-\\mu)^2}\n",
    "$$\n",
    "\n",
    "And hence, the likelihood is: \n",
    "\n",
    "$$\n",
    "L(\\delta, \\mu, \\sigma) = \\prod_{i=1}^n s(y_i | y_i < \\beta X, \\beta X, \\mu, \\sigma) \\\\\n",
    "\n",
    "= \\prod_{i=1}^n \\frac{1}{(\\beta X_i - y_i)\\sigma \\sqrt{2 \\pi}} e^{-\\frac{1}{2 \\sigma^2}(ln(\\beta X_i - y_i)-\\mu)^2}\n",
    "$$\n",
    "\n",
    "Let $ z_i = \\beta X_i -y_i $. Then we have a log likelihood of:\n",
    "\n",
    "$$\n",
    "= \\sum_{i=1}^n ln(\\frac{1}{z_i \\sigma \\sqrt{2 \\pi}} exp(- \\frac{(ln z_i - \\mu)^2}{2 \\sigma^2})) \\\\ \n",
    "= \\sum_{i=1}^n ln(\\frac{1}{z_i \\sigma \\sqrt{2 \\pi}} ) - \\frac{ln^2z_i -2\\mu ln z_i + \\mu^2}{2 \\sigma^2} \\\\\n",
    "= \\sum_{i=1}^n - ln(z_i \\sigma \\sqrt{2 \\pi}) - \\frac{1}{2 \\sigma^2}(ln^2z_i -2\\mu ln z_i + \\mu^2) \\\\\n",
    "= \\sum_{i=1}^n \\frac{1}{2 \\sigma^2}(2\\mu ln z_i - ln^2 z_i - \\mu^2) - ln(z_i \\sigma \\sqrt{2 \\pi}) \\\\\n",
    "\n",
    "$$"
   ]
  },
  {
   "cell_type": "code",
   "execution_count": 8,
   "metadata": {},
   "outputs": [],
   "source": [
    "# Define functions to minimize\n",
    "\n",
    "def log_rvs_shift_log_normal(z, delta, mu, sigma):\n",
    "    pdf = []\n",
    "    z_shift = np.array(delta - z)\n",
    "    for i in range(len(z_shift)):\n",
    "        if z_shift[i]>0: \n",
    "            part1 = (1/(2 * sigma ** 2)) * (2 * mu * np.log(z_shift[i]) - (np.log(z_shift[i])) ** 2 - mu ** 2) \n",
    "            part2 = np.log(z_shift[i] * sigma * np.sqrt(2 *np.pi))\n",
    "            pdf.append(part1 - part2)\n",
    "        else:\n",
    "            pdf.append(-np.inf) # returns -inf at the points where the log normal is undefined \n",
    "    return np.array(pdf)\n",
    "\n",
    "def neg_loglike(params, x, y):\n",
    "    beta_0 = params[0]\n",
    "    beta = np.array(params[1:-2])\n",
    "    mu = params[-2]\n",
    "    sigma = params[-1]\n",
    "\n",
    "    y_pred = (np.dot(x, beta)).squeeze() + beta_0\n",
    "    log_likely = log_rvs_shift_log_normal(y.squeeze(), delta=y_pred.squeeze(), mu=mu, sigma=sigma)\n",
    "    \n",
    "    return (-1 * np.sum(log_likely)).squeeze()"
   ]
  },
  {
   "cell_type": "code",
   "execution_count": 9,
   "metadata": {},
   "outputs": [
    {
     "name": "stdout",
     "output_type": "stream",
     "text": [
      "1469.9211459456942\n",
      "[  1773.30207855  44687.96451584 111924.79854488  89006.30452368\n",
      " 143712.65354546  26419.45936328  10624.35735485   3519.85661138\n",
      "    273.55854116  -3518.60892996  -9919.36830919]\n"
     ]
    }
   ],
   "source": [
    "trial_params = np.array([0.25, 0.1, 0.004, -0.004, -0.003, 0.0157, -0.0138, 0.108, 0.05, 0.0, 0.25])\n",
    "print(neg_loglike(trial_params, x, y))\n",
    "\n",
    "jacobian_ = jacobian(neg_loglike)\n",
    "\n",
    "print(jacobian_(trial_params, x, y))"
   ]
  },
  {
   "cell_type": "markdown",
   "metadata": {},
   "source": [
    "## Some slightly unexpected behaviour here \n",
    "\n",
    "So, something odd happens here, for certain parameter values the negative log likelihood is positive. This is because the log-normal-pdf can be greater than 1, since it's a continous probability distribution it's only bound in that it's integral =1. As a result, for sharply peaked log normals (when both $\\mu$ and $\\sigma$ are small) we have $x$ values for which $p(x|\\mu, \\sigma)$ >1, and hence we end up with $- \\sum log(p(x|\\mu, \\sigma))<0$. \n",
    "\n",
    "See this example:"
   ]
  },
  {
   "cell_type": "code",
   "execution_count": 10,
   "metadata": {},
   "outputs": [
    {
     "name": "stdout",
     "output_type": "stream",
     "text": [
      "negative log likelihood: -286.15747161551326\n",
      "The product of the probabilities: 1.1261572070124742e+147\n"
     ]
    }
   ],
   "source": [
    "params_practise = [8.755e-01,  1.605e-02, -1.870e-03,  5.155e-04, -3.925e-04, 2.349e-02, -2.511e-02,  1.159e-01, 0.05, -2.423e-01,  1.215e-01]\n",
    "print(f'negative log likelihood: {neg_loglike(params_practise, x, y)}')\n",
    "\n",
    "delta_shift = np.dot(x, params_practise[1:-2]) + 8.755e-01\n",
    "print(f'The product of the probabilities: {np.prod(reverse_shift_log_normal_pdf(y, delta_shift, -2.423e-01,  1.215e-01))}')"
   ]
  },
  {
   "cell_type": "markdown",
   "metadata": {},
   "source": [
    "A few checks with simpler examples that the function returns the values we expect"
   ]
  },
  {
   "cell_type": "code",
   "execution_count": 11,
   "metadata": {},
   "outputs": [
    {
     "name": "stdout",
     "output_type": "stream",
     "text": [
      "28.351402187638193\n"
     ]
    }
   ],
   "source": [
    "x_practise1 = np.array([[1, 1.5], [2, 3.5]])\n",
    "y_practise1 = np.array([0, 0])\n",
    "\n",
    "params_practise1 = np.array([1, 2, 3, 0, 0.5])\n",
    "# expect neg_loglike = 28.351402187638193\n",
    "print(neg_loglike(params_practise1, x_practise1, y_practise1))"
   ]
  },
  {
   "cell_type": "code",
   "execution_count": 12,
   "metadata": {},
   "outputs": [
    {
     "name": "stdout",
     "output_type": "stream",
     "text": [
      "neg loglikelihood: 11.843664589238777\n",
      "[  1.24206807   8.69447652   6.83137441 -10.42068074 -23.14764679]\n"
     ]
    }
   ],
   "source": [
    "x_practise2 = np.array([[7, 5], [7, 6]])\n",
    "y_practise2 = np.array([0, 2])\n",
    "\n",
    "params_practise2 = np.array([0, 0, 2, 1, 0.5])\n",
    "# expect neg_loglike = 11.84366\n",
    "print(f'neg loglikelihood: {neg_loglike(params_practise2, x_practise2, y_practise2)}')\n",
    "\n",
    "jacobian_ = jacobian(neg_loglike)\n",
    "\n",
    "print(jacobian_(params_practise2, x_practise2, y_practise2))"
   ]
  },
  {
   "cell_type": "markdown",
   "metadata": {},
   "source": [
    "## Using scipy minimize \n",
    "\n",
    "Now we use `scipy.minimize` in order to optimise the function. We are using minimize with the negative of the likelihood which should always be positive.\n",
    "\n",
    "We can initialise from a random point:"
   ]
  },
  {
   "cell_type": "code",
   "execution_count": 13,
   "metadata": {},
   "outputs": [],
   "source": [
    "# n_features = 7\n",
    "# np.random.seed(27)\n",
    "# params_0 = np.concatenate([np.random.normal(size=n_features+1), [0, 0.25]]) "
   ]
  },
  {
   "cell_type": "markdown",
   "metadata": {},
   "source": [
    "Or, we initialise from a point near to where we expect the minimum to be (based on the multiple linear regression coefficients):"
   ]
  },
  {
   "cell_type": "code",
   "execution_count": 14,
   "metadata": {},
   "outputs": [],
   "source": [
    "params_0 = np.array([0.25, 0.1, 0.004, -0.004, -0.003, 0.0157, -0.0138, 0.108, 0.005, 0.1, 0.25])"
   ]
  },
  {
   "cell_type": "markdown",
   "metadata": {},
   "source": [
    "There are different methods to optimise, such as Nelder-Mead - which doesn't use the functions derivative."
   ]
  },
  {
   "cell_type": "code",
   "execution_count": 15,
   "metadata": {},
   "outputs": [
    {
     "data": {
      "text/plain": [
       "       message: Maximum number of function evaluations has been exceeded.\n",
       "       success: False\n",
       "        status: 1\n",
       "           fun: -281.54662629606867\n",
       "             x: [ 6.611e-01  1.777e-02  1.726e-03  1.491e-03  7.493e-04\n",
       "                 -8.409e-04  2.862e-03  1.674e-01  7.789e-03 -1.152e-01\n",
       "                  1.092e-01]\n",
       "           nit: 1576\n",
       "          nfev: 2200\n",
       " final_simplex: (array([[ 6.611e-01,  1.777e-02, ..., -1.152e-01,\n",
       "                         1.092e-01],\n",
       "                       [ 6.682e-01,  1.773e-02, ..., -1.149e-01,\n",
       "                         1.094e-01],\n",
       "                       ...,\n",
       "                       [ 6.622e-01,  1.769e-02, ..., -1.091e-01,\n",
       "                         1.089e-01],\n",
       "                       [ 6.665e-01,  1.777e-02, ..., -1.129e-01,\n",
       "                         1.093e-01]]), array([-2.815e+02, -2.815e+02, -2.815e+02, -2.815e+02,\n",
       "                       -2.815e+02, -2.815e+02, -2.815e+02, -2.815e+02,\n",
       "                       -2.815e+02, -2.815e+02, -2.815e+02, -2.815e+02]))"
      ]
     },
     "execution_count": 15,
     "metadata": {},
     "output_type": "execute_result"
    }
   ],
   "source": [
    "# Use scipy's minimize function with the Nelder-Mead algorithm\n",
    "result = minimize(neg_loglike, x0=params_0, args=(x,y), method = 'Nelder-Mead')\n",
    "\n",
    "result"
   ]
  },
  {
   "cell_type": "markdown",
   "metadata": {},
   "source": [
    "Or a method like BFGS which does use the firts derivative:"
   ]
  },
  {
   "cell_type": "code",
   "execution_count": 16,
   "metadata": {},
   "outputs": [],
   "source": [
    "# derivates of neg_loglike\n",
    "# jacobian_  = jacobian(neg_loglike)\n",
    "\n",
    "# result = minimize(neg_loglike, x0=params_0, args=(x,y), method='BFGS', jac = jacobian_, options={'gtol': 1e-6, 'disp':True})\n",
    "# result"
   ]
  },
  {
   "cell_type": "code",
   "execution_count": 17,
   "metadata": {},
   "outputs": [
    {
     "name": "stdout",
     "output_type": "stream",
     "text": [
      "MLE estimates \n",
      "--------------\n",
      "--------------\n",
      "Intercept:0.6611108544514579\n",
      "--------------\n",
      "Regression coefficients\n",
      "--------------\n",
      "over_65_pc:0.017768562124972433\n",
      "female_pc:0.0017262627969704858\n",
      "ALevel_plus_pc:0.0014911662868311005\n",
      "white_pc:0.0007492791956372528\n",
      "HYP_afflicted_pc:-0.0008408714507253437\n",
      "DM_afflicted_pc:0.00286207327194704\n",
      "STIA_afflicted_pc:0.16739650027984937\n",
      "GP_LAD_pc:0.007789230075471394\n",
      "--------------\n",
      "Log normal coefficients\n",
      "--------------\n",
      "Mu: -0.11521423197133887\n",
      "Sigma: 0.1092382127135566\n"
     ]
    }
   ],
   "source": [
    "# Extract the MLE from the parameter samples\n",
    "MLE_params = result.x\n",
    "\n",
    "MLE_intercept = MLE_params[0]\n",
    "MLE_beta = MLE_params[1:-2]\n",
    "MLE_mu = MLE_params[-2]\n",
    "MLE_sigma = MLE_params[-1]\n",
    "\n",
    "print(\"MLE estimates \\n--------------\\n--------------\")\n",
    "print(f'Intercept:{MLE_intercept}')\n",
    "print(\"--------------\\nRegression coefficients\\n--------------\")\n",
    "for i, var in enumerate(covar):\n",
    "    print(f'{var}:{MLE_beta[i]}')\n",
    "print(\"--------------\\nLog normal coefficients\\n--------------\")\n",
    "print(\"Mu:\", MLE_mu)\n",
    "print(\"Sigma:\", MLE_sigma)"
   ]
  },
  {
   "cell_type": "code",
   "execution_count": 18,
   "metadata": {},
   "outputs": [
    {
     "data": {
      "text/plain": [
       "-281.54662629606867"
      ]
     },
     "execution_count": 18,
     "metadata": {},
     "output_type": "execute_result"
    }
   ],
   "source": [
    "np.array(MLE_params)\n",
    "neg_loglike(MLE_params, x, y)"
   ]
  },
  {
   "cell_type": "code",
   "execution_count": 19,
   "metadata": {},
   "outputs": [
    {
     "name": "stdout",
     "output_type": "stream",
     "text": [
      "At the MLE, the negative loglikelihood is: -281.54662629606867\n"
     ]
    }
   ],
   "source": [
    "print(f'At the MLE, the negative loglikelihood is: {neg_loglike(MLE_params, x, y)}')"
   ]
  },
  {
   "cell_type": "markdown",
   "metadata": {},
   "source": [
    "And we can plot the shape of the log normal"
   ]
  },
  {
   "cell_type": "code",
   "execution_count": 20,
   "metadata": {},
   "outputs": [
    {
     "data": {
      "image/png": "[encoded data removed]",
      "text/plain": [
       "<Figure size 640x480 with 1 Axes>"
      ]
     },
     "metadata": {},
     "output_type": "display_data"
    }
   ],
   "source": [
    "# mode of the log normal \n",
    "mode = log_norm_mode(MLE_mu, MLE_sigma)\n",
    "\n",
    "# plot log normal of MLE parameters \n",
    "x_axis = np.arange(-10, 5, 0.01)\n",
    "pdf_x_mu0 = reverse_shift_log_normal_pdf(x_axis, np.zeros(len(x_axis)), MLE_mu, MLE_sigma)\n",
    "\n",
    "# Plot the log-normal probability density function (PDF)\n",
    "xmin, xmax = plt.xlim()\n",
    "plt.plot(x_axis, pdf_x_mu0, '-', linewidth=2, color='mediumseagreen')\n",
    "plt.text(2.1, 0.32, f'$\\sigma=${MLE_sigma}', color='mediumseagreen')\n",
    "plt.text(2.1, 0.42, f'$\\mu=${MLE_mu}', color='mediumseagreen')\n",
    "#plt.text(7, 0.15, '$\\sigma=0.25$', color='slateblue')\n",
    "\n",
    "ymin, ymax = plt.ylim()\n",
    "plt.vlines(-mode, ymin, ymax, color='slateblue', label='Log normal mode', linestyles='dotted')\n",
    "plt.text(mode+0.5, 3*ymax/4, f'Mode={np.round(-mode,2)}', color='slateblue')\n",
    "\n",
    "plt.title('(Shifted) Log-Normal Distribution ')\n",
    "plt.xlabel('X')\n",
    "plt.ylabel('Probability Density')\n",
    "plt.grid(True)\n",
    "plt.show()"
   ]
  },
  {
   "cell_type": "markdown",
   "metadata": {},
   "source": [
    "### Save the results predicted by the model as a .csv "
   ]
  },
  {
   "cell_type": "code",
   "execution_count": 21,
   "metadata": {},
   "outputs": [],
   "source": [
    "# The values predicted by the linear regression - conceptually this should be the \"true\" dementia prevalence rates \n",
    "y_pred = np.dot(x, MLE_beta.T) + MLE_intercept\n",
    "df_dem_plus['log_norm_model_pred'] = y_pred\n",
    "\n",
    "diagnosis_gap = y_pred.squeeze() - y.squeeze()\n",
    "df_dem_plus['diagnosis_gap']=diagnosis_gap\n",
    "\n",
    "df_dem_plus.to_csv(const.output_path+'/log_norm_model/log_norm_model_results.csv')"
   ]
  },
  {
   "cell_type": "code",
   "execution_count": 22,
   "metadata": {},
   "outputs": [
    {
     "name": "stdout",
     "output_type": "stream",
     "text": [
      "[2.01217597 1.50518022 1.67288187 1.70095567 1.81838323]\n"
     ]
    }
   ],
   "source": [
    "print(y_pred[:5])"
   ]
  },
  {
   "cell_type": "markdown",
   "metadata": {},
   "source": [
    "And subsquently look at those regions with the largest gap from the regression line - conceptually those with the worst diagnosis rates"
   ]
  },
  {
   "cell_type": "code",
   "execution_count": 23,
   "metadata": {},
   "outputs": [
    {
     "data": {
      "text/html": [
       "<div>\n",
       "<style scoped>\n",
       "    .dataframe tbody tr th:only-of-type {\n",
       "        vertical-align: middle;\n",
       "    }\n",
       "\n",
       "    .dataframe tbody tr th {\n",
       "        vertical-align: top;\n",
       "    }\n",
       "\n",
       "    .dataframe thead th {\n",
       "        text-align: right;\n",
       "    }\n",
       "</style>\n",
       "<table border=\"1\" class=\"dataframe\">\n",
       "  <thead>\n",
       "    <tr style=\"text-align: right;\">\n",
       "      <th></th>\n",
       "      <th>area_name</th>\n",
       "      <th>diagnosis_gap</th>\n",
       "    </tr>\n",
       "  </thead>\n",
       "  <tbody>\n",
       "    <tr>\n",
       "      <th>294</th>\n",
       "      <td>Nuneaton and Bedworth</td>\n",
       "      <td>1.056406</td>\n",
       "    </tr>\n",
       "    <tr>\n",
       "      <th>79</th>\n",
       "      <td>Wychavon</td>\n",
       "      <td>1.066434</td>\n",
       "    </tr>\n",
       "    <tr>\n",
       "      <th>134</th>\n",
       "      <td>Scarborough</td>\n",
       "      <td>1.068575</td>\n",
       "    </tr>\n",
       "    <tr>\n",
       "      <th>60</th>\n",
       "      <td>Worcester</td>\n",
       "      <td>1.083011</td>\n",
       "    </tr>\n",
       "    <tr>\n",
       "      <th>75</th>\n",
       "      <td>Redditch</td>\n",
       "      <td>1.090998</td>\n",
       "    </tr>\n",
       "    <tr>\n",
       "      <th>288</th>\n",
       "      <td>Plymouth</td>\n",
       "      <td>1.093201</td>\n",
       "    </tr>\n",
       "    <tr>\n",
       "      <th>107</th>\n",
       "      <td>Cornwall</td>\n",
       "      <td>1.096865</td>\n",
       "    </tr>\n",
       "    <tr>\n",
       "      <th>286</th>\n",
       "      <td>Torridge</td>\n",
       "      <td>1.108802</td>\n",
       "    </tr>\n",
       "    <tr>\n",
       "      <th>271</th>\n",
       "      <td>Eden</td>\n",
       "      <td>1.148609</td>\n",
       "    </tr>\n",
       "    <tr>\n",
       "      <th>40</th>\n",
       "      <td>South Hams</td>\n",
       "      <td>1.162752</td>\n",
       "    </tr>\n",
       "  </tbody>\n",
       "</table>\n",
       "</div>"
      ],
      "text/plain": [
       "                 area_name  diagnosis_gap\n",
       "294  Nuneaton and Bedworth       1.056406\n",
       "79                Wychavon       1.066434\n",
       "134            Scarborough       1.068575\n",
       "60               Worcester       1.083011\n",
       "75                Redditch       1.090998\n",
       "288               Plymouth       1.093201\n",
       "107               Cornwall       1.096865\n",
       "286               Torridge       1.108802\n",
       "271                   Eden       1.148609\n",
       "40              South Hams       1.162752"
      ]
     },
     "execution_count": 23,
     "metadata": {},
     "output_type": "execute_result"
    }
   ],
   "source": [
    "most_bad_lads = np.argsort(diagnosis_gap)[-10:]\n",
    "df_dem_plus.iloc[most_bad_lads, :][['area_name', 'diagnosis_gap']]"
   ]
  },
  {
   "cell_type": "markdown",
   "metadata": {},
   "source": [
    "And those regions with the smallest gap - conceptually those with the best diagnosis rates"
   ]
  },
  {
   "cell_type": "code",
   "execution_count": 24,
   "metadata": {},
   "outputs": [
    {
     "data": {
      "text/html": [
       "<div>\n",
       "<style scoped>\n",
       "    .dataframe tbody tr th:only-of-type {\n",
       "        vertical-align: middle;\n",
       "    }\n",
       "\n",
       "    .dataframe tbody tr th {\n",
       "        vertical-align: top;\n",
       "    }\n",
       "\n",
       "    .dataframe thead th {\n",
       "        text-align: right;\n",
       "    }\n",
       "</style>\n",
       "<table border=\"1\" class=\"dataframe\">\n",
       "  <thead>\n",
       "    <tr style=\"text-align: right;\">\n",
       "      <th></th>\n",
       "      <th>area_name</th>\n",
       "      <th>diagnosis_gap</th>\n",
       "    </tr>\n",
       "  </thead>\n",
       "  <tbody>\n",
       "    <tr>\n",
       "      <th>77</th>\n",
       "      <td>Rochford</td>\n",
       "      <td>0.521360</td>\n",
       "    </tr>\n",
       "    <tr>\n",
       "      <th>123</th>\n",
       "      <td>Surrey Heath</td>\n",
       "      <td>0.636176</td>\n",
       "    </tr>\n",
       "    <tr>\n",
       "      <th>63</th>\n",
       "      <td>Eastbourne</td>\n",
       "      <td>0.649599</td>\n",
       "    </tr>\n",
       "    <tr>\n",
       "      <th>10</th>\n",
       "      <td>Southend-on-Sea</td>\n",
       "      <td>0.649663</td>\n",
       "    </tr>\n",
       "    <tr>\n",
       "      <th>225</th>\n",
       "      <td>Southampton</td>\n",
       "      <td>0.660676</td>\n",
       "    </tr>\n",
       "    <tr>\n",
       "      <th>196</th>\n",
       "      <td>East Hampshire</td>\n",
       "      <td>0.668248</td>\n",
       "    </tr>\n",
       "    <tr>\n",
       "      <th>29</th>\n",
       "      <td>East Devon</td>\n",
       "      <td>0.672590</td>\n",
       "    </tr>\n",
       "    <tr>\n",
       "      <th>99</th>\n",
       "      <td>Tendring</td>\n",
       "      <td>0.689979</td>\n",
       "    </tr>\n",
       "    <tr>\n",
       "      <th>3</th>\n",
       "      <td>Lancaster</td>\n",
       "      <td>0.704010</td>\n",
       "    </tr>\n",
       "    <tr>\n",
       "      <th>272</th>\n",
       "      <td>Gosport</td>\n",
       "      <td>0.705532</td>\n",
       "    </tr>\n",
       "  </tbody>\n",
       "</table>\n",
       "</div>"
      ],
      "text/plain": [
       "           area_name  diagnosis_gap\n",
       "77          Rochford       0.521360\n",
       "123     Surrey Heath       0.636176\n",
       "63        Eastbourne       0.649599\n",
       "10   Southend-on-Sea       0.649663\n",
       "225      Southampton       0.660676\n",
       "196   East Hampshire       0.668248\n",
       "29        East Devon       0.672590\n",
       "99          Tendring       0.689979\n",
       "3          Lancaster       0.704010\n",
       "272          Gosport       0.705532"
      ]
     },
     "execution_count": 24,
     "metadata": {},
     "output_type": "execute_result"
    }
   ],
   "source": [
    "least_bad_lads = np.argsort(diagnosis_gap)[:10]\n",
    "df_dem_plus.iloc[least_bad_lads, :][['area_name', 'diagnosis_gap']]"
   ]
  },
  {
   "cell_type": "markdown",
   "metadata": {},
   "source": [
    "## Evaluate the hessian at the MLE \n",
    "\n",
    "We can look at the Hessian evaluated at the MLE."
   ]
  },
  {
   "cell_type": "code",
   "execution_count": 25,
   "metadata": {},
   "outputs": [
    {
     "name": "stdout",
     "output_type": "stream",
     "text": [
      "[[ 3.39987313e+04  8.26471560e+05  2.13709150e+06  1.72312649e+06\n",
      "   2.66271615e+06  4.95433844e+05  2.01225847e+05  6.52354401e+04\n",
      "   5.33953732e+03 -2.92573892e+04  7.08270155e+03]\n",
      " [ 8.26471560e+05  2.11952946e+07  5.18877592e+07  4.13299635e+07\n",
      "   6.76925737e+07  1.24655984e+07  4.95519010e+06  1.67009635e+06\n",
      "   1.28226630e+05 -7.11724840e+05  1.58116371e+05]\n",
      " [ 2.13709150e+06  5.18877592e+07  1.34694285e+08  1.08366045e+08\n",
      "   1.66927619e+08  3.11208951e+07  1.26672131e+07  4.08829048e+06\n",
      "   3.35380732e+05 -1.84128537e+06  4.28563023e+05]\n",
      " [ 1.72312649e+06  4.13299635e+07  1.08366045e+08  8.93044736e+07\n",
      "   1.32911667e+08  2.47111054e+07  1.00180421e+07  3.24431088e+06\n",
      "   2.74541078e+05 -1.48574688e+06  3.41103167e+05]\n",
      " [ 2.66271615e+06  6.76925737e+07  1.66927619e+08  1.32911667e+08\n",
      "   2.20352232e+08  3.99917116e+07  1.58635061e+07  5.36029067e+06\n",
      "   4.13109290e+05 -2.29315380e+06  5.09261654e+05]\n",
      " [ 4.95433844e+05  1.24655984e+07  3.11208951e+07  2.47111054e+07\n",
      "   3.99917116e+07  7.42605623e+06  2.98174312e+06  9.86890369e+05\n",
      "   7.69839952e+04 -4.25909323e+05  1.03545455e+05]\n",
      " [ 2.01225847e+05  4.95519010e+06  1.26672131e+07  1.00180421e+07\n",
      "   1.58635061e+07  2.98174312e+06  1.22101632e+06  3.93162748e+05\n",
      "   3.12748772e+04 -1.73362082e+05  4.02679450e+04]\n",
      " [ 6.52354401e+04  1.67009635e+06  4.08829048e+06  3.24431088e+06\n",
      "   5.36029067e+06  9.86890369e+05  3.93162748e+05  1.33065436e+05\n",
      "   1.01230752e+04 -5.61906190e+04  1.23819770e+04]\n",
      " [ 5.33953732e+03  1.28226630e+05  3.35380732e+05  2.74541078e+05\n",
      "   4.13109290e+05  7.69839952e+04  3.12748772e+04  1.01230752e+04\n",
      "   1.01261057e+03 -4.57807954e+03  1.27983239e+03]\n",
      " [-2.92573892e+04 -7.11724840e+05 -1.84128537e+06 -1.48574688e+06\n",
      "  -2.29315380e+06 -4.25909323e+05 -1.73362082e+05 -5.61906190e+04\n",
      "  -4.57807954e+03  2.58946060e+04 -3.48951792e+02]\n",
      " [ 7.08270155e+03  1.58116371e+05  4.28563023e+05  3.41103167e+05\n",
      "   5.09261654e+05  1.03545455e+05  4.02679450e+04  1.23819770e+04\n",
      "   1.27983239e+03 -3.48951792e+02  5.18019445e+04]]\n"
     ]
    }
   ],
   "source": [
    "hessian_ = hessian(neg_loglike)\n",
    "\n",
    "print(hessian_(MLE_params, x, y))"
   ]
  },
  {
   "cell_type": "code",
   "execution_count": 26,
   "metadata": {},
   "outputs": [],
   "source": [
    "def is_def(x):\n",
    "    return np.all(np.linalg.eigvals(x) > 0)"
   ]
  },
  {
   "cell_type": "code",
   "execution_count": 27,
   "metadata": {},
   "outputs": [
    {
     "data": {
      "text/plain": [
       "array([4.64274465e+08, 8.67086081e+06, 1.04513640e+06, 3.56386189e+05,\n",
       "       5.28046517e+04, 3.30250261e+04, 5.37236352e+03, 7.94307838e+02,\n",
       "       2.34942642e+01, 9.88762299e+01, 1.64017444e+02])"
      ]
     },
     "execution_count": 27,
     "metadata": {},
     "output_type": "execute_result"
    }
   ],
   "source": [
    "np.linalg.eigvals(hessian_(MLE_params, x, y))"
   ]
  },
  {
   "cell_type": "code",
   "execution_count": 28,
   "metadata": {},
   "outputs": [
    {
     "data": {
      "text/plain": [
       "True"
      ]
     },
     "execution_count": 28,
     "metadata": {},
     "output_type": "execute_result"
    }
   ],
   "source": [
    "is_def(hessian_(MLE_params, x, y))"
   ]
  },
  {
   "cell_type": "markdown",
   "metadata": {},
   "source": [
    "## Alternative model using a half normal distribution instead "
   ]
  },
  {
   "cell_type": "code",
   "execution_count": 29,
   "metadata": {},
   "outputs": [],
   "source": [
    "# Negative log likelihood for the half normal distribution \n",
    "\n",
    "# Define functions to minimize\n",
    "def neg_loglike_half_norm(params, x, y):\n",
    "    beta_0 = params[0]\n",
    "    beta = np.array(params[1:-1])\n",
    "    sigma = params[-1]\n",
    "\n",
    "    log_pdf = []\n",
    "    y_pred = (np.dot(x, beta)).squeeze() + beta_0\n",
    "    y = y.reshape(1, len(x)).squeeze()\n",
    "\n",
    "    z_shift = np.array(y_pred-y)\n",
    "\n",
    "    for i in range(len(z_shift)):\n",
    "        if z_shift[i]>0:\n",
    "            normalising = 1/(sigma* np.sqrt(2*np.pi))\n",
    "            exp_part = np.exp(-(1/2)*(z_shift[i]/sigma)**2)\n",
    "            log_pdf.append(np.log(normalising*exp_part))\n",
    "        else:\n",
    "            log_pdf.append(-np.inf)\n",
    "\n",
    "    return np.array(-1 * np.sum(log_pdf))"
   ]
  },
  {
   "cell_type": "code",
   "execution_count": 30,
   "metadata": {},
   "outputs": [],
   "source": [
    "# Values to initialise from \n",
    "params_0 = np.array([1, 0.01, 0.004, -0.004, -0.003, 0.0157, -0.0138, 0.108, 0.01])\n",
    "sigma_0 = 0.2"
   ]
  },
  {
   "cell_type": "code",
   "execution_count": 31,
   "metadata": {},
   "outputs": [
    {
     "data": {
      "text/plain": [
       "array(1447.51080479)"
      ]
     },
     "execution_count": 31,
     "metadata": {},
     "output_type": "execute_result"
    }
   ],
   "source": [
    "neg_loglike_half_norm(np.append(params_0, sigma_0), x, y)"
   ]
  },
  {
   "cell_type": "code",
   "execution_count": 32,
   "metadata": {},
   "outputs": [
    {
     "data": {
      "text/plain": [
       "       message: Optimization terminated successfully.\n",
       "       success: True\n",
       "        status: 0\n",
       "           fun: 88.98883496290142\n",
       "             x: [ 4.353e-01  2.115e-02  1.911e-03 -5.311e-03 -3.156e-03\n",
       "                  3.328e-02 -8.461e-03  4.332e-02  6.702e-03  3.178e-01]\n",
       "           nit: 1151\n",
       "          nfev: 1819\n",
       " final_simplex: (array([[ 4.353e-01,  2.115e-02, ...,  6.702e-03,\n",
       "                         3.178e-01],\n",
       "                       [ 4.353e-01,  2.115e-02, ...,  6.702e-03,\n",
       "                         3.178e-01],\n",
       "                       ...,\n",
       "                       [ 4.353e-01,  2.115e-02, ...,  6.702e-03,\n",
       "                         3.178e-01],\n",
       "                       [ 4.353e-01,  2.115e-02, ...,  6.702e-03,\n",
       "                         3.178e-01]]), array([ 8.899e+01,  8.899e+01,  8.899e+01,  8.899e+01,\n",
       "                        8.899e+01,  8.899e+01,  8.899e+01,  8.899e+01,\n",
       "                        8.899e+01,  8.899e+01,  8.899e+01]))"
      ]
     },
     "execution_count": 32,
     "metadata": {},
     "output_type": "execute_result"
    }
   ],
   "source": [
    "# Use scipy's minimize function with the Nelder-Mead algorithm\n",
    "result = minimize(neg_loglike_half_norm, x0=np.append(params_0, sigma_0), args=(x,y), method = 'Nelder-Mead')\n",
    "\n",
    "result"
   ]
  },
  {
   "cell_type": "code",
   "execution_count": 33,
   "metadata": {},
   "outputs": [
    {
     "name": "stdout",
     "output_type": "stream",
     "text": [
      "MLE estimates \n",
      "--------------\n",
      "--------------\n",
      "Intercept:0.4352649030048139\n",
      "--------------\n",
      "Regression coefficients\n",
      "--------------\n",
      "over_65_pc:0.021146183644067475\n",
      "female_pc:0.0019105602624254147\n",
      "ALevel_plus_pc:-0.005311153302109716\n",
      "white_pc:-0.0031561922355858134\n",
      "HYP_afflicted_pc:0.03328339394120653\n",
      "DM_afflicted_pc:-0.008461068238775307\n",
      "STIA_afflicted_pc:0.04331732490389184\n",
      "GP_LAD_pc:0.0067020452359884235\n",
      "--------------\n",
      "Log normal coefficients\n",
      "--------------\n",
      "Sigma: 0.3178084248718548\n"
     ]
    }
   ],
   "source": [
    "# Extract the MLE from the parameter samples\n",
    "MLE_params = result.x\n",
    "\n",
    "MLE_intercept = MLE_params[0]\n",
    "MLE_beta = MLE_params[1:-1]\n",
    "MLE_sigma = MLE_params[-1]\n",
    "\n",
    "print(\"MLE estimates \\n--------------\\n--------------\")\n",
    "print(f'Intercept:{MLE_intercept}')\n",
    "print(\"--------------\\nRegression coefficients\\n--------------\")\n",
    "for i, var in enumerate(covar):\n",
    "    print(f'{var}:{MLE_beta[i]}')\n",
    "print(\"--------------\\nLog normal coefficients\\n--------------\")\n",
    "print(\"Sigma:\", MLE_sigma)"
   ]
  },
  {
   "cell_type": "code",
   "execution_count": 34,
   "metadata": {},
   "outputs": [
    {
     "data": {
      "image/png": "[encoded data removed]",
      "text/plain": [
       "<Figure size 640x480 with 1 Axes>"
      ]
     },
     "metadata": {},
     "output_type": "display_data"
    }
   ],
   "source": [
    "# Plot the half normal distribution from the model \n",
    "x_axis = np.arange(-5,1, 0.1)\n",
    "halfnorm_pdf = stat.halfnorm.pdf(-x_axis, scale=MLE_sigma)\n",
    "plt.plot(x_axis, halfnorm_pdf, '-', linewidth=2, color='mediumseagreen')\n",
    "plt.text(-2, 1, f'$\\sigma=${np.round(MLE_sigma, 3)}', color='mediumseagreen')\n",
    "ymin, ymax = plt.ylim()\n",
    "plt.vlines(0, ymin, ymax, color='slateblue', linestyles='dotted')\n",
    "\n",
    "\n",
    "plt.title('Half-Normal Distribution ')\n",
    "plt.xlabel('X')\n",
    "plt.ylabel('Probability Density')\n",
    "plt.grid(True)\n",
    "plt.show()"
   ]
  },
  {
   "cell_type": "markdown",
   "metadata": {},
   "source": [
    "### And again save the results "
   ]
  },
  {
   "cell_type": "code",
   "execution_count": 35,
   "metadata": {},
   "outputs": [],
   "source": [
    "# The values predicted by the linear regression - conceptually this should be the \"true\" dementia prevalence rates \n",
    "y_pred = np.dot(x, MLE_beta.T) + MLE_intercept\n",
    "df_dem_plus['half_norm_model_pred'] = y_pred\n",
    "\n",
    "diagnosis_gap = y_pred.squeeze() - y.squeeze()\n",
    "df_dem_plus['half_norm_diagnosis_gap']=diagnosis_gap\n",
    "\n",
    "df_dem_plus.to_csv(const.output_path+'/half_norm_model/half_norm_model_results.csv')"
   ]
  },
  {
   "cell_type": "markdown",
   "metadata": {},
   "source": [
    "## Check the model by implementing a linear regression. \n",
    "\n",
    "Create a function which we apply `scipy.minimize` to in order ot find the MLE parameters. This code be done using two different objective functions - either:\n",
    "1. Ordinary least squares (OLS) - based on the assumption that the error is gaussian the MLE parameters of the regression line minimize the OLS function (which is just the sum of the differences squared). \n",
    "2. Gaussian error - based on the assumtpion that the error term is gaussian we can minimize the negative log likelihood of the observed data, given a mean of the regression line, and some standard deviation sigma, which is fit as part of the model. "
   ]
  },
  {
   "cell_type": "code",
   "execution_count": 29,
   "metadata": {},
   "outputs": [],
   "source": [
    "# The real dementia x and y data \n",
    "# Just duplicating this code here to remind myself - but (should be) defined same as above \n",
    "\n",
    "# covariates \n",
    "covar = ['over_65_pc', 'female_pc', 'ALevel_plus_pc', 'white_pc', 'HYP_afflicted_pc', 'DM_afflicted_pc', 'STIA_afflicted_pc', 'GP_LAD_pc']\n",
    "\n",
    "# Input data \n",
    "x = np.array(df_dem_plus[covar].values.reshape(-1,len(covar)))\n",
    "\n",
    "# Outcome data \n",
    "y = np.array(df_dem_plus['DEM_afflicted_pc'].values.reshape(-1,1))"
   ]
  },
  {
   "cell_type": "code",
   "execution_count": 30,
   "metadata": {},
   "outputs": [],
   "source": [
    "# Define functions to minimize\n",
    "\n",
    "# OLS\n",
    "def linear_log_ols(params, x, y):\n",
    "    beta_0 = params[0]\n",
    "    beta = np.array(params[1:])\n",
    "\n",
    "    y_pred = (np.dot(x, beta)).squeeze() + beta_0\n",
    "    y = y.reshape(1, len(x)).squeeze()\n",
    "    squares = (y_pred-y)**2\n",
    "    \n",
    "    return (np.sum(squares)).squeeze()\n",
    "\n",
    "# This function uses the built in stat.norm.pdf \n",
    "# ... however autograd seems to have a problem differentiating this (despite the fact that it's meant to be compatible)\n",
    "# negative log likelihood\n",
    "# def linear_neg_loglike(params, x, y):\n",
    "#     beta_0 = params[0]\n",
    "#     beta = np.array(params[1:-1])\n",
    "#     sigma = params[-1]\n",
    "\n",
    "#     likely = []\n",
    "#     y_pred = (np.dot(x, beta)).squeeze() + beta_0\n",
    "#     y = y.reshape(1, len(x)).squeeze()\n",
    "#     for i in range(len(y)):\n",
    "#         likely.append(stat.norm.pdf(y[i], loc=y_pred[i], scale=sigma))\n",
    "#     #likely = stat.norm.pdf(y, loc=y_pred, scale=sigma)\n",
    "#     log_likely = np.log(likely)\n",
    "\n",
    "#     return (-1 * np.sum(log_likely))\n",
    "\n",
    "# ALTERNATIVE FUNCTION \n",
    "# Define functions to minimize\n",
    "def linear_neg_loglike(params, x, y):\n",
    "    beta_0 = params[0]\n",
    "    beta = np.array(params[1:-1])\n",
    "    sigma = params[-1]\n",
    "\n",
    "    log_pdf = []\n",
    "    y_pred = (np.dot(x, beta)).squeeze() + beta_0\n",
    "\n",
    "    z_shift = np.array(y_pred-y)\n",
    "\n",
    "    for i in range(len(z_shift)):\n",
    "        normalising = 1/(sigma* np.sqrt(2*np.pi))\n",
    "        exp_part = np.exp(-(1/2)*(z_shift[i]/sigma)**2)\n",
    "        log_pdf.append(np.log(normalising*exp_part))\n",
    "\n",
    "    return np.array(-1 * np.sum(log_pdf))"
   ]
  },
  {
   "cell_type": "code",
   "execution_count": 31,
   "metadata": {},
   "outputs": [],
   "source": [
    "# Values to initialise from \n",
    "params_0 = np.array([0.1, 0.01, 0.004, -0.004, -0.003, 0.0157, -0.0138, 0.108, 0.01])\n",
    "sigma_0 = 0.2\n",
    "\n",
    "# the MLE parameters from the multiple linear regression using sklearn \n",
    "regr_coeff = np.load(const.pre_output_path+'/reg_coeff.npy')"
   ]
  },
  {
   "cell_type": "code",
   "execution_count": 32,
   "metadata": {},
   "outputs": [
    {
     "data": {
      "text/plain": [
       "array(74512.24291338)"
      ]
     },
     "execution_count": 32,
     "metadata": {},
     "output_type": "execute_result"
    }
   ],
   "source": [
    "# Check the function works by evaluating at a certain point \n",
    "linear_neg_loglike(np.append(params_0, sigma_0),x, y)"
   ]
  },
  {
   "cell_type": "code",
   "execution_count": 33,
   "metadata": {},
   "outputs": [
    {
     "data": {
      "text/plain": [
       "array([-4.54747351e-10,  9.48549355e+06, -1.29128040e+06, -5.76773682e+06,\n",
       "        2.70987550e+07,  3.84870822e+06,  5.82635404e+05,  8.00881109e+05,\n",
       "       -8.83095309e+03, -5.81221720e+06])"
      ]
     },
     "execution_count": 33,
     "metadata": {},
     "output_type": "execute_result"
    }
   ],
   "source": [
    "# Calculate the gradient at this point \n",
    "grad_loglike = grad(linear_neg_loglike)\n",
    "grad_loglike(np.append(np.array(regr_coeff), 0.1), x, y)"
   ]
  },
  {
   "cell_type": "code",
   "execution_count": 34,
   "metadata": {},
   "outputs": [
    {
     "name": "stdout",
     "output_type": "stream",
     "text": [
      "Hessian eigenvalues: [1.30919227e+11 2.59471356e+09 3.13191555e+08 1.49108704e+08\n",
      " 4.98567728e+07 1.03024153e+07 1.49511298e+06 2.32993195e+05\n",
      " 1.04332132e+04 4.29061267e+04]\n",
      "Hessian matrix positive definite: True\n"
     ]
    }
   ],
   "source": [
    "# Inspect the Hessian at this point \n",
    "hessian_ = hessian(linear_neg_loglike)\n",
    "print(f'Hessian eigenvalues: {np.linalg.eigvals(hessian_(np.append(np.array(regr_coeff), 0.1), x, y))}')\n",
    "print(f'Hessian matrix positive definite: {is_def(hessian_(np.append(np.array(regr_coeff), 0.1), x, y))}')"
   ]
  },
  {
   "cell_type": "code",
   "execution_count": 35,
   "metadata": {},
   "outputs": [
    {
     "name": "stdout",
     "output_type": "stream",
     "text": [
      "       message: Maximum number of function evaluations has been exceeded.\n",
      "       success: False\n",
      "        status: 1\n",
      "           fun: 2.6187709694255474\n",
      "             x: [ 1.890e-01  1.489e-02 -7.663e-04 -1.105e-03 -6.946e-04\n",
      "                  2.260e-02 -3.361e-02  1.259e-01  2.344e-02]\n",
      "           nit: 1256\n",
      "          nfev: 1800\n",
      " final_simplex: (array([[ 1.890e-01,  1.489e-02, ...,  1.259e-01,\n",
      "                         2.344e-02],\n",
      "                       [ 1.825e-01,  1.464e-02, ...,  1.267e-01,\n",
      "                         2.166e-02],\n",
      "                       ...,\n",
      "                       [ 1.800e-01,  1.479e-02, ...,  1.265e-01,\n",
      "                         2.174e-02],\n",
      "                       [ 1.819e-01,  1.472e-02, ...,  1.255e-01,\n",
      "                         2.182e-02]]), array([ 2.619e+00,  2.619e+00,  2.619e+00,  2.619e+00,\n",
      "                        2.619e+00,  2.619e+00,  2.619e+00,  2.619e+00,\n",
      "                        2.619e+00,  2.619e+00]))\n",
      "MLE estimates (OLS model)\n",
      "--------------\n",
      "--------------\n",
      "Intercept:0.1889735020317953\n",
      "--------------\n",
      "Regression coefficients\n",
      "--------------\n",
      "over_65_pc:0.014888133018387581\n",
      "female_pc:-0.0007662696213627941\n",
      "ALevel_plus_pc:-0.0011054922480991094\n",
      "white_pc:-0.000694580833633645\n",
      "HYP_afflicted_pc:0.022595279025650478\n",
      "DM_afflicted_pc:-0.033613001174685186\n",
      "STIA_afflicted_pc:0.12587808112365867\n",
      "GP_LAD_pc:0.023436266538717693\n"
     ]
    }
   ],
   "source": [
    "# Use scipy's minimize function with the Nelder-Mead algorithm\n",
    "result = minimize(linear_log_ols, x0=params_0, args=(x,y), method = 'Nelder-Mead')\n",
    "\n",
    "print(result)\n",
    "\n",
    "# Extract the MLE from the parameter samples\n",
    "MLE_params = result.x\n",
    "\n",
    "MLE_intercept = MLE_params[0]\n",
    "MLE_beta = MLE_params[1:]\n",
    "\n",
    "print(\"MLE estimates (OLS model)\\n--------------\\n--------------\")\n",
    "print(f'Intercept:{MLE_intercept}')\n",
    "print(\"--------------\\nRegression coefficients\\n--------------\")\n",
    "for i, var in enumerate(covar):\n",
    "    print(f'{var}:{MLE_beta[i]}')"
   ]
  },
  {
   "cell_type": "code",
   "execution_count": 36,
   "metadata": {},
   "outputs": [
    {
     "data": {
      "text/plain": [
       "       message: Optimization terminated successfully.\n",
       "       success: True\n",
       "        status: 0\n",
       "           fun: -18576.76394269803\n",
       "             x: [ 7.708e-01 -2.874e-04  1.038e-03 -6.738e-04 -2.381e-04\n",
       "                  1.202e-03 -7.208e-03  8.104e-03  1.890e-02  1.992e-01]\n",
       "           nit: 1095\n",
       "          nfev: 1558\n",
       " final_simplex: (array([[ 7.708e-01, -2.874e-04, ...,  1.890e-02,\n",
       "                         1.992e-01],\n",
       "                       [ 7.708e-01, -2.881e-04, ...,  1.882e-02,\n",
       "                         1.992e-01],\n",
       "                       ...,\n",
       "                       [ 7.708e-01, -2.852e-04, ...,  1.888e-02,\n",
       "                         1.992e-01],\n",
       "                       [ 7.709e-01, -2.888e-04, ...,  1.888e-02,\n",
       "                         1.992e-01]]), array([-1.858e+04, -1.858e+04, -1.858e+04, -1.858e+04,\n",
       "                       -1.858e+04, -1.858e+04, -1.858e+04, -1.858e+04,\n",
       "                       -1.858e+04, -1.858e+04, -1.858e+04]))"
      ]
     },
     "execution_count": 36,
     "metadata": {},
     "output_type": "execute_result"
    }
   ],
   "source": [
    "params_01 = np.append(regr_coeff, sigma_0)\n",
    "\n",
    "# Use scipy's minimize function with the Nelder-Mead algorithm\n",
    "result = minimize(linear_neg_loglike, x0=params_01, args=(x,y), method = 'Nelder-Mead')\n",
    "\n",
    "result"
   ]
  },
  {
   "cell_type": "code",
   "execution_count": 37,
   "metadata": {},
   "outputs": [
    {
     "name": "stdout",
     "output_type": "stream",
     "text": [
      "MLE estimates (Gaussian model)\n",
      "--------------\n",
      "--------------\n",
      "Intercept:0.7707829886914952\n",
      "--------------\n",
      "Regression coefficients\n",
      "--------------\n",
      "over_65_pc:-0.0002873618308516717\n",
      "female_pc:0.0010380125608645827\n",
      "ALevel_plus_pc:-0.0006738113775407944\n",
      "white_pc:-0.0002380678370793179\n",
      "HYP_afflicted_pc:0.0012022646415519042\n",
      "DM_afflicted_pc:-0.0072079795781840265\n",
      "STIA_afflicted_pc:0.008103690541657806\n",
      "GP_LAD_pc:0.01890396011042375\n",
      "--------------\n",
      "Gaussian standard deviation\n",
      "--------------\n",
      "Sigma: 0.1991983297913804\n"
     ]
    }
   ],
   "source": [
    "# Extract the MLE from the parameter samples\n",
    "MLE_params = result.x\n",
    "\n",
    "MLE_intercept = MLE_params[0]\n",
    "MLE_beta = MLE_params[1:-1]\n",
    "MLE_sigma = MLE_params[-1]\n",
    "\n",
    "print(\"MLE estimates (Gaussian model)\\n--------------\\n--------------\")\n",
    "print(f'Intercept:{MLE_intercept}')\n",
    "print(\"--------------\\nRegression coefficients\\n--------------\")\n",
    "for i, var in enumerate(covar):\n",
    "    print(f'{var}:{MLE_beta[i]}')\n",
    "print(\"--------------\\nGaussian standard deviation\\n--------------\")\n",
    "print(\"Sigma:\", MLE_sigma)"
   ]
  },
  {
   "cell_type": "code",
   "execution_count": 38,
   "metadata": {},
   "outputs": [
    {
     "data": {
      "text/plain": [
       "array([-1.17251454e+01, -7.84929848e+02,  1.46881033e+04, -1.93374209e+04,\n",
       "       -8.51846707e+03,  7.96294751e+02, -3.15947870e+02, -2.43879031e+01,\n",
       "        1.50019642e+02,  4.21916375e+01])"
      ]
     },
     "execution_count": 38,
     "metadata": {},
     "output_type": "execute_result"
    }
   ],
   "source": [
    "# Calculate the gradient at this point \n",
    "grad_loglike = grad(linear_neg_loglike)\n",
    "grad_loglike(np.array(MLE_params), x, y)"
   ]
  },
  {
   "cell_type": "code",
   "execution_count": 39,
   "metadata": {},
   "outputs": [
    {
     "name": "stdout",
     "output_type": "stream",
     "text": [
      "Hessian eigenvalues: [3.29935317e+10 6.30872369e+08 7.87262874e+07 2.48700487e+07\n",
      " 4.81189843e+06 2.59609302e+06 3.79794460e+05 5.98379747e+04\n",
      " 2.69535307e+03 1.08188520e+04]\n",
      "Hessian matrix positive definite: True\n"
     ]
    }
   ],
   "source": [
    "# Inspect the Hessian at this point \n",
    "hessian_ = hessian(linear_neg_loglike)\n",
    "print(f'Hessian eigenvalues: {np.linalg.eigvals(hessian_(np.array(MLE_params), x, y))}')\n",
    "print(f'Hessian matrix positive definite: {is_def(hessian_(np.array(MLE_params), x, y))}')"
   ]
  }
 ],
 "metadata": {
  "kernelspec": {
   "display_name": "adu_env_dementia_ineq",
   "language": "python",
   "name": "python3"
  },
  "language_info": {
   "codemirror_mode": {
    "name": "ipython",
    "version": 3
   },
   "file_extension": ".py",
   "mimetype": "text/x-python",
   "name": "python",
   "nbconvert_exporter": "python",
   "pygments_lexer": "ipython3",
   "version": "3.10.13"
  }
 },
 "nbformat": 4,
 "nbformat_minor": 2
}
