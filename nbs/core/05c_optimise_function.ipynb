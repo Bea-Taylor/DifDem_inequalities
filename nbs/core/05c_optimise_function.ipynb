{
 "cells": [
  {
   "cell_type": "markdown",
   "metadata": {},
   "source": [
    "# 05c Parameter Optimisation\n",
    "\n",
    "> Minimise a variety of objective functions to find the optimal parameters for different error models "
   ]
  },
  {
   "cell_type": "code",
   "execution_count": 1,
   "metadata": {},
   "outputs": [],
   "source": [
    "#|default_exp core.05c_parameter_optimisation"
   ]
  },
  {
   "cell_type": "code",
   "execution_count": 2,
   "metadata": {},
   "outputs": [],
   "source": [
    "#|hide\n",
    "from nbdev.showdoc import show_doc"
   ]
  },
  {
   "cell_type": "code",
   "execution_count": 3,
   "metadata": {},
   "outputs": [
    {
     "name": "stderr",
     "output_type": "stream",
     "text": [
      "/Users/bea/miniconda3/envs/adu_env_dementia_ineq/lib/python3.10/site-packages/nbdev/export.py:73: UserWarning: Notebook '/Users/bea/adu_dev/dementia_inequalities/nbs/core/03a_explore_datasets.ipynb' uses `#|export` without `#|default_exp` cell.\n",
      "Note nbdev2 no longer supports nbdev1 syntax. Run `nbdev_migrate` to upgrade.\n",
      "See https://nbdev.fast.ai/getting_started.html for more information.\n",
      "  warn(f\"Notebook '{nbname}' uses `#|export` without `#|default_exp` cell.\\n\"\n"
     ]
    }
   ],
   "source": [
    "#|hide\n",
    "import nbdev; nbdev.nbdev_export()"
   ]
  },
  {
   "cell_type": "code",
   "execution_count": 4,
   "metadata": {},
   "outputs": [],
   "source": [
    "#|export\n",
    "import autograd.numpy as np\n",
    "from autograd import grad, jacobian, hessian\n",
    "from scipy.optimize import minimize\n",
    "import scipy.stats as stat\n",
    "import pandas as pd\n",
    "from matplotlib import pyplot as plt\n",
    "import matplotlib.font_manager as fm\n",
    "\n",
    "from fastcore.test import *\n",
    "\n",
    "from dementia_inequalities import const, log, utils, tools "
   ]
  },
  {
   "cell_type": "code",
   "execution_count": 5,
   "metadata": {},
   "outputs": [
    {
     "name": "stdout",
     "output_type": "stream",
     "text": [
      "Josefin Sans font set for Matplotlib.\n",
      "mplstyle activated.\n"
     ]
    }
   ],
   "source": [
    "# Define the font path and style path\n",
    "FONT_PATH = const.raw_data_path + '/JosefinSans-Regular.ttf'\n",
    "STYLEPATH = const.raw_data_path + '/autonomy_white.mplstyle'\n",
    "\n",
    "# Add the font to the font manager\n",
    "fm.fontManager.addfont(FONT_PATH)\n",
    "\n",
    "# Set the font family for matplotlib to use\n",
    "plt.rcParams['font.family'] = 'Josefin Sans'\n",
    "plt.style.use(STYLEPATH)\n",
    "\n",
    "# Inform the user that the font was set\n",
    "print(\"Josefin Sans font set for Matplotlib.\")\n",
    "print(\"mplstyle activated.\")"
   ]
  },
  {
   "cell_type": "markdown",
   "metadata": {},
   "source": [
    "y_pred_all_GP"
   ]
  },
  {
   "cell_type": "code",
   "execution_count": 6,
   "metadata": {},
   "outputs": [],
   "source": [
    "#|export \n",
    "df_dem_plus = pd.read_csv(const.output_path+'/df_dem_plus.csv')"
   ]
  },
  {
   "cell_type": "code",
   "execution_count": 7,
   "metadata": {},
   "outputs": [
    {
     "data": {
      "text/html": [
       "<div>\n",
       "<style scoped>\n",
       "    .dataframe tbody tr th:only-of-type {\n",
       "        vertical-align: middle;\n",
       "    }\n",
       "\n",
       "    .dataframe tbody tr th {\n",
       "        vertical-align: top;\n",
       "    }\n",
       "\n",
       "    .dataframe thead th {\n",
       "        text-align: right;\n",
       "    }\n",
       "</style>\n",
       "<table border=\"1\" class=\"dataframe\">\n",
       "  <thead>\n",
       "    <tr style=\"text-align: right;\">\n",
       "      <th></th>\n",
       "      <th>area_code</th>\n",
       "      <th>area_name</th>\n",
       "      <th>pop</th>\n",
       "      <th>DEM_afflicted</th>\n",
       "      <th>HYP_afflicted</th>\n",
       "      <th>DM_afflicted</th>\n",
       "      <th>STIA_afflicted</th>\n",
       "      <th>ALevel_plus</th>\n",
       "      <th>Female_all</th>\n",
       "      <th>Male_all</th>\n",
       "      <th>...</th>\n",
       "      <th>white_pc</th>\n",
       "      <th>DEM_afflicted_pc</th>\n",
       "      <th>ALevel_plus_pc</th>\n",
       "      <th>over_65_pc</th>\n",
       "      <th>female_pc</th>\n",
       "      <th>HYP_afflicted_pc</th>\n",
       "      <th>DM_afflicted_pc</th>\n",
       "      <th>STIA_afflicted_pc</th>\n",
       "      <th>GP_contribution_to_LAD</th>\n",
       "      <th>GP_LAD_pc</th>\n",
       "    </tr>\n",
       "  </thead>\n",
       "  <tbody>\n",
       "    <tr>\n",
       "      <th>0</th>\n",
       "      <td>E07000091</td>\n",
       "      <td>New Forest</td>\n",
       "      <td>151481</td>\n",
       "      <td>1858.546949</td>\n",
       "      <td>28892.139020</td>\n",
       "      <td>9338.695410</td>\n",
       "      <td>4466.648271</td>\n",
       "      <td>72749.0</td>\n",
       "      <td>91513.3596</td>\n",
       "      <td>84729.6073</td>\n",
       "      <td>...</td>\n",
       "      <td>93.2</td>\n",
       "      <td>1.054537</td>\n",
       "      <td>41.277676</td>\n",
       "      <td>29.459719</td>\n",
       "      <td>51.924546</td>\n",
       "      <td>16.393357</td>\n",
       "      <td>5.298762</td>\n",
       "      <td>2.534370</td>\n",
       "      <td>186.084815</td>\n",
       "      <td>0.105584</td>\n",
       "    </tr>\n",
       "    <tr>\n",
       "      <th>1</th>\n",
       "      <td>E09000027</td>\n",
       "      <td>Richmond upon Thames</td>\n",
       "      <td>156795</td>\n",
       "      <td>1016.262785</td>\n",
       "      <td>16263.714161</td>\n",
       "      <td>5723.913130</td>\n",
       "      <td>2019.443594</td>\n",
       "      <td>112919.0</td>\n",
       "      <td>101226.6730</td>\n",
       "      <td>93918.3682</td>\n",
       "      <td>...</td>\n",
       "      <td>63.0</td>\n",
       "      <td>0.520773</td>\n",
       "      <td>57.864140</td>\n",
       "      <td>16.212434</td>\n",
       "      <td>51.872532</td>\n",
       "      <td>8.334167</td>\n",
       "      <td>2.933158</td>\n",
       "      <td>1.034842</td>\n",
       "      <td>437.450820</td>\n",
       "      <td>0.224167</td>\n",
       "    </tr>\n",
       "    <tr>\n",
       "      <th>2</th>\n",
       "      <td>E07000116</td>\n",
       "      <td>Tunbridge Wells</td>\n",
       "      <td>95022</td>\n",
       "      <td>876.255260</td>\n",
       "      <td>12908.434533</td>\n",
       "      <td>4606.674451</td>\n",
       "      <td>1889.024705</td>\n",
       "      <td>52395.0</td>\n",
       "      <td>59540.1412</td>\n",
       "      <td>56126.1458</td>\n",
       "      <td>...</td>\n",
       "      <td>84.2</td>\n",
       "      <td>0.757572</td>\n",
       "      <td>45.298420</td>\n",
       "      <td>19.513040</td>\n",
       "      <td>51.475795</td>\n",
       "      <td>11.160066</td>\n",
       "      <td>3.982729</td>\n",
       "      <td>1.633168</td>\n",
       "      <td>124.734713</td>\n",
       "      <td>0.107840</td>\n",
       "    </tr>\n",
       "    <tr>\n",
       "      <th>3</th>\n",
       "      <td>E07000121</td>\n",
       "      <td>Lancaster</td>\n",
       "      <td>123214</td>\n",
       "      <td>1228.376774</td>\n",
       "      <td>16806.421220</td>\n",
       "      <td>6784.714317</td>\n",
       "      <td>2647.583108</td>\n",
       "      <td>65724.0</td>\n",
       "      <td>72615.6480</td>\n",
       "      <td>69496.5141</td>\n",
       "      <td>...</td>\n",
       "      <td>87.8</td>\n",
       "      <td>0.864371</td>\n",
       "      <td>46.247977</td>\n",
       "      <td>20.734161</td>\n",
       "      <td>51.097420</td>\n",
       "      <td>11.826167</td>\n",
       "      <td>4.774197</td>\n",
       "      <td>1.863024</td>\n",
       "      <td>442.084950</td>\n",
       "      <td>0.311082</td>\n",
       "    </tr>\n",
       "    <tr>\n",
       "      <th>4</th>\n",
       "      <td>E07000042</td>\n",
       "      <td>Mid Devon</td>\n",
       "      <td>67987</td>\n",
       "      <td>547.793487</td>\n",
       "      <td>10854.465333</td>\n",
       "      <td>4281.878984</td>\n",
       "      <td>1530.207441</td>\n",
       "      <td>33190.0</td>\n",
       "      <td>42541.3752</td>\n",
       "      <td>40639.6312</td>\n",
       "      <td>...</td>\n",
       "      <td>93.8</td>\n",
       "      <td>0.658556</td>\n",
       "      <td>39.900936</td>\n",
       "      <td>24.100070</td>\n",
       "      <td>51.143136</td>\n",
       "      <td>13.049211</td>\n",
       "      <td>5.147664</td>\n",
       "      <td>1.839612</td>\n",
       "      <td>78.032656</td>\n",
       "      <td>0.093811</td>\n",
       "    </tr>\n",
       "  </tbody>\n",
       "</table>\n",
       "<p>5 rows × 24 columns</p>\n",
       "</div>"
      ],
      "text/plain": [
       "   area_code             area_name     pop  DEM_afflicted  HYP_afflicted  \\\n",
       "0  E07000091            New Forest  151481    1858.546949   28892.139020   \n",
       "1  E09000027  Richmond upon Thames  156795    1016.262785   16263.714161   \n",
       "2  E07000116       Tunbridge Wells   95022     876.255260   12908.434533   \n",
       "3  E07000121             Lancaster  123214    1228.376774   16806.421220   \n",
       "4  E07000042             Mid Devon   67987     547.793487   10854.465333   \n",
       "\n",
       "   DM_afflicted  STIA_afflicted  ALevel_plus   Female_all    Male_all  ...  \\\n",
       "0   9338.695410     4466.648271      72749.0   91513.3596  84729.6073  ...   \n",
       "1   5723.913130     2019.443594     112919.0  101226.6730  93918.3682  ...   \n",
       "2   4606.674451     1889.024705      52395.0   59540.1412  56126.1458  ...   \n",
       "3   6784.714317     2647.583108      65724.0   72615.6480  69496.5141  ...   \n",
       "4   4281.878984     1530.207441      33190.0   42541.3752  40639.6312  ...   \n",
       "\n",
       "   white_pc  DEM_afflicted_pc  ALevel_plus_pc  over_65_pc  female_pc  \\\n",
       "0      93.2          1.054537       41.277676   29.459719  51.924546   \n",
       "1      63.0          0.520773       57.864140   16.212434  51.872532   \n",
       "2      84.2          0.757572       45.298420   19.513040  51.475795   \n",
       "3      87.8          0.864371       46.247977   20.734161  51.097420   \n",
       "4      93.8          0.658556       39.900936   24.100070  51.143136   \n",
       "\n",
       "   HYP_afflicted_pc  DM_afflicted_pc  STIA_afflicted_pc  \\\n",
       "0         16.393357         5.298762           2.534370   \n",
       "1          8.334167         2.933158           1.034842   \n",
       "2         11.160066         3.982729           1.633168   \n",
       "3         11.826167         4.774197           1.863024   \n",
       "4         13.049211         5.147664           1.839612   \n",
       "\n",
       "   GP_contribution_to_LAD  GP_LAD_pc  \n",
       "0              186.084815   0.105584  \n",
       "1              437.450820   0.224167  \n",
       "2              124.734713   0.107840  \n",
       "3              442.084950   0.311082  \n",
       "4               78.032656   0.093811  \n",
       "\n",
       "[5 rows x 24 columns]"
      ]
     },
     "execution_count": 7,
     "metadata": {},
     "output_type": "execute_result"
    }
   ],
   "source": [
    "df_dem_plus.head()"
   ]
  },
  {
   "cell_type": "code",
   "execution_count": 8,
   "metadata": {},
   "outputs": [],
   "source": [
    "#|export\n",
    "# The real dementia x and y data \n",
    "\n",
    "# covariates \n",
    "covar = ['over_65_pc', \n",
    "             'female_pc', \n",
    "             'ALevel_plus_pc', \n",
    "             'white_pc', \n",
    "             'GP_LAD_pc']\n",
    "\n",
    "# Input data \n",
    "x = np.array(df_dem_plus[covar].values.reshape(-1,len(covar)))\n",
    "\n",
    "# Outcome data \n",
    "y = np.array(df_dem_plus['DEM_afflicted_pc'].values.reshape(-1,1))"
   ]
  },
  {
   "cell_type": "markdown",
   "metadata": {},
   "source": [
    "### Optimise the negative log likelihood \n",
    "\n",
    "We evaluate the log-likelihood using the maximise function from scikit-learn. This code is written with a little help from my firend ChatGPT - actually it generated the intial code - then I re-wrote 70% of it... \n",
    "\n",
    "*Note*: we need the likelihood to be the reflected & shifted log normal - which has an extra parameter (delta) compared to the log normal [see here](https://stats.stackexchange.com/questions/379980/understanding-the-shifted-log-normal-distribution). \n",
    "\n",
    "The shifted log-normal PDF at $x$ is: \n",
    "\n",
    "$$\n",
    "p(x|x>\\delta, \\delta, \\mu, \\sigma) = \n",
    "\\frac{1}{(x-\\delta)\\sigma \\sqrt{2 \\pi}} e^{-\\frac{1}{2 \\sigma^2}(ln(x- \\delta)-\\mu)^2}\n",
    "$$\n",
    "\n",
    "The reflected & shifted log-normal PDF at $x$ is: \n",
    "\n",
    "$$\n",
    "p(x|x<\\delta, \\delta, \\mu, \\sigma) = \n",
    "\\frac{1}{(\\delta - x)\\sigma \\sqrt{2 \\pi}} e^{-\\frac{1}{2 \\sigma^2}(ln(\\delta - x)-\\mu)^2}\n",
    "$$\n",
    "\n",
    "In the log-normal distribution, \n",
    "- $\\mu$ is the scale parameter - it stretches and compresses\n",
    "- $\\sigma$ is a shape parameter - it controls how skewed/heavy tailed the distribution is. \n",
    "- $\\delta$ is the shift parameter - here the shift is the linear equation: $\\delta = \\beta X$.\n",
    "\n",
    "Since, we are taking $y_i$ to represent the observed diagnoses, and $\\beta X$ to represent the expected a lower bound on the true prevalence rate we have:  \n",
    "\n",
    "$$\n",
    "y_i=\\beta X_i - \\epsilon \n",
    "$$ \n",
    "\n",
    "Where $\\epsilon > 0$. \n",
    "\n",
    "We can visualise what the reflected & shifted log normal looks like:\n",
    "\n",
    "\n"
   ]
  },
  {
   "cell_type": "code",
   "execution_count": 9,
   "metadata": {},
   "outputs": [],
   "source": [
    "#|export\n",
    "# NOTE this is just the function to use for plotting \n",
    "def reverse_shift_log_normal_pdf(x, delta, mu, sigma):\n",
    "    pdf = []\n",
    "    for i, x_i in enumerate(x):\n",
    "        if delta[i] < x_i: \n",
    "            pdf.append(0)\n",
    "        else: \n",
    "            x_shift = delta[i] - x_i\n",
    "            norm_const = 1 / ((x_shift) * sigma * np.sqrt(2 * np.pi))\n",
    "            exp_part = np.exp(-1 * (1 / (2 * sigma ** 2)) * (np.log(np.subtract(x_shift, mu)) ** 2))\n",
    "            pdf.append(norm_const.squeeze() * exp_part.squeeze())\n",
    "            \n",
    "    return np.array(pdf)\n",
    "\n",
    "def log_norm_mode(mu:int, # mean of the variables log\n",
    "                  sigma:int): # standard deviation of the variables log\n",
    "    return np.exp(mu - sigma**2)"
   ]
  },
  {
   "cell_type": "code",
   "execution_count": 10,
   "metadata": {},
   "outputs": [
    {
     "name": "stderr",
     "output_type": "stream",
     "text": [
      "/var/folders/4n/x6w1yfcx01qbymrsfpz4ybq00000gn/T/ipykernel_87354/3761313376.py:10: RuntimeWarning: divide by zero encountered in scalar divide\n",
      "  norm_const = 1 / ((x_shift) * sigma * np.sqrt(2 * np.pi))\n",
      "/Users/bea/miniconda3/envs/adu_env_dementia_ineq/lib/python3.10/site-packages/autograd/tracer.py:48: RuntimeWarning: divide by zero encountered in log\n",
      "  return f_raw(*args, **kwargs)\n",
      "/var/folders/4n/x6w1yfcx01qbymrsfpz4ybq00000gn/T/ipykernel_87354/3761313376.py:12: RuntimeWarning: invalid value encountered in scalar multiply\n",
      "  pdf.append(norm_const.squeeze() * exp_part.squeeze())\n"
     ]
    },
    {
     "data": {
      "image/png": "[encoded data removed]",
      "text/plain": [
       "<Figure size 1600x1200 with 1 Axes>"
      ]
     },
     "metadata": {},
     "output_type": "display_data"
    }
   ],
   "source": [
    "# Parameters for log-normal distribution\n",
    "mu_0 = 0  # Mean\n",
    "sigma_0 = 1\n",
    "shift = 5 # Shift \n",
    "\n",
    "x_axis = np.arange(0, 10, 0.01)\n",
    "shift = shift * np.ones(len(x_axis))\n",
    "\n",
    "pdf_x_mu0 = reverse_shift_log_normal_pdf(x_axis, shift, mu_0, sigma_0)\n",
    "\n",
    "# Plot the log-normal probability density function (PDF)\n",
    "plt.figure(figsize=(8,6), dpi=200)\n",
    "xmin, xmax = plt.xlim()\n",
    "plt.plot(x_axis, pdf_x_mu0, '-', linewidth=2, color='xkcd:boring green', label='$\\sigma=1$')\n",
    "\n",
    "plt.title('(Shifted) Log-Normal Distribution ')\n",
    "plt.legend(loc='upper right')\n",
    "plt.xlabel('X')\n",
    "plt.ylabel('Probability Density')\n",
    "plt.grid(True)\n",
    "plt.show()"
   ]
  },
  {
   "cell_type": "markdown",
   "metadata": {},
   "source": [
    "Now, accordingly the probability of a datapoint being distributed according to this log-normal error is: \n",
    "\n",
    "$$\n",
    "p(y_i|y_i < \\beta X_i, \\beta, \\mu, \\sigma) = \n",
    "\\frac{1}{(\\beta X_i - y_i)\\sigma \\sqrt{2 \\pi}} e^{-\\frac{1}{2 \\sigma^2}(ln(\\beta X_i - y_i)-\\mu)^2}\n",
    "$$\n",
    "\n",
    "And hence, the likelihood is: \n",
    "\n",
    "$$\n",
    "L(\\delta, \\mu, \\sigma) = \\prod_{i=1}^n s(y_i | y_i < \\beta X, \\beta X, \\mu, \\sigma) \\\\\n",
    "\n",
    "= \\prod_{i=1}^n \\frac{1}{(\\beta X_i - y_i)\\sigma \\sqrt{2 \\pi}} e^{-\\frac{1}{2 \\sigma^2}(ln(\\beta X_i - y_i)-\\mu)^2}\n",
    "$$\n",
    "\n",
    "Let $ z_i = \\beta X_i -y_i $. Then we have a log likelihood of:\n",
    "\n",
    "$$\n",
    "= \\sum_{i=1}^n ln(\\frac{1}{z_i \\sigma \\sqrt{2 \\pi}} exp(- \\frac{(ln z_i - \\mu)^2}{2 \\sigma^2})) \\\\ \n",
    "= \\sum_{i=1}^n ln(\\frac{1}{z_i \\sigma \\sqrt{2 \\pi}} ) - \\frac{ln^2z_i -2\\mu ln z_i + \\mu^2}{2 \\sigma^2} \\\\\n",
    "= \\sum_{i=1}^n - ln(z_i \\sigma \\sqrt{2 \\pi}) - \\frac{1}{2 \\sigma^2}(ln^2z_i -2\\mu ln z_i + \\mu^2) \\\\\n",
    "= \\sum_{i=1}^n \\frac{1}{2 \\sigma^2}(2\\mu ln z_i - ln^2 z_i - \\mu^2) - ln(z_i \\sigma \\sqrt{2 \\pi}) \\\\\n",
    "\n",
    "$$"
   ]
  },
  {
   "cell_type": "code",
   "execution_count": 11,
   "metadata": {},
   "outputs": [],
   "source": [
    "#|export\n",
    "\n",
    "def log_rvs_shift_log_normal(z, # random variable\n",
    "                             delta, # the shift parameter\n",
    "                             mu, # mean of the logarithm of z\n",
    "                             sigma # standard deviation of the logarithm of z\n",
    "                             ):\n",
    "    \"Returns the logarithm of the reverse, shifted, log normal probability density function.\"\n",
    "    pdf = []\n",
    "    z_shift = np.array(delta - z)\n",
    "    for i in range(len(z_shift)):\n",
    "        if z_shift[i]>0: \n",
    "            part1 = (1/(2 * sigma ** 2)) * (2 * mu * np.log(z_shift[i]) - (np.log(z_shift[i])) ** 2 - mu ** 2) \n",
    "            part2 = np.log(z_shift[i] * sigma * np.sqrt(2 *np.pi))\n",
    "            pdf.append(part1 - part2)\n",
    "        else:\n",
    "            pdf.append(-np.inf) # returns -inf at the points where the log normal is undefined \n",
    "    return np.array(pdf)\n",
    "\n",
    "def neg_loglike(params, # parameters to optimise\n",
    "                x, # independent variables \n",
    "                y # dependent variables \n",
    "                ):\n",
    "    \"Returns the negative log likelihood\"\n",
    "    beta_0 = params[0]\n",
    "    beta = np.array(params[1:-2])\n",
    "    mu = params[-2]\n",
    "    sigma = params[-1]\n",
    "\n",
    "    y_pred = (np.dot(x, beta)).squeeze() + beta_0\n",
    "    log_likely = log_rvs_shift_log_normal(y.squeeze(), delta=y_pred.squeeze(), mu=mu, sigma=sigma)\n",
    "    \n",
    "    return (-1 * np.sum(log_likely)).squeeze()"
   ]
  },
  {
   "cell_type": "code",
   "execution_count": 12,
   "metadata": {},
   "outputs": [],
   "source": [
    "trial_params = np.array([0.25, 0.1, 0.004, -0.004, -0.003, 0.0157, 0.0, 0.25])\n",
    "test_close(neg_loglike(trial_params, x, y), 344.64, eps=0.1)\n",
    "\n",
    "jacobian_ = jacobian(neg_loglike)\n",
    "jac_test1 = [1178.27, 26661.43, 60133.66, 46470.22, 103729.9, 139.77, -1568.54, -1892.12]\n",
    "test_close(jacobian_(trial_params, x, y), jac_test1, eps=0.1)"
   ]
  },
  {
   "cell_type": "markdown",
   "metadata": {},
   "source": [
    "## Some slightly unexpected behaviour here \n",
    "\n",
    "So, something odd happens here, for certain parameter values the negative log likelihood is positive. This is because the log-normal-pdf can be greater than 1, since it's a continous probability distribution it's only bound in that it's integral =1. As a result, for sharply peaked log normals (when both $\\mu$ and $\\sigma$ are small) we have $x$ values for which $p(x|\\mu, \\sigma)$ >1, and hence we end up with $- \\sum log(p(x|\\mu, \\sigma))<0$. \n",
    "\n",
    "See this example:"
   ]
  },
  {
   "cell_type": "code",
   "execution_count": 13,
   "metadata": {},
   "outputs": [
    {
     "name": "stdout",
     "output_type": "stream",
     "text": [
      "negative log likelihood: 3510.5178051505304\n",
      "The product of the probabilities: 0\n"
     ]
    }
   ],
   "source": [
    "params_practise = [8.755e-01,  1.605e-02, -1.870e-03,  5.155e-04, -3.925e-04, 2.349e-02, -2.423e-01,  1.215e-01]\n",
    "print(f'negative log likelihood: {neg_loglike(params_practise, x, y)}')\n",
    "\n",
    "delta_shift = np.dot(x, params_practise[1:-2])\n",
    "print(f'The product of the probabilities: {np.prod(reverse_shift_log_normal_pdf(y, delta_shift, -2.423e-01,  1.215e-01))}')"
   ]
  },
  {
   "cell_type": "markdown",
   "metadata": {},
   "source": [
    "A few checks with simpler examples that the function returns the values we expect"
   ]
  },
  {
   "cell_type": "code",
   "execution_count": 14,
   "metadata": {},
   "outputs": [],
   "source": [
    "x_practise1 = np.array([[1, 1.5], [2, 3.5]])\n",
    "y_practise1 = np.array([0, 0])\n",
    "params_practise1 = np.array([1, 2, 3, 0, 0.5])\n",
    "\n",
    "test_close(neg_loglike(params_practise1, x_practise1, y_practise1), 28.3, eps=0.1)"
   ]
  },
  {
   "cell_type": "code",
   "execution_count": 15,
   "metadata": {},
   "outputs": [],
   "source": [
    "x_practise2 = np.array([[7, 5], [7, 6]])\n",
    "y_practise2 = np.array([0, 2])\n",
    "params_practise2 = np.array([0, 0, 2, 1, 0.5])\n",
    "\n",
    "test_close(neg_loglike(params_practise2, x_practise2, y_practise2), 11.8, eps=0.1)\n",
    "\n",
    "jacobian_ = jacobian(neg_loglike)\n",
    "jac_test2 = [1.2, 8.6, 6.8, -10.4, -23.1]\n",
    "test_close(jacobian_(params_practise2, x_practise2, y_practise2), jac_test2, eps=0.1)"
   ]
  },
  {
   "cell_type": "markdown",
   "metadata": {},
   "source": [
    "## Using scipy minimize \n",
    "\n",
    "Now we use `scipy.minimize` in order to optimise the function. We are using minimize with the negative of the likelihood which should always be positive.\n",
    "\n",
    "We can initialise from a random point:"
   ]
  },
  {
   "cell_type": "code",
   "execution_count": 16,
   "metadata": {},
   "outputs": [],
   "source": [
    "# n_features = 7\n",
    "# np.random.seed(27)\n",
    "# params_0 = np.concatenate([np.random.normal(size=n_features+1), [0, 0.25]]) "
   ]
  },
  {
   "cell_type": "markdown",
   "metadata": {},
   "source": [
    "Or, we initialise from a point near to where we expect the minimum to be (based on the multiple linear regression coefficients):"
   ]
  },
  {
   "cell_type": "code",
   "execution_count": 17,
   "metadata": {},
   "outputs": [],
   "source": [
    "params_0 = np.array([0.25, 0.1, 0.004, -0.004, -0.003, 0.0157, 0.1, 0.25])"
   ]
  },
  {
   "cell_type": "markdown",
   "metadata": {},
   "source": [
    "There are different methods to optimise, such as Nelder-Mead - which doesn't use the functions derivative."
   ]
  },
  {
   "cell_type": "code",
   "execution_count": 18,
   "metadata": {},
   "outputs": [],
   "source": [
    "# Use scipy's minimize function with the Nelder-Mead algorithm\n",
    "result = minimize(neg_loglike, x0=params_0, args=(x,y), method = 'Nelder-Mead')"
   ]
  },
  {
   "cell_type": "code",
   "execution_count": 19,
   "metadata": {},
   "outputs": [
    {
     "name": "stdout",
     "output_type": "stream",
     "text": [
      "       message: Optimization terminated successfully.\n",
      "       success: True\n",
      "        status: 0\n",
      "           fun: -340.7490774493841\n",
      "             x: [-2.722e-01  2.724e-02  2.779e-02 -6.651e-04  1.014e-03\n",
      "                  1.584e-01  1.201e-01  7.124e-02]\n",
      "           nit: 926\n",
      "          nfev: 1387\n",
      " final_simplex: (array([[-2.722e-01,  2.724e-02, ...,  1.201e-01,\n",
      "                         7.124e-02],\n",
      "                       [-2.722e-01,  2.723e-02, ...,  1.201e-01,\n",
      "                         7.124e-02],\n",
      "                       ...,\n",
      "                       [-2.723e-01,  2.724e-02, ...,  1.201e-01,\n",
      "                         7.124e-02],\n",
      "                       [-2.723e-01,  2.724e-02, ...,  1.201e-01,\n",
      "                         7.124e-02]]), array([-3.407e+02, -3.407e+02, -3.407e+02, -3.407e+02,\n",
      "                       -3.407e+02, -3.407e+02, -3.407e+02, -3.407e+02,\n",
      "                       -3.407e+02]))\n"
     ]
    }
   ],
   "source": [
    "print(result)"
   ]
  },
  {
   "cell_type": "markdown",
   "metadata": {},
   "source": [
    "Or a method like BFGS which uses the first derivative:"
   ]
  },
  {
   "cell_type": "code",
   "execution_count": 20,
   "metadata": {},
   "outputs": [],
   "source": [
    "#derivates of neg_loglike\n",
    "# jacobian_  = jacobian(neg_loglike)\n",
    "\n",
    "# result = minimize(neg_loglike, x0=params_0, args=(x,y), method='BFGS', jac = jacobian_, options={'gtol': 1e-6, 'disp':True})\n",
    "# result"
   ]
  },
  {
   "cell_type": "code",
   "execution_count": 21,
   "metadata": {},
   "outputs": [
    {
     "name": "stdout",
     "output_type": "stream",
     "text": [
      "MLE estimates \n",
      "--------------\n",
      "--------------\n",
      "Intercept:-0.27221513749140114\n",
      "--------------\n",
      "Regression coefficients\n",
      "--------------\n",
      "over_65_pc:0.0272352042724196\n",
      "female_pc:0.027786162016409256\n",
      "ALevel_plus_pc:-0.0006651332262950396\n",
      "white_pc:0.0010144739174956928\n",
      "GP_LAD_pc:0.15836291664973529\n",
      "--------------\n",
      "Log normal coefficients\n",
      "--------------\n",
      "Mu: 0.12009636563799896\n",
      "Sigma: 0.07124171472765442\n"
     ]
    }
   ],
   "source": [
    "# Extract the MLE from the parameter samples\n",
    "MLE_params = result.x\n",
    "\n",
    "MLE_intercept = MLE_params[0]\n",
    "MLE_beta = MLE_params[1:-2]\n",
    "MLE_mu = MLE_params[-2]\n",
    "MLE_sigma = MLE_params[-1]\n",
    "\n",
    "print(\"MLE estimates \\n--------------\\n--------------\")\n",
    "print(f'Intercept:{MLE_intercept}')\n",
    "print(\"--------------\\nRegression coefficients\\n--------------\")\n",
    "for i, var in enumerate(covar):\n",
    "    print(f'{var}:{MLE_beta[i]}')\n",
    "print(\"--------------\\nLog normal coefficients\\n--------------\")\n",
    "print(\"Mu:\", MLE_mu)\n",
    "print(\"Sigma:\", MLE_sigma)"
   ]
  },
  {
   "cell_type": "code",
   "execution_count": 22,
   "metadata": {},
   "outputs": [
    {
     "name": "stdout",
     "output_type": "stream",
     "text": [
      "At the MLE, the negative loglikelihood is: -340.7490774493841\n"
     ]
    }
   ],
   "source": [
    "print(f'At the MLE, the negative loglikelihood is: {neg_loglike(MLE_params, x, y)}')"
   ]
  },
  {
   "cell_type": "markdown",
   "metadata": {},
   "source": [
    "And we can plot the shape of the log normal"
   ]
  },
  {
   "cell_type": "code",
   "execution_count": 23,
   "metadata": {},
   "outputs": [
    {
     "name": "stderr",
     "output_type": "stream",
     "text": [
      "/Users/bea/miniconda3/envs/adu_env_dementia_ineq/lib/python3.10/site-packages/autograd/tracer.py:48: RuntimeWarning: invalid value encountered in log\n",
      "  return f_raw(*args, **kwargs)\n"
     ]
    },
    {
     "data": {
      "image/png": "[encoded data removed]",
      "text/plain": [
       "<Figure size 1600x1200 with 1 Axes>"
      ]
     },
     "metadata": {},
     "output_type": "display_data"
    }
   ],
   "source": [
    "# mode of the log normal \n",
    "plt.figure(figsize=(8,6), dpi=200)\n",
    "mode = log_norm_mode(MLE_mu, MLE_sigma)\n",
    "\n",
    "# plot log normal of MLE parameters \n",
    "x_axis = np.arange(-5, 0, 0.01)\n",
    "pdf_x_mu0 = reverse_shift_log_normal_pdf(x_axis, np.zeros(len(x_axis)), MLE_mu, MLE_sigma)\n",
    "\n",
    "# Plot the log-normal probability density function (PDF)\n",
    "xmin, xmax = plt.xlim()\n",
    "plt.plot(x_axis, pdf_x_mu0, '-', linewidth=2, color='xkcd:windows blue')\n",
    "plt.text(-2.8, 1.1, f'$\\sigma=${np.round(MLE_sigma, 2)}', color='xkcd:windows blue', size=12)\n",
    "plt.text(-2.8, 1.4, f'$\\mu=${np.round(MLE_mu, 2)}', color='xkcd:windows blue', size=12)\n",
    "\n",
    "ymin, ymax = plt.ylim()\n",
    "plt.vlines(-mode, ymin, ymax, color='xkcd:boring green', label='Log normal mode', linestyles='dotted')\n",
    "plt.text(-2, 4.1, f'Mode={np.round(-mode,2)}', color='xkcd:boring green', size=12)\n",
    "\n",
    "plt.title('(Reflected) Log-Normal Distribution', size=14)\n",
    "plt.xlabel('X')\n",
    "plt.ylabel('Probability Density', size=12)\n",
    "plt.grid(True)\n",
    "\n",
    "plt.savefig(const.figs_path+'/mle_reflected_log_normal.png')\n",
    "plt.show()"
   ]
  },
  {
   "cell_type": "markdown",
   "metadata": {},
   "source": [
    "### Save the results predicted by the model as a .csv "
   ]
  },
  {
   "cell_type": "code",
   "execution_count": 24,
   "metadata": {},
   "outputs": [],
   "source": [
    "# The values predicted by the linear regression - conceptually this should be the \"true\" dementia prevalence rates \n",
    "y_pred = np.dot(x, MLE_beta.T) + MLE_intercept\n",
    "df_dem_plus['log_norm_model_pred'] = y_pred\n",
    "\n",
    "diagnosis_gap = y.squeeze() - y_pred.squeeze()\n",
    "df_dem_plus['diagnosis_gap']=diagnosis_gap\n",
    "\n",
    "df_dem_plus.to_csv(const.output_path+'/log_norm_model/log_norm_model_results.csv')"
   ]
  },
  {
   "cell_type": "markdown",
   "metadata": {},
   "source": [
    "And subsquently look at those regions with the largest gap from the regression line - conceptually those with the worst diagnosis rates"
   ]
  },
  {
   "cell_type": "code",
   "execution_count": 25,
   "metadata": {},
   "outputs": [
    {
     "data": {
      "text/html": [
       "<div>\n",
       "<style scoped>\n",
       "    .dataframe tbody tr th:only-of-type {\n",
       "        vertical-align: middle;\n",
       "    }\n",
       "\n",
       "    .dataframe tbody tr th {\n",
       "        vertical-align: top;\n",
       "    }\n",
       "\n",
       "    .dataframe thead th {\n",
       "        text-align: right;\n",
       "    }\n",
       "</style>\n",
       "<table border=\"1\" class=\"dataframe\">\n",
       "  <thead>\n",
       "    <tr style=\"text-align: right;\">\n",
       "      <th></th>\n",
       "      <th>area_name</th>\n",
       "      <th>diagnosis_gap</th>\n",
       "    </tr>\n",
       "  </thead>\n",
       "  <tbody>\n",
       "    <tr>\n",
       "      <th>196</th>\n",
       "      <td>East Hampshire</td>\n",
       "      <td>-0.962845</td>\n",
       "    </tr>\n",
       "    <tr>\n",
       "      <th>3</th>\n",
       "      <td>Lancaster</td>\n",
       "      <td>-0.955487</td>\n",
       "    </tr>\n",
       "    <tr>\n",
       "      <th>189</th>\n",
       "      <td>Gateshead</td>\n",
       "      <td>-0.947568</td>\n",
       "    </tr>\n",
       "    <tr>\n",
       "      <th>10</th>\n",
       "      <td>Southend-on-Sea</td>\n",
       "      <td>-0.945035</td>\n",
       "    </tr>\n",
       "    <tr>\n",
       "      <th>272</th>\n",
       "      <td>Gosport</td>\n",
       "      <td>-0.940483</td>\n",
       "    </tr>\n",
       "    <tr>\n",
       "      <th>123</th>\n",
       "      <td>Surrey Heath</td>\n",
       "      <td>-0.938303</td>\n",
       "    </tr>\n",
       "    <tr>\n",
       "      <th>29</th>\n",
       "      <td>East Devon</td>\n",
       "      <td>-0.937195</td>\n",
       "    </tr>\n",
       "    <tr>\n",
       "      <th>63</th>\n",
       "      <td>Eastbourne</td>\n",
       "      <td>-0.916604</td>\n",
       "    </tr>\n",
       "    <tr>\n",
       "      <th>225</th>\n",
       "      <td>Southampton</td>\n",
       "      <td>-0.884937</td>\n",
       "    </tr>\n",
       "    <tr>\n",
       "      <th>77</th>\n",
       "      <td>Rochford</td>\n",
       "      <td>-0.861372</td>\n",
       "    </tr>\n",
       "  </tbody>\n",
       "</table>\n",
       "</div>"
      ],
      "text/plain": [
       "           area_name  diagnosis_gap\n",
       "196   East Hampshire      -0.962845\n",
       "3          Lancaster      -0.955487\n",
       "189        Gateshead      -0.947568\n",
       "10   Southend-on-Sea      -0.945035\n",
       "272          Gosport      -0.940483\n",
       "123     Surrey Heath      -0.938303\n",
       "29        East Devon      -0.937195\n",
       "63        Eastbourne      -0.916604\n",
       "225      Southampton      -0.884937\n",
       "77          Rochford      -0.861372"
      ]
     },
     "execution_count": 25,
     "metadata": {},
     "output_type": "execute_result"
    }
   ],
   "source": [
    "most_bad_lads = np.argsort(diagnosis_gap)[-10:]\n",
    "df_dem_plus.iloc[most_bad_lads, :][['area_name', 'diagnosis_gap']]"
   ]
  },
  {
   "cell_type": "markdown",
   "metadata": {},
   "source": [
    "And those regions with the smallest gap - conceptually those with the best diagnosis rates"
   ]
  },
  {
   "cell_type": "code",
   "execution_count": 26,
   "metadata": {},
   "outputs": [
    {
     "data": {
      "text/html": [
       "<div>\n",
       "<style scoped>\n",
       "    .dataframe tbody tr th:only-of-type {\n",
       "        vertical-align: middle;\n",
       "    }\n",
       "\n",
       "    .dataframe tbody tr th {\n",
       "        vertical-align: top;\n",
       "    }\n",
       "\n",
       "    .dataframe thead th {\n",
       "        text-align: right;\n",
       "    }\n",
       "</style>\n",
       "<table border=\"1\" class=\"dataframe\">\n",
       "  <thead>\n",
       "    <tr style=\"text-align: right;\">\n",
       "      <th></th>\n",
       "      <th>area_name</th>\n",
       "      <th>diagnosis_gap</th>\n",
       "    </tr>\n",
       "  </thead>\n",
       "  <tbody>\n",
       "    <tr>\n",
       "      <th>40</th>\n",
       "      <td>South Hams</td>\n",
       "      <td>-1.355309</td>\n",
       "    </tr>\n",
       "    <tr>\n",
       "      <th>271</th>\n",
       "      <td>Eden</td>\n",
       "      <td>-1.303135</td>\n",
       "    </tr>\n",
       "    <tr>\n",
       "      <th>288</th>\n",
       "      <td>Plymouth</td>\n",
       "      <td>-1.293384</td>\n",
       "    </tr>\n",
       "    <tr>\n",
       "      <th>274</th>\n",
       "      <td>Thanet</td>\n",
       "      <td>-1.291947</td>\n",
       "    </tr>\n",
       "    <tr>\n",
       "      <th>257</th>\n",
       "      <td>South Cambridgeshire</td>\n",
       "      <td>-1.287858</td>\n",
       "    </tr>\n",
       "    <tr>\n",
       "      <th>263</th>\n",
       "      <td>Eastleigh</td>\n",
       "      <td>-1.276474</td>\n",
       "    </tr>\n",
       "    <tr>\n",
       "      <th>37</th>\n",
       "      <td>Medway</td>\n",
       "      <td>-1.276291</td>\n",
       "    </tr>\n",
       "    <tr>\n",
       "      <th>55</th>\n",
       "      <td>Isles of Scilly</td>\n",
       "      <td>-1.275464</td>\n",
       "    </tr>\n",
       "    <tr>\n",
       "      <th>60</th>\n",
       "      <td>Worcester</td>\n",
       "      <td>-1.275106</td>\n",
       "    </tr>\n",
       "    <tr>\n",
       "      <th>276</th>\n",
       "      <td>Fenland</td>\n",
       "      <td>-1.273727</td>\n",
       "    </tr>\n",
       "  </tbody>\n",
       "</table>\n",
       "</div>"
      ],
      "text/plain": [
       "                area_name  diagnosis_gap\n",
       "40             South Hams      -1.355309\n",
       "271                  Eden      -1.303135\n",
       "288              Plymouth      -1.293384\n",
       "274                Thanet      -1.291947\n",
       "257  South Cambridgeshire      -1.287858\n",
       "263             Eastleigh      -1.276474\n",
       "37                 Medway      -1.276291\n",
       "55        Isles of Scilly      -1.275464\n",
       "60              Worcester      -1.275106\n",
       "276               Fenland      -1.273727"
      ]
     },
     "execution_count": 26,
     "metadata": {},
     "output_type": "execute_result"
    }
   ],
   "source": [
    "least_bad_lads = np.argsort(diagnosis_gap)[:10]\n",
    "df_dem_plus.iloc[least_bad_lads, :][['area_name', 'diagnosis_gap']]"
   ]
  },
  {
   "cell_type": "markdown",
   "metadata": {},
   "source": [
    "## Evaluate the hessian at the MLE \n",
    "\n",
    "We can look at the Hessian evaluated at the MLE."
   ]
  },
  {
   "cell_type": "code",
   "execution_count": 27,
   "metadata": {},
   "outputs": [],
   "source": [
    "def is_def(x):\n",
    "    return np.all(np.linalg.eigvals(x) > 0)"
   ]
  },
  {
   "cell_type": "code",
   "execution_count": 28,
   "metadata": {},
   "outputs": [
    {
     "data": {
      "text/plain": [
       "True"
      ]
     },
     "execution_count": 28,
     "metadata": {},
     "output_type": "execute_result"
    }
   ],
   "source": [
    "hessian_ = hessian(neg_loglike)\n",
    "\n",
    "# check if it is positive definite\n",
    "is_def(hessian_(MLE_params, x, y))"
   ]
  },
  {
   "cell_type": "markdown",
   "metadata": {},
   "source": [
    "## Alternative model using a half normal distribution instead "
   ]
  },
  {
   "cell_type": "code",
   "execution_count": 29,
   "metadata": {},
   "outputs": [],
   "source": [
    "# Negative log likelihood for the half normal distribution \n",
    "\n",
    "# Define functions to minimize\n",
    "def neg_loglike_half_norm(params, x, y):\n",
    "    beta_0 = params[0]\n",
    "    beta = np.array(params[1:-1])\n",
    "    sigma = params[-1]\n",
    "\n",
    "    log_pdf = []\n",
    "    y_pred = (np.dot(x, beta)).squeeze() + beta_0\n",
    "    y = y.reshape(1, len(x)).squeeze()\n",
    "\n",
    "    z_shift = np.array(y_pred-y)\n",
    "\n",
    "    for i in range(len(z_shift)):\n",
    "        if z_shift[i]>0:\n",
    "            normalising = 1/(sigma* np.sqrt(2*np.pi))\n",
    "            exp_part = np.exp(-(1/2)*(z_shift[i]/sigma)**2)\n",
    "            log_pdf.append(np.log(normalising*exp_part))\n",
    "        else:\n",
    "            log_pdf.append(-np.inf)\n",
    "\n",
    "    return np.array(-1 * np.sum(log_pdf))"
   ]
  },
  {
   "cell_type": "code",
   "execution_count": 30,
   "metadata": {},
   "outputs": [],
   "source": [
    "# Values to initialise from \n",
    "params_0 = np.array([-1, 0.02, 0.02, 0.001, 0.001, 0.1])\n",
    "sigma_0 = 0.2"
   ]
  },
  {
   "cell_type": "code",
   "execution_count": 31,
   "metadata": {},
   "outputs": [
    {
     "name": "stderr",
     "output_type": "stream",
     "text": [
      "/Users/bea/miniconda3/envs/adu_env_dementia_ineq/lib/python3.10/site-packages/scipy/optimize/_optimize.py:941: RuntimeWarning: invalid value encountered in subtract\n",
      "  np.max(np.abs(fsim[0] - fsim[1:])) <= fatol):\n"
     ]
    }
   ],
   "source": [
    "# Use scipy's minimize function with the Nelder-Mead algorithm\n",
    "result = minimize(neg_loglike_half_norm, x0=np.append(params_0, sigma_0), args=(x,y), method = 'Nelder-Mead')"
   ]
  },
  {
   "cell_type": "code",
   "execution_count": 32,
   "metadata": {},
   "outputs": [
    {
     "name": "stdout",
     "output_type": "stream",
     "text": [
      "MLE estimates \n",
      "--------------\n",
      "--------------\n",
      "Intercept:-1.0\n",
      "--------------\n",
      "Regression coefficients\n",
      "--------------\n",
      "over_65_pc:0.02\n",
      "female_pc:0.02\n",
      "ALevel_plus_pc:0.001\n",
      "white_pc:0.001\n",
      "GP_LAD_pc:0.1\n",
      "--------------\n",
      "Log normal coefficients\n",
      "--------------\n",
      "Sigma: 0.2\n"
     ]
    }
   ],
   "source": [
    "# Extract the MLE from the parameter samples\n",
    "MLE_params = result.x\n",
    "\n",
    "MLE_intercept = MLE_params[0]\n",
    "MLE_beta = MLE_params[1:-1]\n",
    "MLE_sigma = MLE_params[-1]\n",
    "\n",
    "print(\"MLE estimates \\n--------------\\n--------------\")\n",
    "print(f'Intercept:{MLE_intercept}')\n",
    "print(\"--------------\\nRegression coefficients\\n--------------\")\n",
    "for i, var in enumerate(covar):\n",
    "    print(f'{var}:{MLE_beta[i]}')\n",
    "print(\"--------------\\nLog normal coefficients\\n--------------\")\n",
    "print(\"Sigma:\", MLE_sigma)"
   ]
  },
  {
   "cell_type": "code",
   "execution_count": 33,
   "metadata": {},
   "outputs": [
    {
     "name": "stderr",
     "output_type": "stream",
     "text": [
      "/Users/bea/miniconda3/envs/adu_env_dementia_ineq/lib/python3.10/site-packages/autograd/tracer.py:48: RuntimeWarning: invalid value encountered in log\n",
      "  return f_raw(*args, **kwargs)\n"
     ]
    },
    {
     "data": {
      "image/png": "[encoded data removed]",
      "text/plain": [
       "<Figure size 1600x1200 with 1 Axes>"
      ]
     },
     "metadata": {},
     "output_type": "display_data"
    }
   ],
   "source": [
    "# Plot the half normal distribution from the model \n",
    "\n",
    "plt.figure(figsize=(8,6), dpi=200)\n",
    "\n",
    "# plot log normal of MLE parameters \n",
    "x_axis = np.arange(-5,1, 0.1)\n",
    "pdf_x_mu0 = reverse_shift_log_normal_pdf(x_axis, np.zeros(len(x_axis)), MLE_mu, MLE_sigma)\n",
    "\n",
    "halfnorm_pdf = stat.halfnorm.pdf(-x_axis, scale=MLE_sigma)\n",
    "plt.plot(x_axis, halfnorm_pdf, '-', linewidth=2, color='mediumseagreen')\n",
    "plt.text(-2, 1, f'$\\sigma=${np.round(MLE_sigma, 3)}', color='mediumseagreen')\n",
    "ymin, ymax = plt.ylim()\n",
    "plt.vlines(0, ymin, ymax, color='slateblue', linestyles='dotted')\n",
    "\n",
    "plt.title('Half-Normal Distribution', size=14)\n",
    "plt.xlabel('X')\n",
    "plt.ylabel('Probability Density', size=12)\n",
    "plt.grid(True)\n",
    "\n",
    "plt.show()"
   ]
  },
  {
   "cell_type": "markdown",
   "metadata": {},
   "source": [
    "### And again save the results "
   ]
  },
  {
   "cell_type": "code",
   "execution_count": 34,
   "metadata": {},
   "outputs": [],
   "source": [
    "# The values predicted by the linear regression - conceptually this should be the \"true\" dementia prevalence rates \n",
    "y_pred = np.dot(x, MLE_beta.T) + MLE_intercept\n",
    "df_dem_plus['half_norm_model_pred'] = y_pred\n",
    "\n",
    "diagnosis_gap = y.squeeze() - y_pred.squeeze()\n",
    "df_dem_plus['half_norm_diagnosis_gap']=diagnosis_gap\n",
    "\n",
    "df_dem_plus.to_csv(const.output_path+'/half_norm_model/half_norm_model_results.csv')"
   ]
  },
  {
   "cell_type": "code",
   "execution_count": 35,
   "metadata": {},
   "outputs": [
    {
     "data": {
      "text/plain": [
       "0      0.281815\n",
       "1      0.015793\n",
       "2      0.197513\n",
       "3      0.262584\n",
       "4      0.010610\n",
       "         ...   \n",
       "304    0.101832\n",
       "305    0.077991\n",
       "306   -0.001248\n",
       "307    0.154363\n",
       "308    0.032768\n",
       "Name: half_norm_diagnosis_gap, Length: 309, dtype: float64"
      ]
     },
     "execution_count": 35,
     "metadata": {},
     "output_type": "execute_result"
    }
   ],
   "source": [
    "df_dem_plus['half_norm_diagnosis_gap']"
   ]
  },
  {
   "cell_type": "markdown",
   "metadata": {},
   "source": [
    "## Check the model by implementing a linear regression. \n",
    "\n",
    "Create a function which we apply `scipy.minimize` to in order ot find the MLE parameters. This code be done using two different objective functions - either:\n",
    "1. Ordinary least squares (OLS) - based on the assumption that the error is gaussian the MLE parameters of the regression line minimize the OLS function (which is just the sum of the differences squared). \n",
    "2. Gaussian error - based on the assumtpion that the error term is gaussian we can minimize the negative log likelihood of the observed data, given a mean of the regression line, and some standard deviation sigma, which is fit as part of the model. "
   ]
  },
  {
   "cell_type": "code",
   "execution_count": 36,
   "metadata": {},
   "outputs": [],
   "source": [
    "# Define functions to minimize\n",
    "\n",
    "# OLS\n",
    "def linear_log_ols(params, x, y):\n",
    "    beta_0 = params[0]\n",
    "    beta = np.array(params[1:])\n",
    "\n",
    "    y_pred = (np.dot(x, beta)).squeeze() + beta_0\n",
    "    y = y.reshape(1, len(x)).squeeze()\n",
    "    squares = (y_pred-y)**2\n",
    "    \n",
    "    return (np.sum(squares)).squeeze()\n",
    "\n",
    "# ALTERNATIVE FUNCTION - which uses the equation for the gaussian pdf\n",
    "# Define functions to minimize\n",
    "def linear_neg_loglike(params, x, y):\n",
    "    beta_0 = params[0]\n",
    "    beta = np.array(params[1:-1])\n",
    "    sigma = params[-1]\n",
    "\n",
    "    log_pdf = []\n",
    "    y_pred = (np.dot(x, beta)).squeeze() + beta_0\n",
    "\n",
    "    z_shift = np.array(y_pred-y)\n",
    "\n",
    "    for i in range(len(z_shift)):\n",
    "        normalising = 1/(sigma* np.sqrt(2*np.pi))\n",
    "        exp_part = np.exp(-(1/2)*(z_shift[i]/sigma)**2)\n",
    "        log_pdf.append(np.log(normalising*exp_part))\n",
    "\n",
    "    return np.array(-1 * np.sum(log_pdf))"
   ]
  },
  {
   "cell_type": "code",
   "execution_count": 37,
   "metadata": {},
   "outputs": [],
   "source": [
    "# Values to initialise from \n",
    "params_0 = np.array([0.1, 0.01, 0.004, -0.004, -0.003, 0.01])\n",
    "sigma_0 = 0.2\n",
    "\n",
    "# the MLE parameters from the multiple linear regression using sklearn \n",
    "regr_coeff = np.load(const.pre_output_path+'/reg_coeff.npy')"
   ]
  },
  {
   "cell_type": "code",
   "execution_count": 38,
   "metadata": {},
   "outputs": [
    {
     "data": {
      "text/plain": [
       "array(299377.46994219)"
      ]
     },
     "execution_count": 38,
     "metadata": {},
     "output_type": "execute_result"
    }
   ],
   "source": [
    "# Check the function works by evaluating at a certain point \n",
    "linear_neg_loglike(np.append(params_0, sigma_0),x, y)"
   ]
  },
  {
   "cell_type": "code",
   "execution_count": 39,
   "metadata": {},
   "outputs": [
    {
     "data": {
      "text/plain": [
       "array([ 3.17049853e-09,  7.29179675e+06,  2.40535437e+05, -2.83761317e+06,\n",
       "        2.34414608e+07, -2.43154028e+03, -4.17639607e+06])"
      ]
     },
     "execution_count": 39,
     "metadata": {},
     "output_type": "execute_result"
    }
   ],
   "source": [
    "# Calculate the gradient at this point \n",
    "grad_loglike = grad(linear_neg_loglike)\n",
    "grad_loglike(np.append(np.array(regr_coeff), 0.1), x, y)"
   ]
  },
  {
   "cell_type": "code",
   "execution_count": 40,
   "metadata": {},
   "outputs": [
    {
     "name": "stdout",
     "output_type": "stream",
     "text": [
      "Hessian eigenvalues: [1.05708801e+11 1.89745761e+09 1.86705873e+08 1.10747525e+08\n",
      " 3.31669409e+07 1.56661789e+03 2.97671446e+04]\n",
      "Hessian matrix positive definite: True\n"
     ]
    }
   ],
   "source": [
    "# Inspect the Hessian at this point \n",
    "hessian_ = hessian(linear_neg_loglike)\n",
    "print(f'Hessian eigenvalues: {np.linalg.eigvals(hessian_(np.append(np.array(regr_coeff), 0.1), x, y))}')\n",
    "print(f'Hessian matrix positive definite: {is_def(hessian_(np.append(np.array(regr_coeff), 0.1), x, y))}')"
   ]
  },
  {
   "cell_type": "code",
   "execution_count": 41,
   "metadata": {},
   "outputs": [
    {
     "name": "stdout",
     "output_type": "stream",
     "text": [
      "       message: Optimization terminated successfully.\n",
      "       success: True\n",
      "        status: 0\n",
      "           fun: 1.933968585696655\n",
      "             x: [-9.691e-01  2.735e-02  1.955e-02 -8.609e-04  8.710e-04\n",
      "                  1.872e-01]\n",
      "           nit: 554\n",
      "          nfev: 871\n",
      " final_simplex: (array([[-9.691e-01,  2.735e-02, ...,  8.710e-04,\n",
      "                         1.872e-01],\n",
      "                       [-9.690e-01,  2.735e-02, ...,  8.709e-04,\n",
      "                         1.872e-01],\n",
      "                       ...,\n",
      "                       [-9.690e-01,  2.735e-02, ...,  8.709e-04,\n",
      "                         1.872e-01],\n",
      "                       [-9.691e-01,  2.735e-02, ...,  8.709e-04,\n",
      "                         1.872e-01]]), array([ 1.934e+00,  1.934e+00,  1.934e+00,  1.934e+00,\n",
      "                        1.934e+00,  1.934e+00,  1.934e+00]))\n",
      "MLE estimates (OLS model)\n",
      "--------------\n",
      "--------------\n",
      "Intercept:-0.969065470994887\n",
      "--------------\n",
      "Regression coefficients\n",
      "--------------\n",
      "over_65_pc:0.02735206069180662\n",
      "female_pc:0.01955077845558148\n",
      "ALevel_plus_pc:-0.0008609054919398244\n",
      "white_pc:0.0008709731654286664\n",
      "GP_LAD_pc:0.18723650062313577\n"
     ]
    }
   ],
   "source": [
    "# Use scipy's minimize function with the Nelder-Mead algorithm\n",
    "result = minimize(linear_log_ols, x0=params_0, args=(x,y), method = 'Nelder-Mead')\n",
    "\n",
    "print(result)\n",
    "\n",
    "# Extract the MLE from the parameter samples\n",
    "MLE_params = result.x\n",
    "\n",
    "MLE_intercept = MLE_params[0]\n",
    "MLE_beta = MLE_params[1:]\n",
    "\n",
    "print(\"MLE estimates (OLS model)\\n--------------\\n--------------\")\n",
    "print(f'Intercept:{MLE_intercept}')\n",
    "print(\"--------------\\nRegression coefficients\\n--------------\")\n",
    "for i, var in enumerate(covar):\n",
    "    print(f'{var}:{MLE_beta[i]}')"
   ]
  },
  {
   "cell_type": "code",
   "execution_count": 42,
   "metadata": {},
   "outputs": [
    {
     "data": {
      "text/plain": [
       "       message: Optimization terminated successfully.\n",
       "       success: True\n",
       "        status: 0\n",
       "           fun: -31931.774939013965\n",
       "             x: [ 6.270e-01 -3.104e-07  4.936e-07  2.751e-08  8.950e-08\n",
       "                  2.185e-05  1.732e-01]\n",
       "           nit: 899\n",
       "          nfev: 1355\n",
       " final_simplex: (array([[ 6.270e-01, -3.104e-07, ...,  2.185e-05,\n",
       "                         1.732e-01],\n",
       "                       [ 6.270e-01, -4.332e-07, ...,  8.307e-06,\n",
       "                         1.732e-01],\n",
       "                       ...,\n",
       "                       [ 6.271e-01,  4.573e-07, ...,  1.462e-05,\n",
       "                         1.732e-01],\n",
       "                       [ 6.270e-01, -2.060e-07, ...,  1.476e-05,\n",
       "                         1.732e-01]]), array([-3.193e+04, -3.193e+04, -3.193e+04, -3.193e+04,\n",
       "                       -3.193e+04, -3.193e+04, -3.193e+04, -3.193e+04]))"
      ]
     },
     "execution_count": 42,
     "metadata": {},
     "output_type": "execute_result"
    }
   ],
   "source": [
    "params_01 = np.append(regr_coeff, sigma_0)\n",
    "\n",
    "# Use scipy's minimize function with the Nelder-Mead algorithm\n",
    "result = minimize(linear_neg_loglike, x0=params_01, args=(x,y), method = 'Nelder-Mead')\n",
    "\n",
    "result"
   ]
  },
  {
   "cell_type": "code",
   "execution_count": 43,
   "metadata": {},
   "outputs": [
    {
     "name": "stdout",
     "output_type": "stream",
     "text": [
      "MLE estimates (Gaussian model)\n",
      "--------------\n",
      "--------------\n",
      "Intercept:0.6270284013940928\n",
      "--------------\n",
      "Regression coefficients\n",
      "--------------\n",
      "over_65_pc:-3.103881297234349e-07\n",
      "female_pc:4.936357578522903e-07\n",
      "ALevel_plus_pc:2.750652825994351e-08\n",
      "white_pc:8.950136111427524e-08\n",
      "GP_LAD_pc:2.1845864842894377e-05\n",
      "--------------\n",
      "Gaussian standard deviation\n",
      "--------------\n",
      "Sigma: 0.17318999627754034\n"
     ]
    }
   ],
   "source": [
    "# Extract the MLE from the parameter samples\n",
    "MLE_params = result.x\n",
    "\n",
    "MLE_intercept = MLE_params[0]\n",
    "MLE_beta = MLE_params[1:-1]\n",
    "MLE_sigma = MLE_params[-1]\n",
    "\n",
    "print(\"MLE estimates (Gaussian model)\\n--------------\\n--------------\")\n",
    "print(f'Intercept:{MLE_intercept}')\n",
    "print(\"--------------\\nRegression coefficients\\n--------------\")\n",
    "for i, var in enumerate(covar):\n",
    "    print(f'{var}:{MLE_beta[i]}')\n",
    "print(\"--------------\\nGaussian standard deviation\\n--------------\")\n",
    "print(\"Sigma:\", MLE_sigma)"
   ]
  },
  {
   "cell_type": "code",
   "execution_count": 44,
   "metadata": {},
   "outputs": [
    {
     "data": {
      "text/plain": [
       "array([-0.10242371, -6.01335167, -4.7488914 ,  3.89747805,  4.79054859,\n",
       "        0.2234384 ,  3.48636278])"
      ]
     },
     "execution_count": 44,
     "metadata": {},
     "output_type": "execute_result"
    }
   ],
   "source": [
    "# Calculate the gradient at this point \n",
    "grad_loglike = grad(linear_neg_loglike)\n",
    "grad_loglike(np.array(MLE_params), x, y)"
   ]
  },
  {
   "cell_type": "code",
   "execution_count": 45,
   "metadata": {},
   "outputs": [
    {
     "name": "stdout",
     "output_type": "stream",
     "text": [
      "Hessian eigenvalues: [3.52419817e+10 6.12111960e+08 5.91924234e+07 2.38032107e+07\n",
      " 5.41161424e+02 9.97338911e+03 6.36644848e+06]\n",
      "Hessian matrix positive definite: True\n"
     ]
    }
   ],
   "source": [
    "# Inspect the Hessian at this point \n",
    "hessian_ = hessian(linear_neg_loglike)\n",
    "print(f'Hessian eigenvalues: {np.linalg.eigvals(hessian_(np.array(MLE_params), x, y))}')\n",
    "print(f'Hessian matrix positive definite: {is_def(hessian_(np.array(MLE_params), x, y))}')"
   ]
  }
 ],
 "metadata": {
  "kernelspec": {
   "display_name": "adu_env_dementia_ineq",
   "language": "python",
   "name": "python3"
  },
  "language_info": {
   "codemirror_mode": {
    "name": "ipython",
    "version": 3
   },
   "file_extension": ".py",
   "mimetype": "text/x-python",
   "name": "python",
   "nbconvert_exporter": "python",
   "pygments_lexer": "ipython3",
   "version": "3.10.13"
  }
 },
 "nbformat": 4,
 "nbformat_minor": 2
}
