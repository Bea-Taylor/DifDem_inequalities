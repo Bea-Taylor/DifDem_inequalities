{
 "cells": [
  {
   "cell_type": "markdown",
   "metadata": {},
   "source": [
    "# 05 Alternative regression model using MCMC + maximum likelihood \n",
    "\n",
    "> Implemented using metropolis hastings"
   ]
  },
  {
   "cell_type": "code",
   "execution_count": 1,
   "metadata": {},
   "outputs": [],
   "source": [
    "#|default_exp core.05_alt_regression_model"
   ]
  },
  {
   "cell_type": "code",
   "execution_count": 2,
   "metadata": {},
   "outputs": [],
   "source": [
    "#|hide\n",
    "#import nbdev; nbdev.nbdev_export()"
   ]
  },
  {
   "cell_type": "code",
   "execution_count": 3,
   "metadata": {},
   "outputs": [],
   "source": [
    "#|hide \n",
    "from nbdev.showdoc import show_doc"
   ]
  },
  {
   "cell_type": "code",
   "execution_count": 4,
   "metadata": {},
   "outputs": [],
   "source": [
    "#|export\n",
    "import dementia_inequalities as proj \n",
    "from dementia_inequalities import const, log, utils, tools \n",
    "import adu_proj.utils as adutils "
   ]
  },
  {
   "cell_type": "code",
   "execution_count": 5,
   "metadata": {},
   "outputs": [],
   "source": [
    "#|export \n",
    "import numpy as np \n",
    "import pandas as pd\n",
    "from matplotlib import pyplot as plt\n",
    "from sklearn import linear_model\n",
    "from sklearn.model_selection import KFold, cross_val_score\n",
    "from sklearn.linear_model import LinearRegression\n",
    "\n",
    "# pymc\n",
    "import pymc as pm\n",
    "from pymc import Normal, HalfNormal\n",
    "\n",
    "#pyro\n",
    "import os\n",
    "import torch\n",
    "import pyro\n",
    "from torch import nn \n",
    "from pyro.nn import PyroModule\n"
   ]
  },
  {
   "cell_type": "markdown",
   "metadata": {},
   "source": [
    "---"
   ]
  },
  {
   "cell_type": "code",
   "execution_count": 6,
   "metadata": {},
   "outputs": [],
   "source": [
    "#|export \n",
    "df_dem_plus = pd.read_csv(const.output_path+'/df_dem_plus.csv')"
   ]
  },
  {
   "cell_type": "code",
   "execution_count": 7,
   "metadata": {},
   "outputs": [
    {
     "data": {
      "text/html": [
       "<div>\n",
       "<style scoped>\n",
       "    .dataframe tbody tr th:only-of-type {\n",
       "        vertical-align: middle;\n",
       "    }\n",
       "\n",
       "    .dataframe tbody tr th {\n",
       "        vertical-align: top;\n",
       "    }\n",
       "\n",
       "    .dataframe thead th {\n",
       "        text-align: right;\n",
       "    }\n",
       "</style>\n",
       "<table border=\"1\" class=\"dataframe\">\n",
       "  <thead>\n",
       "    <tr style=\"text-align: right;\">\n",
       "      <th></th>\n",
       "      <th>area_code</th>\n",
       "      <th>area_name</th>\n",
       "      <th>pop</th>\n",
       "      <th>DEM_afflicted</th>\n",
       "      <th>HYP_afflicted</th>\n",
       "      <th>DM_afflicted</th>\n",
       "      <th>STIA_afflicted</th>\n",
       "      <th>ALevel_plus</th>\n",
       "      <th>Female_all</th>\n",
       "      <th>Male_all</th>\n",
       "      <th>...</th>\n",
       "      <th>white_pc</th>\n",
       "      <th>DEM_afflicted_pc</th>\n",
       "      <th>ALevel_plus_pc</th>\n",
       "      <th>over_65_pc</th>\n",
       "      <th>female_pc</th>\n",
       "      <th>HYP_afflicted_pc</th>\n",
       "      <th>DM_afflicted_pc</th>\n",
       "      <th>STIA_afflicted_pc</th>\n",
       "      <th>GP_contribution_to_LAD</th>\n",
       "      <th>GP_LAD_pc</th>\n",
       "    </tr>\n",
       "  </thead>\n",
       "  <tbody>\n",
       "    <tr>\n",
       "      <th>0</th>\n",
       "      <td>E07000091</td>\n",
       "      <td>New Forest</td>\n",
       "      <td>151481</td>\n",
       "      <td>1858.546949</td>\n",
       "      <td>28892.139020</td>\n",
       "      <td>9338.695410</td>\n",
       "      <td>4466.648271</td>\n",
       "      <td>72749.0</td>\n",
       "      <td>91513.3596</td>\n",
       "      <td>84729.6073</td>\n",
       "      <td>...</td>\n",
       "      <td>0.932</td>\n",
       "      <td>0.012269</td>\n",
       "      <td>0.480252</td>\n",
       "      <td>0.342754</td>\n",
       "      <td>0.604124</td>\n",
       "      <td>0.190731</td>\n",
       "      <td>0.061649</td>\n",
       "      <td>0.029487</td>\n",
       "      <td>215.158147</td>\n",
       "      <td>0.001420</td>\n",
       "    </tr>\n",
       "    <tr>\n",
       "      <th>1</th>\n",
       "      <td>E09000027</td>\n",
       "      <td>Richmond upon Thames</td>\n",
       "      <td>156795</td>\n",
       "      <td>1016.262785</td>\n",
       "      <td>16263.714161</td>\n",
       "      <td>5723.913130</td>\n",
       "      <td>2019.443594</td>\n",
       "      <td>112919.0</td>\n",
       "      <td>101226.6730</td>\n",
       "      <td>93918.3682</td>\n",
       "      <td>...</td>\n",
       "      <td>0.630</td>\n",
       "      <td>0.006481</td>\n",
       "      <td>0.720170</td>\n",
       "      <td>0.201778</td>\n",
       "      <td>0.645599</td>\n",
       "      <td>0.103726</td>\n",
       "      <td>0.036506</td>\n",
       "      <td>0.012880</td>\n",
       "      <td>437.450820</td>\n",
       "      <td>0.002790</td>\n",
       "    </tr>\n",
       "    <tr>\n",
       "      <th>2</th>\n",
       "      <td>E07000116</td>\n",
       "      <td>Tunbridge Wells</td>\n",
       "      <td>95022</td>\n",
       "      <td>876.255260</td>\n",
       "      <td>12908.434533</td>\n",
       "      <td>4606.674451</td>\n",
       "      <td>1889.024705</td>\n",
       "      <td>52395.0</td>\n",
       "      <td>59540.1412</td>\n",
       "      <td>56126.1458</td>\n",
       "      <td>...</td>\n",
       "      <td>0.842</td>\n",
       "      <td>0.009222</td>\n",
       "      <td>0.551399</td>\n",
       "      <td>0.237524</td>\n",
       "      <td>0.626593</td>\n",
       "      <td>0.135847</td>\n",
       "      <td>0.048480</td>\n",
       "      <td>0.019880</td>\n",
       "      <td>123.466346</td>\n",
       "      <td>0.001299</td>\n",
       "    </tr>\n",
       "    <tr>\n",
       "      <th>3</th>\n",
       "      <td>E07000121</td>\n",
       "      <td>Lancaster</td>\n",
       "      <td>123214</td>\n",
       "      <td>1228.376774</td>\n",
       "      <td>16806.421220</td>\n",
       "      <td>6784.714317</td>\n",
       "      <td>2647.583108</td>\n",
       "      <td>65724.0</td>\n",
       "      <td>72615.6480</td>\n",
       "      <td>69496.5141</td>\n",
       "      <td>...</td>\n",
       "      <td>0.878</td>\n",
       "      <td>0.009969</td>\n",
       "      <td>0.533413</td>\n",
       "      <td>0.239143</td>\n",
       "      <td>0.589346</td>\n",
       "      <td>0.136400</td>\n",
       "      <td>0.055064</td>\n",
       "      <td>0.021488</td>\n",
       "      <td>612.399689</td>\n",
       "      <td>0.004970</td>\n",
       "    </tr>\n",
       "    <tr>\n",
       "      <th>4</th>\n",
       "      <td>E07000042</td>\n",
       "      <td>Mid Devon</td>\n",
       "      <td>67987</td>\n",
       "      <td>547.793487</td>\n",
       "      <td>10854.465333</td>\n",
       "      <td>4281.878984</td>\n",
       "      <td>1530.207441</td>\n",
       "      <td>33190.0</td>\n",
       "      <td>42541.3752</td>\n",
       "      <td>40639.6312</td>\n",
       "      <td>...</td>\n",
       "      <td>0.938</td>\n",
       "      <td>0.008057</td>\n",
       "      <td>0.488182</td>\n",
       "      <td>0.294860</td>\n",
       "      <td>0.625728</td>\n",
       "      <td>0.159655</td>\n",
       "      <td>0.062981</td>\n",
       "      <td>0.022507</td>\n",
       "      <td>77.360723</td>\n",
       "      <td>0.001138</td>\n",
       "    </tr>\n",
       "  </tbody>\n",
       "</table>\n",
       "<p>5 rows × 24 columns</p>\n",
       "</div>"
      ],
      "text/plain": [
       "   area_code             area_name     pop  DEM_afflicted  HYP_afflicted  \\\n",
       "0  E07000091            New Forest  151481    1858.546949   28892.139020   \n",
       "1  E09000027  Richmond upon Thames  156795    1016.262785   16263.714161   \n",
       "2  E07000116       Tunbridge Wells   95022     876.255260   12908.434533   \n",
       "3  E07000121             Lancaster  123214    1228.376774   16806.421220   \n",
       "4  E07000042             Mid Devon   67987     547.793487   10854.465333   \n",
       "\n",
       "   DM_afflicted  STIA_afflicted  ALevel_plus   Female_all    Male_all  ...  \\\n",
       "0   9338.695410     4466.648271      72749.0   91513.3596  84729.6073  ...   \n",
       "1   5723.913130     2019.443594     112919.0  101226.6730  93918.3682  ...   \n",
       "2   4606.674451     1889.024705      52395.0   59540.1412  56126.1458  ...   \n",
       "3   6784.714317     2647.583108      65724.0   72615.6480  69496.5141  ...   \n",
       "4   4281.878984     1530.207441      33190.0   42541.3752  40639.6312  ...   \n",
       "\n",
       "   white_pc  DEM_afflicted_pc  ALevel_plus_pc  over_65_pc  female_pc  \\\n",
       "0     0.932          0.012269        0.480252    0.342754   0.604124   \n",
       "1     0.630          0.006481        0.720170    0.201778   0.645599   \n",
       "2     0.842          0.009222        0.551399    0.237524   0.626593   \n",
       "3     0.878          0.009969        0.533413    0.239143   0.589346   \n",
       "4     0.938          0.008057        0.488182    0.294860   0.625728   \n",
       "\n",
       "   HYP_afflicted_pc  DM_afflicted_pc  STIA_afflicted_pc  \\\n",
       "0          0.190731         0.061649           0.029487   \n",
       "1          0.103726         0.036506           0.012880   \n",
       "2          0.135847         0.048480           0.019880   \n",
       "3          0.136400         0.055064           0.021488   \n",
       "4          0.159655         0.062981           0.022507   \n",
       "\n",
       "   GP_contribution_to_LAD  GP_LAD_pc  \n",
       "0              215.158147   0.001420  \n",
       "1              437.450820   0.002790  \n",
       "2              123.466346   0.001299  \n",
       "3              612.399689   0.004970  \n",
       "4               77.360723   0.001138  \n",
       "\n",
       "[5 rows x 24 columns]"
      ]
     },
     "execution_count": 7,
     "metadata": {},
     "output_type": "execute_result"
    }
   ],
   "source": [
    "df_dem_plus.head()"
   ]
  },
  {
   "cell_type": "code",
   "execution_count": 8,
   "metadata": {},
   "outputs": [],
   "source": [
    "# X and y data \n",
    "\n",
    "# covariates \n",
    "covar = df_dem_plus[['over_65_pc', 'female_pc', 'ALevel_plus_pc']].values.reshape(-1,3)\n",
    "#covar = df_dem_plus[['over_65_pc', 'female_pc', 'ALevel_plus_pc', 'white_pc', 'HYP_afflicted_pc', 'DM_afflicted_pc', 'STIA_afflicted_pc']].values.reshape(-1,7)\n",
    "covar = covar.T\n",
    "\n",
    "# Outcome data \n",
    "Y_data = df_dem_plus['DEM_afflicted_pc'].values.reshape(-1,1)"
   ]
  },
  {
   "cell_type": "code",
   "execution_count": 9,
   "metadata": {},
   "outputs": [
    {
     "data": {
      "text/plain": [
       "(309,)"
      ]
     },
     "execution_count": 9,
     "metadata": {},
     "output_type": "execute_result"
    }
   ],
   "source": [
    "covar[0].shape"
   ]
  },
  {
   "cell_type": "code",
   "execution_count": 10,
   "metadata": {},
   "outputs": [],
   "source": [
    "# basic_model = pm.Model()\n",
    "\n",
    "# with basic_model:\n",
    "#     # priors \n",
    "#     alpha = pm.Normal(\"alpha\", mu=0, sigma=1)\n",
    "#     beta = pm.Normal(\"beta\", mu=0, sigma=1, shape=3)\n",
    "#     sigma = pm.HalfNormal(\"sigma\", sigma=1)\n",
    "\n",
    "#     # expected value of line\n",
    "#     line = alpha + beta[0]*covar[0]+beta[1]*covar[1]+beta[2]*covar[2]\n",
    "\n",
    "#     # likelihood \n",
    "#     #y_obs = line + pm.HalfNormal(\"y_obs\", sigma=sigma, observed=Y_data)\n",
    "#     Y_obs = pm.Normal(\"Y_obs\", mu=line, sigma=sigma, observed=Y_data)"
   ]
  },
  {
   "cell_type": "code",
   "execution_count": 11,
   "metadata": {},
   "outputs": [],
   "source": [
    "# not able to call the model as it leads to lots of errors - so think I probably can't use pymc :( \n",
    "\n",
    "# with basic_model:\n",
    "#     # draw 1000 posterior samples\n",
    "#     idata = pm.sample()"
   ]
  },
  {
   "cell_type": "code",
   "execution_count": 12,
   "metadata": {},
   "outputs": [],
   "source": [
    "# # for CI testing\n",
    "# smoke_test = ('CI' in os.environ)\n",
    "# assert pyro.__version__.startswith('1.8.6')\n",
    "# pyro.set_rng_seed(1)"
   ]
  },
  {
   "cell_type": "code",
   "execution_count": 13,
   "metadata": {},
   "outputs": [],
   "source": [
    "# # try pyro instead\n",
    "\n",
    "# # X and y data \n",
    "\n",
    "# # covariates \n",
    "# data = torch.tensor(df_dem_plus[['over_65_pc', 'female_pc', 'ALevel_plus_pc', 'DEM_afflicted_pc']].values, dtype=torch.float)\n",
    "\n",
    "# x_data, y_data = data[:,:-1], data[:,-1]\n",
    "\n",
    "# linear_reg_model = PyroModule[nn.Linear](3,1)\n",
    "\n",
    "# # Define loss and optimize\n",
    "# loss_fn = torch.nn.MSELoss(reduction='sum')\n",
    "# optim = torch.optim.Adam(linear_reg_model.parameters(), lr=0.05)\n",
    "# num_iterations = 1500 if not smoke_test else 2\n",
    "\n",
    "# def train():\n",
    "#     # run the model forward on the data\n",
    "#     y_pred = linear_reg_model(x_data).squeeze(-1)\n",
    "#     # calculate the mse loss\n",
    "#     loss = loss_fn(y_pred, y_data)\n",
    "#     # initialize gradients to zero\n",
    "#     optim.zero_grad()\n",
    "#     # backpropagate\n",
    "#     loss.backward()\n",
    "#     # take a gradient step\n",
    "#     optim.step()\n",
    "#     return loss\n",
    "\n",
    "# for j in range(num_iterations):\n",
    "#     loss = train()\n",
    "#     if (j + 1) % 50 == 0:\n",
    "#         print(\"[iteration %04d] loss: %.4f\" % (j + 1, loss.item()))\n",
    "\n",
    "\n",
    "# # Inspect learned parameters\n",
    "# print(\"Learned parameters:\")\n",
    "# for name, param in linear_reg_model.named_parameters():\n",
    "#     print(name, param.data.numpy())"
   ]
  },
  {
   "cell_type": "markdown",
   "metadata": {},
   "source": [
    "## Log normal distribution \n",
    "\n",
    "The shifted log-normal PDF at $x$ is: \n",
    "\n",
    "$$\n",
    "p(x|x>\\delta, \\delta, \\mu, \\sigma) = \n",
    "\\frac{1}{(x-\\delta)\\sigma \\sqrt{2 \\pi}} e^{-\\frac{1}{2 \\sigma^2}(ln(x- \\delta)-\\mu)^2}\n",
    "$$\n"
   ]
  },
  {
   "cell_type": "code",
   "execution_count": 14,
   "metadata": {},
   "outputs": [],
   "source": [
    "#|export \n",
    "\n",
    "def shift_log_normal_pdf(x, delta, mu, sigma):\n",
    "    x_shift = x-delta\n",
    "    norm_const = 1/((x_shift)*sigma*np.sqrt(2*np.pi))\n",
    "    exp_part = np.exp(-(1/(2*sigma**2))*(np.log(x_shift)-mu)**2)\n",
    "    return norm_const*exp_part"
   ]
  },
  {
   "cell_type": "code",
   "execution_count": 435,
   "metadata": {},
   "outputs": [
    {
     "name": "stderr",
     "output_type": "stream",
     "text": [
      "/var/folders/4n/x6w1yfcx01qbymrsfpz4ybq00000gn/T/ipykernel_6428/1959514423.py:6: RuntimeWarning: invalid value encountered in log\n",
      "  exp_part = np.exp(-(1/(2*sigma**2))*(np.log(x_shift)-mu)**2)\n"
     ]
    },
    {
     "data": {
      "image/png": "[encoded data removed]",
      "text/plain": [
       "<Figure size 640x480 with 1 Axes>"
      ]
     },
     "metadata": {},
     "output_type": "display_data"
    }
   ],
   "source": [
    "# Parameters for log-normal distribution\n",
    "mu = 0  # Mean\n",
    "sigma = 1  # Standard deviation\n",
    "shift = 3 # Shift \n",
    "\n",
    "x = np.arange(1, 30, 0.01)\n",
    "\n",
    "pdf_x = shift_log_normal_pdf(x, shift, mu, sigma)\n",
    "\n",
    "# Plot the log-normal probability density function (PDF)\n",
    "xmin, xmax = plt.xlim()\n",
    "plt.plot(x, pdf_x, 'k-', linewidth=2)\n",
    "\n",
    "plt.title('Log-Normal Distribution (Shifted)')\n",
    "plt.xlabel('X')\n",
    "plt.ylabel('Probability Density')\n",
    "plt.grid(True)\n",
    "plt.show()"
   ]
  },
  {
   "cell_type": "code",
   "execution_count": 16,
   "metadata": {},
   "outputs": [],
   "source": [
    "# # Plot what the shifted log normal distribution looks like. \n",
    "\n",
    "# # Parameters for log-normal distribution\n",
    "# mu = 2  # Mean\n",
    "# sigma = 1  # Standard deviation\n",
    "\n",
    "# x = np.arange(0,10, 0.01)\n",
    "# shift = 3\n",
    "\n",
    "\n",
    "\n",
    "# # Generate random samples from log-normal distribution\n",
    "# samples = np.random.lognormal(mean=mu, sigma=sigma, size=1000)\n",
    "\n",
    "# # Shift the samples to start at x=2\n",
    "# samples += 2 - np.min(samples)\n",
    "\n",
    "# # Plot the histogram of shifted samples\n",
    "# plt.hist(samples, bins=50, density=True, alpha=0.6, color='pink')\n",
    "\n",
    "# # Plot the log-normal probability density function (PDF)\n",
    "# xmin, xmax = plt.xlim()\n",
    "# x = np.linspace(xmin, xmax, 100)\n",
    "# pdf = (1/(x * sigma * np.sqrt(2 * np.pi))) * np.exp(- (np.log(x - (2 - np.min(samples))) - mu)**2 / (2 * sigma**2))\n",
    "# plt.plot(x, pdf, 'k-', linewidth=2)\n",
    "\n",
    "# plt.title('Log-Normal Distribution (Shifted)')\n",
    "# plt.xlabel('X')\n",
    "# plt.ylabel('Probability Density')\n",
    "# plt.grid(True)\n",
    "# plt.show()\n"
   ]
  },
  {
   "cell_type": "markdown",
   "metadata": {},
   "source": [
    "### Used ChatGPT to write the framework for the log likelihood and the MCMC. \n",
    "\n",
    "However note: we need the likelihood to be the shifted log normal - which has an extra parameter (delta) compared to the log normal [see here](https://stats.stackexchange.com/questions/379980/understanding-the-shifted-log-normal-distribution). \n",
    "\n",
    "The shifted log-normal PDF at $x$ is: \n",
    "\n",
    "$$\n",
    "p(x|x>\\delta, \\delta, \\mu, \\sigma) = \n",
    "\\frac{1}{(x-\\delta)\\sigma \\sqrt{2 \\pi}} e^{-\\frac{1}{2 \\sigma^2}(ln(x- \\delta)-\\mu)^2}\n",
    "$$\n",
    "\n",
    "In the log-normal distribution, \n",
    "- $\\mu$ is the scale parameter - it stretches and compresses\n",
    "- $\\sigma$ is a shape parameter - it controls how skewed/heavy tailed the distribution is. \n",
    "\n",
    "The shift is the linear equation: $\\delta = \\beta X$\n",
    "\n",
    "So as a result the likelihood becomes: \n",
    "\n",
    "$$\n",
    "L(\\delta, \\mu, \\sigma) = \\prod_{i=1}^n s(y_i | \\beta X, \\mu, \\sigma) \\\\\n",
    "\n",
    "= \\prod_{i=1}^n \\frac{1}{(y_i-\\beta X_i)\\sigma \\sqrt{2 \\pi}} e^{-\\frac{1}{2 \\sigma^2}(ln(y_i- \\beta X_i)-\\mu)^2}\n",
    "$$\n",
    "\n",
    "With a log-likelihood of: \n",
    "\n",
    "$$\n",
    "= \\sum_{i=1}^n log(\\frac{1}{(y_i-\\beta X_i)\\sigma \\sqrt{2 \\pi}} e^{-\\frac{1}{2 \\sigma^2}(ln(y_i- \\beta X_i)-\\mu)^2})\n",
    "\\\\ \n",
    "= \\sum_{i=1}^n -\\frac{1}{2 \\sigma^2}(ln(y_i- \\beta X_i)-\\mu)^2ln(\\frac{1}{(y_i-\\beta X_i)\\sigma \\sqrt{2 \\pi}}) \n",
    "\\\\ \n",
    "= -\\frac{1}{2 \\sigma^2} \\sum_{i=1}^n (ln(y_i- \\beta X_i)-\\mu)^2ln(\\frac{1}{(y_i-\\beta X_i)\\sigma \\sqrt{2 \\pi}}) \n",
    "\\\\ \n",
    "= \\frac{1}{2 \\sigma^2} \\sum_{i=1}^n (ln(y_i- \\beta X_i)-\\mu)^2ln((y_i-\\beta X_i)\\sigma \\sqrt{2 \\pi}) \n",
    "$$\n"
   ]
  },
  {
   "cell_type": "code",
   "execution_count": 424,
   "metadata": {},
   "outputs": [],
   "source": [
    "# Define the log likelihood function for linear regression with log-normal error\n",
    "def log_likelihood(params, X, y):\n",
    "    beta = params[:-2]\n",
    "    mu = params[-2]\n",
    "    sigma = params[-1]\n",
    "    y_pred = np.dot(X, beta) # this is the shift \n",
    "    #x, delta, mu, sigma\n",
    "    liklihood = shift_log_normal_pdf(x=y, delta=y_pred, mu=mu, sigma=sigma)\n",
    "    return np.sum(np.log(liklihood))\n",
    "    \n",
    "    # beta = params[:-2]\n",
    "    # mu = params[-2]\n",
    "    # sigma = params[-1]\n",
    "    # y_pred = np.dot(X, beta)\n",
    "    # y_shift = y - y_pred\n",
    "    # log_likelihood = ((np.log(y_shift) - mu)**2)*(np.log(y_shift*sigma*np.sqrt(2*np.pi)))\n",
    "    # log_likelihood_sum = (1/(2*(sigma**2))) * np.sum(log_likelihood)\n",
    "    # #error = np.log(y) - np.log(y_pred) - mu\n",
    "    # #error = np.log(y)- np.log(y_pred) - np.sqrt(2)/(sigma*np.sqrt(np.pi))*np.exp(-y_pred**2/(2*sigma**2))\n",
    "    # #log_likelihood_value = -0.5 * np.sum(error**2 / sigma**2 + np.log(2 * np.pi * sigma**2))\n",
    "    # print(log_likelihood_sum)\n",
    "    #return log_likelihood_sum\n",
    "\n",
    "# Define the prior distribution for beta parameters, mu, and sigma\n",
    "def log_prior(params):\n",
    "    beta = params[:-2]\n",
    "    mu = params[-2]\n",
    "    sigma = params[-1]\n",
    "    if np.all(-10 < beta.all() < 10) and 0 <= mu < 10 and sigma > 0:\n",
    "        return 0\n",
    "    return -np.inf\n",
    "\n",
    "# Define the log posterior distribution\n",
    "def log_posterior(params, X, y):\n",
    "    return log_likelihood(params, X, y) + log_prior(params)\n",
    "\n",
    "# # Define the Metropolis-Hastings algorithm\n",
    "# def metropolis_hastings(initial_params, proposal_sd, n_iter, X, y):\n",
    "#     params = initial_params\n",
    "#     accepted_params = [params]\n",
    "#     for _ in range(n_iter):\n",
    "#         proposed_params = params + np.random.normal(scale=proposal_sd, size=params.shape)\n",
    "#         log_alpha = log_posterior(proposed_params, X, y) - log_posterior(params, X, y)\n",
    "#         if np.log(np.random.rand()) < log_alpha:\n",
    "#             params = proposed_params\n",
    "#         accepted_params.append(params)\n",
    "#     return np.array(accepted_params)\n",
    "\n",
    "# Define the Metropolis-Hastings algorithm\n",
    "def metropolis_hastings(initial_params, proposal_sd, n_iter, X, y):\n",
    "    params = initial_params\n",
    "    accepted_params = [params]\n",
    "    for _ in range(n_iter):\n",
    "        proposed_params = params + np.random.normal(scale=proposal_sd, size=params.shape)\n",
    "        log_alpha = log_posterior(proposed_params, X, y) - log_posterior(params, X, y)\n",
    "        if np.log(np.random.rand()) < log_alpha:\n",
    "            params = proposed_params\n",
    "        accepted_params.append(params)\n",
    "        #if np.random.rand() > log\n",
    "        #if np.log(np.random.rand()) < log_alpha:\n",
    "        #    params = proposed_params\n",
    "        #accepted_params.append(params)\n",
    "    return np.array(accepted_params)"
   ]
  },
  {
   "cell_type": "code",
   "execution_count": 432,
   "metadata": {},
   "outputs": [
    {
     "name": "stdout",
     "output_type": "stream",
     "text": [
      "-15077.733708476746\n",
      "-14534.671252589658\n",
      "-543.0624558870877\n"
     ]
    }
   ],
   "source": [
    "params = initial_params\n",
    "proposed_params = params + np.random.normal(scale=proposal_sd, size=params.shape)\n",
    "print(log_posterior(proposed_params, X, y))\n",
    "print(log_posterior(params, X, y))\n",
    "print(log_posterior(proposed_params, X, y) - log_posterior(params, X, y))"
   ]
  },
  {
   "cell_type": "code",
   "execution_count": 426,
   "metadata": {},
   "outputs": [
    {
     "data": {
      "text/plain": [
       "-0.9884135565419002"
      ]
     },
     "execution_count": 426,
     "metadata": {},
     "output_type": "execute_result"
    }
   ],
   "source": [
    "np.log(np.random.rand())"
   ]
  },
  {
   "cell_type": "code",
   "execution_count": 427,
   "metadata": {},
   "outputs": [],
   "source": [
    "# Generate some sample data with 7 covariates\n",
    "np.random.seed(0)\n",
    "n_samples = 1000\n",
    "n_features = 7\n",
    "X = np.random.rand(n_samples, n_features) * 10  # Independent variables\n",
    "true_beta = np.random.normal(loc=2, scale=1, size=n_features)  # True coefficients\n",
    "true_mu = 0  # True mean of log-normal distribution\n",
    "true_sigma = 1\n",
    "true_error = np.random.lognormal(mean=true_mu, sigma=true_sigma, size=n_samples)  # Log-normal error term\n",
    "y = np.dot(X, true_beta) + true_error  # True relationship with error"
   ]
  },
  {
   "cell_type": "code",
   "execution_count": 428,
   "metadata": {},
   "outputs": [
    {
     "name": "stderr",
     "output_type": "stream",
     "text": [
      "/var/folders/4n/x6w1yfcx01qbymrsfpz4ybq00000gn/T/ipykernel_6428/3772636749.py:9: RuntimeWarning: divide by zero encountered in log\n",
      "  return np.sum(np.log(liklihood))\n",
      "/var/folders/4n/x6w1yfcx01qbymrsfpz4ybq00000gn/T/ipykernel_6428/3772636749.py:9: RuntimeWarning: invalid value encountered in log\n",
      "  return np.sum(np.log(liklihood))\n",
      "/var/folders/4n/x6w1yfcx01qbymrsfpz4ybq00000gn/T/ipykernel_6428/1959514423.py:6: RuntimeWarning: invalid value encountered in log\n",
      "  exp_part = np.exp(-(1/(2*sigma**2))*(np.log(x_shift)-mu)**2)\n"
     ]
    },
    {
     "data": {
      "image/png": "[encoded data removed]",
      "text/plain": [
       "<Figure size 1200x800 with 12 Axes>"
      ]
     },
     "metadata": {},
     "output_type": "display_data"
    }
   ],
   "source": [
    "# Set initial parameters and proposal standard deviation\n",
    "initial_params = np.concatenate([np.random.normal(size=n_features), [0, 1]])  # Initial beta parameters, mu, and sigma\n",
    "proposal_sd = 0.1\n",
    "\n",
    "# Run Metropolis-Hastings algorithm\n",
    "n_iter = 20000\n",
    "chain = metropolis_hastings(initial_params, proposal_sd, n_iter, X, y)\n",
    "\n",
    "# Burn-in (discard first part of the chain)\n",
    "burn_in = 1000\n",
    "burned_chain = chain[burn_in:]\n",
    "\n",
    "# Extract beta parameters, mu, and sigma from the chain\n",
    "beta_samples, mu_samples, sigma_samples = burned_chain[:, :-2], burned_chain[:, -2], burned_chain[:, -1]\n",
    "\n",
    "# Plot the traces and histograms of beta parameters, mu, and sigma\n",
    "plt.figure(figsize=(12, 8))\n",
    "\n",
    "for i in range(n_features):\n",
    "    plt.subplot(4, 3, i+1)\n",
    "    plt.plot(beta_samples[:, i])\n",
    "    plt.xlabel('Iteration')\n",
    "    plt.ylabel(f'Beta_{i}')\n",
    "    plt.title(f'Trace of Beta_{i}')\n",
    "\n",
    "plt.subplot(4, 3, n_features+1)\n",
    "plt.plot(mu_samples)\n",
    "plt.xlabel('Iteration')\n",
    "plt.ylabel('Mu')\n",
    "plt.title('Trace of Mu')\n",
    "\n",
    "plt.subplot(4, 3, n_features+2)\n",
    "plt.plot(sigma_samples)\n",
    "plt.xlabel('Iteration')\n",
    "plt.ylabel('Sigma')\n",
    "plt.title('Trace of Sigma')\n",
    "\n",
    "plt.subplot(4, 3, n_features+3)\n",
    "for i in range(n_features):\n",
    "    plt.hist(beta_samples[:, i], bins=30, density=True, alpha=0.6, label=f'Beta_{i}')\n",
    "plt.xlabel('Beta')\n",
    "plt.ylabel('Frequency')\n",
    "plt.title('Histogram of Beta Parameters')\n",
    "plt.legend()\n",
    "\n",
    "plt.subplot(4, 3, n_features+4)\n",
    "plt.hist(mu_samples, bins=30, density=True, alpha=0.6)\n",
    "plt.xlabel('Mu')\n",
    "plt.ylabel('Frequency')\n",
    "plt.title('Histogram of Mu')\n",
    "\n",
    "plt.subplot(4, 3, n_features+5)\n",
    "plt.hist(sigma_samples, bins=30, density=True, alpha=0.6)\n",
    "plt.xlabel('Sigma')\n",
    "plt.ylabel('Frequency')\n",
    "plt.title('Histogram of Sigma')\n",
    "\n",
    "plt.tight_layout()\n",
    "plt.show()\n"
   ]
  },
  {
   "cell_type": "code",
   "execution_count": 429,
   "metadata": {},
   "outputs": [
    {
     "name": "stdout",
     "output_type": "stream",
     "text": [
      "MAP estimates:\n",
      "Beta: [2.32060916 4.48346297 2.33542347 2.18531498 0.88679444 0.28169254\n",
      " 3.02473825]\n",
      "Mu: 0.6343199557104399\n",
      "Sigma: 0.725165190749936\n"
     ]
    }
   ],
   "source": [
    "# Extract the mode (most frequent value) from the parameter samples\n",
    "mode_beta = np.median(beta_samples, axis=0)\n",
    "mode_mu = np.median(mu_samples)\n",
    "mode_sigma = np.median(sigma_samples)\n",
    "\n",
    "print(\"MAP estimates:\")\n",
    "print(\"Beta:\", mode_beta)\n",
    "print(\"Mu:\", mode_mu)\n",
    "print(\"Sigma:\", mode_sigma)"
   ]
  },
  {
   "cell_type": "code",
   "execution_count": 430,
   "metadata": {},
   "outputs": [
    {
     "name": "stdout",
     "output_type": "stream",
     "text": [
      "True parameter values:\n",
      "Beta: [2.33262315 4.49599456 2.3348725  2.24408513 0.91852546 0.32878941\n",
      " 3.0294515 ]\n",
      "Mu: 0\n",
      "Sigma: 1\n"
     ]
    }
   ],
   "source": [
    "print(\"True parameter values:\")\n",
    "print(\"Beta:\", true_beta)\n",
    "print(\"Mu:\", true_mu)\n",
    "print(\"Sigma:\", true_sigma)"
   ]
  }
 ],
 "metadata": {
  "kernelspec": {
   "display_name": "adu_env_dementia_ineq",
   "language": "python",
   "name": "python3"
  },
  "language_info": {
   "codemirror_mode": {
    "name": "ipython",
    "version": 3
   },
   "file_extension": ".py",
   "mimetype": "text/x-python",
   "name": "python",
   "nbconvert_exporter": "python",
   "pygments_lexer": "ipython3",
   "version": "3.10.13"
  }
 },
 "nbformat": 4,
 "nbformat_minor": 2
}
