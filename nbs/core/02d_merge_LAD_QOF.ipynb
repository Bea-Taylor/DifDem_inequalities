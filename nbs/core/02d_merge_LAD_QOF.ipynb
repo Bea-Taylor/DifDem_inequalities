{
 "cells": [
  {
   "cell_type": "markdown",
   "metadata": {},
   "source": [
    "# 02c Merge datasets across regions and domains "
   ]
  },
  {
   "cell_type": "markdown",
   "metadata": {},
   "source": [
    "---"
   ]
  },
  {
   "cell_type": "code",
   "execution_count": 1,
   "metadata": {},
   "outputs": [],
   "source": [
    "#|default_exp core.02c_merge_data"
   ]
  },
  {
   "cell_type": "code",
   "execution_count": 2,
   "metadata": {},
   "outputs": [
    {
     "name": "stderr",
     "output_type": "stream",
     "text": [
      "/Users/bea/miniconda3/envs/adu_env_dementia_ineq/lib/python3.10/site-packages/nbdev/export.py:73: UserWarning: Notebook '/Users/bea/adu_dev/dementia_inequalities/nbs/core/02b_LAD_and_GP_intersections.ipynb' uses `#|export` without `#|default_exp` cell.\n",
      "Note nbdev2 no longer supports nbdev1 syntax. Run `nbdev_migrate` to upgrade.\n",
      "See https://nbdev.fast.ai/getting_started.html for more information.\n",
      "  warn(f\"Notebook '{nbname}' uses `#|export` without `#|default_exp` cell.\\n\"\n",
      "/Users/bea/miniconda3/envs/adu_env_dementia_ineq/lib/python3.10/site-packages/nbdev/export.py:73: UserWarning: Notebook '/Users/bea/adu_dev/dementia_inequalities/nbs/core/02c_GP_doctors_per_LAD.ipynb' uses `#|export` without `#|default_exp` cell.\n",
      "Note nbdev2 no longer supports nbdev1 syntax. Run `nbdev_migrate` to upgrade.\n",
      "See https://nbdev.fast.ai/getting_started.html for more information.\n",
      "  warn(f\"Notebook '{nbname}' uses `#|export` without `#|default_exp` cell.\\n\"\n"
     ]
    }
   ],
   "source": [
    "#|hide\n",
    "import nbdev; nbdev.nbdev_export()"
   ]
  },
  {
   "cell_type": "code",
   "execution_count": 3,
   "metadata": {},
   "outputs": [],
   "source": [
    "#|hide\n",
    "from nbdev.showdoc import show_doc"
   ]
  },
  {
   "cell_type": "code",
   "execution_count": 4,
   "metadata": {},
   "outputs": [],
   "source": [
    "#|export\n",
    "import dementia_inequalities as proj\n",
    "from dementia_inequalities import const, log, utils, tools\n",
    "import adu_proj.utils as adutils"
   ]
  },
  {
   "cell_type": "code",
   "execution_count": 5,
   "metadata": {},
   "outputs": [],
   "source": [
    "#|export\n",
    "import numpy as np \n",
    "import pandas as pd \n",
    "from matplotlib import pyplot as plt"
   ]
  },
  {
   "cell_type": "markdown",
   "metadata": {},
   "source": [
    "--- "
   ]
  },
  {
   "cell_type": "code",
   "execution_count": 6,
   "metadata": {},
   "outputs": [],
   "source": [
    "# Load the datasets with Local Authority District demographic info \n",
    "df_lad_age_21 = pd.read_csv(const.output_path+'/LAD_age_2021.csv')\n",
    "df_lad_ethn_21 = pd.read_csv(const.output_path+'/LAD_ethnicity_percent_2021.csv')\n",
    "df_lad_educ_21 = pd.read_csv(const.output_path+'/LAD_education_2021.csv')\n",
    "\n",
    "# And the ADI health dataset\n",
    "df_ADI_health_21 = pd.read_csv(const.data_path+'/ADI_data/ADI_health_2021.csv')\n",
    "\n",
    "# and the count of GP doctors per LAD\n",
    "df_GP_count = pd.read_csv(const.pre_output_path+'/GP_contribution_LAD.csv')"
   ]
  },
  {
   "cell_type": "code",
   "execution_count": 7,
   "metadata": {},
   "outputs": [
    {
     "name": "stdout",
     "output_type": "stream",
     "text": [
      "Number of LADs in the ADI dataset: 309. Number of LADs in the demographic dataset: 331.\n"
     ]
    }
   ],
   "source": [
    "print(f'Number of LADs in the ADI dataset: {len(df_ADI_health_21)}. Number of LADs in the demographic dataset: {len(df_lad_age_21)}.')"
   ]
  },
  {
   "cell_type": "code",
   "execution_count": 8,
   "metadata": {},
   "outputs": [],
   "source": [
    "# Fix the mismatch in LADs resulting from the inclusion of Welsh LADs - poor old Wales :(\n",
    "wales_LAD = list(df_lad_age_21[~df_lad_age_21['LAD_name'].isin(df_ADI_health_21['area_name'])]['LAD_name'])\n",
    "\n",
    "# Drop all the LADs in Wales from datasets \n",
    "df_lad_age_21.drop(df_lad_age_21[df_lad_age_21['LAD_name'].isin(wales_LAD)].index, inplace=True)\n",
    "df_lad_educ_21.drop(df_lad_educ_21[df_lad_educ_21['Area name'].isin(wales_LAD)].index, inplace=True)\n",
    "df_lad_ethn_21.drop(df_lad_ethn_21[df_lad_ethn_21['Area name'].isin(wales_LAD)].index, inplace=True)"
   ]
  },
  {
   "cell_type": "markdown",
   "metadata": {},
   "source": [
    "Now a little bit of processing to merge categories and get an informative percent. For covariates I'm looking at:\n",
    "* percent of the population over 65\n",
    "* percent of the population with A-level or higher qualifications \n",
    "* percent of the population who have white ethnicity "
   ]
  },
  {
   "cell_type": "code",
   "execution_count": 9,
   "metadata": {},
   "outputs": [],
   "source": [
    "df_lad_educ_21['ALevel_plus'] = df_lad_educ_21['level 3: a-level']+df_lad_educ_21['level 4: bsc']"
   ]
  },
  {
   "cell_type": "markdown",
   "metadata": {},
   "source": [
    "Also want to look at the health conditions which might be confounders, specifically:\n",
    "- Hypertension (HYP)\n",
    "- Diabetes (DM)\n",
    "- Stroke + Coronary heart disease + Transient ischaemic attack (STIA)\n",
    "\n",
    "Could also consider:\n",
    "- Depression (DEP)\n",
    "- Parkinsonism - not in the QOF dataset - I suspect this is clustered under dementia \n",
    "- Chronic Obstructive Pulmonary disease (COPD)\n",
    "- asthma (AST)\n",
    "- Cardiovascular disease (CVD-PP)\n",
    "- Age-related musculoskeletal disorders - not in the QOF dataset \n",
    "\n",
    "The codes for each health domain come from: health_indicator_keys.xlsx available via ADI "
   ]
  },
  {
   "cell_type": "code",
   "execution_count": 10,
   "metadata": {},
   "outputs": [
    {
     "name": "stdout",
     "output_type": "stream",
     "text": [
      "309\n",
      "309\n",
      "309\n"
     ]
    }
   ],
   "source": [
    "# change some LAD names in the ADI dataset\n",
    "df_lad_educ_21.replace({'Herefordshire':'Herefordshire, County of', 'Kingston upon Hull':'Kingston upon Hull, City of', 'Bristol':'Bristol, City of'}, inplace=True)\n",
    "#df_ADI_health_21.replace({'Herefordshire, County of':'Herefordshire', 'Kingston upon Hull, City of':'Kingston upon Hull', 'Bristol, City of':'Bristol'}, inplace=True)\n",
    "#df_lad_age_21.replace({'Herefordshire, County of':'Herefordshire', 'Kingston upon Hull, City of':'Kingston upon Hull', 'Bristol, City of':'Bristol'}, inplace=True)\n",
    "#df_lad_ethn_21.replace({'Herefordshire, County of':'Herefordshire', 'Kingston upon Hull, City of':'Kingston upon Hull', 'Bristol, City of':'Bristol'}, inplace=True)\n",
    "\n",
    "# merge the datasets into one \n",
    "df_dem_educ = pd.merge(df_ADI_health_21[['area_code', 'area_name', 'pop', 'DEM_afflicted', 'HYP_afflicted', 'DM_afflicted', 'STIA_afflicted']], df_lad_educ_21[['Area name', 'ALevel_plus']], left_on='area_name', right_on='Area name')\n",
    "print(len(df_dem_educ))\n",
    "df_dem_educ_age = pd.merge(df_dem_educ, df_lad_age_21, left_on='area_name', right_on='LAD_name')\n",
    "print(len(df_dem_educ_age))\n",
    "df_dem_covar =  pd.merge(df_dem_educ_age, df_lad_ethn_21[[\"Area name\",\"White: English, Welsh, Scottish, Northern Irish or British\\n(percent)\"]], left_on='area_name', right_on='Area name')\n",
    "print(len(df_dem_covar))\n",
    "\n",
    "# rename long col name\n",
    "df_dem_covar.rename(axis=1, mapper={'White: English, Welsh, Scottish, Northern Irish or British\\n(percent)':'white_pc'}, inplace=True)\n",
    "\n",
    "# drop some duplicated columns \n",
    "df_dem_covar.drop(axis=1, labels=['Area name_x', 'Area name_y', 'LAD_name'], inplace=True)"
   ]
  },
  {
   "cell_type": "code",
   "execution_count": 11,
   "metadata": {},
   "outputs": [
    {
     "data": {
      "text/html": [
       "<div>\n",
       "<style scoped>\n",
       "    .dataframe tbody tr th:only-of-type {\n",
       "        vertical-align: middle;\n",
       "    }\n",
       "\n",
       "    .dataframe tbody tr th {\n",
       "        vertical-align: top;\n",
       "    }\n",
       "\n",
       "    .dataframe thead th {\n",
       "        text-align: right;\n",
       "    }\n",
       "</style>\n",
       "<table border=\"1\" class=\"dataframe\">\n",
       "  <thead>\n",
       "    <tr style=\"text-align: right;\">\n",
       "      <th></th>\n",
       "      <th>LAD_name</th>\n",
       "      <th>Female_all</th>\n",
       "      <th>Male_all</th>\n",
       "      <th>all_age</th>\n",
       "      <th>Female_over_65</th>\n",
       "      <th>Male_over_65</th>\n",
       "      <th>over_65</th>\n",
       "    </tr>\n",
       "  </thead>\n",
       "  <tbody>\n",
       "  </tbody>\n",
       "</table>\n",
       "</div>"
      ],
      "text/plain": [
       "Empty DataFrame\n",
       "Columns: [LAD_name, Female_all, Male_all, all_age, Female_over_65, Male_over_65, over_65]\n",
       "Index: []"
      ]
     },
     "execution_count": 11,
     "metadata": {},
     "output_type": "execute_result"
    }
   ],
   "source": [
    "df_lad_age_21[~df_lad_age_21['LAD_name'].isin(df_dem_educ['area_name'])]"
   ]
  },
  {
   "cell_type": "code",
   "execution_count": 12,
   "metadata": {},
   "outputs": [
    {
     "data": {
      "text/html": [
       "<div>\n",
       "<style scoped>\n",
       "    .dataframe tbody tr th:only-of-type {\n",
       "        vertical-align: middle;\n",
       "    }\n",
       "\n",
       "    .dataframe tbody tr th {\n",
       "        vertical-align: top;\n",
       "    }\n",
       "\n",
       "    .dataframe thead th {\n",
       "        text-align: right;\n",
       "    }\n",
       "</style>\n",
       "<table border=\"1\" class=\"dataframe\">\n",
       "  <thead>\n",
       "    <tr style=\"text-align: right;\">\n",
       "      <th></th>\n",
       "      <th>area_code</th>\n",
       "      <th>area_name</th>\n",
       "      <th>pop</th>\n",
       "      <th>DEM_afflicted</th>\n",
       "      <th>HYP_afflicted</th>\n",
       "      <th>DM_afflicted</th>\n",
       "      <th>STIA_afflicted</th>\n",
       "      <th>ALevel_plus</th>\n",
       "      <th>Female_all</th>\n",
       "      <th>Male_all</th>\n",
       "      <th>all_age</th>\n",
       "      <th>Female_over_65</th>\n",
       "      <th>Male_over_65</th>\n",
       "      <th>over_65</th>\n",
       "      <th>white_pc</th>\n",
       "    </tr>\n",
       "  </thead>\n",
       "  <tbody>\n",
       "    <tr>\n",
       "      <th>0</th>\n",
       "      <td>E07000091</td>\n",
       "      <td>New Forest</td>\n",
       "      <td>151481</td>\n",
       "      <td>1858.546949</td>\n",
       "      <td>28892.139020</td>\n",
       "      <td>9338.695410</td>\n",
       "      <td>4466.648271</td>\n",
       "      <td>72749.0</td>\n",
       "      <td>91513.3596</td>\n",
       "      <td>84729.6073</td>\n",
       "      <td>176242.9669</td>\n",
       "      <td>28275.7030</td>\n",
       "      <td>23644.9796</td>\n",
       "      <td>51920.6826</td>\n",
       "      <td>93.2</td>\n",
       "    </tr>\n",
       "    <tr>\n",
       "      <th>1</th>\n",
       "      <td>E09000027</td>\n",
       "      <td>Richmond upon Thames</td>\n",
       "      <td>156795</td>\n",
       "      <td>1016.262785</td>\n",
       "      <td>16263.714161</td>\n",
       "      <td>5723.913130</td>\n",
       "      <td>2019.443594</td>\n",
       "      <td>112919.0</td>\n",
       "      <td>101226.6730</td>\n",
       "      <td>93918.3682</td>\n",
       "      <td>195145.0412</td>\n",
       "      <td>17467.7419</td>\n",
       "      <td>14170.0187</td>\n",
       "      <td>31637.7606</td>\n",
       "      <td>63.0</td>\n",
       "    </tr>\n",
       "    <tr>\n",
       "      <th>2</th>\n",
       "      <td>E07000116</td>\n",
       "      <td>Tunbridge Wells</td>\n",
       "      <td>95022</td>\n",
       "      <td>876.255260</td>\n",
       "      <td>12908.434533</td>\n",
       "      <td>4606.674451</td>\n",
       "      <td>1889.024705</td>\n",
       "      <td>52395.0</td>\n",
       "      <td>59540.1412</td>\n",
       "      <td>56126.1458</td>\n",
       "      <td>115666.2870</td>\n",
       "      <td>12398.5524</td>\n",
       "      <td>10171.4566</td>\n",
       "      <td>22570.0090</td>\n",
       "      <td>84.2</td>\n",
       "    </tr>\n",
       "    <tr>\n",
       "      <th>3</th>\n",
       "      <td>E07000121</td>\n",
       "      <td>Lancaster</td>\n",
       "      <td>123214</td>\n",
       "      <td>1228.376774</td>\n",
       "      <td>16806.421220</td>\n",
       "      <td>6784.714317</td>\n",
       "      <td>2647.583108</td>\n",
       "      <td>65724.0</td>\n",
       "      <td>72615.6480</td>\n",
       "      <td>69496.5141</td>\n",
       "      <td>142112.1621</td>\n",
       "      <td>15938.1332</td>\n",
       "      <td>13527.6316</td>\n",
       "      <td>29465.7648</td>\n",
       "      <td>87.8</td>\n",
       "    </tr>\n",
       "    <tr>\n",
       "      <th>4</th>\n",
       "      <td>E07000042</td>\n",
       "      <td>Mid Devon</td>\n",
       "      <td>67987</td>\n",
       "      <td>547.793487</td>\n",
       "      <td>10854.465333</td>\n",
       "      <td>4281.878984</td>\n",
       "      <td>1530.207441</td>\n",
       "      <td>33190.0</td>\n",
       "      <td>42541.3752</td>\n",
       "      <td>40639.6312</td>\n",
       "      <td>83181.0064</td>\n",
       "      <td>10650.0463</td>\n",
       "      <td>9396.6343</td>\n",
       "      <td>20046.6806</td>\n",
       "      <td>93.8</td>\n",
       "    </tr>\n",
       "  </tbody>\n",
       "</table>\n",
       "</div>"
      ],
      "text/plain": [
       "   area_code             area_name     pop  DEM_afflicted  HYP_afflicted  \\\n",
       "0  E07000091            New Forest  151481    1858.546949   28892.139020   \n",
       "1  E09000027  Richmond upon Thames  156795    1016.262785   16263.714161   \n",
       "2  E07000116       Tunbridge Wells   95022     876.255260   12908.434533   \n",
       "3  E07000121             Lancaster  123214    1228.376774   16806.421220   \n",
       "4  E07000042             Mid Devon   67987     547.793487   10854.465333   \n",
       "\n",
       "   DM_afflicted  STIA_afflicted  ALevel_plus   Female_all    Male_all  \\\n",
       "0   9338.695410     4466.648271      72749.0   91513.3596  84729.6073   \n",
       "1   5723.913130     2019.443594     112919.0  101226.6730  93918.3682   \n",
       "2   4606.674451     1889.024705      52395.0   59540.1412  56126.1458   \n",
       "3   6784.714317     2647.583108      65724.0   72615.6480  69496.5141   \n",
       "4   4281.878984     1530.207441      33190.0   42541.3752  40639.6312   \n",
       "\n",
       "       all_age  Female_over_65  Male_over_65     over_65  white_pc  \n",
       "0  176242.9669      28275.7030    23644.9796  51920.6826      93.2  \n",
       "1  195145.0412      17467.7419    14170.0187  31637.7606      63.0  \n",
       "2  115666.2870      12398.5524    10171.4566  22570.0090      84.2  \n",
       "3  142112.1621      15938.1332    13527.6316  29465.7648      87.8  \n",
       "4   83181.0064      10650.0463     9396.6343  20046.6806      93.8  "
      ]
     },
     "execution_count": 12,
     "metadata": {},
     "output_type": "execute_result"
    }
   ],
   "source": [
    "df_dem_covar.head()"
   ]
  },
  {
   "cell_type": "code",
   "execution_count": 13,
   "metadata": {},
   "outputs": [
    {
     "data": {
      "text/plain": [
       "309"
      ]
     },
     "execution_count": 13,
     "metadata": {},
     "output_type": "execute_result"
    }
   ],
   "source": [
    "len(df_dem_covar)"
   ]
  },
  {
   "cell_type": "code",
   "execution_count": 14,
   "metadata": {},
   "outputs": [
    {
     "data": {
      "image/png": "[encoded data removed]",
      "text/plain": [
       "<Figure size 640x480 with 1 Axes>"
      ]
     },
     "metadata": {},
     "output_type": "display_data"
    }
   ],
   "source": [
    "plt.scatter(df_dem_covar['pop'], df_dem_covar['all_age'], color = 'skyblue')\n",
    "plt.plot(np.arange(900000), np.arange(900000), ':', color='b')\n",
    "plt.text(800000, 750000, r'y=x', fontsize=10, color='b')\n",
    "plt.xlabel('Population estimate according to ADI')\n",
    "plt.ylabel('Population estimate from ONS')\n",
    "plt.show()"
   ]
  },
  {
   "cell_type": "code",
   "execution_count": 15,
   "metadata": {},
   "outputs": [],
   "source": [
    "# create dataframe columns with percentages \n",
    "df_dem_covar['DEM_afflicted_pc'] = df_dem_covar['DEM_afflicted']/df_dem_covar['pop']\n",
    "df_dem_covar['ALevel_plus_pc'] =  df_dem_covar['ALevel_plus']/df_dem_covar['pop']\n",
    "df_dem_covar['over_65_pc'] = df_dem_covar['over_65']/df_dem_covar['pop']\n",
    "df_dem_covar['female_pc'] = df_dem_covar['Female_all']/df_dem_covar['pop']\n",
    "df_dem_covar['white_pc'] = df_dem_covar['white_pc']/100"
   ]
  },
  {
   "cell_type": "code",
   "execution_count": 16,
   "metadata": {},
   "outputs": [],
   "source": [
    "# and columns with disease prevalence for the comorbidities of hypertension (HYP), diabetes (DM) and stroke (STIA)\n",
    "df_dem_covar['HYP_afflicted_pc'] = df_dem_covar['HYP_afflicted']/df_dem_covar['pop']\n",
    "df_dem_covar['DM_afflicted_pc'] = df_dem_covar['DM_afflicted']/df_dem_covar['pop']\n",
    "df_dem_covar['STIA_afflicted_pc'] = df_dem_covar['STIA_afflicted']/df_dem_covar['pop']"
   ]
  },
  {
   "cell_type": "code",
   "execution_count": 17,
   "metadata": {},
   "outputs": [],
   "source": [
    "# percent over 65 \n",
    "df_dem_covar['over_65_pc'] = df_dem_covar['over_65']/df_dem_covar['pop']\n",
    "\n",
    "# percent female \n"
   ]
  },
  {
   "cell_type": "markdown",
   "metadata": {},
   "source": [
    "### Add GP counts for each LAD"
   ]
  },
  {
   "cell_type": "code",
   "execution_count": 18,
   "metadata": {},
   "outputs": [
    {
     "data": {
      "text/html": [
       "<div>\n",
       "<style scoped>\n",
       "    .dataframe tbody tr th:only-of-type {\n",
       "        vertical-align: middle;\n",
       "    }\n",
       "\n",
       "    .dataframe tbody tr th {\n",
       "        vertical-align: top;\n",
       "    }\n",
       "\n",
       "    .dataframe thead th {\n",
       "        text-align: right;\n",
       "    }\n",
       "</style>\n",
       "<table border=\"1\" class=\"dataframe\">\n",
       "  <thead>\n",
       "    <tr style=\"text-align: right;\">\n",
       "      <th></th>\n",
       "      <th>LAD_name</th>\n",
       "      <th>GP_contribution_to_LAD</th>\n",
       "    </tr>\n",
       "  </thead>\n",
       "  <tbody>\n",
       "    <tr>\n",
       "      <th>0</th>\n",
       "      <td>Adur</td>\n",
       "      <td>41.440908</td>\n",
       "    </tr>\n",
       "    <tr>\n",
       "      <th>1</th>\n",
       "      <td>Allerdale</td>\n",
       "      <td>112.253570</td>\n",
       "    </tr>\n",
       "    <tr>\n",
       "      <th>2</th>\n",
       "      <td>Amber Valley</td>\n",
       "      <td>146.080012</td>\n",
       "    </tr>\n",
       "    <tr>\n",
       "      <th>3</th>\n",
       "      <td>Arun</td>\n",
       "      <td>166.681049</td>\n",
       "    </tr>\n",
       "    <tr>\n",
       "      <th>4</th>\n",
       "      <td>Ashfield</td>\n",
       "      <td>113.645554</td>\n",
       "    </tr>\n",
       "  </tbody>\n",
       "</table>\n",
       "</div>"
      ],
      "text/plain": [
       "       LAD_name  GP_contribution_to_LAD\n",
       "0          Adur               41.440908\n",
       "1     Allerdale              112.253570\n",
       "2  Amber Valley              146.080012\n",
       "3          Arun              166.681049\n",
       "4      Ashfield              113.645554"
      ]
     },
     "execution_count": 18,
     "metadata": {},
     "output_type": "execute_result"
    }
   ],
   "source": [
    "df_GP_count.head()"
   ]
  },
  {
   "cell_type": "code",
   "execution_count": 19,
   "metadata": {},
   "outputs": [
    {
     "data": {
      "text/plain": [
       "309"
      ]
     },
     "execution_count": 19,
     "metadata": {},
     "output_type": "execute_result"
    }
   ],
   "source": [
    "len(df_GP_count)"
   ]
  },
  {
   "cell_type": "code",
   "execution_count": 20,
   "metadata": {},
   "outputs": [],
   "source": [
    "\n",
    "\n",
    "df_dem_covar = pd.merge(df_dem_covar, df_GP_count, left_on='area_name', right_on='LAD_name')\n",
    "df_dem_covar['GP_LAD_pc'] = df_dem_covar['GP_contribution_to_LAD']/df_dem_covar['pop']\n",
    "df_dem_covar.drop(columns='LAD_name', inplace=True)"
   ]
  },
  {
   "cell_type": "code",
   "execution_count": 21,
   "metadata": {},
   "outputs": [
    {
     "data": {
      "text/html": [
       "<div>\n",
       "<style scoped>\n",
       "    .dataframe tbody tr th:only-of-type {\n",
       "        vertical-align: middle;\n",
       "    }\n",
       "\n",
       "    .dataframe tbody tr th {\n",
       "        vertical-align: top;\n",
       "    }\n",
       "\n",
       "    .dataframe thead th {\n",
       "        text-align: right;\n",
       "    }\n",
       "</style>\n",
       "<table border=\"1\" class=\"dataframe\">\n",
       "  <thead>\n",
       "    <tr style=\"text-align: right;\">\n",
       "      <th></th>\n",
       "      <th>area_code</th>\n",
       "      <th>area_name</th>\n",
       "      <th>pop</th>\n",
       "      <th>DEM_afflicted</th>\n",
       "      <th>HYP_afflicted</th>\n",
       "      <th>DM_afflicted</th>\n",
       "      <th>STIA_afflicted</th>\n",
       "      <th>ALevel_plus</th>\n",
       "      <th>Female_all</th>\n",
       "      <th>Male_all</th>\n",
       "      <th>...</th>\n",
       "      <th>white_pc</th>\n",
       "      <th>DEM_afflicted_pc</th>\n",
       "      <th>ALevel_plus_pc</th>\n",
       "      <th>over_65_pc</th>\n",
       "      <th>female_pc</th>\n",
       "      <th>HYP_afflicted_pc</th>\n",
       "      <th>DM_afflicted_pc</th>\n",
       "      <th>STIA_afflicted_pc</th>\n",
       "      <th>GP_contribution_to_LAD</th>\n",
       "      <th>GP_LAD_pc</th>\n",
       "    </tr>\n",
       "  </thead>\n",
       "  <tbody>\n",
       "    <tr>\n",
       "      <th>0</th>\n",
       "      <td>E07000091</td>\n",
       "      <td>New Forest</td>\n",
       "      <td>151481</td>\n",
       "      <td>1858.546949</td>\n",
       "      <td>28892.139020</td>\n",
       "      <td>9338.695410</td>\n",
       "      <td>4466.648271</td>\n",
       "      <td>72749.0</td>\n",
       "      <td>91513.3596</td>\n",
       "      <td>84729.6073</td>\n",
       "      <td>...</td>\n",
       "      <td>0.932</td>\n",
       "      <td>0.012269</td>\n",
       "      <td>0.480252</td>\n",
       "      <td>0.342754</td>\n",
       "      <td>0.604124</td>\n",
       "      <td>0.190731</td>\n",
       "      <td>0.061649</td>\n",
       "      <td>0.029487</td>\n",
       "      <td>215.158147</td>\n",
       "      <td>0.001420</td>\n",
       "    </tr>\n",
       "    <tr>\n",
       "      <th>1</th>\n",
       "      <td>E09000027</td>\n",
       "      <td>Richmond upon Thames</td>\n",
       "      <td>156795</td>\n",
       "      <td>1016.262785</td>\n",
       "      <td>16263.714161</td>\n",
       "      <td>5723.913130</td>\n",
       "      <td>2019.443594</td>\n",
       "      <td>112919.0</td>\n",
       "      <td>101226.6730</td>\n",
       "      <td>93918.3682</td>\n",
       "      <td>...</td>\n",
       "      <td>0.630</td>\n",
       "      <td>0.006481</td>\n",
       "      <td>0.720170</td>\n",
       "      <td>0.201778</td>\n",
       "      <td>0.645599</td>\n",
       "      <td>0.103726</td>\n",
       "      <td>0.036506</td>\n",
       "      <td>0.012880</td>\n",
       "      <td>437.450820</td>\n",
       "      <td>0.002790</td>\n",
       "    </tr>\n",
       "    <tr>\n",
       "      <th>2</th>\n",
       "      <td>E07000116</td>\n",
       "      <td>Tunbridge Wells</td>\n",
       "      <td>95022</td>\n",
       "      <td>876.255260</td>\n",
       "      <td>12908.434533</td>\n",
       "      <td>4606.674451</td>\n",
       "      <td>1889.024705</td>\n",
       "      <td>52395.0</td>\n",
       "      <td>59540.1412</td>\n",
       "      <td>56126.1458</td>\n",
       "      <td>...</td>\n",
       "      <td>0.842</td>\n",
       "      <td>0.009222</td>\n",
       "      <td>0.551399</td>\n",
       "      <td>0.237524</td>\n",
       "      <td>0.626593</td>\n",
       "      <td>0.135847</td>\n",
       "      <td>0.048480</td>\n",
       "      <td>0.019880</td>\n",
       "      <td>123.466346</td>\n",
       "      <td>0.001299</td>\n",
       "    </tr>\n",
       "    <tr>\n",
       "      <th>3</th>\n",
       "      <td>E07000121</td>\n",
       "      <td>Lancaster</td>\n",
       "      <td>123214</td>\n",
       "      <td>1228.376774</td>\n",
       "      <td>16806.421220</td>\n",
       "      <td>6784.714317</td>\n",
       "      <td>2647.583108</td>\n",
       "      <td>65724.0</td>\n",
       "      <td>72615.6480</td>\n",
       "      <td>69496.5141</td>\n",
       "      <td>...</td>\n",
       "      <td>0.878</td>\n",
       "      <td>0.009969</td>\n",
       "      <td>0.533413</td>\n",
       "      <td>0.239143</td>\n",
       "      <td>0.589346</td>\n",
       "      <td>0.136400</td>\n",
       "      <td>0.055064</td>\n",
       "      <td>0.021488</td>\n",
       "      <td>612.399689</td>\n",
       "      <td>0.004970</td>\n",
       "    </tr>\n",
       "    <tr>\n",
       "      <th>4</th>\n",
       "      <td>E07000042</td>\n",
       "      <td>Mid Devon</td>\n",
       "      <td>67987</td>\n",
       "      <td>547.793487</td>\n",
       "      <td>10854.465333</td>\n",
       "      <td>4281.878984</td>\n",
       "      <td>1530.207441</td>\n",
       "      <td>33190.0</td>\n",
       "      <td>42541.3752</td>\n",
       "      <td>40639.6312</td>\n",
       "      <td>...</td>\n",
       "      <td>0.938</td>\n",
       "      <td>0.008057</td>\n",
       "      <td>0.488182</td>\n",
       "      <td>0.294860</td>\n",
       "      <td>0.625728</td>\n",
       "      <td>0.159655</td>\n",
       "      <td>0.062981</td>\n",
       "      <td>0.022507</td>\n",
       "      <td>77.360723</td>\n",
       "      <td>0.001138</td>\n",
       "    </tr>\n",
       "  </tbody>\n",
       "</table>\n",
       "<p>5 rows × 24 columns</p>\n",
       "</div>"
      ],
      "text/plain": [
       "   area_code             area_name     pop  DEM_afflicted  HYP_afflicted  \\\n",
       "0  E07000091            New Forest  151481    1858.546949   28892.139020   \n",
       "1  E09000027  Richmond upon Thames  156795    1016.262785   16263.714161   \n",
       "2  E07000116       Tunbridge Wells   95022     876.255260   12908.434533   \n",
       "3  E07000121             Lancaster  123214    1228.376774   16806.421220   \n",
       "4  E07000042             Mid Devon   67987     547.793487   10854.465333   \n",
       "\n",
       "   DM_afflicted  STIA_afflicted  ALevel_plus   Female_all    Male_all  ...  \\\n",
       "0   9338.695410     4466.648271      72749.0   91513.3596  84729.6073  ...   \n",
       "1   5723.913130     2019.443594     112919.0  101226.6730  93918.3682  ...   \n",
       "2   4606.674451     1889.024705      52395.0   59540.1412  56126.1458  ...   \n",
       "3   6784.714317     2647.583108      65724.0   72615.6480  69496.5141  ...   \n",
       "4   4281.878984     1530.207441      33190.0   42541.3752  40639.6312  ...   \n",
       "\n",
       "   white_pc  DEM_afflicted_pc  ALevel_plus_pc  over_65_pc  female_pc  \\\n",
       "0     0.932          0.012269        0.480252    0.342754   0.604124   \n",
       "1     0.630          0.006481        0.720170    0.201778   0.645599   \n",
       "2     0.842          0.009222        0.551399    0.237524   0.626593   \n",
       "3     0.878          0.009969        0.533413    0.239143   0.589346   \n",
       "4     0.938          0.008057        0.488182    0.294860   0.625728   \n",
       "\n",
       "   HYP_afflicted_pc  DM_afflicted_pc  STIA_afflicted_pc  \\\n",
       "0          0.190731         0.061649           0.029487   \n",
       "1          0.103726         0.036506           0.012880   \n",
       "2          0.135847         0.048480           0.019880   \n",
       "3          0.136400         0.055064           0.021488   \n",
       "4          0.159655         0.062981           0.022507   \n",
       "\n",
       "   GP_contribution_to_LAD  GP_LAD_pc  \n",
       "0              215.158147   0.001420  \n",
       "1              437.450820   0.002790  \n",
       "2              123.466346   0.001299  \n",
       "3              612.399689   0.004970  \n",
       "4               77.360723   0.001138  \n",
       "\n",
       "[5 rows x 24 columns]"
      ]
     },
     "execution_count": 21,
     "metadata": {},
     "output_type": "execute_result"
    }
   ],
   "source": [
    "df_dem_covar.head()"
   ]
  },
  {
   "cell_type": "code",
   "execution_count": 22,
   "metadata": {},
   "outputs": [
    {
     "data": {
      "text/plain": [
       "309"
      ]
     },
     "execution_count": 22,
     "metadata": {},
     "output_type": "execute_result"
    }
   ],
   "source": [
    "len(df_dem_covar)"
   ]
  },
  {
   "cell_type": "code",
   "execution_count": 23,
   "metadata": {},
   "outputs": [],
   "source": [
    "# save a .csv of `df_dem_covar`\n",
    "df_dem_covar.to_csv(const.output_path+'/df_dem_plus.csv', index=False)"
   ]
  }
 ],
 "metadata": {
  "kernelspec": {
   "display_name": "adu_env_dementia_ineq",
   "language": "python",
   "name": "python3"
  },
  "language_info": {
   "codemirror_mode": {
    "name": "ipython",
    "version": 3
   },
   "file_extension": ".py",
   "mimetype": "text/x-python",
   "name": "python",
   "nbconvert_exporter": "python",
   "pygments_lexer": "ipython3",
   "version": "3.10.13"
  }
 },
 "nbformat": 4,
 "nbformat_minor": 2
}
