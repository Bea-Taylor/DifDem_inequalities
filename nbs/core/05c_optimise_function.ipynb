{
 "cells": [
  {
   "cell_type": "markdown",
   "metadata": {},
   "source": [
    "# 05c Parameter Optimisation\n",
    "\n",
    "> Minimise a variety of objective functions to find the optimal parameters for different error models "
   ]
  },
  {
   "cell_type": "code",
   "execution_count": 1,
   "metadata": {},
   "outputs": [],
   "source": [
    "#|default_exp core.05c_parameter_optimisation"
   ]
  },
  {
   "cell_type": "code",
   "execution_count": 2,
   "metadata": {},
   "outputs": [],
   "source": [
    "#|hide\n",
    "from nbdev.showdoc import show_doc"
   ]
  },
  {
   "cell_type": "code",
   "execution_count": 3,
   "metadata": {},
   "outputs": [],
   "source": [
    "#|export\n",
    "import autograd.numpy as np\n",
    "from autograd import grad, jacobian, hessian\n",
    "from scipy.optimize import minimize\n",
    "import scipy.stats as stat\n",
    "import pandas as pd\n",
    "from matplotlib import pyplot as plt\n",
    "\n",
    "from fastcore.test import *\n",
    "\n",
    "from dementia_inequalities import const, log, utils, tools "
   ]
  },
  {
   "cell_type": "markdown",
   "metadata": {},
   "source": [
    "---"
   ]
  },
  {
   "cell_type": "code",
   "execution_count": 4,
   "metadata": {},
   "outputs": [],
   "source": [
    "#|export \n",
    "df_dem_plus = pd.read_csv(const.output_path+'/df_dem_plus.csv')"
   ]
  },
  {
   "cell_type": "code",
   "execution_count": 5,
   "metadata": {},
   "outputs": [
    {
     "data": {
      "text/html": [
       "<div>\n",
       "<style scoped>\n",
       "    .dataframe tbody tr th:only-of-type {\n",
       "        vertical-align: middle;\n",
       "    }\n",
       "\n",
       "    .dataframe tbody tr th {\n",
       "        vertical-align: top;\n",
       "    }\n",
       "\n",
       "    .dataframe thead th {\n",
       "        text-align: right;\n",
       "    }\n",
       "</style>\n",
       "<table border=\"1\" class=\"dataframe\">\n",
       "  <thead>\n",
       "    <tr style=\"text-align: right;\">\n",
       "      <th></th>\n",
       "      <th>area_code</th>\n",
       "      <th>area_name</th>\n",
       "      <th>pop</th>\n",
       "      <th>DEM_afflicted</th>\n",
       "      <th>HYP_afflicted</th>\n",
       "      <th>DM_afflicted</th>\n",
       "      <th>STIA_afflicted</th>\n",
       "      <th>ALevel_plus</th>\n",
       "      <th>Female_all</th>\n",
       "      <th>Male_all</th>\n",
       "      <th>...</th>\n",
       "      <th>white_pc</th>\n",
       "      <th>DEM_afflicted_pc</th>\n",
       "      <th>ALevel_plus_pc</th>\n",
       "      <th>over_65_pc</th>\n",
       "      <th>female_pc</th>\n",
       "      <th>HYP_afflicted_pc</th>\n",
       "      <th>DM_afflicted_pc</th>\n",
       "      <th>STIA_afflicted_pc</th>\n",
       "      <th>GP_contribution_to_LAD</th>\n",
       "      <th>GP_LAD_pc</th>\n",
       "    </tr>\n",
       "  </thead>\n",
       "  <tbody>\n",
       "    <tr>\n",
       "      <th>0</th>\n",
       "      <td>E07000091</td>\n",
       "      <td>New Forest</td>\n",
       "      <td>151481</td>\n",
       "      <td>1858.546949</td>\n",
       "      <td>28892.139020</td>\n",
       "      <td>9338.695410</td>\n",
       "      <td>4466.648271</td>\n",
       "      <td>72749.0</td>\n",
       "      <td>91513.3596</td>\n",
       "      <td>84729.6073</td>\n",
       "      <td>...</td>\n",
       "      <td>93.2</td>\n",
       "      <td>1.226918</td>\n",
       "      <td>48.025165</td>\n",
       "      <td>34.275376</td>\n",
       "      <td>60.412434</td>\n",
       "      <td>19.073111</td>\n",
       "      <td>6.164929</td>\n",
       "      <td>2.948652</td>\n",
       "      <td>186.084815</td>\n",
       "      <td>0.122844</td>\n",
       "    </tr>\n",
       "    <tr>\n",
       "      <th>1</th>\n",
       "      <td>E09000027</td>\n",
       "      <td>Richmond upon Thames</td>\n",
       "      <td>156795</td>\n",
       "      <td>1016.262785</td>\n",
       "      <td>16263.714161</td>\n",
       "      <td>5723.913130</td>\n",
       "      <td>2019.443594</td>\n",
       "      <td>112919.0</td>\n",
       "      <td>101226.6730</td>\n",
       "      <td>93918.3682</td>\n",
       "      <td>...</td>\n",
       "      <td>63.0</td>\n",
       "      <td>0.648147</td>\n",
       "      <td>72.016965</td>\n",
       "      <td>20.177787</td>\n",
       "      <td>64.559886</td>\n",
       "      <td>10.372597</td>\n",
       "      <td>3.650571</td>\n",
       "      <td>1.287952</td>\n",
       "      <td>437.450820</td>\n",
       "      <td>0.278995</td>\n",
       "    </tr>\n",
       "    <tr>\n",
       "      <th>2</th>\n",
       "      <td>E07000116</td>\n",
       "      <td>Tunbridge Wells</td>\n",
       "      <td>95022</td>\n",
       "      <td>876.255260</td>\n",
       "      <td>12908.434533</td>\n",
       "      <td>4606.674451</td>\n",
       "      <td>1889.024705</td>\n",
       "      <td>52395.0</td>\n",
       "      <td>59540.1412</td>\n",
       "      <td>56126.1458</td>\n",
       "      <td>...</td>\n",
       "      <td>84.2</td>\n",
       "      <td>0.922160</td>\n",
       "      <td>55.139862</td>\n",
       "      <td>23.752404</td>\n",
       "      <td>62.659322</td>\n",
       "      <td>13.584680</td>\n",
       "      <td>4.848008</td>\n",
       "      <td>1.987987</td>\n",
       "      <td>124.734713</td>\n",
       "      <td>0.131269</td>\n",
       "    </tr>\n",
       "    <tr>\n",
       "      <th>3</th>\n",
       "      <td>E07000121</td>\n",
       "      <td>Lancaster</td>\n",
       "      <td>123214</td>\n",
       "      <td>1228.376774</td>\n",
       "      <td>16806.421220</td>\n",
       "      <td>6784.714317</td>\n",
       "      <td>2647.583108</td>\n",
       "      <td>65724.0</td>\n",
       "      <td>72615.6480</td>\n",
       "      <td>69496.5141</td>\n",
       "      <td>...</td>\n",
       "      <td>87.8</td>\n",
       "      <td>0.996946</td>\n",
       "      <td>53.341341</td>\n",
       "      <td>23.914299</td>\n",
       "      <td>58.934576</td>\n",
       "      <td>13.640026</td>\n",
       "      <td>5.506448</td>\n",
       "      <td>2.148768</td>\n",
       "      <td>442.084950</td>\n",
       "      <td>0.358794</td>\n",
       "    </tr>\n",
       "    <tr>\n",
       "      <th>4</th>\n",
       "      <td>E07000042</td>\n",
       "      <td>Mid Devon</td>\n",
       "      <td>67987</td>\n",
       "      <td>547.793487</td>\n",
       "      <td>10854.465333</td>\n",
       "      <td>4281.878984</td>\n",
       "      <td>1530.207441</td>\n",
       "      <td>33190.0</td>\n",
       "      <td>42541.3752</td>\n",
       "      <td>40639.6312</td>\n",
       "      <td>...</td>\n",
       "      <td>93.8</td>\n",
       "      <td>0.805733</td>\n",
       "      <td>48.818156</td>\n",
       "      <td>29.486050</td>\n",
       "      <td>62.572808</td>\n",
       "      <td>15.965501</td>\n",
       "      <td>6.298085</td>\n",
       "      <td>2.250735</td>\n",
       "      <td>78.032656</td>\n",
       "      <td>0.114776</td>\n",
       "    </tr>\n",
       "  </tbody>\n",
       "</table>\n",
       "<p>5 rows × 24 columns</p>\n",
       "</div>"
      ],
      "text/plain": [
       "   area_code             area_name     pop  DEM_afflicted  HYP_afflicted  \\\n",
       "0  E07000091            New Forest  151481    1858.546949   28892.139020   \n",
       "1  E09000027  Richmond upon Thames  156795    1016.262785   16263.714161   \n",
       "2  E07000116       Tunbridge Wells   95022     876.255260   12908.434533   \n",
       "3  E07000121             Lancaster  123214    1228.376774   16806.421220   \n",
       "4  E07000042             Mid Devon   67987     547.793487   10854.465333   \n",
       "\n",
       "   DM_afflicted  STIA_afflicted  ALevel_plus   Female_all    Male_all  ...  \\\n",
       "0   9338.695410     4466.648271      72749.0   91513.3596  84729.6073  ...   \n",
       "1   5723.913130     2019.443594     112919.0  101226.6730  93918.3682  ...   \n",
       "2   4606.674451     1889.024705      52395.0   59540.1412  56126.1458  ...   \n",
       "3   6784.714317     2647.583108      65724.0   72615.6480  69496.5141  ...   \n",
       "4   4281.878984     1530.207441      33190.0   42541.3752  40639.6312  ...   \n",
       "\n",
       "   white_pc  DEM_afflicted_pc  ALevel_plus_pc  over_65_pc  female_pc  \\\n",
       "0      93.2          1.226918       48.025165   34.275376  60.412434   \n",
       "1      63.0          0.648147       72.016965   20.177787  64.559886   \n",
       "2      84.2          0.922160       55.139862   23.752404  62.659322   \n",
       "3      87.8          0.996946       53.341341   23.914299  58.934576   \n",
       "4      93.8          0.805733       48.818156   29.486050  62.572808   \n",
       "\n",
       "   HYP_afflicted_pc  DM_afflicted_pc  STIA_afflicted_pc  \\\n",
       "0         19.073111         6.164929           2.948652   \n",
       "1         10.372597         3.650571           1.287952   \n",
       "2         13.584680         4.848008           1.987987   \n",
       "3         13.640026         5.506448           2.148768   \n",
       "4         15.965501         6.298085           2.250735   \n",
       "\n",
       "   GP_contribution_to_LAD  GP_LAD_pc  \n",
       "0              186.084815   0.122844  \n",
       "1              437.450820   0.278995  \n",
       "2              124.734713   0.131269  \n",
       "3              442.084950   0.358794  \n",
       "4               78.032656   0.114776  \n",
       "\n",
       "[5 rows x 24 columns]"
      ]
     },
     "execution_count": 5,
     "metadata": {},
     "output_type": "execute_result"
    }
   ],
   "source": [
    "df_dem_plus.head()"
   ]
  },
  {
   "cell_type": "code",
   "execution_count": 7,
   "metadata": {},
   "outputs": [],
   "source": [
    "#|export\n",
    "# The real dementia x and y data \n",
    "\n",
    "# covariates \n",
    "covar = ['over_65_pc', 'female_pc', 'ALevel_plus_pc', 'white_pc', 'HYP_afflicted_pc', 'DM_afflicted_pc', 'STIA_afflicted_pc', 'GP_LAD_pc']\n",
    "\n",
    "# Input data \n",
    "x = np.array(df_dem_plus[covar].values.reshape(-1,len(covar)))\n",
    "\n",
    "# Outcome data \n",
    "y = np.array(df_dem_plus['DEM_afflicted_pc'].values.reshape(-1,1))"
   ]
  },
  {
   "cell_type": "markdown",
   "metadata": {},
   "source": [
    "### Optimise the negative log likelihood \n",
    "\n",
    "We evaluate the log-likelihood using the maximise function from scikit-learn. This code is written with a little help from my firend ChatGPT - actually it generated the intial code - then I re-wrote 70% of it... \n",
    "\n",
    "*Note*: we need the likelihood to be the reflected & shifted log normal - which has an extra parameter (delta) compared to the log normal [see here](https://stats.stackexchange.com/questions/379980/understanding-the-shifted-log-normal-distribution). \n",
    "\n",
    "The shifted log-normal PDF at $x$ is: \n",
    "\n",
    "$$\n",
    "p(x|x>\\delta, \\delta, \\mu, \\sigma) = \n",
    "\\frac{1}{(x-\\delta)\\sigma \\sqrt{2 \\pi}} e^{-\\frac{1}{2 \\sigma^2}(ln(x- \\delta)-\\mu)^2}\n",
    "$$\n",
    "\n",
    "The reflected & shifted log-normal PDF at $x$ is: \n",
    "\n",
    "$$\n",
    "p(x|x<\\delta, \\delta, \\mu, \\sigma) = \n",
    "\\frac{1}{(\\delta - x)\\sigma \\sqrt{2 \\pi}} e^{-\\frac{1}{2 \\sigma^2}(ln(\\delta - x)-\\mu)^2}\n",
    "$$\n",
    "\n",
    "In the log-normal distribution, \n",
    "- $\\mu$ is the scale parameter - it stretches and compresses\n",
    "- $\\sigma$ is a shape parameter - it controls how skewed/heavy tailed the distribution is. \n",
    "- $\\delta$ is the shift parameter - here the shift is the linear equation: $\\delta = \\beta X$.\n",
    "\n",
    "Since, we are taking $y_i$ to represent the observed diagnoses, and $\\beta X$ to represent the expected a lower bound on the true prevalence rate we have:  \n",
    "\n",
    "$$\n",
    "y_i=\\beta X_i - \\epsilon \n",
    "$$ \n",
    "\n",
    "Where $\\epsilon > 0$. \n",
    "\n",
    "We can visualise what the reflected & shifted log normal looks like:\n",
    "\n",
    "\n"
   ]
  },
  {
   "cell_type": "code",
   "execution_count": 8,
   "metadata": {},
   "outputs": [],
   "source": [
    "#|export\n",
    "# This is the function to use for plotting \n",
    "def reverse_shift_log_normal_pdf(x, delta, mu, sigma):\n",
    "    pdf = []\n",
    "    for i, x_i in enumerate(x):\n",
    "        if delta[i] < x_i: \n",
    "            pdf.append(0)\n",
    "        else: \n",
    "            x_shift = delta[i] - x_i\n",
    "            norm_const = 1 / ((x_shift) * sigma * np.sqrt(2 * np.pi))\n",
    "            exp_part = np.exp(-1 * (1 / (2 * sigma ** 2)) * (np.log(np.subtract(x_shift, mu)) ** 2))\n",
    "            pdf.append(norm_const.squeeze() * exp_part.squeeze())\n",
    "            \n",
    "    return np.array(pdf)\n",
    "\n",
    "def log_norm_mode(mu:int, # mean of the variables log\n",
    "                  sigma:int): # standard deviation of the variables log\n",
    "    return np.exp(mu - sigma**2)"
   ]
  },
  {
   "cell_type": "code",
   "execution_count": 9,
   "metadata": {},
   "outputs": [
    {
     "name": "stderr",
     "output_type": "stream",
     "text": [
      "/var/folders/4n/x6w1yfcx01qbymrsfpz4ybq00000gn/T/ipykernel_90193/536985572.py:10: RuntimeWarning: divide by zero encountered in scalar divide\n",
      "  norm_const = 1 / ((x_shift) * sigma * np.sqrt(2 * np.pi))\n",
      "/Users/bea/miniconda3/envs/adu_env_dementia_ineq/lib/python3.10/site-packages/autograd/tracer.py:48: RuntimeWarning: divide by zero encountered in log\n",
      "  return f_raw(*args, **kwargs)\n",
      "/var/folders/4n/x6w1yfcx01qbymrsfpz4ybq00000gn/T/ipykernel_90193/536985572.py:12: RuntimeWarning: invalid value encountered in scalar multiply\n",
      "  pdf.append(norm_const.squeeze() * exp_part.squeeze())\n"
     ]
    },
    {
     "data": {
      "image/png": "[encoded data removed]",
      "text/plain": [
       "<Figure size 640x480 with 1 Axes>"
      ]
     },
     "metadata": {},
     "output_type": "display_data"
    }
   ],
   "source": [
    "# Parameters for log-normal distribution\n",
    "mu_0 = 0  # Mean\n",
    "sigma_0 = 1\n",
    "shift = 5 # Shift \n",
    "\n",
    "x_axis = np.arange(0, 10, 0.01)\n",
    "shift = shift * np.ones(len(x_axis))\n",
    "\n",
    "pdf_x_mu0 = reverse_shift_log_normal_pdf(x_axis, shift, mu_0, sigma_0)\n",
    "\n",
    "# Plot the log-normal probability density function (PDF)\n",
    "xmin, xmax = plt.xlim()\n",
    "plt.plot(x_axis, pdf_x_mu0, '-', linewidth=2, color='mediumseagreen', label='$\\sigma=1$')\n",
    "#plt.text(6, 0.42, '$\\sigma=1$', color='mediumseagreen')\n",
    "#plt.plot(x, pdf_x_mu1, '-', linewidth=2, color='slateblue', label='$\\sigma=0.25$')\n",
    "#plt.text(7, 0.15, '$\\sigma=0.25$', color='slateblue')\n",
    "\n",
    "plt.title('(Shifted) Log-Normal Distribution ')\n",
    "plt.legend(loc='upper right')\n",
    "plt.xlabel('X')\n",
    "plt.ylabel('Probability Density')\n",
    "plt.grid(True)\n",
    "plt.show()"
   ]
  },
  {
   "cell_type": "markdown",
   "metadata": {},
   "source": [
    "Now, accordingly the probability of a datapoint being distributed according to this log-normal error is: \n",
    "\n",
    "$$\n",
    "p(y_i|y_i < \\beta X_i, \\beta, \\mu, \\sigma) = \n",
    "\\frac{1}{(\\beta X_i - y_i)\\sigma \\sqrt{2 \\pi}} e^{-\\frac{1}{2 \\sigma^2}(ln(\\beta X_i - y_i)-\\mu)^2}\n",
    "$$\n",
    "\n",
    "And hence, the likelihood is: \n",
    "\n",
    "$$\n",
    "L(\\delta, \\mu, \\sigma) = \\prod_{i=1}^n s(y_i | y_i < \\beta X, \\beta X, \\mu, \\sigma) \\\\\n",
    "\n",
    "= \\prod_{i=1}^n \\frac{1}{(\\beta X_i - y_i)\\sigma \\sqrt{2 \\pi}} e^{-\\frac{1}{2 \\sigma^2}(ln(\\beta X_i - y_i)-\\mu)^2}\n",
    "$$\n",
    "\n",
    "Let $ z_i = \\beta X_i -y_i $. Then we have a log likelihood of:\n",
    "\n",
    "$$\n",
    "= \\sum_{i=1}^n ln(\\frac{1}{z_i \\sigma \\sqrt{2 \\pi}} exp(- \\frac{(ln z_i - \\mu)^2}{2 \\sigma^2})) \\\\ \n",
    "= \\sum_{i=1}^n ln(\\frac{1}{z_i \\sigma \\sqrt{2 \\pi}} ) - \\frac{ln^2z_i -2\\mu ln z_i + \\mu^2}{2 \\sigma^2} \\\\\n",
    "= \\sum_{i=1}^n - ln(z_i \\sigma \\sqrt{2 \\pi}) - \\frac{1}{2 \\sigma^2}(ln^2z_i -2\\mu ln z_i + \\mu^2) \\\\\n",
    "= \\sum_{i=1}^n \\frac{1}{2 \\sigma^2}(2\\mu ln z_i - ln^2 z_i - \\mu^2) - ln(z_i \\sigma \\sqrt{2 \\pi}) \\\\\n",
    "\n",
    "$$"
   ]
  },
  {
   "cell_type": "code",
   "execution_count": 10,
   "metadata": {},
   "outputs": [],
   "source": [
    "#|export\n",
    "\n",
    "def log_rvs_shift_log_normal(z, # random variable\n",
    "                             delta, # the shift parameter\n",
    "                             mu, # mean of the logarithm of z\n",
    "                             sigma # standard deviation of the logarithm of z\n",
    "                             ):\n",
    "    \"Returns the logarithm of the reverse, shifted, log normal probability density function.\"\n",
    "    pdf = []\n",
    "    z_shift = np.array(delta - z)\n",
    "    for i in range(len(z_shift)):\n",
    "        if z_shift[i]>0: \n",
    "            part1 = (1/(2 * sigma ** 2)) * (2 * mu * np.log(z_shift[i]) - (np.log(z_shift[i])) ** 2 - mu ** 2) \n",
    "            part2 = np.log(z_shift[i] * sigma * np.sqrt(2 *np.pi))\n",
    "            pdf.append(part1 - part2)\n",
    "        else:\n",
    "            pdf.append(-np.inf) # returns -inf at the points where the log normal is undefined \n",
    "    return np.array(pdf)\n",
    "\n",
    "def neg_loglike(params, # parameters to optimise\n",
    "                x, # independent variables \n",
    "                y # dependent variables \n",
    "                ):\n",
    "    \"Returns the negative log likelihood\"\n",
    "    beta_0 = params[0]\n",
    "    beta = np.array(params[1:-2])\n",
    "    mu = params[-2]\n",
    "    sigma = params[-1]\n",
    "\n",
    "    y_pred = (np.dot(x, beta)).squeeze() + beta_0\n",
    "    log_likely = log_rvs_shift_log_normal(y.squeeze(), delta=y_pred.squeeze(), mu=mu, sigma=sigma)\n",
    "    \n",
    "    return (-1 * np.sum(log_likely)).squeeze()"
   ]
  },
  {
   "cell_type": "code",
   "execution_count": 11,
   "metadata": {},
   "outputs": [],
   "source": [
    "trial_params = np.array([0.25, 0.1, 0.004, -0.004, -0.003, 0.0157, -0.0138, 0.108, 0.05, 0.0, 0.25])\n",
    "#test_close(neg_loglike(trial_params, x, y), 1469.64, eps=0.1)\n",
    "\n",
    "jacobian_ = jacobian(neg_loglike)\n",
    "jac_test1 = [1773.2, 44684.9, 111915.3, 88998.3, 143701.9, 26417.6, 10623.5, 3519.6, 251.9, -3517.3, -9911.4]\n",
    "#test_close(jacobian_(trial_params, x, y), jac_test1, eps=0.1)"
   ]
  },
  {
   "cell_type": "markdown",
   "metadata": {},
   "source": [
    "## Some slightly unexpected behaviour here \n",
    "\n",
    "So, something odd happens here, for certain parameter values the negative log likelihood is positive. This is because the log-normal-pdf can be greater than 1, since it's a continous probability distribution it's only bound in that it's integral =1. As a result, for sharply peaked log normals (when both $\\mu$ and $\\sigma$ are small) we have $x$ values for which $p(x|\\mu, \\sigma)$ >1, and hence we end up with $- \\sum log(p(x|\\mu, \\sigma))<0$. \n",
    "\n",
    "See this example:"
   ]
  },
  {
   "cell_type": "code",
   "execution_count": 12,
   "metadata": {},
   "outputs": [
    {
     "name": "stdout",
     "output_type": "stream",
     "text": [
      "negative log likelihood: -286.48264003127724\n",
      "The product of the probabilities: 1.4961437874803186e+147\n"
     ]
    }
   ],
   "source": [
    "params_practise = [8.755e-01,  1.605e-02, -1.870e-03,  5.155e-04, -3.925e-04, 2.349e-02, -2.511e-02,  1.159e-01, 0.05, -2.423e-01,  1.215e-01]\n",
    "print(f'negative log likelihood: {neg_loglike(params_practise, x, y)}')\n",
    "\n",
    "delta_shift = np.dot(x, params_practise[1:-2]) + 8.755e-01\n",
    "print(f'The product of the probabilities: {np.prod(reverse_shift_log_normal_pdf(y, delta_shift, -2.423e-01,  1.215e-01))}')"
   ]
  },
  {
   "cell_type": "markdown",
   "metadata": {},
   "source": [
    "A few checks with simpler examples that the function returns the values we expect"
   ]
  },
  {
   "cell_type": "code",
   "execution_count": 13,
   "metadata": {},
   "outputs": [],
   "source": [
    "x_practise1 = np.array([[1, 1.5], [2, 3.5]])\n",
    "y_practise1 = np.array([0, 0])\n",
    "params_practise1 = np.array([1, 2, 3, 0, 0.5])\n",
    "\n",
    "test_close(neg_loglike(params_practise1, x_practise1, y_practise1), 28.3, eps=0.1)"
   ]
  },
  {
   "cell_type": "code",
   "execution_count": 14,
   "metadata": {},
   "outputs": [],
   "source": [
    "x_practise2 = np.array([[7, 5], [7, 6]])\n",
    "y_practise2 = np.array([0, 2])\n",
    "params_practise2 = np.array([0, 0, 2, 1, 0.5])\n",
    "\n",
    "test_close(neg_loglike(params_practise2, x_practise2, y_practise2), 11.8, eps=0.1)\n",
    "\n",
    "jacobian_ = jacobian(neg_loglike)\n",
    "jac_test2 = [1.2, 8.6, 6.8, -10.4, -23.1]\n",
    "test_close(jacobian_(params_practise2, x_practise2, y_practise2), jac_test2, eps=0.1)"
   ]
  },
  {
   "cell_type": "markdown",
   "metadata": {},
   "source": [
    "## Using scipy minimize \n",
    "\n",
    "Now we use `scipy.minimize` in order to optimise the function. We are using minimize with the negative of the likelihood which should always be positive.\n",
    "\n",
    "We can initialise from a random point:"
   ]
  },
  {
   "cell_type": "code",
   "execution_count": 15,
   "metadata": {},
   "outputs": [],
   "source": [
    "# n_features = 7\n",
    "# np.random.seed(27)\n",
    "# params_0 = np.concatenate([np.random.normal(size=n_features+1), [0, 0.25]]) "
   ]
  },
  {
   "cell_type": "markdown",
   "metadata": {},
   "source": [
    "Or, we initialise from a point near to where we expect the minimum to be (based on the multiple linear regression coefficients):"
   ]
  },
  {
   "cell_type": "code",
   "execution_count": 16,
   "metadata": {},
   "outputs": [],
   "source": [
    "params_0 = np.array([0.25, 0.1, 0.004, -0.004, -0.003, 0.0157, -0.0138, 0.108, 0.005, 0.1, 0.25])"
   ]
  },
  {
   "cell_type": "markdown",
   "metadata": {},
   "source": [
    "There are different methods to optimise, such as Nelder-Mead - which doesn't use the functions derivative."
   ]
  },
  {
   "cell_type": "code",
   "execution_count": 17,
   "metadata": {},
   "outputs": [
    {
     "data": {
      "text/plain": [
       "       message: Maximum number of function evaluations has been exceeded.\n",
       "       success: False\n",
       "        status: 1\n",
       "           fun: -271.55065771986165\n",
       "             x: [ 4.404e-01  1.158e-02  9.366e-03  1.618e-03  3.114e-04\n",
       "                  8.705e-03 -2.010e-02  2.418e-01 -3.711e-03  1.110e-01\n",
       "                  9.070e-02]\n",
       "           nit: 1598\n",
       "          nfev: 2200\n",
       " final_simplex: (array([[ 4.404e-01,  1.158e-02, ...,  1.110e-01,\n",
       "                         9.070e-02],\n",
       "                       [ 4.400e-01,  1.162e-02, ...,  1.118e-01,\n",
       "                         9.049e-02],\n",
       "                       ...,\n",
       "                       [ 4.462e-01,  1.167e-02, ...,  1.126e-01,\n",
       "                         9.019e-02],\n",
       "                       [ 4.420e-01,  1.162e-02, ...,  1.137e-01,\n",
       "                         9.010e-02]]), array([-2.716e+02, -2.715e+02, -2.715e+02, -2.715e+02,\n",
       "                       -2.715e+02, -2.715e+02, -2.715e+02, -2.715e+02,\n",
       "                       -2.715e+02, -2.715e+02, -2.715e+02, -2.715e+02]))"
      ]
     },
     "execution_count": 17,
     "metadata": {},
     "output_type": "execute_result"
    }
   ],
   "source": [
    "#|export\n",
    "# Use scipy's minimize function with the Nelder-Mead algorithm\n",
    "result = minimize(neg_loglike, x0=params_0, args=(x,y), method = 'Nelder-Mead')\n",
    "\n",
    "result"
   ]
  },
  {
   "cell_type": "markdown",
   "metadata": {},
   "source": [
    "Or a method like BFGS which uses the first derivative:"
   ]
  },
  {
   "cell_type": "code",
   "execution_count": 18,
   "metadata": {},
   "outputs": [],
   "source": [
    "#derivates of neg_loglike\n",
    "# jacobian_  = jacobian(neg_loglike)\n",
    "\n",
    "# result = minimize(neg_loglike, x0=params_0, args=(x,y), method='BFGS', jac = jacobian_, options={'gtol': 1e-6, 'disp':True})\n",
    "# result"
   ]
  },
  {
   "cell_type": "code",
   "execution_count": 19,
   "metadata": {},
   "outputs": [
    {
     "name": "stdout",
     "output_type": "stream",
     "text": [
      "MLE estimates \n",
      "--------------\n",
      "--------------\n",
      "Intercept:0.4404392862881079\n",
      "--------------\n",
      "Regression coefficients\n",
      "--------------\n",
      "over_65_pc:0.01157852402110203\n",
      "female_pc:0.009366062832497007\n",
      "ALevel_plus_pc:0.001618435486526312\n",
      "white_pc:0.0003113691390341306\n",
      "HYP_afflicted_pc:0.008705178500351064\n",
      "DM_afflicted_pc:-0.020095806677936576\n",
      "STIA_afflicted_pc:0.24184681091507365\n",
      "GP_LAD_pc:-0.0037109232742832225\n",
      "--------------\n",
      "Log normal coefficients\n",
      "--------------\n",
      "Mu: 0.11100123695117142\n",
      "Sigma: 0.09070077094350959\n"
     ]
    }
   ],
   "source": [
    "#|export\n",
    "# Extract the MLE from the parameter samples\n",
    "MLE_params = result.x\n",
    "\n",
    "MLE_intercept = MLE_params[0]\n",
    "MLE_beta = MLE_params[1:-2]\n",
    "MLE_mu = MLE_params[-2]\n",
    "MLE_sigma = MLE_params[-1]\n",
    "\n",
    "print(\"MLE estimates \\n--------------\\n--------------\")\n",
    "print(f'Intercept:{MLE_intercept}')\n",
    "print(\"--------------\\nRegression coefficients\\n--------------\")\n",
    "for i, var in enumerate(covar):\n",
    "    print(f'{var}:{MLE_beta[i]}')\n",
    "print(\"--------------\\nLog normal coefficients\\n--------------\")\n",
    "print(\"Mu:\", MLE_mu)\n",
    "print(\"Sigma:\", MLE_sigma)"
   ]
  },
  {
   "cell_type": "code",
   "execution_count": 20,
   "metadata": {},
   "outputs": [
    {
     "data": {
      "text/plain": [
       "-271.55065771986165"
      ]
     },
     "execution_count": 20,
     "metadata": {},
     "output_type": "execute_result"
    }
   ],
   "source": [
    "np.array(MLE_params)\n",
    "neg_loglike(MLE_params, x, y)"
   ]
  },
  {
   "cell_type": "code",
   "execution_count": 21,
   "metadata": {},
   "outputs": [
    {
     "name": "stdout",
     "output_type": "stream",
     "text": [
      "At the MLE, the negative loglikelihood is: -271.55065771986165\n"
     ]
    }
   ],
   "source": [
    "print(f'At the MLE, the negative loglikelihood is: {neg_loglike(MLE_params, x, y)}')"
   ]
  },
  {
   "cell_type": "markdown",
   "metadata": {},
   "source": [
    "And we can plot the shape of the log normal"
   ]
  },
  {
   "cell_type": "code",
   "execution_count": 22,
   "metadata": {},
   "outputs": [
    {
     "name": "stderr",
     "output_type": "stream",
     "text": [
      "/Users/bea/miniconda3/envs/adu_env_dementia_ineq/lib/python3.10/site-packages/autograd/tracer.py:48: RuntimeWarning: invalid value encountered in log\n",
      "  return f_raw(*args, **kwargs)\n"
     ]
    },
    {
     "data": {
      "image/png": "[encoded data removed]",
      "text/plain": [
       "<Figure size 640x480 with 1 Axes>"
      ]
     },
     "metadata": {},
     "output_type": "display_data"
    }
   ],
   "source": [
    "# mode of the log normal \n",
    "mode = log_norm_mode(MLE_mu, MLE_sigma)\n",
    "\n",
    "# plot log normal of MLE parameters \n",
    "x_axis = np.arange(-10, 5, 0.01)\n",
    "pdf_x_mu0 = reverse_shift_log_normal_pdf(x_axis, np.zeros(len(x_axis)), MLE_mu, MLE_sigma)\n",
    "\n",
    "# Plot the log-normal probability density function (PDF)\n",
    "xmin, xmax = plt.xlim()\n",
    "plt.plot(x_axis, pdf_x_mu0, '-', linewidth=2, color='mediumseagreen')\n",
    "plt.text(2.1, 0.32, f'$\\sigma=${np.round(MLE_sigma, 2)}', color='mediumseagreen')\n",
    "plt.text(2.1, 0.72, f'$\\mu=${np.round(MLE_mu, 2)}', color='mediumseagreen')\n",
    "\n",
    "ymin, ymax = plt.ylim()\n",
    "plt.vlines(-mode, ymin, ymax, color='slateblue', label='Log normal mode', linestyles='dotted')\n",
    "plt.text(mode+0.5, 3*ymax/4, f'Mode={np.round(-mode,2)}', color='slateblue')\n",
    "\n",
    "plt.title('(Shifted) Log-Normal Distribution ')\n",
    "plt.xlabel('X')\n",
    "plt.ylabel('Probability Density')\n",
    "plt.grid(True)\n",
    "plt.show()"
   ]
  },
  {
   "cell_type": "code",
   "execution_count": 23,
   "metadata": {},
   "outputs": [
    {
     "name": "stdout",
     "output_type": "stream",
     "text": [
      "1.1082415911389216\n"
     ]
    }
   ],
   "source": [
    "print(mode)"
   ]
  },
  {
   "cell_type": "markdown",
   "metadata": {},
   "source": [
    "### Save the results predicted by the model as a .csv "
   ]
  },
  {
   "cell_type": "code",
   "execution_count": 24,
   "metadata": {},
   "outputs": [],
   "source": [
    "# The values predicted by the linear regression - conceptually this should be the \"true\" dementia prevalence rates \n",
    "y_pred = np.dot(x, MLE_beta.T) + MLE_intercept\n",
    "df_dem_plus['log_norm_model_pred'] = y_pred\n",
    "\n",
    "diagnosis_gap = y_pred.squeeze() - y.squeeze()\n",
    "df_dem_plus['diagnosis_gap']=diagnosis_gap\n",
    "\n",
    "df_dem_plus.to_csv(const.output_path+'/log_norm_model/log_norm_model_results.csv')"
   ]
  },
  {
   "cell_type": "code",
   "execution_count": 25,
   "metadata": {},
   "outputs": [
    {
     "name": "stdout",
     "output_type": "stream",
     "text": [
      "[2.2646814  1.74229707 1.91891934 1.90940785 2.03244522]\n"
     ]
    }
   ],
   "source": [
    "print(y_pred[:5])"
   ]
  },
  {
   "cell_type": "markdown",
   "metadata": {},
   "source": [
    "And subsquently look at those regions with the largest gap from the regression line - conceptually those with the worst diagnosis rates"
   ]
  },
  {
   "cell_type": "code",
   "execution_count": 26,
   "metadata": {},
   "outputs": [
    {
     "data": {
      "text/html": [
       "<div>\n",
       "<style scoped>\n",
       "    .dataframe tbody tr th:only-of-type {\n",
       "        vertical-align: middle;\n",
       "    }\n",
       "\n",
       "    .dataframe tbody tr th {\n",
       "        vertical-align: top;\n",
       "    }\n",
       "\n",
       "    .dataframe thead th {\n",
       "        text-align: right;\n",
       "    }\n",
       "</style>\n",
       "<table border=\"1\" class=\"dataframe\">\n",
       "  <thead>\n",
       "    <tr style=\"text-align: right;\">\n",
       "      <th></th>\n",
       "      <th>area_name</th>\n",
       "      <th>diagnosis_gap</th>\n",
       "    </tr>\n",
       "  </thead>\n",
       "  <tbody>\n",
       "    <tr>\n",
       "      <th>134</th>\n",
       "      <td>Scarborough</td>\n",
       "      <td>1.298335</td>\n",
       "    </tr>\n",
       "    <tr>\n",
       "      <th>6</th>\n",
       "      <td>Telford and Wrekin</td>\n",
       "      <td>1.299565</td>\n",
       "    </tr>\n",
       "    <tr>\n",
       "      <th>288</th>\n",
       "      <td>Plymouth</td>\n",
       "      <td>1.304019</td>\n",
       "    </tr>\n",
       "    <tr>\n",
       "      <th>207</th>\n",
       "      <td>Cambridge</td>\n",
       "      <td>1.310297</td>\n",
       "    </tr>\n",
       "    <tr>\n",
       "      <th>60</th>\n",
       "      <td>Worcester</td>\n",
       "      <td>1.313678</td>\n",
       "    </tr>\n",
       "    <tr>\n",
       "      <th>75</th>\n",
       "      <td>Redditch</td>\n",
       "      <td>1.322252</td>\n",
       "    </tr>\n",
       "    <tr>\n",
       "      <th>286</th>\n",
       "      <td>Torridge</td>\n",
       "      <td>1.344713</td>\n",
       "    </tr>\n",
       "    <tr>\n",
       "      <th>107</th>\n",
       "      <td>Cornwall</td>\n",
       "      <td>1.357792</td>\n",
       "    </tr>\n",
       "    <tr>\n",
       "      <th>271</th>\n",
       "      <td>Eden</td>\n",
       "      <td>1.375017</td>\n",
       "    </tr>\n",
       "    <tr>\n",
       "      <th>40</th>\n",
       "      <td>South Hams</td>\n",
       "      <td>1.397756</td>\n",
       "    </tr>\n",
       "  </tbody>\n",
       "</table>\n",
       "</div>"
      ],
      "text/plain": [
       "              area_name  diagnosis_gap\n",
       "134         Scarborough       1.298335\n",
       "6    Telford and Wrekin       1.299565\n",
       "288            Plymouth       1.304019\n",
       "207           Cambridge       1.310297\n",
       "60            Worcester       1.313678\n",
       "75             Redditch       1.322252\n",
       "286            Torridge       1.344713\n",
       "107            Cornwall       1.357792\n",
       "271                Eden       1.375017\n",
       "40           South Hams       1.397756"
      ]
     },
     "execution_count": 26,
     "metadata": {},
     "output_type": "execute_result"
    }
   ],
   "source": [
    "most_bad_lads = np.argsort(diagnosis_gap)[-10:]\n",
    "df_dem_plus.iloc[most_bad_lads, :][['area_name', 'diagnosis_gap']]"
   ]
  },
  {
   "cell_type": "markdown",
   "metadata": {},
   "source": [
    "And those regions with the smallest gap - conceptually those with the best diagnosis rates"
   ]
  },
  {
   "cell_type": "code",
   "execution_count": 27,
   "metadata": {},
   "outputs": [
    {
     "data": {
      "text/html": [
       "<div>\n",
       "<style scoped>\n",
       "    .dataframe tbody tr th:only-of-type {\n",
       "        vertical-align: middle;\n",
       "    }\n",
       "\n",
       "    .dataframe tbody tr th {\n",
       "        vertical-align: top;\n",
       "    }\n",
       "\n",
       "    .dataframe thead th {\n",
       "        text-align: right;\n",
       "    }\n",
       "</style>\n",
       "<table border=\"1\" class=\"dataframe\">\n",
       "  <thead>\n",
       "    <tr style=\"text-align: right;\">\n",
       "      <th></th>\n",
       "      <th>area_name</th>\n",
       "      <th>diagnosis_gap</th>\n",
       "    </tr>\n",
       "  </thead>\n",
       "  <tbody>\n",
       "    <tr>\n",
       "      <th>77</th>\n",
       "      <td>Rochford</td>\n",
       "      <td>0.733733</td>\n",
       "    </tr>\n",
       "    <tr>\n",
       "      <th>123</th>\n",
       "      <td>Surrey Heath</td>\n",
       "      <td>0.861726</td>\n",
       "    </tr>\n",
       "    <tr>\n",
       "      <th>32</th>\n",
       "      <td>Camden</td>\n",
       "      <td>0.872345</td>\n",
       "    </tr>\n",
       "    <tr>\n",
       "      <th>225</th>\n",
       "      <td>Southampton</td>\n",
       "      <td>0.877341</td>\n",
       "    </tr>\n",
       "    <tr>\n",
       "      <th>10</th>\n",
       "      <td>Southend-on-Sea</td>\n",
       "      <td>0.887856</td>\n",
       "    </tr>\n",
       "    <tr>\n",
       "      <th>99</th>\n",
       "      <td>Tendring</td>\n",
       "      <td>0.888713</td>\n",
       "    </tr>\n",
       "    <tr>\n",
       "      <th>63</th>\n",
       "      <td>Eastbourne</td>\n",
       "      <td>0.899998</td>\n",
       "    </tr>\n",
       "    <tr>\n",
       "      <th>196</th>\n",
       "      <td>East Hampshire</td>\n",
       "      <td>0.903220</td>\n",
       "    </tr>\n",
       "    <tr>\n",
       "      <th>29</th>\n",
       "      <td>East Devon</td>\n",
       "      <td>0.905440</td>\n",
       "    </tr>\n",
       "    <tr>\n",
       "      <th>272</th>\n",
       "      <td>Gosport</td>\n",
       "      <td>0.909112</td>\n",
       "    </tr>\n",
       "  </tbody>\n",
       "</table>\n",
       "</div>"
      ],
      "text/plain": [
       "           area_name  diagnosis_gap\n",
       "77          Rochford       0.733733\n",
       "123     Surrey Heath       0.861726\n",
       "32            Camden       0.872345\n",
       "225      Southampton       0.877341\n",
       "10   Southend-on-Sea       0.887856\n",
       "99          Tendring       0.888713\n",
       "63        Eastbourne       0.899998\n",
       "196   East Hampshire       0.903220\n",
       "29        East Devon       0.905440\n",
       "272          Gosport       0.909112"
      ]
     },
     "execution_count": 27,
     "metadata": {},
     "output_type": "execute_result"
    }
   ],
   "source": [
    "least_bad_lads = np.argsort(diagnosis_gap)[:10]\n",
    "df_dem_plus.iloc[least_bad_lads, :][['area_name', 'diagnosis_gap']]"
   ]
  },
  {
   "cell_type": "markdown",
   "metadata": {},
   "source": [
    "## Evaluate the hessian at the MLE \n",
    "\n",
    "We can look at the Hessian evaluated at the MLE."
   ]
  },
  {
   "cell_type": "code",
   "execution_count": 28,
   "metadata": {},
   "outputs": [],
   "source": [
    "def is_def(x):\n",
    "    return np.all(np.linalg.eigvals(x) > 0)"
   ]
  },
  {
   "cell_type": "code",
   "execution_count": 29,
   "metadata": {},
   "outputs": [
    {
     "name": "stdout",
     "output_type": "stream",
     "text": [
      "[[ 3.08865454e+04  7.49712586e+05  1.93749613e+06  1.56539251e+06\n",
      "   2.41544244e+06  4.49097157e+05  1.82844283e+05  5.91176466e+04\n",
      "   4.77540011e+03 -3.37591033e+04  6.32942200e+03]\n",
      " [ 7.49712586e+05  1.92318496e+07  4.70011534e+07  3.74605502e+07\n",
      "   6.14234561e+07  1.12984450e+07  4.50072462e+06  1.51370688e+06\n",
      "   1.14299541e+05 -8.21215699e+05  1.29195109e+05]\n",
      " [ 1.93749613e+06  4.70011534e+07  1.21897369e+08  9.82138983e+07\n",
      "   1.51216105e+08  2.81667458e+07  1.14916432e+07  3.69969295e+06\n",
      "   2.99247864e+05 -2.12314253e+06  3.42146763e+05]\n",
      " [ 1.56539251e+06  3.74605502e+07  9.82138983e+07  8.11468852e+07\n",
      "   1.20490848e+08  2.23859327e+07  9.09809209e+06  2.93779283e+06\n",
      "   2.45991542e+05 -1.71411225e+06  2.92731278e+05]\n",
      " [ 2.41544244e+06  6.14234561e+07  1.51216105e+08  1.20490848e+08\n",
      "   1.99959313e+08  3.62478840e+07  1.44078778e+07  4.85859997e+06\n",
      "   3.67820889e+05 -2.64583664e+06  4.15526944e+05]\n",
      " [ 4.49097157e+05  1.12984450e+07  2.81667458e+07  2.23859327e+07\n",
      "   3.62478840e+07  6.72453882e+06  2.70603944e+06  8.93574867e+05\n",
      "   6.86078566e+04 -4.91227212e+05  8.62408137e+04]\n",
      " [ 1.82844283e+05  4.50072462e+06  1.14916432e+07  9.09809209e+06\n",
      "   1.44078778e+07  2.70603944e+06  1.11066494e+06  3.56759176e+05\n",
      "   2.78998225e+04 -2.00056386e+05  3.55272370e+04]\n",
      " [ 5.91176466e+04  1.51370688e+06  3.69969295e+06  2.93779283e+06\n",
      "   4.85859997e+06  8.93574867e+05  3.56759176e+05  1.20480971e+05\n",
      "   9.00724509e+03 -6.48099537e+04  9.54035191e+03]\n",
      " [ 4.77540011e+03  1.14299541e+05  2.99247864e+05  2.45991542e+05\n",
      "   3.67820889e+05  6.86078566e+04  2.78998225e+04  9.00724509e+03\n",
      "   9.00584643e+02 -5.18802925e+03  1.32052116e+03]\n",
      " [-3.37591033e+04 -8.21215699e+05 -2.12314253e+06 -1.71411225e+06\n",
      "  -2.64583664e+06 -4.91227212e+05 -2.00056386e+05 -6.48099537e+04\n",
      "  -5.18802925e+03  3.75609461e+04 -1.31132278e+02]\n",
      " [ 6.32942200e+03  1.29195109e+05  3.42146763e+05  2.92731278e+05\n",
      "   4.15526944e+05  8.62408137e+04  3.55272370e+04  9.54035191e+03\n",
      "   1.32052116e+03 -1.31132278e+02  7.32295553e+04]]\n"
     ]
    },
    {
     "data": {
      "text/plain": [
       "True"
      ]
     },
     "execution_count": 29,
     "metadata": {},
     "output_type": "execute_result"
    }
   ],
   "source": [
    "hessian_ = hessian(neg_loglike)\n",
    "\n",
    "print(hessian_(MLE_params, x, y))\n",
    "\n",
    "np.linalg.eigvals(hessian_(MLE_params, x, y))\n",
    "\n",
    "is_def(hessian_(MLE_params, x, y))"
   ]
  },
  {
   "cell_type": "markdown",
   "metadata": {},
   "source": [
    "## Alternative model using a half normal distribution instead "
   ]
  },
  {
   "cell_type": "code",
   "execution_count": 30,
   "metadata": {},
   "outputs": [],
   "source": [
    "# Negative log likelihood for the half normal distribution \n",
    "\n",
    "# Define functions to minimize\n",
    "def neg_loglike_half_norm(params, x, y):\n",
    "    beta_0 = params[0]\n",
    "    beta = np.array(params[1:-1])\n",
    "    sigma = params[-1]\n",
    "\n",
    "    log_pdf = []\n",
    "    y_pred = (np.dot(x, beta)).squeeze() + beta_0\n",
    "    y = y.reshape(1, len(x)).squeeze()\n",
    "\n",
    "    z_shift = np.array(y_pred-y)\n",
    "\n",
    "    for i in range(len(z_shift)):\n",
    "        if z_shift[i]>0:\n",
    "            normalising = 1/(sigma* np.sqrt(2*np.pi))\n",
    "            exp_part = np.exp(-(1/2)*(z_shift[i]/sigma)**2)\n",
    "            log_pdf.append(np.log(normalising*exp_part))\n",
    "        else:\n",
    "            log_pdf.append(-np.inf)\n",
    "\n",
    "    return np.array(-1 * np.sum(log_pdf))"
   ]
  },
  {
   "cell_type": "code",
   "execution_count": 31,
   "metadata": {},
   "outputs": [],
   "source": [
    "# Values to initialise from \n",
    "params_0 = np.array([1, 0.01, 0.004, -0.004, -0.003, 0.0157, -0.0138, 0.108, 0.01])\n",
    "sigma_0 = 0.2"
   ]
  },
  {
   "cell_type": "code",
   "execution_count": 32,
   "metadata": {},
   "outputs": [
    {
     "data": {
      "text/plain": [
       "array(1447.36280366)"
      ]
     },
     "execution_count": 32,
     "metadata": {},
     "output_type": "execute_result"
    }
   ],
   "source": [
    "neg_loglike_half_norm(np.append(params_0, sigma_0), x, y)"
   ]
  },
  {
   "cell_type": "code",
   "execution_count": 33,
   "metadata": {},
   "outputs": [
    {
     "data": {
      "text/plain": [
       "       message: Optimization terminated successfully.\n",
       "       success: True\n",
       "        status: 0\n",
       "           fun: 88.75381921831257\n",
       "             x: [ 4.286e-01  2.165e-02  2.208e-03 -5.665e-03 -3.106e-03\n",
       "                  3.011e-02 -5.259e-03  5.173e-02  7.096e-03  3.163e-01]\n",
       "           nit: 1061\n",
       "          nfev: 1695\n",
       " final_simplex: (array([[ 4.286e-01,  2.165e-02, ...,  7.096e-03,\n",
       "                         3.163e-01],\n",
       "                       [ 4.286e-01,  2.165e-02, ...,  7.096e-03,\n",
       "                         3.163e-01],\n",
       "                       ...,\n",
       "                       [ 4.286e-01,  2.165e-02, ...,  7.096e-03,\n",
       "                         3.163e-01],\n",
       "                       [ 4.286e-01,  2.165e-02, ...,  7.096e-03,\n",
       "                         3.163e-01]]), array([ 8.875e+01,  8.875e+01,  8.875e+01,  8.875e+01,\n",
       "                        8.875e+01,  8.875e+01,  8.875e+01,  8.875e+01,\n",
       "                        8.875e+01,  8.875e+01,  8.875e+01]))"
      ]
     },
     "execution_count": 33,
     "metadata": {},
     "output_type": "execute_result"
    }
   ],
   "source": [
    "# Use scipy's minimize function with the Nelder-Mead algorithm\n",
    "result = minimize(neg_loglike_half_norm, x0=np.append(params_0, sigma_0), args=(x,y), method = 'Nelder-Mead')\n",
    "\n",
    "result"
   ]
  },
  {
   "cell_type": "code",
   "execution_count": 34,
   "metadata": {},
   "outputs": [
    {
     "name": "stdout",
     "output_type": "stream",
     "text": [
      "MLE estimates \n",
      "--------------\n",
      "--------------\n",
      "Intercept:0.4285790649491019\n",
      "--------------\n",
      "Regression coefficients\n",
      "--------------\n",
      "over_65_pc:0.0216472250497693\n",
      "female_pc:0.002208109974657162\n",
      "ALevel_plus_pc:-0.005665361166579425\n",
      "white_pc:-0.0031055485681954634\n",
      "HYP_afflicted_pc:0.030107731753247463\n",
      "DM_afflicted_pc:-0.005258861448888711\n",
      "STIA_afflicted_pc:0.051734414886942776\n",
      "GP_LAD_pc:0.0070960604968354195\n",
      "--------------\n",
      "Log normal coefficients\n",
      "--------------\n",
      "Sigma: 0.3163118647331714\n"
     ]
    }
   ],
   "source": [
    "# Extract the MLE from the parameter samples\n",
    "MLE_params = result.x\n",
    "\n",
    "MLE_intercept = MLE_params[0]\n",
    "MLE_beta = MLE_params[1:-1]\n",
    "MLE_sigma = MLE_params[-1]\n",
    "\n",
    "print(\"MLE estimates \\n--------------\\n--------------\")\n",
    "print(f'Intercept:{MLE_intercept}')\n",
    "print(\"--------------\\nRegression coefficients\\n--------------\")\n",
    "for i, var in enumerate(covar):\n",
    "    print(f'{var}:{MLE_beta[i]}')\n",
    "print(\"--------------\\nLog normal coefficients\\n--------------\")\n",
    "print(\"Sigma:\", MLE_sigma)"
   ]
  },
  {
   "cell_type": "code",
   "execution_count": 35,
   "metadata": {},
   "outputs": [
    {
     "data": {
      "image/png": "[encoded data removed]",
      "text/plain": [
       "<Figure size 640x480 with 1 Axes>"
      ]
     },
     "metadata": {},
     "output_type": "display_data"
    }
   ],
   "source": [
    "# Plot the half normal distribution from the model \n",
    "x_axis = np.arange(-5,1, 0.1)\n",
    "halfnorm_pdf = stat.halfnorm.pdf(-x_axis, scale=MLE_sigma)\n",
    "plt.plot(x_axis, halfnorm_pdf, '-', linewidth=2, color='mediumseagreen')\n",
    "plt.text(-2, 1, f'$\\sigma=${np.round(MLE_sigma, 3)}', color='mediumseagreen')\n",
    "ymin, ymax = plt.ylim()\n",
    "plt.vlines(0, ymin, ymax, color='slateblue', linestyles='dotted')\n",
    "\n",
    "\n",
    "plt.title('Half-Normal Distribution ')\n",
    "plt.xlabel('X')\n",
    "plt.ylabel('Probability Density')\n",
    "plt.grid(True)\n",
    "plt.show()"
   ]
  },
  {
   "cell_type": "markdown",
   "metadata": {},
   "source": [
    "### And again save the results "
   ]
  },
  {
   "cell_type": "code",
   "execution_count": 36,
   "metadata": {},
   "outputs": [],
   "source": [
    "# The values predicted by the linear regression - conceptually this should be the \"true\" dementia prevalence rates \n",
    "y_pred = np.dot(x, MLE_beta.T) + MLE_intercept\n",
    "df_dem_plus['half_norm_model_pred'] = y_pred\n",
    "\n",
    "diagnosis_gap = y_pred.squeeze() - y.squeeze()\n",
    "df_dem_plus['half_norm_diagnosis_gap']=diagnosis_gap\n",
    "\n",
    "df_dem_plus.to_csv(const.output_path+'/half_norm_model/half_norm_model_results.csv')"
   ]
  },
  {
   "cell_type": "markdown",
   "metadata": {},
   "source": [
    "## Check the model by implementing a linear regression. \n",
    "\n",
    "Create a function which we apply `scipy.minimize` to in order ot find the MLE parameters. This code be done using two different objective functions - either:\n",
    "1. Ordinary least squares (OLS) - based on the assumption that the error is gaussian the MLE parameters of the regression line minimize the OLS function (which is just the sum of the differences squared). \n",
    "2. Gaussian error - based on the assumtpion that the error term is gaussian we can minimize the negative log likelihood of the observed data, given a mean of the regression line, and some standard deviation sigma, which is fit as part of the model. "
   ]
  },
  {
   "cell_type": "code",
   "execution_count": 37,
   "metadata": {},
   "outputs": [],
   "source": [
    "# The real dementia x and y data \n",
    "# Just duplicating this code here to remind myself - but (should be) defined same as above \n",
    "\n",
    "# covariates \n",
    "covar = ['over_65_pc', 'female_pc', 'ALevel_plus_pc', 'white_pc', 'HYP_afflicted_pc', 'DM_afflicted_pc', 'STIA_afflicted_pc', 'GP_LAD_pc']\n",
    "\n",
    "# Input data \n",
    "x = np.array(df_dem_plus[covar].values.reshape(-1,len(covar)))\n",
    "\n",
    "# Outcome data \n",
    "y = np.array(df_dem_plus['DEM_afflicted_pc'].values.reshape(-1,1))"
   ]
  },
  {
   "cell_type": "code",
   "execution_count": 38,
   "metadata": {},
   "outputs": [],
   "source": [
    "# Define functions to minimize\n",
    "\n",
    "# OLS\n",
    "def linear_log_ols(params, x, y):\n",
    "    beta_0 = params[0]\n",
    "    beta = np.array(params[1:])\n",
    "\n",
    "    y_pred = (np.dot(x, beta)).squeeze() + beta_0\n",
    "    y = y.reshape(1, len(x)).squeeze()\n",
    "    squares = (y_pred-y)**2\n",
    "    \n",
    "    return (np.sum(squares)).squeeze()\n",
    "\n",
    "# This function uses the built in stat.norm.pdf \n",
    "# ... however autograd seems to have a problem differentiating this (despite the fact that it's meant to be compatible)\n",
    "# negative log likelihood\n",
    "# def linear_neg_loglike(params, x, y):\n",
    "#     beta_0 = params[0]\n",
    "#     beta = np.array(params[1:-1])\n",
    "#     sigma = params[-1]\n",
    "\n",
    "#     likely = []\n",
    "#     y_pred = (np.dot(x, beta)).squeeze() + beta_0\n",
    "#     y = y.reshape(1, len(x)).squeeze()\n",
    "#     for i in range(len(y)):\n",
    "#         likely.append(stat.norm.pdf(y[i], loc=y_pred[i], scale=sigma))\n",
    "#     #likely = stat.norm.pdf(y, loc=y_pred, scale=sigma)\n",
    "#     log_likely = np.log(likely)\n",
    "\n",
    "#     return (-1 * np.sum(log_likely))\n",
    "\n",
    "# ALTERNATIVE FUNCTION \n",
    "# Define functions to minimize\n",
    "def linear_neg_loglike(params, x, y):\n",
    "    beta_0 = params[0]\n",
    "    beta = np.array(params[1:-1])\n",
    "    sigma = params[-1]\n",
    "\n",
    "    log_pdf = []\n",
    "    y_pred = (np.dot(x, beta)).squeeze() + beta_0\n",
    "\n",
    "    z_shift = np.array(y_pred-y)\n",
    "\n",
    "    for i in range(len(z_shift)):\n",
    "        normalising = 1/(sigma* np.sqrt(2*np.pi))\n",
    "        exp_part = np.exp(-(1/2)*(z_shift[i]/sigma)**2)\n",
    "        log_pdf.append(np.log(normalising*exp_part))\n",
    "\n",
    "    return np.array(-1 * np.sum(log_pdf))"
   ]
  },
  {
   "cell_type": "code",
   "execution_count": 39,
   "metadata": {},
   "outputs": [],
   "source": [
    "# Values to initialise from \n",
    "params_0 = np.array([0.1, 0.01, 0.004, -0.004, -0.003, 0.0157, -0.0138, 0.108, 0.01])\n",
    "sigma_0 = 0.2\n",
    "\n",
    "# the MLE parameters from the multiple linear regression using sklearn \n",
    "regr_coeff = np.load(const.pre_output_path+'/reg_coeff.npy')"
   ]
  },
  {
   "cell_type": "code",
   "execution_count": 40,
   "metadata": {},
   "outputs": [
    {
     "data": {
      "text/plain": [
       "array(74528.37084237)"
      ]
     },
     "execution_count": 40,
     "metadata": {},
     "output_type": "execute_result"
    }
   ],
   "source": [
    "# Check the function works by evaluating at a certain point \n",
    "linear_neg_loglike(np.append(params_0, sigma_0),x, y)"
   ]
  },
  {
   "cell_type": "code",
   "execution_count": 41,
   "metadata": {},
   "outputs": [
    {
     "data": {
      "text/plain": [
       "array([-7.38509698e-10,  9.48549355e+06, -1.29128040e+06, -5.76773682e+06,\n",
       "        2.70987550e+07,  3.84870822e+06,  5.82635404e+05,  8.00881109e+05,\n",
       "       -9.26525877e+03, -5.81390471e+06])"
      ]
     },
     "execution_count": 41,
     "metadata": {},
     "output_type": "execute_result"
    }
   ],
   "source": [
    "# Calculate the gradient at this point \n",
    "grad_loglike = grad(linear_neg_loglike)\n",
    "grad_loglike(np.append(np.array(regr_coeff), 0.1), x, y)"
   ]
  },
  {
   "cell_type": "code",
   "execution_count": 42,
   "metadata": {},
   "outputs": [
    {
     "name": "stdout",
     "output_type": "stream",
     "text": [
      "Hessian eigenvalues: [1.30919218e+11 2.59471591e+09 3.13191758e+08 1.49133371e+08\n",
      " 4.98807227e+07 1.03025498e+07 1.49517096e+06 2.32998666e+05\n",
      " 1.04111993e+04 4.48973196e+04]\n",
      "Hessian matrix positive definite: True\n"
     ]
    }
   ],
   "source": [
    "# Inspect the Hessian at this point \n",
    "hessian_ = hessian(linear_neg_loglike)\n",
    "print(f'Hessian eigenvalues: {np.linalg.eigvals(hessian_(np.append(np.array(regr_coeff), 0.1), x, y))}')\n",
    "print(f'Hessian matrix positive definite: {is_def(hessian_(np.append(np.array(regr_coeff), 0.1), x, y))}')"
   ]
  },
  {
   "cell_type": "code",
   "execution_count": 43,
   "metadata": {},
   "outputs": [
    {
     "name": "stdout",
     "output_type": "stream",
     "text": [
      "       message: Optimization terminated successfully.\n",
      "       success: True\n",
      "        status: 0\n",
      "           fun: 2.613361638973784\n",
      "             x: [ 1.289e-01  1.465e-02 -8.275e-04 -4.469e-04 -4.617e-04\n",
      "                  2.042e-02 -2.648e-02  1.309e-01  1.792e-02]\n",
      "           nit: 873\n",
      "          nfev: 1261\n",
      " final_simplex: (array([[ 1.289e-01,  1.465e-02, ...,  1.309e-01,\n",
      "                         1.792e-02],\n",
      "                       [ 1.289e-01,  1.465e-02, ...,  1.309e-01,\n",
      "                         1.792e-02],\n",
      "                       ...,\n",
      "                       [ 1.289e-01,  1.465e-02, ...,  1.309e-01,\n",
      "                         1.792e-02],\n",
      "                       [ 1.288e-01,  1.465e-02, ...,  1.309e-01,\n",
      "                         1.792e-02]]), array([ 2.613e+00,  2.613e+00,  2.613e+00,  2.613e+00,\n",
      "                        2.613e+00,  2.613e+00,  2.613e+00,  2.613e+00,\n",
      "                        2.613e+00,  2.613e+00]))\n",
      "MLE estimates (OLS model)\n",
      "--------------\n",
      "--------------\n",
      "Intercept:0.12887878702427644\n",
      "--------------\n",
      "Regression coefficients\n",
      "--------------\n",
      "over_65_pc:0.014646605382896999\n",
      "female_pc:-0.0008274832789700055\n",
      "ALevel_plus_pc:-0.0004469082083762798\n",
      "white_pc:-0.00046174421929160375\n",
      "HYP_afflicted_pc:0.020420362648323497\n",
      "DM_afflicted_pc:-0.02648233783099079\n",
      "STIA_afflicted_pc:0.13089546316527934\n",
      "GP_LAD_pc:0.017920313863465473\n"
     ]
    }
   ],
   "source": [
    "# Use scipy's minimize function with the Nelder-Mead algorithm\n",
    "result = minimize(linear_log_ols, x0=params_0, args=(x,y), method = 'Nelder-Mead')\n",
    "\n",
    "print(result)\n",
    "\n",
    "# Extract the MLE from the parameter samples\n",
    "MLE_params = result.x\n",
    "\n",
    "MLE_intercept = MLE_params[0]\n",
    "MLE_beta = MLE_params[1:]\n",
    "\n",
    "print(\"MLE estimates (OLS model)\\n--------------\\n--------------\")\n",
    "print(f'Intercept:{MLE_intercept}')\n",
    "print(\"--------------\\nRegression coefficients\\n--------------\")\n",
    "for i, var in enumerate(covar):\n",
    "    print(f'{var}:{MLE_beta[i]}')"
   ]
  },
  {
   "cell_type": "code",
   "execution_count": 44,
   "metadata": {},
   "outputs": [
    {
     "data": {
      "text/plain": [
       "       message: Maximum number of function evaluations has been exceeded.\n",
       "       success: False\n",
       "        status: 1\n",
       "           fun: -18510.612734270395\n",
       "             x: [ 7.797e-01 -1.371e-03 -1.843e-03  1.182e-03 -1.352e-04\n",
       "                  4.726e-03  2.532e-03  2.665e-03  5.515e-03  1.994e-01]\n",
       "           nit: 1427\n",
       "          nfev: 2000\n",
       " final_simplex: (array([[ 7.797e-01, -1.371e-03, ...,  5.515e-03,\n",
       "                         1.994e-01],\n",
       "                       [ 7.794e-01, -1.347e-03, ...,  6.836e-03,\n",
       "                         1.994e-01],\n",
       "                       ...,\n",
       "                       [ 7.796e-01, -1.341e-03, ...,  6.020e-03,\n",
       "                         1.994e-01],\n",
       "                       [ 7.798e-01, -1.341e-03, ...,  6.084e-03,\n",
       "                         1.994e-01]]), array([-1.851e+04, -1.851e+04, -1.851e+04, -1.851e+04,\n",
       "                       -1.851e+04, -1.851e+04, -1.851e+04, -1.851e+04,\n",
       "                       -1.851e+04, -1.851e+04, -1.851e+04]))"
      ]
     },
     "execution_count": 44,
     "metadata": {},
     "output_type": "execute_result"
    }
   ],
   "source": [
    "params_01 = np.append(regr_coeff, sigma_0)\n",
    "\n",
    "# Use scipy's minimize function with the Nelder-Mead algorithm\n",
    "result = minimize(linear_neg_loglike, x0=params_01, args=(x,y), method = 'Nelder-Mead')\n",
    "\n",
    "result"
   ]
  },
  {
   "cell_type": "code",
   "execution_count": 45,
   "metadata": {},
   "outputs": [
    {
     "name": "stdout",
     "output_type": "stream",
     "text": [
      "MLE estimates (Gaussian model)\n",
      "--------------\n",
      "--------------\n",
      "Intercept:0.7797404256801626\n",
      "--------------\n",
      "Regression coefficients\n",
      "--------------\n",
      "over_65_pc:-0.0013707127019176955\n",
      "female_pc:-0.001843241047368418\n",
      "ALevel_plus_pc:0.0011820717065402194\n",
      "white_pc:-0.00013523626784377966\n",
      "HYP_afflicted_pc:0.00472570564502019\n",
      "DM_afflicted_pc:0.002532370782721243\n",
      "STIA_afflicted_pc:0.0026654481369912265\n",
      "GP_LAD_pc:0.005514957729151164\n",
      "--------------\n",
      "Gaussian standard deviation\n",
      "--------------\n",
      "Sigma: 0.19935761758096748\n"
     ]
    }
   ],
   "source": [
    "# Extract the MLE from the parameter samples\n",
    "MLE_params = result.x\n",
    "\n",
    "MLE_intercept = MLE_params[0]\n",
    "MLE_beta = MLE_params[1:-1]\n",
    "MLE_sigma = MLE_params[-1]\n",
    "\n",
    "print(\"MLE estimates (Gaussian model)\\n--------------\\n--------------\")\n",
    "print(f'Intercept:{MLE_intercept}')\n",
    "print(\"--------------\\nRegression coefficients\\n--------------\")\n",
    "for i, var in enumerate(covar):\n",
    "    print(f'{var}:{MLE_beta[i]}')\n",
    "print(\"--------------\\nGaussian standard deviation\\n--------------\")\n",
    "print(\"Sigma:\", MLE_sigma)"
   ]
  },
  {
   "cell_type": "code",
   "execution_count": 46,
   "metadata": {},
   "outputs": [
    {
     "data": {
      "text/plain": [
       "array([-1.27853512e+01, -4.76581929e+03, -4.06468313e+04,  5.98573863e+04,\n",
       "       -4.62328052e+04,  2.29170140e+03, -1.69633456e+03,  7.60771926e+02,\n",
       "        2.90671414e+02,  1.44176693e+02])"
      ]
     },
     "execution_count": 46,
     "metadata": {},
     "output_type": "execute_result"
    }
   ],
   "source": [
    "# Calculate the gradient at this point \n",
    "grad_loglike = grad(linear_neg_loglike)\n",
    "grad_loglike(np.array(MLE_params), x, y)"
   ]
  },
  {
   "cell_type": "code",
   "execution_count": 47,
   "metadata": {},
   "outputs": [
    {
     "name": "stdout",
     "output_type": "stream",
     "text": [
      "Hessian eigenvalues: [3.29408265e+10 6.29865158e+08 7.86043814e+07 2.48324944e+07\n",
      " 4.80747454e+06 2.58063575e+06 3.79320041e+05 5.97500184e+04\n",
      " 2.68641762e+03 1.13090237e+04]\n",
      "Hessian matrix positive definite: True\n"
     ]
    }
   ],
   "source": [
    "# Inspect the Hessian at this point \n",
    "hessian_ = hessian(linear_neg_loglike)\n",
    "print(f'Hessian eigenvalues: {np.linalg.eigvals(hessian_(np.array(MLE_params), x, y))}')\n",
    "print(f'Hessian matrix positive definite: {is_def(hessian_(np.array(MLE_params), x, y))}')"
   ]
  },
  {
   "cell_type": "code",
   "execution_count": 48,
   "metadata": {},
   "outputs": [
    {
     "name": "stderr",
     "output_type": "stream",
     "text": [
      "/Users/bea/miniconda3/envs/adu_env_dementia_ineq/lib/python3.10/site-packages/nbdev/export.py:73: UserWarning: Notebook '/Users/bea/adu_dev/dementia_inequalities/nbs/core/03a_explore_datasets.ipynb' uses `#|export` without `#|default_exp` cell.\n",
      "Note nbdev2 no longer supports nbdev1 syntax. Run `nbdev_migrate` to upgrade.\n",
      "See https://nbdev.fast.ai/getting_started.html for more information.\n",
      "  warn(f\"Notebook '{nbname}' uses `#|export` without `#|default_exp` cell.\\n\"\n"
     ]
    }
   ],
   "source": [
    "#|hide\n",
    "import nbdev; nbdev.nbdev_export()"
   ]
  }
 ],
 "metadata": {
  "kernelspec": {
   "display_name": "adu_env_dementia_ineq",
   "language": "python",
   "name": "python3"
  },
  "language_info": {
   "codemirror_mode": {
    "name": "ipython",
    "version": 3
   },
   "file_extension": ".py",
   "mimetype": "text/x-python",
   "name": "python",
   "nbconvert_exporter": "python",
   "pygments_lexer": "ipython3",
   "version": "3.10.13"
  }
 },
 "nbformat": 4,
 "nbformat_minor": 2
}
