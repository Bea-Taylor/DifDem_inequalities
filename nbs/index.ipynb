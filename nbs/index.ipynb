{
 "cells": [
  {
   "cell_type": "markdown",
   "metadata": {},
   "source": [
    "# Dementia Inequalities\n",
    "\n",
    "> This project investigates Dementia prevalence, diagnosis and prescribing of drugs, in relation to deprivation."
   ]
  },
  {
   "cell_type": "code",
   "execution_count": null,
   "metadata": {},
   "outputs": [],
   "source": [
    "#|hide\n",
    "import nbdev; nbdev.nbdev_export()"
   ]
  },
  {
   "cell_type": "code",
   "execution_count": null,
   "metadata": {},
   "outputs": [],
   "source": [
    "#|hide\n",
    "from nbdev.showdoc import show_doc"
   ]
  },
  {
   "cell_type": "code",
   "execution_count": null,
   "metadata": {},
   "outputs": [],
   "source": [
    "#|hide\n",
    "import dementia_inequalities as proj\n",
    "from dementia_inequalities import const, log, utils, tools\n",
    "import adu_proj.utils as adutils"
   ]
  },
  {
   "cell_type": "markdown",
   "metadata": {},
   "source": [
    "## Context\n",
    "\n",
    "It has been reported that geography and depravation levels affect individiuals chance of recieving a dementia diagnsis, with [different rates of dementia diagnosis in different areas of the UK](https://dementiastatistics.org/about-dementia/maps/). Understanding and addressing these types of inquality is a current priority for both the Alzheimer’s Society  and the [All-Party Parliamentary Groups](https://www.alzheimers.org.uk/about-us/policy-and-influencing/all-party-parliamentary-group-dementia). This work is inspired by the 2021 Alzheimer's society report into [Regional variation: increasing access to a dementia diagnosis](https://www.alzheimers.org.uk/sites/default/files/2021-09/regional_variations_increasing_access_to_diagnosis.pdf). \n",
    "\n",
    "Rates of dementia diagnosis depend on both the prevalence of dementia in an area, and a GP practices ability to detect and report new cases. Dementia prevalence is itself affected by risk factors including: age, sex, ethnicity, socioeconomic background, and modifiable lifestyle factors. This has been reported in the literature with: \n",
    "\n",
    "- [Higher rates of diagnosis in more deprived areas](https://www.cambridge.org/core/journals/primary-health-care-research-and-development/article/variations-in-dementia-diagnosis-in-england-and-association-with-general-practice-characteristics/18A64D2EF4CBEC49874B343C1B41D651), possibly due to higher rate of other health conditions leading to more frequent GP appointments.\n",
    "- [Lower rates of diagnosis in more deprived areas](https://link.springer.com/article/10.1186/s12877-022-03086-4)\n",
    "- Lower rates of diagnosis in more rural areas, due to difficulty physically attending GP practises/clinics.\n",
    "- [Lower rates of diagnosis in single-handed GP practises](https://pubmed.ncbi.nlm.nih.gov/21777080/) (practise with a single doctor) - which in turn are [correlated with more deprived areas.](https://journals.sagepub.com/doi/10.1177/13558196231218830)\n",
    "\n",
    "Depravation levels can also affect prevalence with:\n",
    "\n",
    "- Higher rates of prevalence due to socio-economic modifiable risk factors (such as level of education).\n",
    "- Lower rates of prevalence due to higher rate of comorbidities, which result in fewer people living to older age (age is the largest risk factor for dementia).\n",
    "\n",
    "Previous studies have also found a correlation between deprivation and the amount of anti-dementia drugs being precribed: \n",
    "\n",
    "- [Lower rates of anti-dementia drug prescribing in more deprived areas.](https://watermark.silverchair.com/afv154.pdf?token=AQECAHi208BE49Ooan9kkhW_Ercy7Dm3ZL_9Cf3qfKAc485ysgAAA6cwggOjBgkqhkiG9w0BBwagggOUMIIDkAIBADCCA4kGCSqGSIb3DQEHATAeBglghkgBZQMEAS4wEQQMqDMkBZkmAQ5-UhZIAgEQgIIDWipSED6hj8nfaYU-FjySfvP076ox9BMYagpe0Do8Zpz-mYd-choLiPCIly_yphlr3hRisgyWvfWI9sDvgXf8kJwDUZZJepnz7KK6IDxlpQouejPaSWtHvdiexSaoxaAfnbmX5k2t28Cg16fEpXZcyu2CT-ldkvIWVL0cYbeeUQcYAKw5Lh_-k_7fHbe4dLc6XzxdPl57T8bGWFUmlF7J0LRg4gLbZSfdOWxuZHZvTJCGOYRgbD2uUbNvBH8xtE7o44_nF_ZmP6-JBIRvEaTdgbCYkR4XE8EmTO96npiS3h1O3U5DjmJMl6OzXOApussCm4SWnbnBtu-MAC41mgfKdcAlPmlv7Tq_A9aoIoUK_ryQSee69ciHZvFrNLxTMoRwH1UnzSm_2x_0OvESS4kxBvg5-wXEYOVI7i6saQbRxJdBitv9LCfGiM7hRxkZzZ4zgOBHP_FQvy4sWkQSoFbHauymos1E-Ud9WVlk5oc_8eSD7uj1V9EykNbqxjGWixmx-MIwqCQ5tapWDwS87D6KxWk29NljqLiNX6A3LFBQOptgg7bdfeOt2ev6skT5vef2fS5zPLpg6Ld3lU_nMaNs_QUXuIy7M8SSEZGYrq1X__cr3mqVCHqECtzkBEpRYLuxUQsf2XAQyYf4hcx257aC3yzdgxRs79R1ZywDt6dCLaZjK3EpEeA06ijtrAW3ewu975geNmys-pyhLut2uVVixOgyZxAFjLD-sEqmWv0bvtLcn2IYs89FCRevAt-h4JBXjaoSBg1pt35fyEF6eKFFl6PAYQ9JnUkZHmh3VVM0pBNzVf_ur9DLa3so8Uym6-K6niRoBBGAjpHWKC728ZcL4HmANYk1V9JfOblDkXaEuo0XW4klXtZO6xAmcRh4hSt-VIhXu14NW1UylrxMSrEwNCM8gDItY4ngWwzaZtdP1hBtLuYGImTmevHpuZ0__mDQTWAOIeJxSvDJB5eVvr--zIh9kv7X1vSZqZtvEq0vAxSUSQuUspMpFOUKwW-fUCv3C-v0SH2vKAG4plch2QsXZQZr6u3k1AXkNNA7fnORbrVDPyxpgICF6D_vZbHAymL5-0jgs5eGhirwkm9qYHQNOdlwX1NuSQG6_rRi2E_wZLaz6D4W6NVU5oVaCg)"
   ]
  },
  {
   "cell_type": "markdown",
   "metadata": {},
   "source": [
    "## LAD data sources\n",
    "\n",
    "<table width=100%>\n",
    "    <thead>\n",
    "        <tr>\n",
    "            <th>Name</th> <th>Path</th> <th>Source</th>\n",
    "        </tr>\n",
    "    </thead>\n",
    "    <tbody>\n",
    "        <tr>\n",
    "            <td>LAD mid-year population</td>\n",
    "            <td>dementia_inequalities/store/data/LAD_data/mid_21_age_pop.xlsx </td>\n",
    "            <td><a href=\"https://opendata.nhsbsa.net/dataset/english-prescribing-data-epd\" target=\"_blank\">ONS</a></td>\n",
    "        </tr>\n",
    "        <tr>\n",
    "            <td>LAD census education</td>\n",
    "            <td>dementia_inequalities/store/data/LAD_data/education_2021_census.xlsx</td>\n",
    "            <td><a href=\"https://opendata.nhsbsa.net/dataset/english-prescribing-data-epd\" target=\"_blank\">ONS</a></td>\n",
    "        </tr>\n",
    "        <tr>\n",
    "            <td>LAD census ethnicity</td>\n",
    "            <td>dementia_inequalities/store/data/LAD_data/ethnicity_2021_census.xlsx</td>\n",
    "            <td><a href=\"https://opendata.nhsbsa.net/dataset/english-prescribing-data-epd\" target=\"_blank\">ONS</a></td>\n",
    "        </tr>\n",
    "        <tr>\n",
    "            <td>LAD boundaries</td>\n",
    "            <td>dementia_inequalities/store/data/LAD_area/LAD_Dec_2021_GB_BFC_2022_-8975151699474964544.geojson</td>\n",
    "            <td><a href=\"https://opendata.nhsbsa.net/dataset/english-prescribing-data-epd\" target=\"_blank\">ONS</a></td>\n",
    "        </tr>\n",
    "        <tr>\n",
    "            <td>GP catchment boundaries</td>\n",
    "            <td>dementia_inequalities/store/data/Catchment Area></td>\n",
    "            <td><a href=\"https://opendata.nhsbsa.net/dataset/english-prescribing-data-epd\" target=\"_blank\">NHS BSA</a></td>\n",
    "        </tr>\n",
    "    </tbody>\n",
    "</table>"
   ]
  },
  {
   "cell_type": "markdown",
   "metadata": {},
   "source": [
    "## Data sources\n",
    "\n",
    "<table width=100%>\n",
    "    <thead>\n",
    "        <tr>\n",
    "            <th>Name</th> <th>Path</th> <th>Source</th>\n",
    "        </tr>\n",
    "    </thead>\n",
    "    <tbody>\n",
    "        <tr>\n",
    "            <td>QOF 2022-2023</td>\n",
    "            <td>dementia_inequalities/store/data/QOF_2022-23/PREVALENCE_2223.csv</td>\n",
    "            <td><a href=\"https://digital.nhs.uk/data-and-information/publications/statistical/quality-and-outcomes-framework-achievement-prevalence-and-exceptions-data\" target=\"_blank\">NHS digital</a></td>\n",
    "        </tr>\n",
    "        <tr>\n",
    "            <td rowspan=3>GP practices Dec 23</td>\n",
    "            <td>dementia_inequalities/store/data/GP_practices_dec_23/gp-reg-pat-prac-map.csv</td>\n",
    "            <td rowspan=3><a href=\"https://digital.nhs.uk/data-and-information/publications/statistical/patients-registered-at-a-gp-practice/december-2023\" target=\"_blank\">NHS digital</a></td>\n",
    "        </tr>\n",
    "        <tr>\n",
    "            <td>dementia_inequalities/store/data/GP_practices_dec_23/gp-reg-pat-prac-sing-age-female.csv</td>\n",
    "        </tr>\n",
    "        <tr>\n",
    "            <td>dementia_inequalities/store/data/GP_practices_dec_23/gp-reg-pat-prac-sing-age-male.csv</td>\n",
    "        </tr>\n",
    "        <tr>\n",
    "            <td>Prescribing data Nov 2023</td>\n",
    "            <td>dementia_inequalities/store/data/EPD_202311.csv</td>\n",
    "            <td><a href=\"https://opendata.nhsbsa.net/dataset/english-prescribing-data-epd\" target=\"_blank\">NHS BSA</a></td>\n",
    "        </tr>\n",
    "    </tbody>\n",
    "</table>"
   ]
  },
  {
   "cell_type": "markdown",
   "metadata": {},
   "source": [
    "## How to use"
   ]
  },
  {
   "cell_type": "markdown",
   "metadata": {},
   "source": [
    "#### Execute core scripts\n",
    "\n",
    "```python\n",
    "dementia_inequalities.core.run_all()\n",
    "```"
   ]
  },
  {
   "cell_type": "markdown",
   "metadata": {},
   "source": [
    "#### Command-line interface\n",
    "\n",
    "*Note: You need to activate the conda environment first.*\n",
    "\n",
    "List of commands\n",
    "\n",
    "```bash\n",
    "python -m dementia_inequalities.cli\n",
    "```\n",
    "\n",
    "Execute commands\n",
    "\n",
    "```bash\n",
    "python -m dementia_inequalities.cli.core\n",
    "```\n",
    "\n",
    "```bash\n",
    "python -m dementia_inequalities.cli.foo 1 3\n",
    "```\n",
    "\n",
    "You can find the manual for each command using `-h`\n",
    "\n",
    "```bash\n",
    "python -m dementia_inequalities.cli.core -h\n",
    "```"
   ]
  }
 ],
 "metadata": {
  "kernelspec": {
   "display_name": "python3",
   "language": "python",
   "name": "python3"
  },
  "language_info": {
   "name": "python",
   "version": "3.10.13"
  }
 },
 "nbformat": 4,
 "nbformat_minor": 4
}
